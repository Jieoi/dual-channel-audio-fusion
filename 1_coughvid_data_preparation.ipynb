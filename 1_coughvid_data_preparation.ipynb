{
 "cells": [
  {
   "cell_type": "markdown",
   "metadata": {
    "id": "PoquL5zFqz9E"
   },
   "source": [
    "## Data Preparation Pipeline (CoughVid)"
   ]
  },
  {
   "cell_type": "markdown",
   "metadata": {
    "id": "TdSYA-Yzq8gT"
   },
   "source": [
    "This notebook prepares the CoughVid dataset for training by applying a series of cleaning, filtering, and transformation steps.\n",
    "\n",
    "The dataset can be obtained from here: https://zenodo.org/records/7024894.\n",
    "\n",
    "Note:\n",
    "- The code below has been configured to run on Google colab with python scripts imported from Google Drive. All helper files can be found under data_preparation folder.\n",
    "- All output in this notebook are provided for your reference. This is to help you know how it should look like after running the various functions. Outputs were based on a small sammple to ensure helper functions were working properly and not representative of the full output when working with the entire dataset. "
   ]
  },
  {
   "cell_type": "markdown",
   "metadata": {},
   "source": [
    "Pipeline Summary:\n",
    "\n",
    "0. Mount Google Drive\n",
    "1. (Skipped) Data Download and Extraction (Coughvid)\n",
    "2. (Skipped) Prepare Metadata / Labels (Coughvid)\n",
    "3. Convert and Copy Raw Audio\n",
    "4. Process Audio Files\n",
    "5. Train-Test Split and Label Alignment\n",
    "6. Data Integrity Check"
   ]
  },
  {
   "cell_type": "markdown",
   "metadata": {
    "id": "58q6ycKNqfXg"
   },
   "source": [
    "### 0. Mount Google Drive"
   ]
  },
  {
   "cell_type": "markdown",
   "metadata": {},
   "source": [
    "- This step handles mounting Drive and ensuring access scripts and datasets stored in your Drive.\n",
    "- Accompanying helper file: step1_get_zip.py"
   ]
  },
  {
   "cell_type": "code",
   "execution_count": null,
   "metadata": {
    "colab": {
     "base_uri": "https://localhost:8080/"
    },
    "executionInfo": {
     "elapsed": 29384,
     "status": "ok",
     "timestamp": 1743159076682,
     "user": {
      "displayName": "S L",
      "userId": "12084752779565483850"
     },
     "user_tz": -480
    },
    "id": "A_tek5aZQVAt",
    "outputId": "d4cf90fe-131f-4baa-ce6f-b05b89b29878"
   },
   "outputs": [
    {
     "name": "stdout",
     "output_type": "stream",
     "text": [
      "Mounted at /content/drive/\n"
     ]
    }
   ],
   "source": [
    "# Mount Google Drive to access files\n",
    "# This code is intended to be run in Google Colab\n",
    "from google.colab import drive\n",
    "drive.mount('/content/drive/', force_remount=True)"
   ]
  },
  {
   "cell_type": "code",
   "execution_count": null,
   "metadata": {
    "colab": {
     "base_uri": "https://localhost:8080/"
    },
    "executionInfo": {
     "elapsed": 1695,
     "status": "ok",
     "timestamp": 1743159078377,
     "user": {
      "displayName": "S L",
      "userId": "12084752779565483850"
     },
     "user_tz": -480
    },
    "id": "hg2untbkRWUI",
    "outputId": "68298d23-ca63-40ec-a084-8f13f0abf9e9"
   },
   "outputs": [
    {
     "name": "stdout",
     "output_type": "stream",
     "text": [
      "/content/drive/.shortcut-targets-by-id/1UBr7xHwiaUCT4Y9U0LH_0qJJfCYxNbgT/AML/Dataprep/test_dataprep_for_github/py_util\n"
     ]
    }
   ],
   "source": [
    "# To run this notebook, you need to cd to the folder where the helper files are located.\n",
    "# You can do this by running the following command:\n",
    "%cd /content/drive/MyDrive/AML/Dataprep/test_coughvid_dataprep_for_github/py_util/"
   ]
  },
  {
   "cell_type": "code",
   "execution_count": null,
   "metadata": {
    "id": "jLseDLdy_33W"
   },
   "outputs": [],
   "source": [
    "# As backup, to use the helper files, we add its path to the system path\n",
    "# This is not necessary if you are already in the correct directory.\n",
    "# You can comment this line out if you are already in the correct directory.\n",
    "import sys\n",
    "sys.path.append('/content/drive/MyDrive/AML/Dataprep/test_coughvid_dataprep_for_github/py_util')"
   ]
  },
  {
   "cell_type": "code",
   "execution_count": null,
   "metadata": {
    "colab": {
     "base_uri": "https://localhost:8080/"
    },
    "executionInfo": {
     "elapsed": 1459,
     "status": "ok",
     "timestamp": 1743159079848,
     "user": {
      "displayName": "S L",
      "userId": "12084752779565483850"
     },
     "user_tz": -480
    },
    "id": "yTewKN5s__Sz",
    "outputId": "408f997c-ad8d-48a5-baa3-02ef297908ae"
   },
   "outputs": [
    {
     "name": "stdout",
     "output_type": "stream",
     "text": [
      "Google Drive already mounted.\n"
     ]
    }
   ],
   "source": [
    "# Importing the function to check if the drive is mounted, and to mount it if not\n",
    "from step1_get_zip import mount_drive\n",
    "mount_drive()"
   ]
  },
  {
   "cell_type": "markdown",
   "metadata": {},
   "source": [
    "Expected Output:\n",
    "- Google Drive mounted\n",
    "- Able to access helper files"
   ]
  },
  {
   "cell_type": "markdown",
   "metadata": {
    "id": "xPiaNoA4B98i"
   },
   "source": [
    "### 1. (Skipped) Data Download and Extraction (CoughVid)"
   ]
  },
  {
   "cell_type": "markdown",
   "metadata": {},
   "source": [
    "- This step handles downloading and extracting the raw CoughVid dataset for first-time users or full reproducibility.\n",
    "- Source: Public dataset hosted on Zenodo: https://zenodo.org/record/7024894\n",
    "    - Download the file: public_dataset_v3.zip\n",
    "- Contents of the zip archive:\n",
    "    - A folder named coughvid_20211012/ containing:\n",
    "        - .webm, .ogg, and .wav files — raw audio recordings\n",
    "        - .json files — metadata annotations (not required in this project)\n",
    "    - Filenames are UUID-style and repeated across file types:\n",
    "        - e.g., abc123.wav, abc123.webm, abc123.json\n",
    "- What is required:\n",
    "    - Only the audio files (.webm, .wav) will be used in the downstream audio processing pipeline\n",
    "    - .json files can be ignored\n",
    "- How to extract:\n",
    "    - Use the helper function extract_zip_to_directory() from the script step1_get_zip.py\n",
    "    - Handles safe unzip to a specified folder\n",
    "    - Creates the coughvid_20211012/ directory automatically\n",
    "- Accompanying helper file: step1_get_zip.py\n",
    "- Note: This notebook skips the raw extraction step because audio files were pre-prepared. To reproduce the dataset from scratch, run the helper script manually in Colab or locally"
   ]
  },
  {
   "cell_type": "code",
   "execution_count": null,
   "metadata": {
    "colab": {
     "base_uri": "https://localhost:8080/"
    },
    "executionInfo": {
     "elapsed": 255419,
     "status": "ok",
     "timestamp": 1743156093529,
     "user": {
      "displayName": "S L",
      "userId": "12084752779565483850"
     },
     "user_tz": -480
    },
    "id": "8kdnFcHqqn0a",
    "outputId": "2494439e-aa05-40a5-e028-4b539ad89409"
   },
   "outputs": [],
   "source": [
    "# Importing the function to unzip the downloaded ZIP file\n",
    "import os\n",
    "\n",
    "# Define path to the ZIP file you downloaded from Zenodo\n",
    "# This is the path to the ZIP file in your Google Drive\n",
    "# Make sure to replace this with the actual path to your ZIP file\n",
    "# The path should be in the format \"/content/drive/MyDrive/your_folder/your_file.zip\"\n",
    "zip_path = \"/content/drive/MyDrive/AML/Data/dataset2_coughvid/public_dataset_v3.zip\"\n",
    "\n",
    "# This is the path where you want to extract the contents of the ZIP file\n",
    "# Make sure to replace this with the actual path where you want to extract the files\n",
    "# The path should be in the format \"/content/drive/MyDrive/your_folder/extracted_folder\"\n",
    "extract_to = \"/content/drive/MyDrive/AML/Data/dataset2_coughvid/public_dataset_v3_unzipped\""
   ]
  },
  {
   "cell_type": "code",
   "execution_count": null,
   "metadata": {},
   "outputs": [],
   "source": [
    "# Importing the function to extract the ZIP file\n",
    "from step1_get_zip import extract_zip_to_directory\n",
    "\n",
    "# Extract the contents of the zip file to the target folder\n",
    "extract_zip_to_directory(zip_path, extract_to)"
   ]
  },
  {
   "cell_type": "markdown",
   "metadata": {
    "id": "B2ooCSzASFyq"
   },
   "source": [
    "Expected Output:\n",
    "- A directory named coughvid_20211012/ is created in your working environment\n",
    "- Inside this folder:\n",
    "    - Audio files:\n",
    "        - .wav and/or .webm recordings named by UUID\n",
    "        - Used as input for filtering, conversion, and modeling\n",
    "    - Metadata files:\n",
    "        - .json files that can be ignored for this pipeline\n",
    "- Example of a typical file pair:\n",
    "    - 00014dcc-0f06-4c27-8c7b-737b18a2cf4c.webm\n",
    "    - 00014dcc-0f06-4c27-8c7b-737b18a2cf4c.json\n",
    "- Outcome:\n",
    "    - You now have all raw audio files locally available for processing (Step 3 onward)\n",
    "    - The structure is clean and ready for audio filtering, conversion, and labeling steps.\n",
    "- Note: This notebook skips the raw extraction step because audio files were pre-prepared. To reproduce the dataset from scratch, run the helper script manually in Colab or locally"
   ]
  },
  {
   "cell_type": "markdown",
   "metadata": {},
   "source": [
    "### 2.  (Skipped) Prepare Metadata / Labels for Coughvid"
   ]
  },
  {
   "cell_type": "markdown",
   "metadata": {},
   "source": [
    "- This step extracts and cleans the CoughVid metadata to generate binary health labels that align with available audio files, making the data suitable for machine learning tasks.\n",
    "- Source: Raw metadata CSV file (e.g., metadata_compiled.csv)\n",
    "    - Contains fields such as:\n",
    "        - cough_detected: confidence score that the sample contains a cough\n",
    "        - diagnosis_1 to diagnosis_4: expert-provided health labels per recording\n",
    "- Label processing pipeline:\n",
    "    - Filter by quality: Retain only samples where cough_detected ≥ 0.8\n",
    "    - Filter by diagnosis: Keep only samples with exactly one non-null diagnosis\n",
    "    - Map diagnoses into binary format:\n",
    "        - healthy_cough → 1 (Healthy)\n",
    "        - upper_infection, lower_infection, obstructive_disease, COVID-19 → 0 (Not Healthy)\n",
    "- Verify audio file existence: Only keep entries where a matching .webm or .wav file exists in the audio folder (e.g., coughvid_20211012/)\n",
    "- Accompanying helper file: step2_prepare_metadata.py\n",
    "- Note: This notebook skips the raw extraction step because audio files were pre-prepared. To reproduce the dataset from scratch, run the helper script manually in Colab or locally"
   ]
  },
  {
   "cell_type": "code",
   "execution_count": null,
   "metadata": {},
   "outputs": [],
   "source": [
    "# Importing the function to load the metadata\n",
    "import os\n",
    "import pandas as pd\n",
    "\n",
    "# Import helper functions from step2_prepare_metadata.py\n",
    "from step2_prepare_metadata import (\n",
    "    load_raw_metadata,\n",
    "    filter_coughvid_high_quality,\n",
    "    combine_coughvid_expert_labels,\n",
    "    keep_only_existing_audio_files,\n",
    "    save_labels_csv\n",
    ")"
   ]
  },
  {
   "cell_type": "code",
   "execution_count": null,
   "metadata": {},
   "outputs": [],
   "source": [
    "# Define paths\n",
    "# Path to the raw metadata CSV (provided in the Zenodo zip)\n",
    "metadata_csv_path = \"/content/drive/MyDrive/AML/Data/dataset2_coughvid/metadata_compiled.csv\"\n",
    "\n",
    "# Path to directory containing audio files (after extracting public_dataset_v3.zip)\n",
    "audio_dir = \"/content/drive/MyDrive/AML/Data/dataset2_coughvid/public_dataset_v3_unzipped\"\n",
    "\n",
    "# Output path for cleaned label CSV\n",
    "output_label_csv = \"/content/drive/MyDrive/AML/Data/dataset2_coughvid/data_labels_coughvid.csv\""
   ]
  },
  {
   "cell_type": "code",
   "execution_count": null,
   "metadata": {},
   "outputs": [],
   "source": [
    "# Load the raw metadata into a pandas DataFrame\n",
    "df_raw = load_raw_metadata(metadata_csv_path)\n",
    "\n",
    "# Filter for high-quality coughs only (confidence >= 0.8)\n",
    "df_high_quality = filter_coughvid_high_quality(df_raw, min_confidence=0.8)\n",
    "\n",
    "# The function combine_coughvid_expert_labels will create binary labels from diagnosis_1 to diagnosis_4 \n",
    "# for each diagnosis column and combine them into a single DataFrame.\n",
    "diagnosis_columns = ['diagnosis_1', 'diagnosis_2', 'diagnosis_3', 'diagnosis_4']\n",
    "df_labeled = combine_coughvid_expert_labels(df_high_quality, diagnosis_columns)\n",
    "\n",
    "# Keep only entries for which the actual audio file (.webm or .wav) exists\n",
    "df_audio_available = keep_only_existing_audio_files(df_labeled, audio_dir)"
   ]
  },
  {
   "cell_type": "code",
   "execution_count": null,
   "metadata": {},
   "outputs": [],
   "source": [
    "# The function save_labels_csv is defined in step2_prepare_metadata.py\n",
    "# Save the cleaned DataFrame to a CSV file\n",
    "save_labels_csv(df_audio_available, output_label_csv)\n",
    "\n",
    "# Print the shape of the cleaned DataFrame and the first few rows\n",
    "# This is useful for debugging and ensuring the data is as expected\n",
    "print(\"\\nClean label CSV created with shape:\", df_audio_available.shape)\n",
    "print(df_audio_available.head())"
   ]
  },
  {
   "cell_type": "markdown",
   "metadata": {},
   "source": [
    "Expected Output:\n",
    "- A cleaned label CSV file, typically named data_labels_coughvid.csv, with the following properties:\n",
    "- Columns:\n",
    "    - uuid: unique ID corresponding to each audio file\n",
    "    - health_status: binary label\n",
    "        - 1 = Healthy (healthy_cough)\n",
    "        - 0 = Not Healthy (upper_infection, lower_infection, obstructive_disease, COVID-19)\n",
    "- Filters applied:\n",
    "    - cough_detected ≥ 0.8\n",
    "    - Only one diagnosis present per sample\n",
    "    - Audio file (.webm or .wav) must exist in the dataset directory\n",
    "- Purpose:\n",
    "    - Acts as the ground truth label file\n",
    "    - Used in all downstream steps (e.g., audio extraction, train-test split, modeling) for the CoughVid dataset\n",
    "- Note: This notebook skips the raw extraction step because audio files were pre-prepared. To reproduce the dataset from scratch, run the helper script manually in Colab or locally"
   ]
  },
  {
   "cell_type": "markdown",
   "metadata": {},
   "source": [
    "### 3. Convert and Copy Raw Audio"
   ]
  },
  {
   "cell_type": "markdown",
   "metadata": {},
   "source": [
    "- This step prepares the audio files for modeling by extracting them from a mixed-format dataset, converting them to .wav format, and saving them in a clean, standardized folder.\n",
    "- Uses filenames from a label CSV to extract matching audio files\n",
    "    - Auto-detects the ID column (e.g., filename, uuid, id, etc.)\n",
    "    - Strips file extensions to ensure consistent matching\n",
    "- Searches for audio files in common formats:\n",
    "    - .webm, .ogg, .mp3, .flac, .aac, .m4a, .opus, and .wav\n",
    "    - Prioritizes .webm and .wav as common formats in COUGHVID\n",
    "- Conversion and cleanup:\n",
    "    - Converts all non-.wav formats to .wav using pydub and ffmpeg\n",
    "    - Deletes the original non-.wav files after successful conversion\n",
    "    - Ensures only final .wav files remain in the output folder\n",
    "- Organizes processed files in a new folder\n",
    "    - Clean flat structure: filenames follow UUID-style (e.g., abc123.wav)\n",
    "    - Audio files are aligned with label entries from the CSV\n",
    "- Accompanying helper file: step3_select_audio.py"
   ]
  },
  {
   "cell_type": "code",
   "execution_count": null,
   "metadata": {
    "colab": {
     "base_uri": "https://localhost:8080/"
    },
    "executionInfo": {
     "elapsed": 4419,
     "status": "ok",
     "timestamp": 1743156107346,
     "user": {
      "displayName": "S L",
      "userId": "12084752779565483850"
     },
     "user_tz": -480
    },
    "id": "yFvkL-JGJxpi",
    "outputId": "7cfe5040-3249-44ed-db68-b7b5123e8778"
   },
   "outputs": [
    {
     "name": "stdout",
     "output_type": "stream",
     "text": [
      "Requirement already satisfied: pydub in /usr/local/lib/python3.11/dist-packages (0.25.1)\n"
     ]
    }
   ],
   "source": [
    "# Install pydub for audio processing\n",
    "!pip install pydub"
   ]
  },
  {
   "cell_type": "code",
   "execution_count": null,
   "metadata": {
    "colab": {
     "base_uri": "https://localhost:8080/"
    },
    "executionInfo": {
     "elapsed": 17843,
     "status": "ok",
     "timestamp": 1743156137203,
     "user": {
      "displayName": "S L",
      "userId": "12084752779565483850"
     },
     "user_tz": -480
    },
    "id": "_9vNddAaqoXd",
    "outputId": "6aad9e47-86d7-4413-c574-3e78619e6910"
   },
   "outputs": [
    {
     "name": "stdout",
     "output_type": "stream",
     "text": [
      "Loaded 50 entries from /content/drive/MyDrive/AML/Dataprep/test_dataprep_for_github/fortest_raw_data_labels_coughvid.csv using column 'filename'\n",
      "Copied 50 files to /content/drive/MyDrive/AML/Dataprep/test_dataprep_for_github/fortest_coughvid_raw_converted\n",
      "Missing files: 0\n",
      "Converted: 977592cb-c1f2-4b5e-bad1-6132b5cd2ad0.webm to 977592cb-c1f2-4b5e-bad1-6132b5cd2ad0.wav\n",
      "Converted: bbb221cc-8c5c-407d-9ae1-ae8ebd842504.webm to bbb221cc-8c5c-407d-9ae1-ae8ebd842504.wav\n",
      "Converted: 5fb358c3-76bc-4adc-93ac-02f367e38739.webm to 5fb358c3-76bc-4adc-93ac-02f367e38739.wav\n",
      "Converted: 2499bd0e-4221-449a-8184-ee15e1c80b35.webm to 2499bd0e-4221-449a-8184-ee15e1c80b35.wav\n",
      "Converted: c261cdbc-fb1e-4444-8b68-33c920047d8c.webm to c261cdbc-fb1e-4444-8b68-33c920047d8c.wav\n",
      "Converted: ffedc843-bfc2-4ad6-a749-2bc86bdac84a.webm to ffedc843-bfc2-4ad6-a749-2bc86bdac84a.wav\n",
      "Converted: edcadaac-51d0-44d1-99c6-efbbc41dd4bd.ogg to edcadaac-51d0-44d1-99c6-efbbc41dd4bd.wav\n",
      "Converted: 3b018a2b-59a9-484b-a71e-437fb96698ab.webm to 3b018a2b-59a9-484b-a71e-437fb96698ab.wav\n",
      "Converted: 47edb277-7f3c-426d-8e14-a0385f3c1b77.webm to 47edb277-7f3c-426d-8e14-a0385f3c1b77.wav\n",
      "Converted: 03430d6b-4554-4ffe-8c82-507832dc1d52.webm to 03430d6b-4554-4ffe-8c82-507832dc1d52.wav\n",
      "Converted: f871f11b-c593-4d30-b683-f9ba565088e5.webm to f871f11b-c593-4d30-b683-f9ba565088e5.wav\n",
      "Converted: 22ac9dc4-858e-4db5-886e-792d7553e67f.webm to 22ac9dc4-858e-4db5-886e-792d7553e67f.wav\n",
      "Converted: d5ae4279-5716-4658-ba24-8cb5cf87f40d.webm to d5ae4279-5716-4658-ba24-8cb5cf87f40d.wav\n",
      "Converted: e8fe6b8b-a7be-404d-95a5-5da7f4efe0e8.webm to e8fe6b8b-a7be-404d-95a5-5da7f4efe0e8.wav\n",
      "Converted: 48d28621-e417-47ae-ab2b-54e659e9df04.webm to 48d28621-e417-47ae-ab2b-54e659e9df04.wav\n",
      "Converted: 4d5640b5-790d-4926-8e10-3ab666331500.webm to 4d5640b5-790d-4926-8e10-3ab666331500.wav\n",
      "Converted: b60e7ee3-64c2-4982-8212-750b4dbe8c66.webm to b60e7ee3-64c2-4982-8212-750b4dbe8c66.wav\n",
      "Converted: 43cfe07c-cf76-4d97-914a-b1a1ec2c9759.webm to 43cfe07c-cf76-4d97-914a-b1a1ec2c9759.wav\n",
      "Converted: f5a36e3a-28f9-461d-970e-c95ff38f4740.webm to f5a36e3a-28f9-461d-970e-c95ff38f4740.wav\n",
      "Converted: 8a3058b7-c1ec-43d8-ae17-f1c72da07a21.webm to 8a3058b7-c1ec-43d8-ae17-f1c72da07a21.wav\n",
      "Converted: 8debc554-dee0-49c8-8a54-34c26de4190d.webm to 8debc554-dee0-49c8-8a54-34c26de4190d.wav\n",
      "Converted: 8a529f53-b0c3-422b-984b-c536bb64e889.webm to 8a529f53-b0c3-422b-984b-c536bb64e889.wav\n",
      "Converted: a31d884f-23d8-4098-ba48-09daca06c116.webm to a31d884f-23d8-4098-ba48-09daca06c116.wav\n",
      "Converted: d1fd16e4-258e-4b20-9978-d0f6106b1d22.webm to d1fd16e4-258e-4b20-9978-d0f6106b1d22.wav\n",
      "Converted: 5c4d833f-64ac-4ec0-82d9-3327020c870f.webm to 5c4d833f-64ac-4ec0-82d9-3327020c870f.wav\n",
      "Converted: 15a0a034-354e-4637-b74c-9653763e0862.webm to 15a0a034-354e-4637-b74c-9653763e0862.wav\n",
      "Converted: 38578eb5-eef4-4c69-9e08-cbda1065b9d0.webm to 38578eb5-eef4-4c69-9e08-cbda1065b9d0.wav\n",
      "Converted: 4fa482c1-e2c7-402f-b383-343c18be4ccd.webm to 4fa482c1-e2c7-402f-b383-343c18be4ccd.wav\n",
      "Converted: f23ee4be-d96c-43ff-a06c-99e1050b7ffe.webm to f23ee4be-d96c-43ff-a06c-99e1050b7ffe.wav\n",
      "Converted: 28d173a5-6b04-4c7b-8b29-84e670dc6c35.webm to 28d173a5-6b04-4c7b-8b29-84e670dc6c35.wav\n",
      "Converted: d70748e6-0e82-4760-a2fc-d63b01d3c65c.webm to d70748e6-0e82-4760-a2fc-d63b01d3c65c.wav\n",
      "Converted: bc048378-1d7f-44ed-a8a8-e2ce7d0a56ae.webm to bc048378-1d7f-44ed-a8a8-e2ce7d0a56ae.wav\n",
      "Converted: 78bba857-d1c8-4a56-86d5-650911bad154.webm to 78bba857-d1c8-4a56-86d5-650911bad154.wav\n",
      "Converted: 4a19eff2-8302-4aa6-9164-ae5a9d2d824f.webm to 4a19eff2-8302-4aa6-9164-ae5a9d2d824f.wav\n",
      "Converted: 306d3ace-9b3b-4285-ba5c-86b0797987c9.webm to 306d3ace-9b3b-4285-ba5c-86b0797987c9.wav\n",
      "Converted: 3e4f0ebc-7100-48a8-b164-4d90b8dee8db.webm to 3e4f0ebc-7100-48a8-b164-4d90b8dee8db.wav\n",
      "Converted: a2bd77dd-61f9-494d-b6b5-306ada124f30.webm to a2bd77dd-61f9-494d-b6b5-306ada124f30.wav\n",
      "Converted: 9cefcba6-bea1-4131-a905-3d28e567344b.webm to 9cefcba6-bea1-4131-a905-3d28e567344b.wav\n",
      "Converted: beb9eff3-e2c7-4f53-981b-0abc09158dec.webm to beb9eff3-e2c7-4f53-981b-0abc09158dec.wav\n",
      "Converted: 43df4f16-fb75-43bb-a866-5231a9243e21.webm to 43df4f16-fb75-43bb-a866-5231a9243e21.wav\n",
      "Converted: c0d601d9-53bc-40d6-b514-95d803f1df02.webm to c0d601d9-53bc-40d6-b514-95d803f1df02.wav\n",
      "Converted: 4b46da7b-b391-45f6-925a-9aa31eb5b58a.webm to 4b46da7b-b391-45f6-925a-9aa31eb5b58a.wav\n",
      "Converted: 5b2342d2-01f8-4ad7-bf13-217601cd3c13.webm to 5b2342d2-01f8-4ad7-bf13-217601cd3c13.wav\n",
      "Converted: 881d892d-f3a9-4409-82d3-1f43c7ce5047.webm to 881d892d-f3a9-4409-82d3-1f43c7ce5047.wav\n",
      "Converted: 2716f7c1-a47d-4634-9f97-e2d8c59b3bbf.webm to 2716f7c1-a47d-4634-9f97-e2d8c59b3bbf.wav\n",
      "Converted: f5b8f8e8-8480-483f-8d49-2cb53aa22e8a.webm to f5b8f8e8-8480-483f-8d49-2cb53aa22e8a.wav\n",
      "Converted: 21519b33-26a1-48ab-95e9-290188d9d7ed.webm to 21519b33-26a1-48ab-95e9-290188d9d7ed.wav\n",
      "Converted: 7e5e71f2-c060-4f4c-9d80-1524981eadc5.webm to 7e5e71f2-c060-4f4c-9d80-1524981eadc5.wav\n",
      "Converted 48 files to .wav\n",
      "Total .wav files in /content/drive/MyDrive/AML/Dataprep/test_dataprep_for_github/fortest_coughvid_raw_converted: 50\n"
     ]
    }
   ],
   "source": [
    "# Importing the function to convert and copy audio files\n",
    "from step3_select_audio import load_label_csv, copy_and_convert_audio_files_coughvid\n",
    "\n",
    "# Define paths for audio conversion\n",
    "# Path to the cleaned label CSV file (output from the previous step)\n",
    "# Path to the raw audio files directory (after extracting public_dataset_v3.zip) (this is the same as the audio_dir variable above)\n",
    "# Path to the directory where converted audio files will be saved (this directory will be created if it doesn't exist)\n",
    "label_csv_path = \"/content/drive/MyDrive/AML/Dataprep/test_coughvid_dataprep_for_github/fortest_raw_data_labels_coughvid.csv\"\n",
    "raw_audio_dir = \"/content/drive/MyDrive/AML/Dataprep/test_coughvid_dataprep_for_github/fortest_coughvid_raw\"\n",
    "converted_audio_dir = \"/content/drive/MyDrive/AML/Dataprep/test_coughvid_dataprep_for_github/fortest_coughvid_raw_converted\"\n",
    "\n",
    "# Load the label CSV file into a DataFrame\n",
    "id_list = load_label_csv(label_csv_path)\n",
    "\n",
    "# Copy and convert audio files from the raw directory to the converted directory\n",
    "# The function will create the converted directory if it doesn't exist\n",
    "copy_and_convert_audio_files_coughvid(id_list, raw_audio_dir, converted_audio_dir)"
   ]
  },
  {
   "cell_type": "markdown",
   "metadata": {},
   "source": [
    "Expected Output:\n",
    "- A new folder (e.g., coughvid_raw_converted/) is created, containing:\n",
    "    - Only .wav files\n",
    "    - Filenames matching the UUIDs in the label CSV (e.g., 00014dcc.wav)\n",
    "- File processing summary:\n",
    "    - Number of files successfully copied from the source\n",
    "    - Number of files converted to .wav from other formats\n",
    "    - Number of missing files (IDs in the CSV not found in the source folder)\n",
    "- Final state:\n",
    "    - All files are standardized in .wav format\n",
    "    - No leftover .webm, .ogg, or unsupported files\n",
    "    - Folder is ready for downstream preprocessing (e.g., denoising, silence trimming, model training)"
   ]
  },
  {
   "cell_type": "markdown",
   "metadata": {},
   "source": [
    "### 4. Process Audio Files"
   ]
  },
  {
   "cell_type": "markdown",
   "metadata": {
    "id": "k1B0F7n0NH0c"
   },
   "source": [
    "This step enhances the quality and consistency of audio samples to make them suitable for machine learning models. It applies a full preprocessing pipeline to raw .wav files.\n",
    "- Purpose:\n",
    "    - To standardize and clean audio files for robust training/testing of models.\n",
    "    - Remove noise and variability due to different recording conditions.\n",
    "- Key processing steps:\n",
    "    - Signal-to-Noise Ratio (SNR) Filtering: Filters out poor-quality recordings with low SNR to retain only clear cough sounds.\n",
    "    - Resampling: Resamples all audio to a standard sample rate (e.g., 16 kHz) for model compatibility.\n",
    "    - Denoising: Applies noise reduction techniques (e.g., spectral gating, Non-Local Means) to reduce background noise.\n",
    "    - Silence Trimming: Automatically removes silent segments at the beginning and end of the recording to isolate the cough signal.\n",
    "- Batch Processing: Processes all files in a given folder (e.g., *_converted) and saves outputs into a new directory (e.g., *_processed).\n",
    "- Accompanying helper file: step4_process_audio.py\n",
    "    - Contains the pipeline logic via process_and_save_dataset() function."
   ]
  },
  {
   "cell_type": "code",
   "execution_count": null,
   "metadata": {
    "colab": {
     "base_uri": "https://localhost:8080/"
    },
    "executionInfo": {
     "elapsed": 3225,
     "status": "ok",
     "timestamp": 1743157426768,
     "user": {
      "displayName": "S L",
      "userId": "12084752779565483850"
     },
     "user_tz": -480
    },
    "id": "NJSL24SBOVr8",
    "outputId": "938adcd8-2ed4-4af8-80fd-ac35ded54bae"
   },
   "outputs": [
    {
     "name": "stdout",
     "output_type": "stream",
     "text": [
      "Collecting noisereduce\n",
      "  Downloading noisereduce-3.0.3-py3-none-any.whl.metadata (14 kB)\n",
      "Requirement already satisfied: scipy in /usr/local/lib/python3.11/dist-packages (from noisereduce) (1.14.1)\n",
      "Requirement already satisfied: matplotlib in /usr/local/lib/python3.11/dist-packages (from noisereduce) (3.10.0)\n",
      "Requirement already satisfied: numpy in /usr/local/lib/python3.11/dist-packages (from noisereduce) (2.0.2)\n",
      "Requirement already satisfied: tqdm in /usr/local/lib/python3.11/dist-packages (from noisereduce) (4.67.1)\n",
      "Requirement already satisfied: joblib in /usr/local/lib/python3.11/dist-packages (from noisereduce) (1.4.2)\n",
      "Requirement already satisfied: contourpy>=1.0.1 in /usr/local/lib/python3.11/dist-packages (from matplotlib->noisereduce) (1.3.1)\n",
      "Requirement already satisfied: cycler>=0.10 in /usr/local/lib/python3.11/dist-packages (from matplotlib->noisereduce) (0.12.1)\n",
      "Requirement already satisfied: fonttools>=4.22.0 in /usr/local/lib/python3.11/dist-packages (from matplotlib->noisereduce) (4.56.0)\n",
      "Requirement already satisfied: kiwisolver>=1.3.1 in /usr/local/lib/python3.11/dist-packages (from matplotlib->noisereduce) (1.4.8)\n",
      "Requirement already satisfied: packaging>=20.0 in /usr/local/lib/python3.11/dist-packages (from matplotlib->noisereduce) (24.2)\n",
      "Requirement already satisfied: pillow>=8 in /usr/local/lib/python3.11/dist-packages (from matplotlib->noisereduce) (11.1.0)\n",
      "Requirement already satisfied: pyparsing>=2.3.1 in /usr/local/lib/python3.11/dist-packages (from matplotlib->noisereduce) (3.2.1)\n",
      "Requirement already satisfied: python-dateutil>=2.7 in /usr/local/lib/python3.11/dist-packages (from matplotlib->noisereduce) (2.8.2)\n",
      "Requirement already satisfied: six>=1.5 in /usr/local/lib/python3.11/dist-packages (from python-dateutil>=2.7->matplotlib->noisereduce) (1.17.0)\n",
      "Downloading noisereduce-3.0.3-py3-none-any.whl (22 kB)\n",
      "Installing collected packages: noisereduce\n",
      "Successfully installed noisereduce-3.0.3\n"
     ]
    }
   ],
   "source": [
    "# Install noisereduce for noise reduction procesesing component\n",
    "!pip install noisereduce"
   ]
  },
  {
   "cell_type": "code",
   "execution_count": null,
   "metadata": {
    "colab": {
     "base_uri": "https://localhost:8080/"
    },
    "executionInfo": {
     "elapsed": 51739,
     "status": "ok",
     "timestamp": 1743157480525,
     "user": {
      "displayName": "S L",
      "userId": "12084752779565483850"
     },
     "user_tz": -480
    },
    "id": "5JrFjngiI1-o",
    "outputId": "c8df3eb6-a3e8-4a9d-a219-57a9a8417dd9"
   },
   "outputs": [
    {
     "name": "stdout",
     "output_type": "stream",
     "text": [
      "Saved: /content/drive/MyDrive/AML/Dataprep/test_dataprep_for_github/fortest_coughvid_processed/01723b00-382f-4089-a7c3-9c90b3ddad17.wav\n",
      "Saved: /content/drive/MyDrive/AML/Dataprep/test_dataprep_for_github/fortest_coughvid_processed/00bf9f83-2e8f-47cf-a4f2-97f2beceebc1.wav\n",
      "Saved: /content/drive/MyDrive/AML/Dataprep/test_dataprep_for_github/fortest_coughvid_processed/977592cb-c1f2-4b5e-bad1-6132b5cd2ad0.wav\n",
      "Saved: /content/drive/MyDrive/AML/Dataprep/test_dataprep_for_github/fortest_coughvid_processed/bbb221cc-8c5c-407d-9ae1-ae8ebd842504.wav\n",
      "Saved: /content/drive/MyDrive/AML/Dataprep/test_dataprep_for_github/fortest_coughvid_processed/5fb358c3-76bc-4adc-93ac-02f367e38739.wav\n",
      "Saved: /content/drive/MyDrive/AML/Dataprep/test_dataprep_for_github/fortest_coughvid_processed/2499bd0e-4221-449a-8184-ee15e1c80b35.wav\n",
      "Saved: /content/drive/MyDrive/AML/Dataprep/test_dataprep_for_github/fortest_coughvid_processed/c261cdbc-fb1e-4444-8b68-33c920047d8c.wav\n",
      "Saved: /content/drive/MyDrive/AML/Dataprep/test_dataprep_for_github/fortest_coughvid_processed/ffedc843-bfc2-4ad6-a749-2bc86bdac84a.wav\n",
      "Saved: /content/drive/MyDrive/AML/Dataprep/test_dataprep_for_github/fortest_coughvid_processed/edcadaac-51d0-44d1-99c6-efbbc41dd4bd.wav\n",
      "Saved: /content/drive/MyDrive/AML/Dataprep/test_dataprep_for_github/fortest_coughvid_processed/3b018a2b-59a9-484b-a71e-437fb96698ab.wav\n",
      "Saved: /content/drive/MyDrive/AML/Dataprep/test_dataprep_for_github/fortest_coughvid_processed/47edb277-7f3c-426d-8e14-a0385f3c1b77.wav\n",
      "Saved: /content/drive/MyDrive/AML/Dataprep/test_dataprep_for_github/fortest_coughvid_processed/03430d6b-4554-4ffe-8c82-507832dc1d52.wav\n",
      "Saved: /content/drive/MyDrive/AML/Dataprep/test_dataprep_for_github/fortest_coughvid_processed/f871f11b-c593-4d30-b683-f9ba565088e5.wav\n",
      "Saved: /content/drive/MyDrive/AML/Dataprep/test_dataprep_for_github/fortest_coughvid_processed/22ac9dc4-858e-4db5-886e-792d7553e67f.wav\n",
      "Saved: /content/drive/MyDrive/AML/Dataprep/test_dataprep_for_github/fortest_coughvid_processed/d5ae4279-5716-4658-ba24-8cb5cf87f40d.wav\n",
      "Saved: /content/drive/MyDrive/AML/Dataprep/test_dataprep_for_github/fortest_coughvid_processed/e8fe6b8b-a7be-404d-95a5-5da7f4efe0e8.wav\n",
      "Saved: /content/drive/MyDrive/AML/Dataprep/test_dataprep_for_github/fortest_coughvid_processed/48d28621-e417-47ae-ab2b-54e659e9df04.wav\n",
      "Saved: /content/drive/MyDrive/AML/Dataprep/test_dataprep_for_github/fortest_coughvid_processed/4d5640b5-790d-4926-8e10-3ab666331500.wav\n",
      "Saved: /content/drive/MyDrive/AML/Dataprep/test_dataprep_for_github/fortest_coughvid_processed/b60e7ee3-64c2-4982-8212-750b4dbe8c66.wav\n",
      "Saved: /content/drive/MyDrive/AML/Dataprep/test_dataprep_for_github/fortest_coughvid_processed/43cfe07c-cf76-4d97-914a-b1a1ec2c9759.wav\n",
      "Saved: /content/drive/MyDrive/AML/Dataprep/test_dataprep_for_github/fortest_coughvid_processed/f5a36e3a-28f9-461d-970e-c95ff38f4740.wav\n",
      "Saved: /content/drive/MyDrive/AML/Dataprep/test_dataprep_for_github/fortest_coughvid_processed/8a3058b7-c1ec-43d8-ae17-f1c72da07a21.wav\n",
      "Saved: /content/drive/MyDrive/AML/Dataprep/test_dataprep_for_github/fortest_coughvid_processed/8debc554-dee0-49c8-8a54-34c26de4190d.wav\n",
      "Saved: /content/drive/MyDrive/AML/Dataprep/test_dataprep_for_github/fortest_coughvid_processed/8a529f53-b0c3-422b-984b-c536bb64e889.wav\n",
      "Saved: /content/drive/MyDrive/AML/Dataprep/test_dataprep_for_github/fortest_coughvid_processed/a31d884f-23d8-4098-ba48-09daca06c116.wav\n",
      "Saved: /content/drive/MyDrive/AML/Dataprep/test_dataprep_for_github/fortest_coughvid_processed/d1fd16e4-258e-4b20-9978-d0f6106b1d22.wav\n",
      "Saved: /content/drive/MyDrive/AML/Dataprep/test_dataprep_for_github/fortest_coughvid_processed/5c4d833f-64ac-4ec0-82d9-3327020c870f.wav\n",
      "Saved: /content/drive/MyDrive/AML/Dataprep/test_dataprep_for_github/fortest_coughvid_processed/15a0a034-354e-4637-b74c-9653763e0862.wav\n",
      "Saved: /content/drive/MyDrive/AML/Dataprep/test_dataprep_for_github/fortest_coughvid_processed/38578eb5-eef4-4c69-9e08-cbda1065b9d0.wav\n",
      "Saved: /content/drive/MyDrive/AML/Dataprep/test_dataprep_for_github/fortest_coughvid_processed/4fa482c1-e2c7-402f-b383-343c18be4ccd.wav\n",
      "Saved: /content/drive/MyDrive/AML/Dataprep/test_dataprep_for_github/fortest_coughvid_processed/f23ee4be-d96c-43ff-a06c-99e1050b7ffe.wav\n",
      "Saved: /content/drive/MyDrive/AML/Dataprep/test_dataprep_for_github/fortest_coughvid_processed/28d173a5-6b04-4c7b-8b29-84e670dc6c35.wav\n",
      "Saved: /content/drive/MyDrive/AML/Dataprep/test_dataprep_for_github/fortest_coughvid_processed/d70748e6-0e82-4760-a2fc-d63b01d3c65c.wav\n",
      "Saved: /content/drive/MyDrive/AML/Dataprep/test_dataprep_for_github/fortest_coughvid_processed/bc048378-1d7f-44ed-a8a8-e2ce7d0a56ae.wav\n",
      "Saved: /content/drive/MyDrive/AML/Dataprep/test_dataprep_for_github/fortest_coughvid_processed/78bba857-d1c8-4a56-86d5-650911bad154.wav\n",
      "Saved: /content/drive/MyDrive/AML/Dataprep/test_dataprep_for_github/fortest_coughvid_processed/4a19eff2-8302-4aa6-9164-ae5a9d2d824f.wav\n",
      "Saved: /content/drive/MyDrive/AML/Dataprep/test_dataprep_for_github/fortest_coughvid_processed/306d3ace-9b3b-4285-ba5c-86b0797987c9.wav\n",
      "Saved: /content/drive/MyDrive/AML/Dataprep/test_dataprep_for_github/fortest_coughvid_processed/3e4f0ebc-7100-48a8-b164-4d90b8dee8db.wav\n",
      "Saved: /content/drive/MyDrive/AML/Dataprep/test_dataprep_for_github/fortest_coughvid_processed/a2bd77dd-61f9-494d-b6b5-306ada124f30.wav\n",
      "Saved: /content/drive/MyDrive/AML/Dataprep/test_dataprep_for_github/fortest_coughvid_processed/9cefcba6-bea1-4131-a905-3d28e567344b.wav\n",
      "Saved: /content/drive/MyDrive/AML/Dataprep/test_dataprep_for_github/fortest_coughvid_processed/beb9eff3-e2c7-4f53-981b-0abc09158dec.wav\n",
      "Saved: /content/drive/MyDrive/AML/Dataprep/test_dataprep_for_github/fortest_coughvid_processed/43df4f16-fb75-43bb-a866-5231a9243e21.wav\n",
      "Saved: /content/drive/MyDrive/AML/Dataprep/test_dataprep_for_github/fortest_coughvid_processed/c0d601d9-53bc-40d6-b514-95d803f1df02.wav\n",
      "Saved: /content/drive/MyDrive/AML/Dataprep/test_dataprep_for_github/fortest_coughvid_processed/4b46da7b-b391-45f6-925a-9aa31eb5b58a.wav\n",
      "Saved: /content/drive/MyDrive/AML/Dataprep/test_dataprep_for_github/fortest_coughvid_processed/5b2342d2-01f8-4ad7-bf13-217601cd3c13.wav\n",
      "Saved: /content/drive/MyDrive/AML/Dataprep/test_dataprep_for_github/fortest_coughvid_processed/881d892d-f3a9-4409-82d3-1f43c7ce5047.wav\n",
      "Saved: /content/drive/MyDrive/AML/Dataprep/test_dataprep_for_github/fortest_coughvid_processed/2716f7c1-a47d-4634-9f97-e2d8c59b3bbf.wav\n",
      "Saved: /content/drive/MyDrive/AML/Dataprep/test_dataprep_for_github/fortest_coughvid_processed/f5b8f8e8-8480-483f-8d49-2cb53aa22e8a.wav\n",
      "Saved: /content/drive/MyDrive/AML/Dataprep/test_dataprep_for_github/fortest_coughvid_processed/21519b33-26a1-48ab-95e9-290188d9d7ed.wav\n",
      "Saved: /content/drive/MyDrive/AML/Dataprep/test_dataprep_for_github/fortest_coughvid_processed/7e5e71f2-c060-4f4c-9d80-1524981eadc5.wav\n",
      "\n",
      "Summary of Processing:\n",
      "- Total number of files in dataset: 50\n",
      "- Files attempted to process: 50\n",
      "- Files successfully saved: 50\n",
      "- Files not processed: 0\n"
     ]
    }
   ],
   "source": [
    "# Importing the function to process and save the dataset\n",
    "from step4_process_audio import process_and_save_dataset\n",
    "\n",
    "# Define paths for the input and output folders\n",
    "# Input folder containing the converted audio files\n",
    "# This should be the same as the converted_audio_dir from the previous step\n",
    "# Output folder where the processed audio files will be saved\n",
    "# This folder will be created if it doesn't exist\n",
    "# Make sure to change the paths according to your directory structure\n",
    "input_folder = \"/content/drive/MyDrive/AML/Dataprep/test_coughvid_dataprep_for_github/fortest_coughvid_raw_converted\"\n",
    "output_folder = \"/content/drive/MyDrive/AML/Dataprep/test_coughvid_dataprep_for_github/fortest_coughvid_processed\"\n",
    "\n",
    "# Run the processing pipeline\n",
    "# This will process the audio files in the input folder and save them to the output folder\n",
    "process_and_save_dataset(input_folder, output_folder)"
   ]
  },
  {
   "cell_type": "markdown",
   "metadata": {},
   "source": [
    "Expected Output:\n",
    "- A new folder (e.g., fortest_coughvid_processed/) containing:\n",
    "    - .wav files that have been cleaned and standardized\n",
    "    - One file per input sample (matching the same UUIDs or filenames)\n",
    "- All files should now:\n",
    "    - Have a consistent duration and sample rate\n",
    "    - Be denoised and trimmed\n",
    "    - -Be smaller in size and better in quality than the originals\n",
    "- The total number of output files will match or be fewer than the input files (some may be dropped during filtering)."
   ]
  },
  {
   "cell_type": "markdown",
   "metadata": {},
   "source": [
    "### 5. Train-Test Split and Label Alignment"
   ]
  },
  {
   "cell_type": "markdown",
   "metadata": {
    "id": "3gCxDTvNSRhL"
   },
   "source": [
    "- This step prepares your final dataset structure for model training and evaluation by aligning cleaned audio with labels, splitting the data, and organizing it clearly.\n",
    "- Purpose:\n",
    "    - Ensure that each processed audio file has a corresponding binary label (health_status).\n",
    "    - Split the dataset into training and testing sets while maintaining the label distribution.\n",
    "- Key steps:\n",
    "    - Label Alignment:\n",
    "        - Matches each .wav file in the processed audio folder to its corresponding label from the cleaned metadata CSV.\n",
    "        - Only audio files that have both a label and a valid processed .wav file are retained.\n",
    "    - Stratified Train-Test Split:\n",
    "        - Splits data into training and test sets (e.g., 80/20) with equal class distribution (health_status = 0/1).\n",
    "        - Ensures fair and balanced evaluation.\n",
    "    - File Organization:\n",
    "        - Copies the .wav files into separate folders:\n",
    "            - e.g., fortest_coughvid_train/ and fortest_coughvid_test/\n",
    "        - Creates accompanying CSVs:\n",
    "            - fortest_train_labels.csv, fortest_test_labels.csv\n",
    "            - Each contains: filename, health_status\n",
    "- Accompanying helper file: step5_split_and_label.py"
   ]
  },
  {
   "cell_type": "code",
   "execution_count": null,
   "metadata": {
    "colab": {
     "base_uri": "https://localhost:8080/"
    },
    "executionInfo": {
     "elapsed": 30837,
     "status": "ok",
     "timestamp": 1743158679654,
     "user": {
      "displayName": "S L",
      "userId": "12084752779565483850"
     },
     "user_tz": -480
    },
    "id": "Z5qd1h-AOJSM",
    "outputId": "7346d6c9-c836-412e-f1f8-9c5b03acada2"
   },
   "outputs": [
    {
     "name": "stdout",
     "output_type": "stream",
     "text": [
      "Found 50 processed audio files\n",
      "Detected ID column: 'filename'\n",
      "\n",
      "Summary of Label Distribution:\n",
      "- Matched Files: 50\n",
      "- Healthy: 25\n",
      "- Not Healthy: 25\n",
      "- New labels CSV saved to: /content/drive/MyDrive/AML/Dataprep/test_dataprep_for_github/fortest_processed_data_labels_coughvid.csv\n",
      "Detected ID column: 'filename'\n",
      "\n",
      "Train-test split complete:\n",
      "- Train labels saved to: /content/drive/MyDrive/AML/Dataprep/test_dataprep_for_github/fortest_train_labels.csv (40 rows)\n",
      "- Test labels saved to: /content/drive/MyDrive/AML/Dataprep/test_dataprep_for_github/fortest_test_labels.csv (10 rows)\n",
      "Copied 40/40 files to /content/drive/MyDrive/AML/Dataprep/test_dataprep_for_github/fortest_coughvid_train\n",
      "Copied 10/10 files to /content/drive/MyDrive/AML/Dataprep/test_dataprep_for_github/fortest_coughvid_test\n",
      "\n",
      "Labeling and train/test split complete.\n",
      "Train audio files saved to: /content/drive/MyDrive/AML/Dataprep/test_dataprep_for_github/fortest_coughvid_train\n",
      "Test audio files saved to: /content/drive/MyDrive/AML/Dataprep/test_dataprep_for_github/fortest_coughvid_test\n"
     ]
    }
   ],
   "source": [
    "# Importing the function to split and label the dataset\n",
    "from step5_split_and_label import full_pipeline\n",
    "\n",
    "# Define paths for the processed audio directory, original labels CSV, output labels CSV, and train/test folders\n",
    "# These paths should be updated according to your directory structure\n",
    "# Processed audio directory containing the processed audio files\n",
    "# Original labels CSV file (output from the previous step)\n",
    "# Output labels CSV file where the processed labels will be saved\n",
    "# Train and test folders where the split audio files will be saved\n",
    "# Train and test CSV paths for saving the split labels\n",
    "# ID column name (if any) to be used for splitting the dataset\n",
    "# If you don't have an ID column, set this to None\n",
    "processed_audio_dir = \"/content/drive/MyDrive/AML/Dataprep/test_coughvid_dataprep_for_github/fortest_coughvid_processed\"\n",
    "\n",
    "original_labels_csv = \"/content/drive/MyDrive/AML/Dataprep/test_coughvid_dataprep_for_github/fortest_raw_data_labels_coughvid.csv\"\n",
    "output_labels_csv = \"/content/drive/MyDrive/AML/Dataprep/test_coughvid_dataprep_for_github/fortest_processed_data_labels_coughvid.csv\"\n",
    "\n",
    "train_csv_path = \"/content/drive/MyDrive/AML/Dataprep/test_coughvid_dataprep_for_github/fortest_train_labels_coughvid.csv\"\n",
    "test_csv_path = \"/content/drive/MyDrive/AML/Dataprep/test_coughvid_dataprep_for_github/fortest_test_labels_coughvid.csv\"\n",
    "\n",
    "train_folder = \"/content/drive/MyDrive/AML/Dataprep/test_coughvid_dataprep_for_github/fortest_coughvid_train\"\n",
    "test_folder = \"/content/drive/MyDrive/AML/Dataprep/test_coughvid_dataprep_for_github/fortest_coughvid_test\"\n",
    "\n",
    "# Run the full pipeline to split and label the dataset\n",
    "full_pipeline(\n",
    "    processed_audio_dir=processed_audio_dir,\n",
    "    original_labels_csv=original_labels_csv,\n",
    "    output_labels_csv=output_labels_csv,\n",
    "    train_folder=train_folder,\n",
    "    test_folder=test_folder,\n",
    "    train_csv_path=train_csv_path,\n",
    "    test_csv_path=test_csv_path,\n",
    "    id_column=None\n",
    ")"
   ]
  },
  {
   "cell_type": "markdown",
   "metadata": {},
   "source": [
    "Expected Output:\n",
    "- Two folders:\n",
    "    - fortest_coughvid_train/ – contains training .wav files (or according to your folder name)\n",
    "    - fortest_coughvid_test/ – contains testing .wav files (or according to your folder name)\n",
    "- Two CSVs:\n",
    "    - fortest_train_labels.csv – labels for training files (or according to your csv name)\n",
    "    - fortest_test_labels.csv – labels for testing files (or according to your csv name)\n",
    "- All files are guaranteed to have valid audio and a corresponding label."
   ]
  },
  {
   "cell_type": "markdown",
   "metadata": {},
   "source": [
    "### 6. Data Integrity Check"
   ]
  },
  {
   "cell_type": "markdown",
   "metadata": {
    "id": "FWSDnfFSXyBD"
   },
   "source": [
    "- This final step ensures that your dataset is clean, consistent, and ready for modeling. It acts as a validation gate to catch any mismatches or missing files before training begins.\n",
    "- Purpose:\n",
    "    - Validate that the .wav files in the train/test folders match the filenames listed in their respective label CSVs.\n",
    "    - Check for missing or extra files.\n",
    "    - Confirm that label values are within the expected range (e.g., only 0 or 1).\n",
    "    - Verify balanced distribution of labels.\n",
    "- Key checks performed:\n",
    "    - File existence: Confirms every filename listed in the CSV actually exists in the folder.\n",
    "    - CSV validity: Ensures the health_status column is present and contains valid values (0 or 1).\n",
    "    - Label distribution: Outputs a quick summary of class distribution (e.g., 50% healthy, 50% not healthy). Helps catch class imbalance early.\n",
    "    - Sample listing: Displays a few filenames and their labels to visually inspect correctness.\n",
    "- Accompanying helper file: step6_check_dataset.py"
   ]
  },
  {
   "cell_type": "code",
   "execution_count": null,
   "metadata": {
    "colab": {
     "base_uri": "https://localhost:8080/",
     "height": 1000
    },
    "executionInfo": {
     "elapsed": 53362,
     "status": "ok",
     "timestamp": 1743159158672,
     "user": {
      "displayName": "S L",
      "userId": "12084752779565483850"
     },
     "user_tz": -480
    },
    "id": "dqM01KUZTcok",
    "outputId": "a2973e0a-0df4-433c-d712-6a1184f451ce"
   },
   "outputs": [
    {
     "name": "stdout",
     "output_type": "stream",
     "text": [
      "Total Train Files: 40\n",
      "Sample Train Files: ['d1fd16e4-258e-4b20-9978-d0f6106b1d22.wav', 'bc048378-1d7f-44ed-a8a8-e2ce7d0a56ae.wav', 'e8fe6b8b-a7be-404d-95a5-5da7f4efe0e8.wav', '2499bd0e-4221-449a-8184-ee15e1c80b35.wav', 'beb9eff3-e2c7-4f53-981b-0abc09158dec.wav', '4b46da7b-b391-45f6-925a-9aa31eb5b58a.wav', '15a0a034-354e-4637-b74c-9653763e0862.wav', 'd5ae4279-5716-4658-ba24-8cb5cf87f40d.wav', '306d3ace-9b3b-4285-ba5c-86b0797987c9.wav', '881d892d-f3a9-4409-82d3-1f43c7ce5047.wav']\n",
      "Total Test Files: 10\n",
      "Sample Test Files: ['4a19eff2-8302-4aa6-9164-ae5a9d2d824f.wav', '28d173a5-6b04-4c7b-8b29-84e670dc6c35.wav', '9cefcba6-bea1-4131-a905-3d28e567344b.wav', '5b2342d2-01f8-4ad7-bf13-217601cd3c13.wav', '47edb277-7f3c-426d-8e14-a0385f3c1b77.wav', 'a31d884f-23d8-4098-ba48-09daca06c116.wav', '00bf9f83-2e8f-47cf-a4f2-97f2beceebc1.wav', 'f871f11b-c593-4d30-b683-f9ba565088e5.wav', 'd70748e6-0e82-4760-a2fc-d63b01d3c65c.wav', '8a3058b7-c1ec-43d8-ae17-f1c72da07a21.wav']\n",
      "✅ Detected ID column: 'filename'\n",
      "Unique health_status labels in training set: [0 1]\n",
      "Sample training labels: [('d1fd16e4-258e-4b20-9978-d0f6106b1d22.wav', 0), ('bc048378-1d7f-44ed-a8a8-e2ce7d0a56ae.wav', 0), ('e8fe6b8b-a7be-404d-95a5-5da7f4efe0e8.wav', 1), ('2499bd0e-4221-449a-8184-ee15e1c80b35.wav', 1), ('beb9eff3-e2c7-4f53-981b-0abc09158dec.wav', 0)]\n",
      "40 training files labeled correctly.\n",
      "✅ Detected ID column: 'filename'\n",
      "Unique health_status labels in testing set: [0 1]\n",
      "Sample testing labels: [('4a19eff2-8302-4aa6-9164-ae5a9d2d824f.wav', 0), ('28d173a5-6b04-4c7b-8b29-84e670dc6c35.wav', 0), ('9cefcba6-bea1-4131-a905-3d28e567344b.wav', 0), ('5b2342d2-01f8-4ad7-bf13-217601cd3c13.wav', 0), ('47edb277-7f3c-426d-8e14-a0385f3c1b77.wav', 1)]\n",
      "10 testing files labeled correctly.\n",
      "Training labels match the number of training files.\n",
      "Testing labels match the number of testing files.\n"
     ]
    },
    {
     "data": {
      "image/png": "[encoded data removed]",
      "text/plain": [
       "<Figure size 600x400 with 1 Axes>"
      ]
     },
     "metadata": {},
     "output_type": "display_data"
    },
    {
     "data": {
      "image/png": "[encoded data removed]",
      "text/plain": [
       "<Figure size 600x400 with 1 Axes>"
      ]
     },
     "metadata": {},
     "output_type": "display_data"
    },
    {
     "name": "stdout",
     "output_type": "stream",
     "text": [
      "Skipped 0 files due to errors.\n",
      "Skipped 0 files due to errors.\n",
      "\n",
      "Training Data: 40 samples\n",
      "Test Data: 10 samples\n",
      "\n",
      "Sample training shapes:\n",
      "d1fd16e4-258e-4b20-9978-d0f6106b1d22.wav: (17920,)\n",
      "bc048378-1d7f-44ed-a8a8-e2ce7d0a56ae.wav: (31232,)\n",
      "e8fe6b8b-a7be-404d-95a5-5da7f4efe0e8.wav: (29696,)\n",
      "2499bd0e-4221-449a-8184-ee15e1c80b35.wav: (9216,)\n",
      "beb9eff3-e2c7-4f53-981b-0abc09158dec.wav: (96256,)\n",
      "\n",
      "Sample test shapes:\n",
      "4a19eff2-8302-4aa6-9164-ae5a9d2d824f.wav: (73216,)\n",
      "28d173a5-6b04-4c7b-8b29-84e670dc6c35.wav: (39424,)\n",
      "9cefcba6-bea1-4131-a905-3d28e567344b.wav: (34816,)\n",
      "5b2342d2-01f8-4ad7-bf13-217601cd3c13.wav: (84480,)\n",
      "47edb277-7f3c-426d-8e14-a0385f3c1b77.wav: (49152,)\n"
     ]
    }
   ],
   "source": [
    "from step6_check_dataset import run_check_pipeline\n",
    "\n",
    "train_csv_path = \"/content/drive/MyDrive/AML/Dataprep/test_coughvid_dataprep_for_github/fortest_train_labels_coughvid.csv\"\n",
    "test_csv_path = \"/content/drive/MyDrive/AML/Dataprep/test_coughvid_dataprep_for_github/fortest_test_labels_coughvid.csv\"\n",
    "\n",
    "train_folder = \"/content/drive/MyDrive/AML/Dataprep/test_coughvid_dataprep_for_github/fortest_coughvid_train\"\n",
    "test_folder = \"/content/drive/MyDrive/AML/Dataprep/test_coughvid_dataprep_for_github/fortest_coughvid_test\"\n",
    "\n",
    "run_check_pipeline(\n",
    "    train_dir=train_folder,\n",
    "    test_dir=test_folder,\n",
    "    train_labels_path=train_csv_path,\n",
    "    test_labels_path=test_csv_path\n",
    ")"
   ]
  },
  {
   "cell_type": "markdown",
   "metadata": {},
   "source": [
    "Expected Output:\n",
    "- A printed report with:\n",
    "    - Total number of files in each split (train and test)\n",
    "    - Sample filenames and their health_status from the CSV\n",
    "    - Unique label values detected and their counts\n",
    "    - Confirmation that all listed files exist and are labeled\n",
    "- Visual: Bar plot showing class distribution in the training set\n",
    "- Assurance that the data is clean, aligned, and balanced before training begins."
   ]
  },
  {
   "cell_type": "markdown",
   "metadata": {},
   "source": []
  }
 ],
 "metadata": {
  "colab": {
   "authorship_tag": "ABX9TyMfntykK5bQ+PFWjWqDk0AZ",
   "provenance": []
  },
  "kernelspec": {
   "display_name": "Python 3 (ipykernel)",
   "language": "python",
   "name": "python3"
  },
  "language_info": {
   "codemirror_mode": {
    "name": "ipython",
    "version": 3
   },
   "file_extension": ".py",
   "mimetype": "text/x-python",
   "name": "python",
   "nbconvert_exporter": "python",
   "pygments_lexer": "ipython3",
   "version": "3.11.7"
  }
 },
 "nbformat": 4,
 "nbformat_minor": 4
}
