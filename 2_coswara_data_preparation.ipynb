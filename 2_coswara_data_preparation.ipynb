{
 "cells": [
  {
   "cell_type": "markdown",
   "metadata": {
    "id": "CPPAt7dvunvI"
   },
   "source": [
    "## Data Preparation Pipeline (Coswara)"
   ]
  },
  {
   "cell_type": "markdown",
   "metadata": {},
   "source": [
    "This notebook prepares the Coswara dataset for training by applying a series of cleaning, filtering, and transformation steps tailored to its structure and metadata.\n",
    "\n",
    "The dataset and source repository can be found here: https://github.com/iiscleap/Coswara-Data\n",
    "\n",
    "Note:\n",
    "- The code is designed to run in Google Colab with helper functions and scripts imported from Google Drive. All helper scripts are stored in the data_preparation folder.\n",
    "- The output examples shown in this notebook are for illustration only. They use a small sample of files to help you understand what the full pipeline should look like when properly run.\n",
    "- When running the pipeline on the full dataset, make sure to do the following using the helper functions provided:\n",
    "    - Download and extract the Coswara .tar.gz.* split files\n",
    "    - Consolidate only the *_cough-heavy.wav recordings\n",
    "    - Clean and match metadata for high-quality, labeled samples"
   ]
  },
  {
   "cell_type": "markdown",
   "metadata": {
    "id": "EUq1jwekuz2t"
   },
   "source": [
    "Pipeline Summary:\n",
    "\n",
    "0. Mount Google Drive\n",
    "1. (Skipped) Data Download and Extraction (Coswara)\n",
    "2. (Skipped) Prepare Metadata / Labels (Coswara)\n",
    "3. Convert and Copy Raw Audio\n",
    "4. Process Audio Files\n",
    "5. Train-Test Split and Label Alignment\n",
    "6. Data Integrity Check"
   ]
  },
  {
   "cell_type": "markdown",
   "metadata": {},
   "source": [
    "### 0. Mount Google Drive"
   ]
  },
  {
   "cell_type": "markdown",
   "metadata": {},
   "source": [
    "- This step handles mounting Drive and ensuring access scripts and datasets stored in your Drive.\n",
    "- Accompanying helper file: step1_get_zip.py"
   ]
  },
  {
   "cell_type": "code",
   "execution_count": null,
   "metadata": {
    "colab": {
     "base_uri": "https://localhost:8080/"
    },
    "executionInfo": {
     "elapsed": 18405,
     "status": "ok",
     "timestamp": 1743174124858,
     "user": {
      "displayName": "S L",
      "userId": "12084752779565483850"
     },
     "user_tz": -480
    },
    "id": "-KFpzWmXuul2",
    "outputId": "3657c2b3-4f2b-4d74-86dd-1bdf12689dc4"
   },
   "outputs": [
    {
     "name": "stdout",
     "output_type": "stream",
     "text": [
      "Mounted at /content/drive/\n"
     ]
    }
   ],
   "source": [
    "# Mount Google Drive to access files\n",
    "# This code is intended to be run in Google Colab\n",
    "from google.colab import drive\n",
    "drive.mount('/content/drive/', force_remount=True)"
   ]
  },
  {
   "cell_type": "code",
   "execution_count": null,
   "metadata": {
    "colab": {
     "base_uri": "https://localhost:8080/"
    },
    "executionInfo": {
     "elapsed": 490,
     "status": "ok",
     "timestamp": 1743174125347,
     "user": {
      "displayName": "S L",
      "userId": "12084752779565483850"
     },
     "user_tz": -480
    },
    "id": "-funuYKYEubD",
    "outputId": "92ce6868-490f-4d67-db7f-7c33cf87aa62"
   },
   "outputs": [
    {
     "name": "stdout",
     "output_type": "stream",
     "text": [
      "/content/drive/.shortcut-targets-by-id/1UBr7xHwiaUCT4Y9U0LH_0qJJfCYxNbgT/AML/Dataprep/test_coswara_dataprep_for_github/py_util\n"
     ]
    }
   ],
   "source": [
    "# To run this notebook, you need to cd to the folder where the helper files are located.\n",
    "# You can do this by running the following command:\n",
    "%cd /content/drive/MyDrive/AML/Dataprep/test_coswara_dataprep_for_github/py_util/"
   ]
  },
  {
   "cell_type": "code",
   "execution_count": null,
   "metadata": {
    "executionInfo": {
     "elapsed": 6,
     "status": "ok",
     "timestamp": 1743174125353,
     "user": {
      "displayName": "S L",
      "userId": "12084752779565483850"
     },
     "user_tz": -480
    },
    "id": "k5oE5iqsE6fa"
   },
   "outputs": [],
   "source": [
    "# As backup, to use the helper files, we add its path to the system path\n",
    "# This is not necessary if you are already in the correct directory.\n",
    "# You can comment this line out if you are already in the correct directory.\n",
    "import sys\n",
    "sys.path.append('/content/drive/MyDrive/AML/Dataprep/test_coswara_dataprep_for_github/py_util')"
   ]
  },
  {
   "cell_type": "code",
   "execution_count": null,
   "metadata": {
    "colab": {
     "base_uri": "https://localhost:8080/"
    },
    "executionInfo": {
     "elapsed": 544,
     "status": "ok",
     "timestamp": 1743174125898,
     "user": {
      "displayName": "S L",
      "userId": "12084752779565483850"
     },
     "user_tz": -480
    },
    "id": "uVKrBMsnE9Cz",
    "outputId": "cdd62e1d-5850-4056-9a2d-09e03825878c"
   },
   "outputs": [
    {
     "name": "stdout",
     "output_type": "stream",
     "text": [
      "Google Drive already mounted.\n"
     ]
    }
   ],
   "source": [
    "# Importing the function to check if the drive is mounted, and to mount it if not\n",
    "from step1_get_zip import mount_drive\n",
    "mount_drive()"
   ]
  },
  {
   "cell_type": "markdown",
   "metadata": {
    "id": "YfEO0azMFO0u"
   },
   "source": [
    "Expected Output:\n",
    "- Google Drive mounted\n",
    "- Able to access helper files"
   ]
  },
  {
   "cell_type": "markdown",
   "metadata": {},
   "source": [
    "### 1. (Skipped) Data Download and Extraction (Coswara)"
   ]
  },
  {
   "cell_type": "markdown",
   "metadata": {},
   "source": [
    "- This step handles downloading and extracting the Coswara dataset for first-time users or full reproducibility.\n",
    "- Source: Coswara dataset GitHub repository: https://github.com/iiscleap/Coswara-Data\n",
    "    - Download the file: coswara_data.tar.gz.* split archives (e.g., .tar.gz.aa, .tar.gz.ab, etc.)\n",
    "    - Each date-based folder (e.g., 20210507/) contains raw audio samples from multiple participants\n",
    "- Contents of the repository:\n",
    "    - Multiple folders named by collection date (e.g., 20200413, 20210630, etc.)\n",
    "    - Each folder contains recordings from participants (9 audio samples per participant)\n",
    "    - Files include .wav audio recordings and .json metadata\n",
    "- Metadata files:\n",
    "    - combined_data.csv: central metadata file containing participant-level health status and demographics\n",
    "    - csv_labels_legend.json: column descriptions for metadata\n",
    "    - annotations/: contains audio quality ratings labeled as:\n",
    "        - 2 = excellent\n",
    "        - 1 = moderate\n",
    "        - 0 = bad\n",
    "- What is required:\n",
    "    - Only the audio files ending in _cough-heavy.wav are used for this project\n",
    "    - Metadata in combined_data.csv and quality annotations are used for filtering and labeling\n",
    "    - Other audio types and JSONs can be ignored\n",
    "- How to extract:\n",
    "    - Use the helper function extract_coswara_archives() from the script step1_get_zip.py to extract .tar.gz.* split archives into a common folder (e.g., Extracted_data/)\n",
    "    - Then run consolidate_coswara_heavy_cough_files() to:\n",
    "        - Find all files ending in _cough-heavy.wav\n",
    "        - Remove _cough-heavy from filenames\n",
    "        - Copy to a clean, flat folder (e.g., Extracted_data_heavy/)\n",
    "- Accompanying helper file: step1_get_zip.py\n",
    "- Note: This notebook skips the raw extraction step. To reproduce the dataset from scratch, use the helper script manually in Colab or locally."
   ]
  },
  {
   "cell_type": "code",
   "execution_count": null,
   "metadata": {
    "colab": {
     "base_uri": "https://localhost:8080/"
    },
    "executionInfo": {
     "elapsed": 130945,
     "status": "ok",
     "timestamp": 1743171710182,
     "user": {
      "displayName": "S L",
      "userId": "12084752779565483850"
     },
     "user_tz": -480
    },
    "id": "LymqW0cTE-FN",
    "outputId": "c245ba74-0a3b-4027-b236-063e1db16f16"
   },
   "outputs": [],
   "source": [
    "# Importing the function to unzip the downloaded ZIP file\n",
    "import os\n",
    "\n",
    "# Define the directory where the ZIP file is located\n",
    "# and the directory where you want to extract the contents\n",
    "# There are two directories: the original and the heavy one\n",
    "# The original directory contains the original files, while the heavy directory contains the files after preprocessing\n",
    "# The original directory is used for the first run, and the heavy directory is used for the second run\n",
    "coswara_data_dir = \"/content/drive/MyDrive/AML/Data/dataset3_coswara\"  \n",
    "extracted_data_dir = os.path.join(coswara_data_dir, \"extracted_coswara_data\")  \n",
    "extracted_data_heavy_dir = os.path.join(coswara_data_dir, \"extracted_coswara_data_heavy_cough\")  "
   ]
  },
  {
   "cell_type": "code",
   "execution_count": null,
   "metadata": {},
   "outputs": [],
   "source": [
    "# Importing the function to extract the ZIP file\n",
    "from step1_get_zip import mount_drive, extract_coswara_archives, consolidate_coswara_heavy_cough_files\n",
    "\n",
    "# Run the function to extract the ZIP file\n",
    "# The function will extract the files in the specified directory\n",
    "# and create a new directory for the extracted files\n",
    "# The extracted files will be in the same directory as the ZIP file\n",
    "extract_coswara_archives(coswara_data_dir)\n",
    "\n",
    "# Run the function to consolidate the heavy cough files\n",
    "# Because the extracted_data_dir will have nine subdirectories, and we only want to extract the heavy cough files\n",
    "consolidate_coswara_heavy_cough_files(extracted_data_dir, extracted_data_heavy_dir)"
   ]
  },
  {
   "cell_type": "markdown",
   "metadata": {},
   "source": [
    "Expected Output:\n",
    "- A directory named Extracted_data/ is created in your working environment\n",
    "    - This contains the full decompressed content from all .tar.gz.* Coswara archives\n",
    "- A directory named Extracted_data_heavy/ is created:\n",
    "    - Contains only cough-heavy .wav files, one per participant\n",
    "    - Files are renamed to UUIDs (e.g., a123b456.wav) for easier matching\n",
    "    - All files are in a single flat folder (no subdirectories)\n",
    "- Example before consolidation: Extracted_data/20210816/participant1_cough-heavy.wav\n",
    "- Example after consolidation: Extracted_data_heavy/participant1.wav\n",
    "- Outcome:\n",
    "    - You now have all heavy cough .wav audio files locally available for downstream processing (Step 3 onward)\n",
    "    - The structure is clean, standardized, and ready for quality filtering, labeling, and training preparation\n",
    "- Note: This notebook skips the Coswara raw extraction step to save time. To replicate results fully, download and extract the full dataset using the helper functions."
   ]
  },
  {
   "cell_type": "markdown",
   "metadata": {},
   "source": [
    "### 2.  (Skipped) Prepare Metadata / Labels (Coswara)"
   ]
  },
  {
   "cell_type": "markdown",
   "metadata": {
    "id": "z8ycl0gAGshX"
   },
   "source": [
    "- This step extracts and cleans the Coswara metadata to generate binary health labels aligned with available audio files, preparing the dataset for downstream machine learning.\n",
    "- Source:\n",
    "    - combined_data.csv — Main metadata file containing health labels\n",
    "    - cough-heavy.csv — Contains audio quality ratings for cough-heavy samples\n",
    "- Label processing pipeline:\n",
    "    - Filter by quality: Retain only samples with QUALITY ≥ 1 (moderate or excellent)\n",
    "    - Filter by health label: Map Coswara's covid_status field into binary format:\n",
    "        - -healthy → 1 (Healthy)\n",
    "        - positive_mild, positive_moderate, resp_illness_not_identified → 0 (Not Healthy)\n",
    "- Match and retain only audio files:\n",
    "    - Only keep samples where a corresponding *_cough-heavy.wav file exists\n",
    "    - Removes _cough-heavy suffix to standardize filenames\n",
    "- Accompanying helper file: step2_prepare_metadata.py\n",
    "- Note: This notebook skips the metadata processing step for brevity. To reproduce the label CSV from raw metadata and quality ratings, run the helper script separately."
   ]
  },
  {
   "cell_type": "code",
   "execution_count": null,
   "metadata": {},
   "outputs": [],
   "source": [
    "import pandas as pd\n",
    "\n",
    "# Import helper functions from step2_prepare_metadata.py\n",
    "from step2_prepare_metadata import (\n",
    "    load_raw_metadata,\n",
    "    filter_coswara_high_quality,\n",
    "    combine_coswara_labels,\n",
    "    match_coswara_ids_and_labels,\n",
    "    save_labels_csv\n",
    ")"
   ]
  },
  {
   "cell_type": "code",
   "execution_count": null,
   "metadata": {},
   "outputs": [],
   "source": [
    "# Load the full metadata CSV file with all ids and columns\n",
    "metadata_csv_path = \"/content/drive/MyDrive/AML/Data/dataset3_coswara/combined_data.csv\"\n",
    "\n",
    "# Load the second metadata CSV file with only the ids and the quality rating of 0-2\n",
    "# The aim is to keep quality 1 and 2, and then match it with the first metadata CSV file\n",
    "quality_csv_path = \"/content/drive/MyDrive/AML/Data/dataset3_coswara/cough-heavy.csv\"\n",
    "\n",
    "# This is the directory where the extracted heavy cough files are located\n",
    "extracted_data_heavy_dir = \"/content/drive/MyDrive/AML/Data/dataset3_coswara/extracted_coswara_data_heavy_cough\"\n",
    "\n",
    "# This is the directory where the csv with the quality file ids and accompanying label will be saved\n",
    "output_label_csv = \"/content/drive/MyDrive/AML/Data/dataset3_coswara/data_labels_coswara.csv\""
   ]
  },
  {
   "cell_type": "code",
   "execution_count": null,
   "metadata": {},
   "outputs": [],
   "source": [
    "## Load metadata and quality CSV files\n",
    "df_metadata = load_raw_metadata(metadata_csv_path)\n",
    "df_quality = load_raw_metadata(quality_csv_path)\n",
    "\n",
    "# Filter the quality dataframe to keep only the ids with quality 1 and 2\n",
    "# The quality column is named \"QUALITY\" in the quality CSV file\n",
    "clean_ids = filter_coswara_high_quality(df_quality, quality_column=\"QUALITY\", min_quality=1)\n",
    "\n",
    "# Convert the health_status to binary labels\n",
    "df_labeled = combine_coswara_labels(df_metadata)\n",
    "\n",
    "# Keep only the ids that are in the quality dataframe\n",
    "df_final = match_coswara_ids_and_labels(clean_ids, df_labeled)"
   ]
  },
  {
   "cell_type": "code",
   "execution_count": null,
   "metadata": {},
   "outputs": [],
   "source": [
    "# Save the final dataframe to a CSV file\n",
    "save_labels_csv(df_final, output_label_csv)\n",
    "\n",
    "# Print the shape of the final dataframe and the first few rows\n",
    "print(\"\\n Cleaned Coswara label CSV created!\")\n",
    "print(f\"Shape: {df_final.shape}\")\n",
    "print(df_final.head())"
   ]
  },
  {
   "cell_type": "markdown",
   "metadata": {},
   "source": [
    "Expected Output:\n",
    "- A cleaned label CSV file, typically named data_labels_coswara.csv, with the following structure:\n",
    "- Columns:\n",
    "    - id: Unique audio file identifier (without _cough-heavy)\n",
    "    - health_status: Binary label\n",
    "        - 1 = Healthy (covid_status == healthy)\n",
    "        - 0 = Not Healthy (covid_status == positive_mild, positive_moderate, or resp_illness_not_identified)\n",
    "- Filters Applied:\n",
    "    - QUALITY ≥ 1 in annotations/cough-heavy.csv\n",
    "    - Valid covid_status field\n",
    "    - Must have matching *_cough-heavy.wav audio file in the extracted dataset\n",
    "- Purpose:\n",
    "    - Serves as the ground truth for Coswara dataset\n",
    "    - Enables downstream steps like:\n",
    "        - Audio file selection\n",
    "        - Conversion and cleaning\n",
    "        - Train/test split\n",
    "        - Modeling\n",
    "- Note:\n",
    "    - Audio files and metadata must be properly extracted beforehand using step1_get_zip.py and organized into a flat directory (e.g., Extracted_data_heavy_cough/)\n",
    "    - This notebook skips the raw extraction step because audio files were pre-prepared. To reproduce the dataset from scratch, run the helper script manually in Colab or locally"
   ]
  },
  {
   "cell_type": "markdown",
   "metadata": {},
   "source": [
    "### 3. Convert and Copy Raw Audio"
   ]
  },
  {
   "cell_type": "markdown",
   "metadata": {},
   "source": [
    "- This step uses a list of valid audio sample IDs (from a label CSV) to locate and copy the corresponding .wav files from the Coswara dataset.\n",
    "- The Coswara dataset contains cough-heavy .wav recordings that were already flattened and renamed (e.g., after running consolidate_coswara_heavy_cough_files() from step1_get_zip.py).\n",
    "- What the step does:\n",
    "    - Uses file IDs from a label CSV (e.g., data_labels_coswara.csv)\n",
    "        - Automatically detects common ID column names such as id, filename, file_id, etc.\n",
    "        - Removes any extensions from the CSV column to ensure consistent matching\n",
    "    - Searches for .wav files in a flat folder (e.g., Extracted_data_heavy_cough/)\n",
    "        - Matches based on cleaned IDs\n",
    "        - Copies matching files to a new destination folder\n",
    "    - Skips conversion (unlike CoughVid) because Coswara files are already in .wav format\n",
    "- Key features:\n",
    "    - Expects input audio directory to contain only .wav files\n",
    "    - Final output directory contains only valid .wav files that match the label CSV\n",
    "    - Logs:\n",
    "        - Number of files successfully copied\n",
    "        - Number of files missing (in label CSV but not found)\n",
    "        - Total files in the output directory after completion\n",
    "- Accompanying helper file: step3_select_audio.py"
   ]
  },
  {
   "cell_type": "code",
   "execution_count": null,
   "metadata": {
    "colab": {
     "base_uri": "https://localhost:8080/"
    },
    "executionInfo": {
     "elapsed": 4330,
     "status": "ok",
     "timestamp": 1743173709935,
     "user": {
      "displayName": "S L",
      "userId": "12084752779565483850"
     },
     "user_tz": -480
    },
    "id": "u3ft8GznIxmZ",
    "outputId": "4c09fae8-f388-48d4-b089-566da1f43685"
   },
   "outputs": [
    {
     "name": "stdout",
     "output_type": "stream",
     "text": [
      "Collecting pydub\n",
      "  Downloading pydub-0.25.1-py2.py3-none-any.whl.metadata (1.4 kB)\n",
      "Downloading pydub-0.25.1-py2.py3-none-any.whl (32 kB)\n",
      "Installing collected packages: pydub\n",
      "Successfully installed pydub-0.25.1\n"
     ]
    }
   ],
   "source": [
    "# Importing pydub for audio processing\n",
    "# The pydub library is used to manipulate audio files in Python\n",
    "!pip install pydub"
   ]
  },
  {
   "cell_type": "code",
   "execution_count": null,
   "metadata": {
    "colab": {
     "base_uri": "https://localhost:8080/"
    },
    "executionInfo": {
     "elapsed": 39306,
     "status": "ok",
     "timestamp": 1743173750594,
     "user": {
      "displayName": "S L",
      "userId": "12084752779565483850"
     },
     "user_tz": -480
    },
    "id": "zUcfKffbGnB6",
    "outputId": "805b0edc-29e0-454a-a5e7-1ce0ef13aab8"
   },
   "outputs": [
    {
     "name": "stdout",
     "output_type": "stream",
     "text": [
      "Loaded 50 entries from /content/drive/MyDrive/AML/Dataprep/test_coswara_dataprep_for_github/fortest_raw_data_labels_coswara.csv using column 'filename'\n",
      "Normalized IDs to match (first 10): ['ufbbyfi86lboksyv5dr9yitevk33', 'uromfqx32tsg2yesjogxsgr6c453', '6igaupmtp6ycmfo4g6qp9cj8t1k1', 'a86p7j0zqccywzycvzsunfddrav2', 'runavfvjilh22wd0dbl3tejgmmi3', 'hnaguehl2nh7v89at3yfejqyo6c2', 'j8snvevnx8arljdpnd9ngjl7mld3', 'e7jbcb0t95rkrfqcew31kafl19w1', 'qhdzoe4ryxmbsgpxu7dad9egats2', 'uvq8rnpqiybvauvpi1ugyijzmqz2']\n",
      "Available audio files: 50\n",
      "[COPIED] UFBBYFI86LbokSYv5Dr9yITeVk33.wav → /content/drive/MyDrive/AML/Dataprep/test_coswara_dataprep_for_github/fortest_coswara_raw_converted\n",
      "[COPIED] urOmfQX32TSg2YESJOgXsgR6c453.wav → /content/drive/MyDrive/AML/Dataprep/test_coswara_dataprep_for_github/fortest_coswara_raw_converted\n",
      "[COPIED] 6igAuPMTp6YCmFo4g6qp9Cj8t1k1.wav → /content/drive/MyDrive/AML/Dataprep/test_coswara_dataprep_for_github/fortest_coswara_raw_converted\n",
      "[COPIED] a86P7j0ZQccywZYCvzsunFdDRaV2.wav → /content/drive/MyDrive/AML/Dataprep/test_coswara_dataprep_for_github/fortest_coswara_raw_converted\n",
      "[COPIED] RUnaVFVJiLh22WD0dBl3TeJgmMI3.wav → /content/drive/MyDrive/AML/Dataprep/test_coswara_dataprep_for_github/fortest_coswara_raw_converted\n",
      "[COPIED] hNAGUEhL2Nh7V89at3yFEjQYo6c2.wav → /content/drive/MyDrive/AML/Dataprep/test_coswara_dataprep_for_github/fortest_coswara_raw_converted\n",
      "[COPIED] j8snVeVNX8arLjDPnD9NGjL7MLD3.wav → /content/drive/MyDrive/AML/Dataprep/test_coswara_dataprep_for_github/fortest_coswara_raw_converted\n",
      "[COPIED] e7JBCb0T95RkRfQCew31KafL19w1.wav → /content/drive/MyDrive/AML/Dataprep/test_coswara_dataprep_for_github/fortest_coswara_raw_converted\n",
      "[COPIED] QHDZOE4ryxMbsGpXU7Dad9egAts2.wav → /content/drive/MyDrive/AML/Dataprep/test_coswara_dataprep_for_github/fortest_coswara_raw_converted\n",
      "[COPIED] UVQ8rnPQiYbVAuvPI1uGYIJZmQZ2.wav → /content/drive/MyDrive/AML/Dataprep/test_coswara_dataprep_for_github/fortest_coswara_raw_converted\n",
      "[COPIED] LasObOSE2kQYWhWkA7WimXxhwUE2.wav → /content/drive/MyDrive/AML/Dataprep/test_coswara_dataprep_for_github/fortest_coswara_raw_converted\n",
      "[COPIED] nsmJcSu7zRYegSynfe707MwRpjp2.wav → /content/drive/MyDrive/AML/Dataprep/test_coswara_dataprep_for_github/fortest_coswara_raw_converted\n",
      "[COPIED] sUvE80s6vsOdjqAo5mnubdliqrW2.wav → /content/drive/MyDrive/AML/Dataprep/test_coswara_dataprep_for_github/fortest_coswara_raw_converted\n",
      "[COPIED] TyKZXsSHoMO2h8aqmLNlpaU2FZ72.wav → /content/drive/MyDrive/AML/Dataprep/test_coswara_dataprep_for_github/fortest_coswara_raw_converted\n",
      "[COPIED] RWVBQjQlHLbBjLazMN8hV2qZVx83.wav → /content/drive/MyDrive/AML/Dataprep/test_coswara_dataprep_for_github/fortest_coswara_raw_converted\n",
      "[COPIED] Z8ulmLPAsmhYfYuqUAmm6aGy5r53.wav → /content/drive/MyDrive/AML/Dataprep/test_coswara_dataprep_for_github/fortest_coswara_raw_converted\n",
      "[COPIED] BPQxhBSlypXZICqfsmZcUYBxFmz1.wav → /content/drive/MyDrive/AML/Dataprep/test_coswara_dataprep_for_github/fortest_coswara_raw_converted\n",
      "[COPIED] VIwLkfXABpMzGPytKFH7tdpEZZ12.wav → /content/drive/MyDrive/AML/Dataprep/test_coswara_dataprep_for_github/fortest_coswara_raw_converted\n",
      "[COPIED] 2p5hBaoMtUZmVVEH3uJLvGbe9cB3.wav → /content/drive/MyDrive/AML/Dataprep/test_coswara_dataprep_for_github/fortest_coswara_raw_converted\n",
      "[COPIED] uZjB5Oxr9zS4xZn8rq5ubyAp17A2.wav → /content/drive/MyDrive/AML/Dataprep/test_coswara_dataprep_for_github/fortest_coswara_raw_converted\n",
      "[COPIED] 8t3IFTtBOVOtvpX9aX2vryuhSaG2.wav → /content/drive/MyDrive/AML/Dataprep/test_coswara_dataprep_for_github/fortest_coswara_raw_converted\n",
      "[COPIED] rB4ewmXSc9P5IPhLffnBasjYU1s2.wav → /content/drive/MyDrive/AML/Dataprep/test_coswara_dataprep_for_github/fortest_coswara_raw_converted\n",
      "[COPIED] OllJVQmVKDgnUjNCKFCP0tPlQU03.wav → /content/drive/MyDrive/AML/Dataprep/test_coswara_dataprep_for_github/fortest_coswara_raw_converted\n",
      "[COPIED] m6UxfLHv0nWKNqMZP2uNiGzXgKh2.wav → /content/drive/MyDrive/AML/Dataprep/test_coswara_dataprep_for_github/fortest_coswara_raw_converted\n",
      "[COPIED] RRoXAgdrSQTjklsyo44o2SqzdoG2.wav → /content/drive/MyDrive/AML/Dataprep/test_coswara_dataprep_for_github/fortest_coswara_raw_converted\n",
      "[COPIED] 2csA9O1LIDQd55vbgSb3Nbva2UE3.wav → /content/drive/MyDrive/AML/Dataprep/test_coswara_dataprep_for_github/fortest_coswara_raw_converted\n",
      "[COPIED] W42AKc6SZlNz1NOBAJrCpa3Io0E2.wav → /content/drive/MyDrive/AML/Dataprep/test_coswara_dataprep_for_github/fortest_coswara_raw_converted\n",
      "[COPIED] VB3X18XtrRdSVJ8zDzdyKohlX2F2.wav → /content/drive/MyDrive/AML/Dataprep/test_coswara_dataprep_for_github/fortest_coswara_raw_converted\n",
      "[COPIED] tkr2LeHuJyNXW3uM4NUZBmp1qIb2.wav → /content/drive/MyDrive/AML/Dataprep/test_coswara_dataprep_for_github/fortest_coswara_raw_converted\n",
      "[COPIED] xheyhxTtPHMng1BLZoH0b9jgDZ52.wav → /content/drive/MyDrive/AML/Dataprep/test_coswara_dataprep_for_github/fortest_coswara_raw_converted\n",
      "[COPIED] iaLzL5BAVHXg0Ng0Phw6WMZHEkg2.wav → /content/drive/MyDrive/AML/Dataprep/test_coswara_dataprep_for_github/fortest_coswara_raw_converted\n",
      "[COPIED] IHOunHyVaoO7AR6Z0QJgIa31BvS2.wav → /content/drive/MyDrive/AML/Dataprep/test_coswara_dataprep_for_github/fortest_coswara_raw_converted\n",
      "[COPIED] z3dpsRp0YuPntedc6sgMaRfW04t2.wav → /content/drive/MyDrive/AML/Dataprep/test_coswara_dataprep_for_github/fortest_coswara_raw_converted\n",
      "[COPIED] y6VWQQ5bW0drHBBQ74CmfwHniKo2.wav → /content/drive/MyDrive/AML/Dataprep/test_coswara_dataprep_for_github/fortest_coswara_raw_converted\n",
      "[COPIED] FYXJ3Brvf1Wi8YdILInJ19dSiJM2.wav → /content/drive/MyDrive/AML/Dataprep/test_coswara_dataprep_for_github/fortest_coswara_raw_converted\n",
      "[COPIED] lA0B2Fks6UMfTDPTAuyJXmZOHuo2.wav → /content/drive/MyDrive/AML/Dataprep/test_coswara_dataprep_for_github/fortest_coswara_raw_converted\n",
      "[COPIED] 4pSWWWdAaUd7s2dh6eXaaXeSLIO2.wav → /content/drive/MyDrive/AML/Dataprep/test_coswara_dataprep_for_github/fortest_coswara_raw_converted\n",
      "[COPIED] fYwrpxbyuVeCaIFAST2XCi5HALv1.wav → /content/drive/MyDrive/AML/Dataprep/test_coswara_dataprep_for_github/fortest_coswara_raw_converted\n",
      "[COPIED] 5FnTn9FS7uUjXCbNzKuQY28pI3G2.wav → /content/drive/MyDrive/AML/Dataprep/test_coswara_dataprep_for_github/fortest_coswara_raw_converted\n",
      "[COPIED] 5ulPmiY2NpQMXjnjn5w8unXOOnl2.wav → /content/drive/MyDrive/AML/Dataprep/test_coswara_dataprep_for_github/fortest_coswara_raw_converted\n",
      "[COPIED] 31euepHD0deCxTd2nJ1wzXCk5EF3.wav → /content/drive/MyDrive/AML/Dataprep/test_coswara_dataprep_for_github/fortest_coswara_raw_converted\n",
      "[COPIED] RHVaEkR1YzMXV33Bl1ScXlpBkpA3.wav → /content/drive/MyDrive/AML/Dataprep/test_coswara_dataprep_for_github/fortest_coswara_raw_converted\n",
      "[COPIED] 03TmwzsdEBVEh35MRMbC9d0NnfI3.wav → /content/drive/MyDrive/AML/Dataprep/test_coswara_dataprep_for_github/fortest_coswara_raw_converted\n",
      "[COPIED] DVdBgadmkvN8uJy0Q1kPTOBdUhu2.wav → /content/drive/MyDrive/AML/Dataprep/test_coswara_dataprep_for_github/fortest_coswara_raw_converted\n",
      "[COPIED] b9IWngCSM8Uyonr7cpuEfldIBXA2.wav → /content/drive/MyDrive/AML/Dataprep/test_coswara_dataprep_for_github/fortest_coswara_raw_converted\n",
      "[COPIED] 9W9lO1i6cAUZxsWDcnIOslZpR4j2.wav → /content/drive/MyDrive/AML/Dataprep/test_coswara_dataprep_for_github/fortest_coswara_raw_converted\n",
      "[COPIED] CTnnDvwNIYTb6tn1b3kX2rLYaiJ3.wav → /content/drive/MyDrive/AML/Dataprep/test_coswara_dataprep_for_github/fortest_coswara_raw_converted\n",
      "[COPIED] jbsPh0qE8Odkgiq5QSFkul82Vwo2.wav → /content/drive/MyDrive/AML/Dataprep/test_coswara_dataprep_for_github/fortest_coswara_raw_converted\n",
      "[COPIED] DRoZujDy6CWVFL0UefbHEgCcD2l2.wav → /content/drive/MyDrive/AML/Dataprep/test_coswara_dataprep_for_github/fortest_coswara_raw_converted\n",
      "[COPIED] 4SjSzRW7o2P3lHyxHBfNRfooMun2.wav → /content/drive/MyDrive/AML/Dataprep/test_coswara_dataprep_for_github/fortest_coswara_raw_converted\n",
      "\n",
      "✅ Completed copying:\n",
      "- Files copied: 50\n",
      "- Files missing: 0\n",
      "- Total .wav files now in /content/drive/MyDrive/AML/Dataprep/test_coswara_dataprep_for_github/fortest_coswara_raw_converted: 50\n"
     ]
    }
   ],
   "source": [
    "# Import custom functions for audio processing\n",
    "from step3_select_audio import load_label_csv, copy_and_convert_audio_files_coswara\n",
    "\n",
    "# Define the paths for audio conversion\n",
    "# Path to the CSV file with the labels and ids (output from the previous step)\n",
    "# Path to the directory with the raw audio files\n",
    "# Path to the directory where the converted audio files will be saved\n",
    "label_csv_path = \"/content/drive/MyDrive/AML/Dataprep/test_coswara_dataprep_for_github/fortest_raw_data_labels_coswara.csv\"\n",
    "raw_audio_dir = \"/content/drive/MyDrive/AML/Dataprep/test_coswara_dataprep_for_github/fortest_coswara_raw\"\n",
    "converted_audio_dir_audio_dir = \"/content/drive/MyDrive/AML/Dataprep/test_coswara_dataprep_for_github/fortest_coswara_raw_converted\"\n",
    "\n",
    "# Load the label CSV file\n",
    "# The CSV file contains the ids and labels for the audio files\n",
    "id_list = load_label_csv(label_csv_path)\n",
    "\n",
    "# The function will copy the audio files from the raw directory to the converted directory\n",
    "copy_and_convert_audio_files_coswara(id_list, source_dir=raw_audio_dir, dest_dir=converted_audio_dir_audio_dir)"
   ]
  },
  {
   "cell_type": "markdown",
   "metadata": {},
   "source": [
    "Expected Output:\n",
    "- A new folder (e.g., coswara_raw_converted/) containing only .wav audio files\n",
    "    - All filenames are simple and match the id values from the CSV (e.g., abcd1234.wav)\n",
    "- Processing log confirms:\n",
    "    - Number of .wav files copied\n",
    "    - Number of files missing (if any)\n",
    "    - Total .wav files present in the output folder\n",
    "- This folder is now clean and ready for:\n",
    "    - Audio denoising and preprocessing (Step 4)\n",
    "    - Train-test splitting (Step 5)\n",
    "    - Feeding into ML pipelines"
   ]
  },
  {
   "cell_type": "markdown",
   "metadata": {},
   "source": [
    "### 4. Process Audio Files"
   ]
  },
  {
   "cell_type": "markdown",
   "metadata": {},
   "source": [
    "- This step runs the Coswara audio files through a standard preprocessing pipeline to clean and normalize the data before model training.\n",
    "- The preprocessing includes:\n",
    "    - Loading audio and skipping very short clips (duration < 0.1 sec)\n",
    "    - Signal-to-noise ratio (SNR) filtering: skips noisy samples (SNR < 10 dB)\n",
    "    - Resampling to 12 kHz for consistency across all samples\n",
    "    - Noise reduction using a non-stationary algorithm (via noisereduce)\n",
    "    - Silence trimming from the start and end of the clip\n",
    "- Input files must be in .wav format and located in a flat directory (e.g., fortest_coswara_raw_converted/)\n",
    "- Processed files are saved to a clean output folder (e.g., fortest_coswara_processed/) with the same filename\n",
    "- Accompanying helper file: step4_process_audio.py\n",
    "- Note: This step ensures consistent format and quality for all audio samples before splitting and model training."
   ]
  },
  {
   "cell_type": "code",
   "execution_count": null,
   "metadata": {
    "colab": {
     "base_uri": "https://localhost:8080/"
    },
    "executionInfo": {
     "elapsed": 5858,
     "status": "ok",
     "timestamp": 1743174131756,
     "user": {
      "displayName": "S L",
      "userId": "12084752779565483850"
     },
     "user_tz": -480
    },
    "id": "tzacafkOQNdS",
    "outputId": "2da53172-6e0c-4a69-a929-3dff95b23cdb"
   },
   "outputs": [
    {
     "name": "stdout",
     "output_type": "stream",
     "text": [
      "Collecting noisereduce\n",
      "  Downloading noisereduce-3.0.3-py3-none-any.whl.metadata (14 kB)\n",
      "Requirement already satisfied: scipy in /usr/local/lib/python3.11/dist-packages (from noisereduce) (1.14.1)\n",
      "Requirement already satisfied: matplotlib in /usr/local/lib/python3.11/dist-packages (from noisereduce) (3.10.0)\n",
      "Requirement already satisfied: numpy in /usr/local/lib/python3.11/dist-packages (from noisereduce) (2.0.2)\n",
      "Requirement already satisfied: tqdm in /usr/local/lib/python3.11/dist-packages (from noisereduce) (4.67.1)\n",
      "Requirement already satisfied: joblib in /usr/local/lib/python3.11/dist-packages (from noisereduce) (1.4.2)\n",
      "Requirement already satisfied: contourpy>=1.0.1 in /usr/local/lib/python3.11/dist-packages (from matplotlib->noisereduce) (1.3.1)\n",
      "Requirement already satisfied: cycler>=0.10 in /usr/local/lib/python3.11/dist-packages (from matplotlib->noisereduce) (0.12.1)\n",
      "Requirement already satisfied: fonttools>=4.22.0 in /usr/local/lib/python3.11/dist-packages (from matplotlib->noisereduce) (4.56.0)\n",
      "Requirement already satisfied: kiwisolver>=1.3.1 in /usr/local/lib/python3.11/dist-packages (from matplotlib->noisereduce) (1.4.8)\n",
      "Requirement already satisfied: packaging>=20.0 in /usr/local/lib/python3.11/dist-packages (from matplotlib->noisereduce) (24.2)\n",
      "Requirement already satisfied: pillow>=8 in /usr/local/lib/python3.11/dist-packages (from matplotlib->noisereduce) (11.1.0)\n",
      "Requirement already satisfied: pyparsing>=2.3.1 in /usr/local/lib/python3.11/dist-packages (from matplotlib->noisereduce) (3.2.1)\n",
      "Requirement already satisfied: python-dateutil>=2.7 in /usr/local/lib/python3.11/dist-packages (from matplotlib->noisereduce) (2.8.2)\n",
      "Requirement already satisfied: six>=1.5 in /usr/local/lib/python3.11/dist-packages (from python-dateutil>=2.7->matplotlib->noisereduce) (1.17.0)\n",
      "Downloading noisereduce-3.0.3-py3-none-any.whl (22 kB)\n",
      "Installing collected packages: noisereduce\n",
      "Successfully installed noisereduce-3.0.3\n"
     ]
    }
   ],
   "source": [
    "# Importing the function to reduce noise in the processing\n",
    "!pip install noisereduce"
   ]
  },
  {
   "cell_type": "code",
   "execution_count": null,
   "metadata": {
    "colab": {
     "base_uri": "https://localhost:8080/"
    },
    "executionInfo": {
     "elapsed": 60842,
     "status": "ok",
     "timestamp": 1743174192603,
     "user": {
      "displayName": "S L",
      "userId": "12084752779565483850"
     },
     "user_tz": -480
    },
    "id": "r9CrjGOLIvjy",
    "outputId": "0787f584-d12a-4322-9bbc-98cf4ee738a6"
   },
   "outputs": [
    {
     "name": "stdout",
     "output_type": "stream",
     "text": [
      "Saved: /content/drive/MyDrive/AML/Dataprep/test_coswara_dataprep_for_github/fortest_coswara_processed/8t3IFTtBOVOtvpX9aX2vryuhSaG2.wav\n",
      "Saved: /content/drive/MyDrive/AML/Dataprep/test_coswara_dataprep_for_github/fortest_coswara_processed/6igAuPMTp6YCmFo4g6qp9Cj8t1k1.wav\n",
      "Saved: /content/drive/MyDrive/AML/Dataprep/test_coswara_dataprep_for_github/fortest_coswara_processed/VB3X18XtrRdSVJ8zDzdyKohlX2F2.wav\n",
      "Saved: /content/drive/MyDrive/AML/Dataprep/test_coswara_dataprep_for_github/fortest_coswara_processed/5FnTn9FS7uUjXCbNzKuQY28pI3G2.wav\n",
      "Saved: /content/drive/MyDrive/AML/Dataprep/test_coswara_dataprep_for_github/fortest_coswara_processed/tkr2LeHuJyNXW3uM4NUZBmp1qIb2.wav\n",
      "Saved: /content/drive/MyDrive/AML/Dataprep/test_coswara_dataprep_for_github/fortest_coswara_processed/QHDZOE4ryxMbsGpXU7Dad9egAts2.wav\n",
      "Saved: /content/drive/MyDrive/AML/Dataprep/test_coswara_dataprep_for_github/fortest_coswara_processed/TyKZXsSHoMO2h8aqmLNlpaU2FZ72.wav\n",
      "Saved: /content/drive/MyDrive/AML/Dataprep/test_coswara_dataprep_for_github/fortest_coswara_processed/4pSWWWdAaUd7s2dh6eXaaXeSLIO2.wav\n",
      "Saved: /content/drive/MyDrive/AML/Dataprep/test_coswara_dataprep_for_github/fortest_coswara_processed/BPQxhBSlypXZICqfsmZcUYBxFmz1.wav\n",
      "Saved: /content/drive/MyDrive/AML/Dataprep/test_coswara_dataprep_for_github/fortest_coswara_processed/FYXJ3Brvf1Wi8YdILInJ19dSiJM2.wav\n",
      "Saved: /content/drive/MyDrive/AML/Dataprep/test_coswara_dataprep_for_github/fortest_coswara_processed/fYwrpxbyuVeCaIFAST2XCi5HALv1.wav\n",
      "Saved: /content/drive/MyDrive/AML/Dataprep/test_coswara_dataprep_for_github/fortest_coswara_processed/sUvE80s6vsOdjqAo5mnubdliqrW2.wav\n",
      "Saved: /content/drive/MyDrive/AML/Dataprep/test_coswara_dataprep_for_github/fortest_coswara_processed/5ulPmiY2NpQMXjnjn5w8unXOOnl2.wav\n",
      "Saved: /content/drive/MyDrive/AML/Dataprep/test_coswara_dataprep_for_github/fortest_coswara_processed/uZjB5Oxr9zS4xZn8rq5ubyAp17A2.wav\n",
      "Saved: /content/drive/MyDrive/AML/Dataprep/test_coswara_dataprep_for_github/fortest_coswara_processed/z3dpsRp0YuPntedc6sgMaRfW04t2.wav\n",
      "Saved: /content/drive/MyDrive/AML/Dataprep/test_coswara_dataprep_for_github/fortest_coswara_processed/nsmJcSu7zRYegSynfe707MwRpjp2.wav\n",
      "Saved: /content/drive/MyDrive/AML/Dataprep/test_coswara_dataprep_for_github/fortest_coswara_processed/xheyhxTtPHMng1BLZoH0b9jgDZ52.wav\n",
      "Saved: /content/drive/MyDrive/AML/Dataprep/test_coswara_dataprep_for_github/fortest_coswara_processed/9W9lO1i6cAUZxsWDcnIOslZpR4j2.wav\n",
      "Saved: /content/drive/MyDrive/AML/Dataprep/test_coswara_dataprep_for_github/fortest_coswara_processed/a86P7j0ZQccywZYCvzsunFdDRaV2.wav\n",
      "Saved: /content/drive/MyDrive/AML/Dataprep/test_coswara_dataprep_for_github/fortest_coswara_processed/CTnnDvwNIYTb6tn1b3kX2rLYaiJ3.wav\n",
      "Saved: /content/drive/MyDrive/AML/Dataprep/test_coswara_dataprep_for_github/fortest_coswara_processed/2csA9O1LIDQd55vbgSb3Nbva2UE3.wav\n",
      "Saved: /content/drive/MyDrive/AML/Dataprep/test_coswara_dataprep_for_github/fortest_coswara_processed/m6UxfLHv0nWKNqMZP2uNiGzXgKh2.wav\n",
      "Saved: /content/drive/MyDrive/AML/Dataprep/test_coswara_dataprep_for_github/fortest_coswara_processed/RHVaEkR1YzMXV33Bl1ScXlpBkpA3.wav\n",
      "Saved: /content/drive/MyDrive/AML/Dataprep/test_coswara_dataprep_for_github/fortest_coswara_processed/DVdBgadmkvN8uJy0Q1kPTOBdUhu2.wav\n",
      "Saved: /content/drive/MyDrive/AML/Dataprep/test_coswara_dataprep_for_github/fortest_coswara_processed/OllJVQmVKDgnUjNCKFCP0tPlQU03.wav\n",
      "Saved: /content/drive/MyDrive/AML/Dataprep/test_coswara_dataprep_for_github/fortest_coswara_processed/lA0B2Fks6UMfTDPTAuyJXmZOHuo2.wav\n",
      "Saved: /content/drive/MyDrive/AML/Dataprep/test_coswara_dataprep_for_github/fortest_coswara_processed/03TmwzsdEBVEh35MRMbC9d0NnfI3.wav\n",
      "Saved: /content/drive/MyDrive/AML/Dataprep/test_coswara_dataprep_for_github/fortest_coswara_processed/rB4ewmXSc9P5IPhLffnBasjYU1s2.wav\n",
      "Saved: /content/drive/MyDrive/AML/Dataprep/test_coswara_dataprep_for_github/fortest_coswara_processed/RWVBQjQlHLbBjLazMN8hV2qZVx83.wav\n",
      "Saved: /content/drive/MyDrive/AML/Dataprep/test_coswara_dataprep_for_github/fortest_coswara_processed/UVQ8rnPQiYbVAuvPI1uGYIJZmQZ2.wav\n",
      "Saved: /content/drive/MyDrive/AML/Dataprep/test_coswara_dataprep_for_github/fortest_coswara_processed/IHOunHyVaoO7AR6Z0QJgIa31BvS2.wav\n",
      "Saved: /content/drive/MyDrive/AML/Dataprep/test_coswara_dataprep_for_github/fortest_coswara_processed/hNAGUEhL2Nh7V89at3yFEjQYo6c2.wav\n",
      "Saved: /content/drive/MyDrive/AML/Dataprep/test_coswara_dataprep_for_github/fortest_coswara_processed/b9IWngCSM8Uyonr7cpuEfldIBXA2.wav\n",
      "Saved: /content/drive/MyDrive/AML/Dataprep/test_coswara_dataprep_for_github/fortest_coswara_processed/Z8ulmLPAsmhYfYuqUAmm6aGy5r53.wav\n",
      "Saved: /content/drive/MyDrive/AML/Dataprep/test_coswara_dataprep_for_github/fortest_coswara_processed/LasObOSE2kQYWhWkA7WimXxhwUE2.wav\n",
      "Saved: /content/drive/MyDrive/AML/Dataprep/test_coswara_dataprep_for_github/fortest_coswara_processed/DRoZujDy6CWVFL0UefbHEgCcD2l2.wav\n",
      "Saved: /content/drive/MyDrive/AML/Dataprep/test_coswara_dataprep_for_github/fortest_coswara_processed/j8snVeVNX8arLjDPnD9NGjL7MLD3.wav\n",
      "Saved: /content/drive/MyDrive/AML/Dataprep/test_coswara_dataprep_for_github/fortest_coswara_processed/4SjSzRW7o2P3lHyxHBfNRfooMun2.wav\n",
      "Saved: /content/drive/MyDrive/AML/Dataprep/test_coswara_dataprep_for_github/fortest_coswara_processed/e7JBCb0T95RkRfQCew31KafL19w1.wav\n",
      "Saved: /content/drive/MyDrive/AML/Dataprep/test_coswara_dataprep_for_github/fortest_coswara_processed/y6VWQQ5bW0drHBBQ74CmfwHniKo2.wav\n",
      "Saved: /content/drive/MyDrive/AML/Dataprep/test_coswara_dataprep_for_github/fortest_coswara_processed/W42AKc6SZlNz1NOBAJrCpa3Io0E2.wav\n",
      "Saved: /content/drive/MyDrive/AML/Dataprep/test_coswara_dataprep_for_github/fortest_coswara_processed/UFBBYFI86LbokSYv5Dr9yITeVk33.wav\n",
      "Saved: /content/drive/MyDrive/AML/Dataprep/test_coswara_dataprep_for_github/fortest_coswara_processed/31euepHD0deCxTd2nJ1wzXCk5EF3.wav\n",
      "Saved: /content/drive/MyDrive/AML/Dataprep/test_coswara_dataprep_for_github/fortest_coswara_processed/2p5hBaoMtUZmVVEH3uJLvGbe9cB3.wav\n",
      "Saved: /content/drive/MyDrive/AML/Dataprep/test_coswara_dataprep_for_github/fortest_coswara_processed/urOmfQX32TSg2YESJOgXsgR6c453.wav\n",
      "Saved: /content/drive/MyDrive/AML/Dataprep/test_coswara_dataprep_for_github/fortest_coswara_processed/iaLzL5BAVHXg0Ng0Phw6WMZHEkg2.wav\n",
      "Saved: /content/drive/MyDrive/AML/Dataprep/test_coswara_dataprep_for_github/fortest_coswara_processed/VIwLkfXABpMzGPytKFH7tdpEZZ12.wav\n",
      "Saved: /content/drive/MyDrive/AML/Dataprep/test_coswara_dataprep_for_github/fortest_coswara_processed/RRoXAgdrSQTjklsyo44o2SqzdoG2.wav\n",
      "Saved: /content/drive/MyDrive/AML/Dataprep/test_coswara_dataprep_for_github/fortest_coswara_processed/jbsPh0qE8Odkgiq5QSFkul82Vwo2.wav\n",
      "Saved: /content/drive/MyDrive/AML/Dataprep/test_coswara_dataprep_for_github/fortest_coswara_processed/RUnaVFVJiLh22WD0dBl3TeJgmMI3.wav\n",
      "\n",
      "Summary of Processing:\n",
      "- Total number of files in dataset: 50\n",
      "- Files attempted to process: 50\n",
      "- Files successfully saved: 50\n",
      "- Files not processed: 0\n"
     ]
    }
   ],
   "source": [
    "# Importing custom functions for audio processing\n",
    "from step4_process_audio import process_and_save_dataset\n",
    "\n",
    "# Define the paths for the input and output folders\n",
    "# The input folder contains the converted audio files\n",
    "# The output folder will contain the processed audio files\n",
    "input_folder = \"/content/drive/MyDrive/AML/Dataprep/test_coswara_dataprep_for_github/fortest_coswara_raw_converted\"\n",
    "output_folder = \"/content/drive/MyDrive/AML/Dataprep/test_coswara_dataprep_for_github/fortest_coswara_processed\"\n",
    "\n",
    "# Run the processing pipeline\n",
    "# The processed audio files will be saved in the output folder\n",
    "process_and_save_dataset(input_folder, output_folder)"
   ]
  },
  {
   "cell_type": "markdown",
   "metadata": {},
   "source": [
    "Expected Output:\n",
    "- A new folder named fortest_coswara_processed/ is created containing the cleaned audio files\n",
    "    - All files are in .wav format and resampled to 12,000 Hz\n",
    "    - Files have undergone SNR filtering, denoising, and silence trimming\n",
    "- Files skipped:\n",
    "    - Any file with SNR < 10 dB\n",
    "    - Any file that fails during loading or processing\n",
    "- Output logs:\n",
    "    - Total number of files attempted\n",
    "    - Number of files successfully saved\n",
    "    - Number of files skipped due to errors or low quality\n",
    "- Final processed dataset: Clean, consistent, and ready for train-test split and modeling"
   ]
  },
  {
   "cell_type": "markdown",
   "metadata": {},
   "source": [
    "### 5. Train-Test Split and Label Alignment"
   ]
  },
  {
   "cell_type": "markdown",
   "metadata": {
    "id": "WaN9EH-jRILv"
   },
   "source": [
    "- This step aligns the processed audio files with their corresponding binary labels and performs a stratified train-test split.\n",
    "- Pipeline steps:\n",
    "    - Label Matching: Filters the full label CSV to include only those entries that have a processed .wav file in the audio folder (e.g., fortest_coswara_processed/)\n",
    "        - ID column is auto-detected (e.g., filename, id, uuid)\n",
    "    - Label Saving: Saves a filtered label CSV (e.g., fortest_processed_data_labels_coswara.csv)\n",
    "    - Stratified Split: Ensures that the train and test sets preserve the original label distribution (balanced healthy vs not healthy)\n",
    "    - File Copying: Copies the actual .wav files into dedicated folders:\n",
    "        - fortest_coswara_train/ for training set (or whatever your dedicated folder is)\n",
    "        - fortest_coswara_test/ for test set (or whatever your dedicated folder is)\n",
    "- Accompanying helper file: step5_split_and_label.py"
   ]
  },
  {
   "cell_type": "code",
   "execution_count": 7,
   "metadata": {
    "colab": {
     "base_uri": "https://localhost:8080/"
    },
    "executionInfo": {
     "elapsed": 1529,
     "status": "ok",
     "timestamp": 1743174271426,
     "user": {
      "displayName": "S L",
      "userId": "12084752779565483850"
     },
     "user_tz": -480
    },
    "id": "39a5LQ7eQL43",
    "outputId": "f903fb82-6eeb-42f7-fb00-742e4ef2433c"
   },
   "outputs": [
    {
     "name": "stdout",
     "output_type": "stream",
     "text": [
      "Found 50 processed audio files\n",
      "Detected ID column: 'filename'\n",
      "\n",
      "Summary of Label Distribution:\n",
      "- Matched Files: 50\n",
      "- Healthy: 25\n",
      "- Not Healthy: 25\n",
      "- New labels CSV saved to: /content/drive/MyDrive/AML/Dataprep/test_coswara_dataprep_for_github/fortest_processed_data_labels_coswara.csv\n",
      "Detected ID column: 'filename'\n",
      "\n",
      "Train-test split complete:\n",
      "- Train labels saved to: /content/drive/MyDrive/AML/Dataprep/test_coswara_dataprep_for_github/fortest_train_labels_coswara.csv (40 rows)\n",
      "- Test labels saved to: /content/drive/MyDrive/AML/Dataprep/test_coswara_dataprep_for_github/fortest_test_labels_coswara.csv (10 rows)\n",
      "Copied 40/40 files to /content/drive/MyDrive/AML/Dataprep/test_coswara_dataprep_for_github/fortest_coswara_train\n",
      "Copied 10/10 files to /content/drive/MyDrive/AML/Dataprep/test_coswara_dataprep_for_github/fortest_coswara_test\n",
      "\n",
      "Labeling and train/test split complete.\n",
      "Train audio files saved to: /content/drive/MyDrive/AML/Dataprep/test_coswara_dataprep_for_github/fortest_coswara_train\n",
      "Test audio files saved to: /content/drive/MyDrive/AML/Dataprep/test_coswara_dataprep_for_github/fortest_coswara_test\n"
     ]
    }
   ],
   "source": [
    "from step5_split_and_label import full_pipeline\n",
    "\n",
    "# --- Paths ---\n",
    "processed_audio_dir = \"/content/drive/MyDrive/AML/Dataprep/test_coswara_dataprep_for_github/fortest_coswara_processed\"\n",
    "\n",
    "original_labels_csv = \"/content/drive/MyDrive/AML/Dataprep/test_coswara_dataprep_for_github/fortest_raw_data_labels_coswara.csv\"\n",
    "output_labels_csv = \"/content/drive/MyDrive/AML/Dataprep/test_coswara_dataprep_for_github/fortest_processed_data_labels_coswara.csv\"\n",
    "\n",
    "train_csv_path = \"/content/drive/MyDrive/AML/Dataprep/test_coswara_dataprep_for_github/fortest_train_labels_coswara.csv\"\n",
    "test_csv_path = \"/content/drive/MyDrive/AML/Dataprep/test_coswara_dataprep_for_github/fortest_test_labels_coswara.csv\"\n",
    "\n",
    "train_folder = \"/content/drive/MyDrive/AML/Dataprep/test_coswara_dataprep_for_github/fortest_coswara_train\"\n",
    "test_folder = \"/content/drive/MyDrive/AML/Dataprep/test_coswara_dataprep_for_github/fortest_coswara_test\"\n",
    "\n",
    "# --- Run pipeline ---\n",
    "full_pipeline(\n",
    "    processed_audio_dir=processed_audio_dir,\n",
    "    original_labels_csv=original_labels_csv,\n",
    "    output_labels_csv=output_labels_csv,\n",
    "    train_folder=train_folder,\n",
    "    test_folder=test_folder,\n",
    "    train_csv_path=train_csv_path,\n",
    "    test_csv_path=test_csv_path,\n",
    "    id_column=None\n",
    ")"
   ]
  },
  {
   "cell_type": "markdown",
   "metadata": {},
   "source": [
    "Expected Output:\n",
    "- A new filtered label CSV (e.g., fortest_processed_data_labels_coswara.csv) with:\n",
    "    - Only entries that match existing processed .wav files\n",
    "    - Two columns: filename (or ID) and health_status\n",
    "- Stratified split of labels:\n",
    "    - Two separate CSVs:\n",
    "        - fortest_train_labels_coswara.csv (e.g., 40 entries)\n",
    "        - fortest_test_labels_coswara.csv (e.g., 10 entries)\n",
    "- Copied audio files:\n",
    "    - .wav files copied into:\n",
    "        - fortest_coswara_train/ for training\n",
    "        - fortest_coswara_test/ for testing\n",
    "- Summary output printed:\n",
    "    - Number of matched files\n",
    "    - Health label distribution\n",
    "    - Number of train/test files and their respective destinations\n",
    "- These outputs ensure:\n",
    "    - Clean, reproducible splits for model training and evaluation\n",
    "    - Audio files and labels are synchronized and properly organized"
   ]
  },
  {
   "cell_type": "markdown",
   "metadata": {},
   "source": [
    "### 6. Data Integrity Check"
   ]
  },
  {
   "cell_type": "markdown",
   "metadata": {
    "id": "pTjixyWsSVGA"
   },
   "source": [
    "- This step performs a thorough validation of the processed and split Coswara dataset to ensure everything aligns correctly for training and testing.\n",
    "- Pipeline operations:\n",
    "    - File Verification:\n",
    "        - Confirms the number of .wav files in train/test directories\n",
    "        - Prints sample filenames to confirm presence\n",
    "    - Label Validation:\n",
    "        - Auto-detects the correct ID column (e.g., filename)\n",
    "        - Ensures that each .wav file in the train/test folders has a corresponding label entry\n",
    "        - Checks for mismatch between file count and labels\n",
    "    - Distribution Check:\n",
    "        - Plots bar charts of health status (0 = Not Healthy, 1 = Healthy) for both train and test sets\n",
    "        - Confirms stratified label balance\n",
    "    - Audio File Inspection:\n",
    "        - Loads a few .wav files to confirm readability and inspect sample shapes\n",
    "        - Skips any unreadable or malformed audio files\n",
    "- Accompanying helper file: step6_check_dataset.py"
   ]
  },
  {
   "cell_type": "code",
   "execution_count": 8,
   "metadata": {
    "colab": {
     "base_uri": "https://localhost:8080/",
     "height": 1000
    },
    "executionInfo": {
     "elapsed": 1110,
     "status": "ok",
     "timestamp": 1743174409746,
     "user": {
      "displayName": "S L",
      "userId": "12084752779565483850"
     },
     "user_tz": -480
    },
    "id": "fQDCBsGoSHrK",
    "outputId": "5fed6c9b-c181-440e-b856-ce7cac70d145"
   },
   "outputs": [
    {
     "name": "stdout",
     "output_type": "stream",
     "text": [
      "Total Train Files: 40\n",
      "Sample Train Files: ['lA0B2Fks6UMfTDPTAuyJXmZOHuo2.wav', 'e7JBCb0T95RkRfQCew31KafL19w1.wav', 'nsmJcSu7zRYegSynfe707MwRpjp2.wav', 'tkr2LeHuJyNXW3uM4NUZBmp1qIb2.wav', 'W42AKc6SZlNz1NOBAJrCpa3Io0E2.wav', 'iaLzL5BAVHXg0Ng0Phw6WMZHEkg2.wav', 'UVQ8rnPQiYbVAuvPI1uGYIJZmQZ2.wav', '5ulPmiY2NpQMXjnjn5w8unXOOnl2.wav', '4SjSzRW7o2P3lHyxHBfNRfooMun2.wav', 'RRoXAgdrSQTjklsyo44o2SqzdoG2.wav']\n",
      "Total Test Files: 10\n",
      "Sample Test Files: ['y6VWQQ5bW0drHBBQ74CmfwHniKo2.wav', 'RWVBQjQlHLbBjLazMN8hV2qZVx83.wav', 'j8snVeVNX8arLjDPnD9NGjL7MLD3.wav', '31euepHD0deCxTd2nJ1wzXCk5EF3.wav', 'BPQxhBSlypXZICqfsmZcUYBxFmz1.wav', 'RHVaEkR1YzMXV33Bl1ScXlpBkpA3.wav', 'z3dpsRp0YuPntedc6sgMaRfW04t2.wav', 'fYwrpxbyuVeCaIFAST2XCi5HALv1.wav', '03TmwzsdEBVEh35MRMbC9d0NnfI3.wav', 'DVdBgadmkvN8uJy0Q1kPTOBdUhu2.wav']\n",
      "Detected ID column: 'filename'\n",
      "Unique health_status labels in training set: [0. 1.]\n",
      "Sample training labels: [('lA0B2Fks6UMfTDPTAuyJXmZOHuo2.wav', 0.0), ('e7JBCb0T95RkRfQCew31KafL19w1.wav', 0.0), ('nsmJcSu7zRYegSynfe707MwRpjp2.wav', 1.0), ('tkr2LeHuJyNXW3uM4NUZBmp1qIb2.wav', 1.0), ('W42AKc6SZlNz1NOBAJrCpa3Io0E2.wav', 0.0)]\n",
      "40 training files labeled correctly.\n",
      "Detected ID column: 'filename'\n",
      "Unique health_status labels in testing set: [0. 1.]\n",
      "Sample testing labels: [('y6VWQQ5bW0drHBBQ74CmfwHniKo2.wav', 0.0), ('RWVBQjQlHLbBjLazMN8hV2qZVx83.wav', 0.0), ('j8snVeVNX8arLjDPnD9NGjL7MLD3.wav', 0.0), ('31euepHD0deCxTd2nJ1wzXCk5EF3.wav', 0.0), ('BPQxhBSlypXZICqfsmZcUYBxFmz1.wav', 1.0)]\n",
      "10 testing files labeled correctly.\n",
      "Training labels match the number of training files.\n",
      "Testing labels match the number of testing files.\n"
     ]
    },
    {
     "data": {
      "image/png": "[encoded data removed]",
      "text/plain": [
       "<Figure size 600x400 with 1 Axes>"
      ]
     },
     "metadata": {},
     "output_type": "display_data"
    },
    {
     "data": {
      "image/png": "[encoded data removed]",
      "text/plain": [
       "<Figure size 600x400 with 1 Axes>"
      ]
     },
     "metadata": {},
     "output_type": "display_data"
    },
    {
     "name": "stdout",
     "output_type": "stream",
     "text": [
      "Skipped 0 files due to errors.\n",
      "Skipped 0 files due to errors.\n",
      "\n",
      "Training Data: 40 samples\n",
      "Test Data: 10 samples\n",
      "\n",
      "Sample training shapes:\n",
      "lA0B2Fks6UMfTDPTAuyJXmZOHuo2.wav: (67072,)\n",
      "e7JBCb0T95RkRfQCew31KafL19w1.wav: (66048,)\n",
      "nsmJcSu7zRYegSynfe707MwRpjp2.wav: (15360,)\n",
      "tkr2LeHuJyNXW3uM4NUZBmp1qIb2.wav: (32768,)\n",
      "W42AKc6SZlNz1NOBAJrCpa3Io0E2.wav: (34816,)\n",
      "\n",
      "Sample test shapes:\n",
      "y6VWQQ5bW0drHBBQ74CmfwHniKo2.wav: (68608,)\n",
      "RWVBQjQlHLbBjLazMN8hV2qZVx83.wav: (69632,)\n",
      "j8snVeVNX8arLjDPnD9NGjL7MLD3.wav: (57856,)\n",
      "31euepHD0deCxTd2nJ1wzXCk5EF3.wav: (17920,)\n",
      "BPQxhBSlypXZICqfsmZcUYBxFmz1.wav: (32768,)\n"
     ]
    }
   ],
   "source": [
    "from step6_check_dataset import run_check_pipeline\n",
    "\n",
    "# --- Paths ---\n",
    "train_csv_path = \"/content/drive/MyDrive/AML/Dataprep/test_coswara_dataprep_for_github/fortest_train_labels_coswara.csv\"\n",
    "test_csv_path = \"/content/drive/MyDrive/AML/Dataprep/test_coswara_dataprep_for_github/fortest_test_labels_coswara.csv\"\n",
    "\n",
    "train_folder = \"/content/drive/MyDrive/AML/Dataprep/test_coswara_dataprep_for_github/fortest_coswara_train\"\n",
    "test_folder = \"/content/drive/MyDrive/AML/Dataprep/test_coswara_dataprep_for_github/fortest_coswara_test\"\n",
    "\n",
    "# --- Run dataset check ---\n",
    "run_check_pipeline(\n",
    "    train_dir=train_folder,\n",
    "    test_dir=test_folder,\n",
    "    train_labels_path=train_csv_path,\n",
    "    test_labels_path=test_csv_path\n",
    ")"
   ]
  },
  {
   "cell_type": "markdown",
   "metadata": {},
   "source": [
    "Expected Output:\n",
    "- Console summary:\n",
    "    - Total number of train and test .wav files found\n",
    "    - Sample filenames printed from both sets\n",
    "    - Detected ID column (e.g., filename)\n",
    "    - Sample label pairs printed (filename + health_status)\n",
    "    - Confirmed that file counts match label counts (e.g., 40 train files, 10 test files)\n",
    "- Visual Output:\n",
    "    - Bar chart for Training Label Distribution: Shows number and percentage for each class (e.g., 50% healthy, 50% not healthy)\n",
    "    - Bar chart for Testing Label Distribution: Ensures balanced stratification across the test set\n",
    "- Data loading:\n",
    "    - Verifies that all .wav files can be loaded correctly using librosa\n",
    "    - Displays sample audio shapes for 5 training and 5 test files\n",
    "- Final outcome:\n",
    "    - Ensures that the processed Coswara dataset is clean, label-aligned, balanced, and ready for model training or evaluation"
   ]
  },
  {
   "cell_type": "markdown",
   "metadata": {},
   "source": []
  }
 ],
 "metadata": {
  "colab": {
   "authorship_tag": "ABX9TyNWcZ9tGSNDdi7N5Cqmtovo",
   "provenance": []
  },
  "kernelspec": {
   "display_name": "Python 3",
   "name": "python3"
  },
  "language_info": {
   "name": "python"
  }
 },
 "nbformat": 4,
 "nbformat_minor": 0
}
