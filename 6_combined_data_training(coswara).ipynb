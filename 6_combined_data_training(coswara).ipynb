{
  "nbformat": 4,
  "nbformat_minor": 0,
  "metadata": {
    "colab": {
      "provenance": [],
      "machine_shape": "hm"
    },
    "kernelspec": {
      "name": "python3",
      "display_name": "Python 3"
    },
    "language_info": {
      "name": "python"
    }
  },
  "cells": [
    {
      "cell_type": "markdown",
      "source": [
        "# Iterative Training on Coughvid + Coswara data (Part 1: independent)"
      ],
      "metadata": {
        "id": "9nJBiUeTvsjR"
      }
    },
    {
      "cell_type": "markdown",
      "source": [
        "## 1. Preparing the environment"
      ],
      "metadata": {
        "id": "WN4v-4TRwFqQ"
      }
    },
    {
      "cell_type": "markdown",
      "source": [
        "First, the colab is mounted onto the drive to access data"
      ],
      "metadata": {
        "id": "E0ftE-58vzMR"
      }
    },
    {
      "cell_type": "code",
      "execution_count": null,
      "metadata": {
        "colab": {
          "base_uri": "https://localhost:8080/"
        },
        "id": "pCa-RDfIvrMe",
        "outputId": "53a87aab-ae36-4855-9284-9ce93d1c5e14"
      },
      "outputs": [
        {
          "output_type": "stream",
          "name": "stdout",
          "text": [
            "Mounted at /content/drive\n"
          ]
        }
      ],
      "source": [
        "from google.colab import drive\n",
        "drive.mount('/content/drive', force_remount=True)"
      ]
    },
    {
      "cell_type": "markdown",
      "source": [
        "Libraries are imported for processing and training purpose"
      ],
      "metadata": {
        "id": "UQxQRfAKv_1N"
      }
    },
    {
      "cell_type": "code",
      "source": [
        "# File handling\n",
        "import os\n",
        "import pandas as pd"
      ],
      "metadata": {
        "id": "KcqxD2B6v_MM"
      },
      "execution_count": null,
      "outputs": []
    },
    {
      "cell_type": "code",
      "source": [
        "# Audio data handling\n",
        "import librosa\n",
        "import librosa.util\n",
        "import numpy as np"
      ],
      "metadata": {
        "id": "rh3Dx_cTwPq4"
      },
      "execution_count": null,
      "outputs": []
    },
    {
      "cell_type": "code",
      "source": [
        "# Machinelearning\n",
        "# scikit learn\n",
        "from sklearn.model_selection import train_test_split\n",
        "from sklearn.metrics import confusion_matrix, classification_report\n",
        "\n",
        "# tensor flow\n",
        "from tensorflow.keras.models import Sequential, Model\n",
        "from tensorflow.keras.layers import Conv2D, MaxPooling2D, Flatten, Dense, Dropout, BatchNormalization, LSTM, Reshape, Bidirectional, Input, Concatenate, Multiply\n",
        "from tensorflow.keras.optimizers import Adam,RMSprop\n",
        "from tensorflow.keras.callbacks import EarlyStopping, ReduceLROnPlateau\n",
        "from tensorflow.keras import applications\n",
        "\n",
        "from tensorflow_hub import KerasLayer\n",
        "\n",
        "# Regularization\n",
        "from tensorflow.keras.regularizers import l2\n",
        "\n",
        "# Metrics\n",
        "from tensorflow.keras.metrics import Precision, Recall, AUC"
      ],
      "metadata": {
        "id": "SDJcei2BHlw1"
      },
      "execution_count": null,
      "outputs": []
    },
    {
      "cell_type": "code",
      "source": [
        "# Visualisation\n",
        "import matplotlib.pyplot as plt\n",
        "import seaborn as sns"
      ],
      "metadata": {
        "id": "xW50PTr0zU1I"
      },
      "execution_count": null,
      "outputs": []
    },
    {
      "cell_type": "code",
      "source": [
        "# !nvidia-smi"
      ],
      "metadata": {
        "id": "2Hxjrs0VMvsN"
      },
      "execution_count": null,
      "outputs": []
    },
    {
      "cell_type": "code",
      "source": [
        "# # run this to clear GPU memory if needed\n",
        "# import torch\n",
        "# torch.cuda.empty_cache()\n",
        "\n",
        "# import tensorflow as tf\n",
        "# tf.keras.backend.clear_session()"
      ],
      "metadata": {
        "id": "nJlrgRJXMxPL"
      },
      "execution_count": null,
      "outputs": []
    },
    {
      "cell_type": "markdown",
      "source": [
        "## 2. Data preparation"
      ],
      "metadata": {
        "id": "SXn9uamPwqYf"
      }
    },
    {
      "cell_type": "markdown",
      "source": [
        "You should only use the training and testing folder"
      ],
      "metadata": {
        "id": "YhQ6X8ZexJ2F"
      }
    },
    {
      "cell_type": "code",
      "source": [
        "# check and verify the folders to access the data prepared earlier\n",
        "metadata_path = \"/content/drive/My Drive/AML/Data/dataset5_combined_coughvid_coswara/\" # update this to local version\n",
        "print(os.listdir(metadata_path))"
      ],
      "metadata": {
        "colab": {
          "base_uri": "https://localhost:8080/"
        },
        "id": "S17szupFwhxI",
        "outputId": "92779b0b-fa89-45b5-abcd-734d4ff6d857"
      },
      "execution_count": null,
      "outputs": [
        {
          "output_type": "stream",
          "name": "stdout",
          "text": [
            "['labels', 'combined_train_16mar', 'combined_test_16mar']\n"
          ]
        }
      ]
    },
    {
      "cell_type": "markdown",
      "source": [
        "Specify the training and testing file folder (loading file names)"
      ],
      "metadata": {
        "id": "fww7WT4PxeT4"
      }
    },
    {
      "cell_type": "code",
      "source": [
        "# for standarising in all sub-datasets, a function is used\n",
        "def list_files(directory, label):\n",
        "    files_list = os.listdir(directory)\n",
        "    total_files = len(files_list)\n",
        "    sample_files = files_list[:10]\n",
        "    print(f\"Total {label} Files: {total_files}\")\n",
        "    print(f\"Sample {label} Files:\", sample_files)\n",
        "    return total_files"
      ],
      "metadata": {
        "id": "gkiDLrjgxgDf"
      },
      "execution_count": null,
      "outputs": []
    },
    {
      "cell_type": "code",
      "source": [
        "# Show distribution of labels\n",
        "def plot_distribution(counts, labels, title):\n",
        "    total = sum(counts)\n",
        "    percentages = [(count / total) * 100 for count in counts]\n",
        "\n",
        "    plt.figure(figsize=(6,4))\n",
        "    bars = plt.bar(labels, counts, color=['lightblue', 'orange'])\n",
        "    plt.xlabel(\"Dataset Type\")\n",
        "    plt.ylabel(\"Number of Files\")\n",
        "    plt.title(title)\n",
        "\n",
        "    for bar, percentage in zip(bars, percentages):\n",
        "        plt.text(bar.get_x() + bar.get_width()/2, 10, f'{percentage:.1f}%',\n",
        "                 ha='center', va='bottom', fontsize=12, fontweight='bold')\n",
        "\n",
        "    plt.show()"
      ],
      "metadata": {
        "id": "Wns2u6lZzrdy"
      },
      "execution_count": null,
      "outputs": []
    },
    {
      "cell_type": "code",
      "source": [
        "train_dir = os.path.join(metadata_path, 'combined_train_16mar') # use training folder specified above\n",
        "test_dir = os.path.join(metadata_path, 'combined_test_16mar') # use test folder specified above\n",
        "\n",
        "# Process train and test directories\n",
        "total_train_files = list_files(train_dir, \"Train\")\n",
        "total_test_files = list_files(test_dir, \"Test\")"
      ],
      "metadata": {
        "colab": {
          "base_uri": "https://localhost:8080/"
        },
        "id": "6XPPXGMeyJCN",
        "outputId": "821e6912-9af9-47d0-c4aa-6cfff8736e81"
      },
      "execution_count": null,
      "outputs": [
        {
          "output_type": "stream",
          "name": "stdout",
          "text": [
            "Total Train Files: 2271\n",
            "Sample Train Files: ['53d69964-ae7d-4ccc-a297-91a9b21c772e.wav', '8b66adaa-ff22-45f1-b74e-9719c0d544f9.wav', '35ec6e33-eeeb-4734-9a52-c37a949e5443.wav', '90df4728-8750-4646-a0a4-027f2c9cd544.wav', '076f59de-0637-4ee1-951c-f2e0784e8a53.wav', '9a70cfcf-2df1-4bbc-aed8-aa9afa094a9f.wav', '1cc88f3a-3529-4cb8-a167-fc0cb5b0bfb6.wav', '3a325d6e-929d-48f4-b640-36e08fa37cf4.wav', '34b77763-a4a4-4beb-aeaa-02ef8298ef31.wav', '3b6a0157-04a2-46cd-b5a7-299595293a2d.wav']\n",
            "Total Test Files: 468\n",
            "Sample Test Files: ['4fa54167-06c6-485a-a7b5-4b3696aa1393.wav', 'ab2598a4-3781-40ae-b4f2-6d34abd2039d.wav', '39e4cc19-0db4-492a-b580-9fc4e4ab62ea.wav', '9f40d734-f22c-400f-abed-87c15bedc69c.wav', 'a08ada1f-32e6-40cf-9513-57cf411cf97d.wav', '69e7b5c5-0469-42dd-b68f-9a7f7637425b.wav', 'be920126-b1e2-4117-84e2-461b2230e46e.wav', 'd11e501c-6f48-4028-8198-9075c67ce238.wav', '37347587-048a-4a1c-a100-7cf820711428.wav', 'ae321315-0798-4b11-a088-a2acdd099ffc.wav']\n"
          ]
        }
      ]
    },
    {
      "cell_type": "code",
      "source": [
        "# Plot distribution\n",
        "plot_distribution([total_train_files, total_test_files], [\"Train\", \"Test\"], \"Distribution of Training and Testing Files\")"
      ],
      "metadata": {
        "colab": {
          "base_uri": "https://localhost:8080/",
          "height": 410
        },
        "id": "Tc2scggXy5PN",
        "outputId": "17113da2-f47d-422b-b60f-cf4a15e4fd71"
      },
      "execution_count": null,
      "outputs": [
        {
          "output_type": "display_data",
          "data": {
            "text/plain": [
              "<Figure size 600x400 with 1 Axes>"
            ],
            "image/png": "[encoded data removed]"
          },
          "metadata": {}
        }
      ]
    },
    {
      "cell_type": "markdown",
      "source": [
        "Loading the labels based on filenames above"
      ],
      "metadata": {
        "id": "t4cUQ5_o1S2G"
      }
    },
    {
      "cell_type": "code",
      "source": [
        "def load_labels_combined_train(file_path, dataset_name):\n",
        "    data = pd.read_csv(file_path)\n",
        "    data['health_status'] = data['health_status'].astype(int)\n",
        "    print(f\"Unique health_status labels in {dataset_name} set:\", data['health_status'].unique())\n",
        "    label_dict = {\n",
        "      f\"{id_}.wav\" if not id_.endswith(\".wav\") else id_: label\n",
        "      for id_, label in zip(data['filename'], data['health_status'])\n",
        "  }\n",
        "    print(f\"Sample {dataset_name} labels:\", list(label_dict.items())[:5])\n",
        "    print(f\"{len(label_dict)} {dataset_name} files labeled correctly.\")\n",
        "    return label_dict, data['health_status'].value_counts().to_dict()"
      ],
      "metadata": {
        "id": "SFyo5g4326x9"
      },
      "execution_count": null,
      "outputs": []
    },
    {
      "cell_type": "code",
      "source": [
        "def load_labels_combined_test(file_path, dataset_name):\n",
        "    data = pd.read_csv(file_path)\n",
        "    print(f\"Unique health_status labels in {dataset_name} set:\", data['health_status'].unique())\n",
        "    label_dict = {f\"{id_}.wav\": label for id_, label in zip(data['uuid'], data['health_status'])}\n",
        "    print(f\"Sample {dataset_name} labels:\", list(label_dict.items())[:5])\n",
        "    print(f\"{len(label_dict)} {dataset_name} files labeled correctly.\")\n",
        "    return label_dict, data['health_status'].value_counts().to_dict()"
      ],
      "metadata": {
        "id": "qwdUGOyGJKqY"
      },
      "execution_count": null,
      "outputs": []
    },
    {
      "cell_type": "code",
      "source": [
        "# move on to the labels folder\n",
        "labels_path = os.path.join(metadata_path, \"labels\")\n",
        "\n",
        "train_labels_path = os.path.join(labels_path, 'combined_train_16mar.csv') # use training label specified above\n",
        "test_labels_path = os.path.join(labels_path, 'combined_test_16mar.csv') # use test label specified above"
      ],
      "metadata": {
        "id": "cbCKZAVDzTQ4"
      },
      "execution_count": null,
      "outputs": []
    },
    {
      "cell_type": "code",
      "source": [
        "# Load and process train and test label datasets\n",
        "train_label_dict, train_label_counts = load_labels_combined_train(train_labels_path, \"training\")\n",
        "test_label_dict, test_label_counts = load_labels_combined_test(test_labels_path, \"testing\")"
      ],
      "metadata": {
        "colab": {
          "base_uri": "https://localhost:8080/"
        },
        "id": "Zn5KUZ6412Y-",
        "outputId": "f03f7e95-29f8-4921-89b2-66196ca52341"
      },
      "execution_count": null,
      "outputs": [
        {
          "output_type": "stream",
          "name": "stdout",
          "text": [
            "Unique health_status labels in training set: [0 1]\n",
            "Sample training labels: [('aa78817e-f5e3-470b-b516-6006c59fb1fa.wav', 0), ('7b7f6998-7f52-475f-8bbd-e76d80eafd91.wav', 0), ('506b5606-cecb-4fba-8723-c4a2bfb8b038.wav', 1), ('0f79324e-9dc6-4f6c-8c13-2a3041f044d1.wav', 0), ('e1d7fad3-6eb9-44db-ad0a-1f25cd555b53.wav', 1)]\n",
            "2271 training files labeled correctly.\n",
            "Unique health_status labels in testing set: [1 0]\n",
            "Sample testing labels: [('7869b66e-5c53-42b8-8741-8e7398f78137.wav', 1), ('e80023d9-392a-407a-9580-9c66eb45d7bd.wav', 0), ('37347587-048a-4a1c-a100-7cf820711428.wav', 0), ('f0bc6079-5c16-4c95-91be-ddffc7bb37b0.wav', 0), ('ab2598a4-3781-40ae-b4f2-6d34abd2039d.wav', 0)]\n",
            "468 testing files labeled correctly.\n"
          ]
        }
      ]
    },
    {
      "cell_type": "code",
      "source": [
        "import re  # Import regular expressions\n",
        "\n",
        "# Define the regex pattern to check for \".wav.wav\" occurrence\n",
        "pattern = re.compile(r\"\\wav\\.wav\")\n",
        "\n",
        "# Iterate through the labels and check for the pattern\n",
        "for labels in train_label_dict.keys():\n",
        "    if pattern.search(labels):  # If \".wav.wav\" is found in the filename\n",
        "        print(f\"Invalid filename: {labels}\")"
      ],
      "metadata": {
        "id": "xCrOGfGCbKrt"
      },
      "execution_count": null,
      "outputs": []
    },
    {
      "cell_type": "code",
      "source": [
        "# Check if label count matches file count\n",
        "if len(train_label_dict) == total_train_files:\n",
        "    print(\"Training labels match the number of training files.\")\n",
        "else:\n",
        "    print(f\"Mismatch: {len(train_label_dict)} training labels vs. {total_train_files} training files.\")\n",
        "\n",
        "if len(test_label_dict) == total_test_files:\n",
        "    print(\"Testing labels match the number of testing files.\")\n",
        "else:\n",
        "    print(f\"Mismatch: {len(test_label_dict)} testing labels vs. {total_test_files} testing files.\")"
      ],
      "metadata": {
        "colab": {
          "base_uri": "https://localhost:8080/"
        },
        "id": "X6kfp2M12eQo",
        "outputId": "0528ec89-b619-4fa4-c214-581c9557d2cc"
      },
      "execution_count": null,
      "outputs": [
        {
          "output_type": "stream",
          "name": "stdout",
          "text": [
            "Training labels match the number of training files.\n",
            "Testing labels match the number of testing files.\n"
          ]
        }
      ]
    },
    {
      "cell_type": "code",
      "source": [
        "# Plot distribution of labels in training set\n",
        "plot_distribution(list(train_label_counts.values()), list(map(str, train_label_counts.keys())), \"Distribution of Training Labels\")\n",
        "\n",
        "# Plot distribution of labels in testing set\n",
        "plot_distribution(list(test_label_counts.values()), list(map(str, test_label_counts.keys())), \"Distribution of Testing Labels\")"
      ],
      "metadata": {
        "colab": {
          "base_uri": "https://localhost:8080/",
          "height": 803
        },
        "id": "tIDWK1cE3Yfk",
        "outputId": "d05b7ecd-54db-4f67-f769-84d604cad6ed"
      },
      "execution_count": null,
      "outputs": [
        {
          "output_type": "display_data",
          "data": {
            "text/plain": [
              "<Figure size 600x400 with 1 Axes>"
            ],
            "image/png": "[encoded data removed]"
          },
          "metadata": {}
        },
        {
          "output_type": "display_data",
          "data": {
            "text/plain": [
              "<Figure size 600x400 with 1 Axes>"
            ],
            "image/png": "[encoded data removed]"
          },
          "metadata": {}
        }
      ]
    },
    {
      "cell_type": "markdown",
      "source": [
        "The distribution is the same as expected - very imbalanced"
      ],
      "metadata": {
        "id": "gMOfMEfB6CTU"
      }
    },
    {
      "cell_type": "markdown",
      "source": [
        "Data are loaded in based on its location, the shapes are checked once again"
      ],
      "metadata": {
        "id": "R4YeeoPp6RS-"
      }
    },
    {
      "cell_type": "code",
      "source": [
        "def load_audio_dataset(audio_dir, label_dict):\n",
        "    \"\"\"Load only the audio files mentioned in the label dictionary.\"\"\"\n",
        "    data = []\n",
        "    labels = []\n",
        "    filenames = []\n",
        "    skipped_files = 0  # Counter for skipped files\n",
        "\n",
        "    for filename in label_dict.keys():  # Iterate only over filenames in label_dict\n",
        "        file_path = os.path.join(audio_dir, filename)\n",
        "\n",
        "        # if not os.path.isfile(file_path) or os.path.getsize(file_path) < 10:\n",
        "        if not os.path.isfile(file_path):\n",
        "            print(f\"Skipping {file_path} (file missing or too small)\")\n",
        "            skipped_files += 1\n",
        "            continue  # Skip missing or small files\n",
        "\n",
        "        try:\n",
        "            # Load the audio file\n",
        "            audio, sr = librosa.load(file_path, sr=None)\n",
        "            data.append(audio)\n",
        "            labels.append(label_dict[filename])\n",
        "            filenames.append(filename)\n",
        "        except Exception as e:\n",
        "            print(f\"Error loading {filename}: {str(e)}\")\n",
        "            skipped_files += 1\n",
        "            continue  # Skip problematic files\n",
        "\n",
        "    print(f\"Skipped {skipped_files} files due to errors.\")\n",
        "    return np.array(data, dtype=object), np.array(labels), filenames"
      ],
      "metadata": {
        "id": "AwnDHQco6FW8"
      },
      "execution_count": null,
      "outputs": []
    },
    {
      "cell_type": "code",
      "source": [
        "# Load train and test datasets from the same directory\n",
        "X_train, y_train, train_files = load_audio_dataset(train_dir, train_label_dict)\n",
        "X_test, y_test, test_files = load_audio_dataset(test_dir, test_label_dict)\n",
        "\n",
        "# Print dataset summary\n",
        "print(f\"Training Data: {X_train.shape[0]} samples\")\n",
        "print(f\"Test Data: {X_test.shape[0]} samples\")\n",
        "\n",
        "# Show sample audio shape\n",
        "print(\"\\nSample training shapes:\")\n",
        "for i, (audio, name) in enumerate(zip(X_train[:5], train_files[:5])):\n",
        "    print(f\"{name}: {audio.shape}\")\n",
        "\n",
        "print(\"\\nSample test shapes:\")\n",
        "for i, (audio, name) in enumerate(zip(X_test[:5], test_files[:5])):\n",
        "    print(f\"{name}: {audio.shape}\")"
      ],
      "metadata": {
        "colab": {
          "base_uri": "https://localhost:8080/"
        },
        "id": "ikXBidAW6J38",
        "outputId": "af972859-97b0-4cbe-c98f-cde77f97db92"
      },
      "execution_count": null,
      "outputs": [
        {
          "output_type": "stream",
          "name": "stdout",
          "text": [
            "Skipped 0 files due to errors.\n",
            "Skipped 0 files due to errors.\n",
            "Training Data: 2271 samples\n",
            "Test Data: 468 samples\n",
            "\n",
            "Sample training shapes:\n",
            "aa78817e-f5e3-470b-b516-6006c59fb1fa.wav: (71680,)\n",
            "7b7f6998-7f52-475f-8bbd-e76d80eafd91.wav: (105472,)\n",
            "506b5606-cecb-4fba-8723-c4a2bfb8b038.wav: (103744,)\n",
            "0f79324e-9dc6-4f6c-8c13-2a3041f044d1.wav: (12800,)\n",
            "e1d7fad3-6eb9-44db-ad0a-1f25cd555b53.wav: (33792,)\n",
            "\n",
            "Sample test shapes:\n",
            "7869b66e-5c53-42b8-8741-8e7398f78137.wav: (16896,)\n",
            "e80023d9-392a-407a-9580-9c66eb45d7bd.wav: (38912,)\n",
            "37347587-048a-4a1c-a100-7cf820711428.wav: (24064,)\n",
            "f0bc6079-5c16-4c95-91be-ddffc7bb37b0.wav: (85504,)\n",
            "ab2598a4-3781-40ae-b4f2-6d34abd2039d.wav: (64512,)\n"
          ]
        }
      ]
    },
    {
      "cell_type": "code",
      "source": [
        "def extract_mfcc(audio, sr, n_mfcc=13):\n",
        "    \"\"\"Extract MFCC features from raw audio.\"\"\"\n",
        "    return librosa.feature.mfcc(y=audio, sr=sr, n_mfcc=n_mfcc).T  # (frames, features)\n",
        "\n",
        "# Define a padding/truncation function\n",
        "def pad_or_truncate(mfcc, target_frames):\n",
        "    \"\"\"Pads or truncates MFCC to the target number of frames.\"\"\"\n",
        "    num_frames = mfcc.shape[0]\n",
        "\n",
        "    if num_frames < target_frames:\n",
        "        # Pad with zeros at the end\n",
        "        pad_width = target_frames - num_frames\n",
        "        mfcc = np.pad(mfcc, ((0, pad_width), (0, 0)), mode='constant')\n",
        "    elif num_frames > target_frames:\n",
        "        # Truncate\n",
        "        mfcc = mfcc[:target_frames, :]\n",
        "\n",
        "    return mfcc"
      ],
      "metadata": {
        "id": "Nqjj2PIpVwit"
      },
      "execution_count": null,
      "outputs": []
    },
    {
      "cell_type": "code",
      "source": [
        "# Extract MFCC features at 12kHz\n",
        "X_train_mfcc = [extract_mfcc(audio, sr=12000) for audio in X_train]\n",
        "X_test_mfcc = [extract_mfcc(audio, sr=12000) for audio in X_test]"
      ],
      "metadata": {
        "id": "bNKBQmPCU8uZ"
      },
      "execution_count": null,
      "outputs": []
    },
    {
      "cell_type": "code",
      "source": [
        "# Calculate MFCC lengths for all samples\n",
        "mfcc_lengths = [mfcc.shape[0] for mfcc in X_train_mfcc]\n",
        "\n",
        "# Compute statistics\n",
        "min_frames = np.min(mfcc_lengths)\n",
        "max_frames = np.max(mfcc_lengths)\n",
        "mean_frames = np.mean(mfcc_lengths)\n",
        "median_frames = np.median(mfcc_lengths)\n",
        "percentile_90 = np.percentile(mfcc_lengths, 90)  # 90th percentile\n",
        "percentile_95 = np.percentile(mfcc_lengths, 95)  # 95th percentile\n",
        "\n",
        "\n",
        "# Print results\n",
        "print(f\"Min frames: {min_frames}\")\n",
        "print(f\"Max frames: {max_frames}\")\n",
        "print(f\"Mean frames: {mean_frames}\")\n",
        "print(f\"Median frames: {median_frames}\")\n",
        "print(f\"90th Percentile frames: {percentile_90}\")\n",
        "print(f\"95th Percentile frames: {percentile_95}\")"
      ],
      "metadata": {
        "colab": {
          "base_uri": "https://localhost:8080/"
        },
        "id": "XkvdD8pyVl_9",
        "outputId": "731a531f-af1a-4941-a1ac-76bd52f4f798"
      },
      "execution_count": null,
      "outputs": [
        {
          "output_type": "stream",
          "name": "stdout",
          "text": [
            "Min frames: 7\n",
            "Max frames: 528\n",
            "Mean frames: 91.95948921180097\n",
            "Median frames: 87.0\n",
            "90th Percentile frames: 163.0\n",
            "95th Percentile frames: 184.0\n"
          ]
        }
      ]
    },
    {
      "cell_type": "code",
      "source": [
        "# Define target frame size\n",
        "target_frames = 184\n",
        "\n",
        "# Apply padding/truncation\n",
        "X_train_mfcc_padded = np.array([pad_or_truncate(mfcc, target_frames) for mfcc in X_train_mfcc])\n",
        "X_test_mfcc_padded = np.array([pad_or_truncate(mfcc, target_frames) for mfcc in X_test_mfcc])\n",
        "\n",
        "# Print final shapes\n",
        "print(f\"Processed Training Data Shape: {X_train_mfcc_padded.shape}\")\n",
        "print(f\"Processed Test Data Shape: {X_test_mfcc_padded.shape}\")"
      ],
      "metadata": {
        "colab": {
          "base_uri": "https://localhost:8080/"
        },
        "id": "zQ20uAQGXNga",
        "outputId": "61aa5047-5af1-4275-d6b5-e35cd277de9c"
      },
      "execution_count": null,
      "outputs": [
        {
          "output_type": "stream",
          "name": "stdout",
          "text": [
            "Processed Training Data Shape: (2271, 184, 13)\n",
            "Processed Test Data Shape: (468, 184, 13)\n"
          ]
        }
      ]
    },
    {
      "cell_type": "code",
      "source": [
        "# Compute statistics for X_train_mfcc_padded\n",
        "train_mfcc_lengths = [mfcc.shape[0] for mfcc in X_train_mfcc_padded]\n",
        "\n",
        "print(\"Train MFCC Statistics After Padding:\")\n",
        "print(f\"Min frames: {np.min(train_mfcc_lengths)}\")\n",
        "print(f\"Max frames: {np.max(train_mfcc_lengths)}\")\n",
        "print(f\"Mean frames: {np.mean(train_mfcc_lengths)}\")\n",
        "print(f\"Median frames: {np.median(train_mfcc_lengths)}\")\n",
        "print(f\"90th percentile frames: {np.percentile(train_mfcc_lengths, 90)}\")\n",
        "\n",
        "# Compute statistics for X_test_mfcc_padded\n",
        "test_mfcc_lengths = [mfcc.shape[0] for mfcc in X_test_mfcc_padded]\n",
        "\n",
        "print(\"\\nTest MFCC Statistics After Padding:\")\n",
        "print(f\"Min frames: {np.min(test_mfcc_lengths)}\")\n",
        "print(f\"Max frames: {np.max(test_mfcc_lengths)}\")\n",
        "print(f\"Mean frames: {np.mean(test_mfcc_lengths)}\")\n",
        "print(f\"Median frames: {np.median(test_mfcc_lengths)}\")\n",
        "print(f\"90th percentile frames: {np.percentile(test_mfcc_lengths, 90)}\")\n"
      ],
      "metadata": {
        "colab": {
          "base_uri": "https://localhost:8080/"
        },
        "id": "m1DgaaFUX5K_",
        "outputId": "70503b8a-9409-4529-9cc7-668fb26e7721"
      },
      "execution_count": null,
      "outputs": [
        {
          "output_type": "stream",
          "name": "stdout",
          "text": [
            "Train MFCC Statistics After Padding:\n",
            "Min frames: 184\n",
            "Max frames: 184\n",
            "Mean frames: 184.0\n",
            "Median frames: 184.0\n",
            "90th percentile frames: 184.0\n",
            "\n",
            "Test MFCC Statistics After Padding:\n",
            "Min frames: 184\n",
            "Max frames: 184\n",
            "Mean frames: 184.0\n",
            "Median frames: 184.0\n",
            "90th percentile frames: 184.0\n"
          ]
        }
      ]
    },
    {
      "cell_type": "code",
      "source": [
        "# Convert MFCC lists to NumPy arrays\n",
        "X_train_mfcc_padded_fed = np.array(X_train_mfcc_padded)\n",
        "X_test_mfcc_padded_fed = np.array(X_test_mfcc_padded)\n",
        "\n",
        "# Add channel dimension if using CNNs\n",
        "X_train_mfcc_padded_fed = X_train_mfcc_padded_fed[..., np.newaxis]\n",
        "X_test_mfcc_padded_fed = X_test_mfcc_padded_fed[..., np.newaxis]\n",
        "\n",
        "# Split training data into train and validation sets\n",
        "X_train_fed, X_val_fed, y_train_fed, y_val_fed = train_test_split(\n",
        "    X_train_mfcc_padded_fed, y_train, test_size=0.2, stratify=y_train, random_state=37\n",
        ")"
      ],
      "metadata": {
        "id": "5_SLlw0oBnA3"
      },
      "execution_count": null,
      "outputs": []
    },
    {
      "cell_type": "code",
      "source": [
        "# Print final shapes\n",
        "print(f\"X_train shape: {X_train_fed.shape}, y_train shape: {y_train_fed.shape}\")\n",
        "print(f\"X_val shape: {X_val_fed.shape}, y_val shape: {y_val_fed.shape}\")\n",
        "print(f\"X_test shape: {X_test_mfcc_padded_fed.shape}, y_test shape: {y_test.shape}\")"
      ],
      "metadata": {
        "colab": {
          "base_uri": "https://localhost:8080/"
        },
        "id": "c60Na8BMGniN",
        "outputId": "e1815c1c-b72d-44c1-d36f-b87c086925da"
      },
      "execution_count": null,
      "outputs": [
        {
          "output_type": "stream",
          "name": "stdout",
          "text": [
            "X_train shape: (1816, 184, 13, 1), y_train shape: (1816,)\n",
            "X_val shape: (455, 184, 13, 1), y_val shape: (455,)\n",
            "X_test shape: (468, 184, 13, 1), y_test shape: (468,)\n"
          ]
        }
      ]
    },
    {
      "cell_type": "markdown",
      "source": [
        "## 3. Machine Learning 1 (CNN and LSTM on MFCC)"
      ],
      "metadata": {
        "id": "W13Hyo_fCERA"
      }
    },
    {
      "cell_type": "markdown",
      "source": [
        "Some functions are defined to understand the training history. They can be used for all models in this notebook"
      ],
      "metadata": {
        "id": "gOqzLhlluKtH"
      }
    },
    {
      "cell_type": "code",
      "source": [
        "def evaluate_model(model, X_test, y_test, threshold=0.5):\n",
        "    \"\"\"\n",
        "    Evaluates a given model on test data, generates predictions,\n",
        "    plots a confusion matrix, and prints a classification report.\n",
        "\n",
        "    Parameters:\n",
        "    - model: Trained model to evaluate\n",
        "    - X_test: Test input data\n",
        "    - y_test: True labels for the test data\n",
        "    - threshold: Probability threshold for binary classification (default: 0.5)\n",
        "    \"\"\"\n",
        "    # Get model predictions\n",
        "    y_pred_probs = model.predict(X_test)\n",
        "    y_pred = (y_pred_probs > threshold).astype(int)  # Convert probabilities to binary labels\n",
        "\n",
        "    # Generate confusion matrix\n",
        "    conf_matrix = confusion_matrix(y_test, y_pred)\n",
        "\n",
        "    # Plot confusion matrix\n",
        "    plt.figure(figsize=(6, 5))\n",
        "    sns.heatmap(conf_matrix, annot=True, fmt=\"d\", cmap=\"Blues\",\n",
        "                xticklabels=[\"Class 0\", \"Class 1\"], yticklabels=[\"Class 0\", \"Class 1\"])\n",
        "    plt.xlabel(\"Predicted Label\")\n",
        "    plt.ylabel(\"True Label\")\n",
        "    plt.title(\"Confusion Matrix\")\n",
        "    plt.show()\n",
        "\n",
        "    # Print classification report\n",
        "    print(\"\\nClassification Report:\\n\", classification_report(y_test, y_pred))"
      ],
      "metadata": {
        "id": "wB-ftFGZ7Dw4"
      },
      "execution_count": null,
      "outputs": []
    },
    {
      "cell_type": "code",
      "source": [
        "def evaluate_test_set(model, X_test, y_test):\n",
        "    \"\"\"\n",
        "    Evaluates the given model on the test set and prints the results.\n",
        "\n",
        "    Parameters:\n",
        "    - model: Trained model to evaluate\n",
        "    - X_test: Test input data\n",
        "    - y_test: True labels for the test data\n",
        "    \"\"\"\n",
        "    # Evaluate the model on the test set\n",
        "    test_loss, test_accuracy, test_precision, test_recall = model.evaluate(X_test, y_test)\n",
        "\n",
        "    # Print test results\n",
        "    print(f\"Test Loss: {test_loss:.4f}\")\n",
        "    print(f\"Test Accuracy: {test_accuracy:.4f}\")\n",
        "    print(f\"Test Precision: {test_precision:.4f}\")\n",
        "    print(f\"Test Recall: {test_recall:.4f}\")"
      ],
      "metadata": {
        "id": "qr9Qg_lQ7PPA"
      },
      "execution_count": null,
      "outputs": []
    },
    {
      "cell_type": "markdown",
      "source": [
        "Input shape is fixed"
      ],
      "metadata": {
        "id": "JGjs_ShkuUlP"
      }
    },
    {
      "cell_type": "code",
      "source": [
        "# fix input shape\n",
        "input_shape = (184, X_train_fed.shape[2], 1)"
      ],
      "metadata": {
        "id": "_0Y4lkWxY3ET"
      },
      "execution_count": null,
      "outputs": []
    },
    {
      "cell_type": "markdown",
      "source": [
        "### Model 1: Simple CNN as a baseline\n",
        "\n",
        "Firstly, a simple CNN model is trained"
      ],
      "metadata": {
        "id": "ymCaH4B_C3Yw"
      }
    },
    {
      "cell_type": "markdown",
      "source": [
        "SoundCLR"
      ],
      "metadata": {
        "id": "glQwXgszgXyD"
      }
    },
    {
      "cell_type": "code",
      "source": [
        "# Build the CNN model\n",
        "model_1 = Sequential([\n",
        "    # Convolutional Layers\n",
        "    Conv2D(32, (3, 3), activation='relu', padding='same', input_shape=input_shape),\n",
        "    BatchNormalization(),\n",
        "    MaxPooling2D((2, 2)),\n",
        "\n",
        "    Conv2D(64, (3, 3), activation='relu', padding='same'),\n",
        "    BatchNormalization(),\n",
        "    MaxPooling2D((2, 2)),\n",
        "\n",
        "    Conv2D(128, (3, 3), activation='relu', padding='same'),\n",
        "    BatchNormalization(),\n",
        "    MaxPooling2D((2, 2)),\n",
        "\n",
        "    # Flatten & Fully Connected Layers\n",
        "    Flatten(),\n",
        "    Dense(128, activation='relu'),\n",
        "    Dropout(0.3),\n",
        "\n",
        "    Dense(64, activation='relu'),\n",
        "    Dropout(0.3),\n",
        "\n",
        "    # Output layer for binary classification\n",
        "    Dense(1, activation='sigmoid')\n",
        "])"
      ],
      "metadata": {
        "id": "aLdZg8_1BuIg",
        "colab": {
          "base_uri": "https://localhost:8080/"
        },
        "outputId": "e6231275-c245-409e-ca88-9157d85be0a4"
      },
      "execution_count": null,
      "outputs": [
        {
          "output_type": "stream",
          "name": "stderr",
          "text": [
            "/usr/local/lib/python3.11/dist-packages/keras/src/layers/convolutional/base_conv.py:107: UserWarning: Do not pass an `input_shape`/`input_dim` argument to a layer. When using Sequential models, prefer using an `Input(shape)` object as the first layer in the model instead.\n",
            "  super().__init__(activity_regularizer=activity_regularizer, **kwargs)\n"
          ]
        }
      ]
    },
    {
      "cell_type": "code",
      "source": [
        "model_1.summary()"
      ],
      "metadata": {
        "colab": {
          "base_uri": "https://localhost:8080/",
          "height": 666
        },
        "id": "W8dCdh6zDJGZ",
        "outputId": "d8b14d48-8feb-4a5c-c18a-700ad53875ee"
      },
      "execution_count": null,
      "outputs": [
        {
          "output_type": "display_data",
          "data": {
            "text/plain": [
              "\u001b[1mModel: \"sequential_10\"\u001b[0m\n"
            ],
            "text/html": [
              "<pre style=\"white-space:pre;overflow-x:auto;line-height:normal;font-family:Menlo,'DejaVu Sans Mono',consolas,'Courier New',monospace\"><span style=\"font-weight: bold\">Model: \"sequential_10\"</span>\n",
              "</pre>\n"
            ]
          },
          "metadata": {}
        },
        {
          "output_type": "display_data",
          "data": {
            "text/plain": [
              "┏━━━━━━━━━━━━━━━━━━━━━━━━━━━━━━━━━━━━━━┳━━━━━━━━━━━━━━━━━━━━━━━━━━━━━┳━━━━━━━━━━━━━━━━━┓\n",
              "┃\u001b[1m \u001b[0m\u001b[1mLayer (type)                        \u001b[0m\u001b[1m \u001b[0m┃\u001b[1m \u001b[0m\u001b[1mOutput Shape               \u001b[0m\u001b[1m \u001b[0m┃\u001b[1m \u001b[0m\u001b[1m        Param #\u001b[0m\u001b[1m \u001b[0m┃\n",
              "┡━━━━━━━━━━━━━━━━━━━━━━━━━━━━━━━━━━━━━━╇━━━━━━━━━━━━━━━━━━━━━━━━━━━━━╇━━━━━━━━━━━━━━━━━┩\n",
              "│ conv2d_30 (\u001b[38;5;33mConv2D\u001b[0m)                   │ (\u001b[38;5;45mNone\u001b[0m, \u001b[38;5;34m184\u001b[0m, \u001b[38;5;34m13\u001b[0m, \u001b[38;5;34m32\u001b[0m)         │             \u001b[38;5;34m320\u001b[0m │\n",
              "├──────────────────────────────────────┼─────────────────────────────┼─────────────────┤\n",
              "│ batch_normalization_30               │ (\u001b[38;5;45mNone\u001b[0m, \u001b[38;5;34m184\u001b[0m, \u001b[38;5;34m13\u001b[0m, \u001b[38;5;34m32\u001b[0m)         │             \u001b[38;5;34m128\u001b[0m │\n",
              "│ (\u001b[38;5;33mBatchNormalization\u001b[0m)                 │                             │                 │\n",
              "├──────────────────────────────────────┼─────────────────────────────┼─────────────────┤\n",
              "│ max_pooling2d_30 (\u001b[38;5;33mMaxPooling2D\u001b[0m)      │ (\u001b[38;5;45mNone\u001b[0m, \u001b[38;5;34m92\u001b[0m, \u001b[38;5;34m6\u001b[0m, \u001b[38;5;34m32\u001b[0m)           │               \u001b[38;5;34m0\u001b[0m │\n",
              "├──────────────────────────────────────┼─────────────────────────────┼─────────────────┤\n",
              "│ conv2d_31 (\u001b[38;5;33mConv2D\u001b[0m)                   │ (\u001b[38;5;45mNone\u001b[0m, \u001b[38;5;34m92\u001b[0m, \u001b[38;5;34m6\u001b[0m, \u001b[38;5;34m64\u001b[0m)           │          \u001b[38;5;34m18,496\u001b[0m │\n",
              "├──────────────────────────────────────┼─────────────────────────────┼─────────────────┤\n",
              "│ batch_normalization_31               │ (\u001b[38;5;45mNone\u001b[0m, \u001b[38;5;34m92\u001b[0m, \u001b[38;5;34m6\u001b[0m, \u001b[38;5;34m64\u001b[0m)           │             \u001b[38;5;34m256\u001b[0m │\n",
              "│ (\u001b[38;5;33mBatchNormalization\u001b[0m)                 │                             │                 │\n",
              "├──────────────────────────────────────┼─────────────────────────────┼─────────────────┤\n",
              "│ max_pooling2d_31 (\u001b[38;5;33mMaxPooling2D\u001b[0m)      │ (\u001b[38;5;45mNone\u001b[0m, \u001b[38;5;34m46\u001b[0m, \u001b[38;5;34m3\u001b[0m, \u001b[38;5;34m64\u001b[0m)           │               \u001b[38;5;34m0\u001b[0m │\n",
              "├──────────────────────────────────────┼─────────────────────────────┼─────────────────┤\n",
              "│ conv2d_32 (\u001b[38;5;33mConv2D\u001b[0m)                   │ (\u001b[38;5;45mNone\u001b[0m, \u001b[38;5;34m46\u001b[0m, \u001b[38;5;34m3\u001b[0m, \u001b[38;5;34m128\u001b[0m)          │          \u001b[38;5;34m73,856\u001b[0m │\n",
              "├──────────────────────────────────────┼─────────────────────────────┼─────────────────┤\n",
              "│ batch_normalization_32               │ (\u001b[38;5;45mNone\u001b[0m, \u001b[38;5;34m46\u001b[0m, \u001b[38;5;34m3\u001b[0m, \u001b[38;5;34m128\u001b[0m)          │             \u001b[38;5;34m512\u001b[0m │\n",
              "│ (\u001b[38;5;33mBatchNormalization\u001b[0m)                 │                             │                 │\n",
              "├──────────────────────────────────────┼─────────────────────────────┼─────────────────┤\n",
              "│ max_pooling2d_32 (\u001b[38;5;33mMaxPooling2D\u001b[0m)      │ (\u001b[38;5;45mNone\u001b[0m, \u001b[38;5;34m23\u001b[0m, \u001b[38;5;34m1\u001b[0m, \u001b[38;5;34m128\u001b[0m)          │               \u001b[38;5;34m0\u001b[0m │\n",
              "├──────────────────────────────────────┼─────────────────────────────┼─────────────────┤\n",
              "│ flatten_10 (\u001b[38;5;33mFlatten\u001b[0m)                 │ (\u001b[38;5;45mNone\u001b[0m, \u001b[38;5;34m2944\u001b[0m)                │               \u001b[38;5;34m0\u001b[0m │\n",
              "├──────────────────────────────────────┼─────────────────────────────┼─────────────────┤\n",
              "│ dense_30 (\u001b[38;5;33mDense\u001b[0m)                     │ (\u001b[38;5;45mNone\u001b[0m, \u001b[38;5;34m128\u001b[0m)                 │         \u001b[38;5;34m376,960\u001b[0m │\n",
              "├──────────────────────────────────────┼─────────────────────────────┼─────────────────┤\n",
              "│ dropout_20 (\u001b[38;5;33mDropout\u001b[0m)                 │ (\u001b[38;5;45mNone\u001b[0m, \u001b[38;5;34m128\u001b[0m)                 │               \u001b[38;5;34m0\u001b[0m │\n",
              "├──────────────────────────────────────┼─────────────────────────────┼─────────────────┤\n",
              "│ dense_31 (\u001b[38;5;33mDense\u001b[0m)                     │ (\u001b[38;5;45mNone\u001b[0m, \u001b[38;5;34m64\u001b[0m)                  │           \u001b[38;5;34m8,256\u001b[0m │\n",
              "├──────────────────────────────────────┼─────────────────────────────┼─────────────────┤\n",
              "│ dropout_21 (\u001b[38;5;33mDropout\u001b[0m)                 │ (\u001b[38;5;45mNone\u001b[0m, \u001b[38;5;34m64\u001b[0m)                  │               \u001b[38;5;34m0\u001b[0m │\n",
              "├──────────────────────────────────────┼─────────────────────────────┼─────────────────┤\n",
              "│ dense_32 (\u001b[38;5;33mDense\u001b[0m)                     │ (\u001b[38;5;45mNone\u001b[0m, \u001b[38;5;34m1\u001b[0m)                   │              \u001b[38;5;34m65\u001b[0m │\n",
              "└──────────────────────────────────────┴─────────────────────────────┴─────────────────┘\n"
            ],
            "text/html": [
              "<pre style=\"white-space:pre;overflow-x:auto;line-height:normal;font-family:Menlo,'DejaVu Sans Mono',consolas,'Courier New',monospace\">┏━━━━━━━━━━━━━━━━━━━━━━━━━━━━━━━━━━━━━━┳━━━━━━━━━━━━━━━━━━━━━━━━━━━━━┳━━━━━━━━━━━━━━━━━┓\n",
              "┃<span style=\"font-weight: bold\"> Layer (type)                         </span>┃<span style=\"font-weight: bold\"> Output Shape                </span>┃<span style=\"font-weight: bold\">         Param # </span>┃\n",
              "┡━━━━━━━━━━━━━━━━━━━━━━━━━━━━━━━━━━━━━━╇━━━━━━━━━━━━━━━━━━━━━━━━━━━━━╇━━━━━━━━━━━━━━━━━┩\n",
              "│ conv2d_30 (<span style=\"color: #0087ff; text-decoration-color: #0087ff\">Conv2D</span>)                   │ (<span style=\"color: #00d7ff; text-decoration-color: #00d7ff\">None</span>, <span style=\"color: #00af00; text-decoration-color: #00af00\">184</span>, <span style=\"color: #00af00; text-decoration-color: #00af00\">13</span>, <span style=\"color: #00af00; text-decoration-color: #00af00\">32</span>)         │             <span style=\"color: #00af00; text-decoration-color: #00af00\">320</span> │\n",
              "├──────────────────────────────────────┼─────────────────────────────┼─────────────────┤\n",
              "│ batch_normalization_30               │ (<span style=\"color: #00d7ff; text-decoration-color: #00d7ff\">None</span>, <span style=\"color: #00af00; text-decoration-color: #00af00\">184</span>, <span style=\"color: #00af00; text-decoration-color: #00af00\">13</span>, <span style=\"color: #00af00; text-decoration-color: #00af00\">32</span>)         │             <span style=\"color: #00af00; text-decoration-color: #00af00\">128</span> │\n",
              "│ (<span style=\"color: #0087ff; text-decoration-color: #0087ff\">BatchNormalization</span>)                 │                             │                 │\n",
              "├──────────────────────────────────────┼─────────────────────────────┼─────────────────┤\n",
              "│ max_pooling2d_30 (<span style=\"color: #0087ff; text-decoration-color: #0087ff\">MaxPooling2D</span>)      │ (<span style=\"color: #00d7ff; text-decoration-color: #00d7ff\">None</span>, <span style=\"color: #00af00; text-decoration-color: #00af00\">92</span>, <span style=\"color: #00af00; text-decoration-color: #00af00\">6</span>, <span style=\"color: #00af00; text-decoration-color: #00af00\">32</span>)           │               <span style=\"color: #00af00; text-decoration-color: #00af00\">0</span> │\n",
              "├──────────────────────────────────────┼─────────────────────────────┼─────────────────┤\n",
              "│ conv2d_31 (<span style=\"color: #0087ff; text-decoration-color: #0087ff\">Conv2D</span>)                   │ (<span style=\"color: #00d7ff; text-decoration-color: #00d7ff\">None</span>, <span style=\"color: #00af00; text-decoration-color: #00af00\">92</span>, <span style=\"color: #00af00; text-decoration-color: #00af00\">6</span>, <span style=\"color: #00af00; text-decoration-color: #00af00\">64</span>)           │          <span style=\"color: #00af00; text-decoration-color: #00af00\">18,496</span> │\n",
              "├──────────────────────────────────────┼─────────────────────────────┼─────────────────┤\n",
              "│ batch_normalization_31               │ (<span style=\"color: #00d7ff; text-decoration-color: #00d7ff\">None</span>, <span style=\"color: #00af00; text-decoration-color: #00af00\">92</span>, <span style=\"color: #00af00; text-decoration-color: #00af00\">6</span>, <span style=\"color: #00af00; text-decoration-color: #00af00\">64</span>)           │             <span style=\"color: #00af00; text-decoration-color: #00af00\">256</span> │\n",
              "│ (<span style=\"color: #0087ff; text-decoration-color: #0087ff\">BatchNormalization</span>)                 │                             │                 │\n",
              "├──────────────────────────────────────┼─────────────────────────────┼─────────────────┤\n",
              "│ max_pooling2d_31 (<span style=\"color: #0087ff; text-decoration-color: #0087ff\">MaxPooling2D</span>)      │ (<span style=\"color: #00d7ff; text-decoration-color: #00d7ff\">None</span>, <span style=\"color: #00af00; text-decoration-color: #00af00\">46</span>, <span style=\"color: #00af00; text-decoration-color: #00af00\">3</span>, <span style=\"color: #00af00; text-decoration-color: #00af00\">64</span>)           │               <span style=\"color: #00af00; text-decoration-color: #00af00\">0</span> │\n",
              "├──────────────────────────────────────┼─────────────────────────────┼─────────────────┤\n",
              "│ conv2d_32 (<span style=\"color: #0087ff; text-decoration-color: #0087ff\">Conv2D</span>)                   │ (<span style=\"color: #00d7ff; text-decoration-color: #00d7ff\">None</span>, <span style=\"color: #00af00; text-decoration-color: #00af00\">46</span>, <span style=\"color: #00af00; text-decoration-color: #00af00\">3</span>, <span style=\"color: #00af00; text-decoration-color: #00af00\">128</span>)          │          <span style=\"color: #00af00; text-decoration-color: #00af00\">73,856</span> │\n",
              "├──────────────────────────────────────┼─────────────────────────────┼─────────────────┤\n",
              "│ batch_normalization_32               │ (<span style=\"color: #00d7ff; text-decoration-color: #00d7ff\">None</span>, <span style=\"color: #00af00; text-decoration-color: #00af00\">46</span>, <span style=\"color: #00af00; text-decoration-color: #00af00\">3</span>, <span style=\"color: #00af00; text-decoration-color: #00af00\">128</span>)          │             <span style=\"color: #00af00; text-decoration-color: #00af00\">512</span> │\n",
              "│ (<span style=\"color: #0087ff; text-decoration-color: #0087ff\">BatchNormalization</span>)                 │                             │                 │\n",
              "├──────────────────────────────────────┼─────────────────────────────┼─────────────────┤\n",
              "│ max_pooling2d_32 (<span style=\"color: #0087ff; text-decoration-color: #0087ff\">MaxPooling2D</span>)      │ (<span style=\"color: #00d7ff; text-decoration-color: #00d7ff\">None</span>, <span style=\"color: #00af00; text-decoration-color: #00af00\">23</span>, <span style=\"color: #00af00; text-decoration-color: #00af00\">1</span>, <span style=\"color: #00af00; text-decoration-color: #00af00\">128</span>)          │               <span style=\"color: #00af00; text-decoration-color: #00af00\">0</span> │\n",
              "├──────────────────────────────────────┼─────────────────────────────┼─────────────────┤\n",
              "│ flatten_10 (<span style=\"color: #0087ff; text-decoration-color: #0087ff\">Flatten</span>)                 │ (<span style=\"color: #00d7ff; text-decoration-color: #00d7ff\">None</span>, <span style=\"color: #00af00; text-decoration-color: #00af00\">2944</span>)                │               <span style=\"color: #00af00; text-decoration-color: #00af00\">0</span> │\n",
              "├──────────────────────────────────────┼─────────────────────────────┼─────────────────┤\n",
              "│ dense_30 (<span style=\"color: #0087ff; text-decoration-color: #0087ff\">Dense</span>)                     │ (<span style=\"color: #00d7ff; text-decoration-color: #00d7ff\">None</span>, <span style=\"color: #00af00; text-decoration-color: #00af00\">128</span>)                 │         <span style=\"color: #00af00; text-decoration-color: #00af00\">376,960</span> │\n",
              "├──────────────────────────────────────┼─────────────────────────────┼─────────────────┤\n",
              "│ dropout_20 (<span style=\"color: #0087ff; text-decoration-color: #0087ff\">Dropout</span>)                 │ (<span style=\"color: #00d7ff; text-decoration-color: #00d7ff\">None</span>, <span style=\"color: #00af00; text-decoration-color: #00af00\">128</span>)                 │               <span style=\"color: #00af00; text-decoration-color: #00af00\">0</span> │\n",
              "├──────────────────────────────────────┼─────────────────────────────┼─────────────────┤\n",
              "│ dense_31 (<span style=\"color: #0087ff; text-decoration-color: #0087ff\">Dense</span>)                     │ (<span style=\"color: #00d7ff; text-decoration-color: #00d7ff\">None</span>, <span style=\"color: #00af00; text-decoration-color: #00af00\">64</span>)                  │           <span style=\"color: #00af00; text-decoration-color: #00af00\">8,256</span> │\n",
              "├──────────────────────────────────────┼─────────────────────────────┼─────────────────┤\n",
              "│ dropout_21 (<span style=\"color: #0087ff; text-decoration-color: #0087ff\">Dropout</span>)                 │ (<span style=\"color: #00d7ff; text-decoration-color: #00d7ff\">None</span>, <span style=\"color: #00af00; text-decoration-color: #00af00\">64</span>)                  │               <span style=\"color: #00af00; text-decoration-color: #00af00\">0</span> │\n",
              "├──────────────────────────────────────┼─────────────────────────────┼─────────────────┤\n",
              "│ dense_32 (<span style=\"color: #0087ff; text-decoration-color: #0087ff\">Dense</span>)                     │ (<span style=\"color: #00d7ff; text-decoration-color: #00d7ff\">None</span>, <span style=\"color: #00af00; text-decoration-color: #00af00\">1</span>)                   │              <span style=\"color: #00af00; text-decoration-color: #00af00\">65</span> │\n",
              "└──────────────────────────────────────┴─────────────────────────────┴─────────────────┘\n",
              "</pre>\n"
            ]
          },
          "metadata": {}
        },
        {
          "output_type": "display_data",
          "data": {
            "text/plain": [
              "\u001b[1m Total params: \u001b[0m\u001b[38;5;34m478,849\u001b[0m (1.83 MB)\n"
            ],
            "text/html": [
              "<pre style=\"white-space:pre;overflow-x:auto;line-height:normal;font-family:Menlo,'DejaVu Sans Mono',consolas,'Courier New',monospace\"><span style=\"font-weight: bold\"> Total params: </span><span style=\"color: #00af00; text-decoration-color: #00af00\">478,849</span> (1.83 MB)\n",
              "</pre>\n"
            ]
          },
          "metadata": {}
        },
        {
          "output_type": "display_data",
          "data": {
            "text/plain": [
              "\u001b[1m Trainable params: \u001b[0m\u001b[38;5;34m478,401\u001b[0m (1.82 MB)\n"
            ],
            "text/html": [
              "<pre style=\"white-space:pre;overflow-x:auto;line-height:normal;font-family:Menlo,'DejaVu Sans Mono',consolas,'Courier New',monospace\"><span style=\"font-weight: bold\"> Trainable params: </span><span style=\"color: #00af00; text-decoration-color: #00af00\">478,401</span> (1.82 MB)\n",
              "</pre>\n"
            ]
          },
          "metadata": {}
        },
        {
          "output_type": "display_data",
          "data": {
            "text/plain": [
              "\u001b[1m Non-trainable params: \u001b[0m\u001b[38;5;34m448\u001b[0m (1.75 KB)\n"
            ],
            "text/html": [
              "<pre style=\"white-space:pre;overflow-x:auto;line-height:normal;font-family:Menlo,'DejaVu Sans Mono',consolas,'Courier New',monospace\"><span style=\"font-weight: bold\"> Non-trainable params: </span><span style=\"color: #00af00; text-decoration-color: #00af00\">448</span> (1.75 KB)\n",
              "</pre>\n"
            ]
          },
          "metadata": {}
        }
      ]
    },
    {
      "cell_type": "code",
      "source": [
        "# Compile the model\n",
        "model_1.compile(\n",
        "    optimizer=Adam(learning_rate=0.0001),\n",
        "    loss='binary_crossentropy',\n",
        "    metrics=['accuracy', Precision(name='precision'), Recall(name='recall')]\n",
        ")"
      ],
      "metadata": {
        "id": "CmL-rbOsHJuL"
      },
      "execution_count": null,
      "outputs": []
    },
    {
      "cell_type": "code",
      "source": [
        "# Early stopping callback\n",
        "early_stopping = EarlyStopping(monitor='val_loss', patience=3, restore_best_weights=True)\n",
        "\n",
        "# Train the model\n",
        "num_epochs = 30\n",
        "history_simpleCNN = model_1.fit(X_train_fed, y_train_fed,\n",
        "                                  batch_size=16,\n",
        "                                  epochs=num_epochs,\n",
        "                                  validation_data=(X_val_fed, y_val_fed),\n",
        "                                  callbacks=[early_stopping])\n",
        "\n",
        "print(\"Model training completed.\")"
      ],
      "metadata": {
        "colab": {
          "base_uri": "https://localhost:8080/"
        },
        "id": "w0fq5cN7FSNB",
        "outputId": "807e0c77-87eb-4d71-f629-cf758d18405e"
      },
      "execution_count": null,
      "outputs": [
        {
          "output_type": "stream",
          "name": "stdout",
          "text": [
            "Epoch 1/30\n",
            "\u001b[1m114/114\u001b[0m \u001b[32m━━━━━━━━━━━━━━━━━━━━\u001b[0m\u001b[37m\u001b[0m \u001b[1m7s\u001b[0m 35ms/step - accuracy: 0.6496 - loss: 0.7941 - precision: 0.3006 - recall: 0.2079 - val_accuracy: 0.7187 - val_loss: 0.5678 - val_precision: 0.3750 - val_recall: 0.0484\n",
            "Epoch 2/30\n",
            "\u001b[1m114/114\u001b[0m \u001b[32m━━━━━━━━━━━━━━━━━━━━\u001b[0m\u001b[37m\u001b[0m \u001b[1m4s\u001b[0m 31ms/step - accuracy: 0.6994 - loss: 0.6234 - precision: 0.4311 - recall: 0.2126 - val_accuracy: 0.7341 - val_loss: 0.5686 - val_precision: 0.7143 - val_recall: 0.0403\n",
            "Epoch 3/30\n",
            "\u001b[1m114/114\u001b[0m \u001b[32m━━━━━━━━━━━━━━━━━━━━\u001b[0m\u001b[37m\u001b[0m \u001b[1m4s\u001b[0m 32ms/step - accuracy: 0.7425 - loss: 0.5706 - precision: 0.4972 - recall: 0.1888 - val_accuracy: 0.7319 - val_loss: 0.5766 - val_precision: 0.5333 - val_recall: 0.1290\n",
            "Epoch 4/30\n",
            "\u001b[1m114/114\u001b[0m \u001b[32m━━━━━━━━━━━━━━━━━━━━\u001b[0m\u001b[37m\u001b[0m \u001b[1m4s\u001b[0m 31ms/step - accuracy: 0.7356 - loss: 0.5514 - precision: 0.5396 - recall: 0.2165 - val_accuracy: 0.7275 - val_loss: 0.5798 - val_precision: 0.5000 - val_recall: 0.0806\n",
            "Model training completed.\n"
          ]
        }
      ]
    },
    {
      "cell_type": "code",
      "source": [
        "# Evaluate the model on the test set\n",
        "evaluate_test_set(model_1, X_test_mfcc_padded_fed, y_test)"
      ],
      "metadata": {
        "colab": {
          "base_uri": "https://localhost:8080/"
        },
        "id": "_VvcqGnCQ9Fp",
        "outputId": "3afedd2a-80ac-4eaa-d635-7a3f8e8209b4"
      },
      "execution_count": null,
      "outputs": [
        {
          "output_type": "stream",
          "name": "stdout",
          "text": [
            "\u001b[1m15/15\u001b[0m \u001b[32m━━━━━━━━━━━━━━━━━━━━\u001b[0m\u001b[37m\u001b[0m \u001b[1m0s\u001b[0m 13ms/step - accuracy: 0.7661 - loss: 0.5132 - precision: 0.4330 - recall: 0.1624\n",
            "Test Loss: 0.5217\n",
            "Test Accuracy: 0.7628\n",
            "Test Precision: 0.4286\n",
            "Test Recall: 0.1714\n"
          ]
        }
      ]
    },
    {
      "cell_type": "markdown",
      "source": [
        "It can be seen that the accuracy for the first training of model 1 is quite high (79%) however, the recall is very low. This is likely due to the imbalanced training dataset. The model also conveges very fast. The loss is also quite high"
      ],
      "metadata": {
        "id": "LDj-haXPuhIR"
      }
    },
    {
      "cell_type": "code",
      "source": [
        "evaluate_model(model_1, X_test_mfcc_padded_fed, y_test)"
      ],
      "metadata": {
        "id": "NY_FO66XIvAE",
        "colab": {
          "base_uri": "https://localhost:8080/",
          "height": 695
        },
        "outputId": "74c66f6e-e4b3-4952-c74f-66be42ede7e1"
      },
      "execution_count": null,
      "outputs": [
        {
          "output_type": "stream",
          "name": "stdout",
          "text": [
            "\u001b[1m15/15\u001b[0m \u001b[32m━━━━━━━━━━━━━━━━━━━━\u001b[0m\u001b[37m\u001b[0m \u001b[1m0s\u001b[0m 19ms/step\n"
          ]
        },
        {
          "output_type": "display_data",
          "data": {
            "text/plain": [
              "<Figure size 600x500 with 2 Axes>"
            ],
            "image/png": "[encoded data removed]"
          },
          "metadata": {}
        },
        {
          "output_type": "stream",
          "name": "stdout",
          "text": [
            "\n",
            "Classification Report:\n",
            "               precision    recall  f1-score   support\n",
            "\n",
            "           0       0.80      0.93      0.86       363\n",
            "           1       0.43      0.17      0.24       105\n",
            "\n",
            "    accuracy                           0.76       468\n",
            "   macro avg       0.61      0.55      0.55       468\n",
            "weighted avg       0.71      0.76      0.72       468\n",
            "\n"
          ]
        }
      ]
    },
    {
      "cell_type": "markdown",
      "source": [
        "As shown in the clasification report, the accuracy 0.76 seems good but F1-score for Class 1 is also very low (0.24), which reflects that the model is not performing well for this class. The poor recall (0.17) for Class1 indicates the model is missing most of the Class 1 instances. The model converges fast. Thus, the class weight will be calculated and tries to address the issue by setting the classweight to be 'balanced"
      ],
      "metadata": {
        "id": "fQIL9g4fH98d"
      }
    },
    {
      "cell_type": "markdown",
      "source": [
        "### Model 1.2: added class weight when fitting model 1, no changes in the structure"
      ],
      "metadata": {
        "id": "29EQ8hpU3la6"
      }
    },
    {
      "cell_type": "code",
      "source": [
        "from sklearn.utils.class_weight import compute_class_weight"
      ],
      "metadata": {
        "id": "8mjXWg3udROW"
      },
      "execution_count": null,
      "outputs": []
    },
    {
      "cell_type": "code",
      "source": [
        "# Convert class labels to a NumPy array\n",
        "classes = np.array([0, 1])\n",
        "\n",
        "# Compute class weights\n",
        "class_weights = compute_class_weight(class_weight='balanced', classes=classes, y=y_train_fed)"
      ],
      "metadata": {
        "id": "0Iy8joT7dkd5"
      },
      "execution_count": null,
      "outputs": []
    },
    {
      "cell_type": "code",
      "source": [
        "# Convert to dictionary\n",
        "class_weights_dict = {0: class_weights[0], 1: class_weights[1]}\n",
        "\n",
        "print(\"Computed class weights:\", class_weights_dict)"
      ],
      "metadata": {
        "colab": {
          "base_uri": "https://localhost:8080/"
        },
        "id": "T7bXET_VdUI8",
        "outputId": "322af692-ef97-499f-f772-846a039b8c8b"
      },
      "execution_count": null,
      "outputs": [
        {
          "output_type": "stream",
          "name": "stdout",
          "text": [
            "Computed class weights: {0: np.float64(0.6878787878787879), 1: np.float64(1.8306451612903225)}\n"
          ]
        }
      ]
    },
    {
      "cell_type": "markdown",
      "source": [
        "The model is then retrained using the same structure as model 1"
      ],
      "metadata": {
        "id": "y6J95Tl4wkpZ"
      }
    },
    {
      "cell_type": "code",
      "source": [
        "# Build the CNN model\n",
        "model_1_1 = Sequential([\n",
        "    # Convolutional Layers\n",
        "    Conv2D(32, (3, 3), activation='relu', padding='same', input_shape=input_shape),\n",
        "    BatchNormalization(),\n",
        "    MaxPooling2D((2, 2)),\n",
        "\n",
        "    Conv2D(64, (3, 3), activation='relu', padding='same'),\n",
        "    BatchNormalization(),\n",
        "    MaxPooling2D((2, 2)),\n",
        "\n",
        "    Conv2D(128, (3, 3), activation='relu', padding='same'),\n",
        "    BatchNormalization(),\n",
        "    MaxPooling2D((2, 2)),\n",
        "\n",
        "    # Flatten & Fully Connected Layers\n",
        "    Flatten(),\n",
        "    Dense(128, activation='relu'),\n",
        "    Dropout(0.3),\n",
        "\n",
        "    Dense(64, activation='relu'),\n",
        "    Dropout(0.3),\n",
        "\n",
        "    # Output layer for binary classification\n",
        "    Dense(1, activation='sigmoid')\n",
        "])"
      ],
      "metadata": {
        "colab": {
          "base_uri": "https://localhost:8080/"
        },
        "id": "5dG8Ma4v6VLe",
        "outputId": "73cca15c-129f-4f48-b452-6021872d161f"
      },
      "execution_count": null,
      "outputs": [
        {
          "output_type": "stream",
          "name": "stderr",
          "text": [
            "/usr/local/lib/python3.11/dist-packages/keras/src/layers/convolutional/base_conv.py:107: UserWarning: Do not pass an `input_shape`/`input_dim` argument to a layer. When using Sequential models, prefer using an `Input(shape)` object as the first layer in the model instead.\n",
            "  super().__init__(activity_regularizer=activity_regularizer, **kwargs)\n"
          ]
        }
      ]
    },
    {
      "cell_type": "code",
      "source": [
        "# Compile the model\n",
        "model_1_1.compile(\n",
        "    optimizer=Adam(learning_rate=0.0001),\n",
        "    loss='binary_crossentropy',\n",
        "    metrics=['accuracy', Precision(name='precision'), Recall(name='recall')]\n",
        ")"
      ],
      "metadata": {
        "id": "Nss2swTA6gUI"
      },
      "execution_count": null,
      "outputs": []
    },
    {
      "cell_type": "code",
      "source": [
        "model_1_1.fit(X_train_fed, y_train_fed,\n",
        "            batch_size=16, epochs=30,\n",
        "            validation_data=(X_val_fed, y_val_fed),\n",
        "            callbacks=[early_stopping],\n",
        "            class_weight=class_weights_dict)"
      ],
      "metadata": {
        "colab": {
          "base_uri": "https://localhost:8080/"
        },
        "id": "_iSmjJMic4BG",
        "outputId": "2e6674ff-168c-4a23-9bf5-b83b974fdded"
      },
      "execution_count": null,
      "outputs": [
        {
          "output_type": "stream",
          "name": "stdout",
          "text": [
            "Epoch 1/30\n",
            "\u001b[1m114/114\u001b[0m \u001b[32m━━━━━━━━━━━━━━━━━━━━\u001b[0m\u001b[37m\u001b[0m \u001b[1m7s\u001b[0m 35ms/step - accuracy: 0.5243 - loss: 1.0511 - precision: 0.2993 - recall: 0.5365 - val_accuracy: 0.5297 - val_loss: 0.6954 - val_precision: 0.3093 - val_recall: 0.5887\n",
            "Epoch 2/30\n",
            "\u001b[1m114/114\u001b[0m \u001b[32m━━━━━━━━━━━━━━━━━━━━\u001b[0m\u001b[37m\u001b[0m \u001b[1m3s\u001b[0m 30ms/step - accuracy: 0.5527 - loss: 0.7448 - precision: 0.3294 - recall: 0.5756 - val_accuracy: 0.5780 - val_loss: 0.6685 - val_precision: 0.3365 - val_recall: 0.5645\n",
            "Epoch 3/30\n",
            "\u001b[1m114/114\u001b[0m \u001b[32m━━━━━━━━━━━━━━━━━━━━\u001b[0m\u001b[37m\u001b[0m \u001b[1m4s\u001b[0m 31ms/step - accuracy: 0.5968 - loss: 0.6884 - precision: 0.3370 - recall: 0.5498 - val_accuracy: 0.6066 - val_loss: 0.6798 - val_precision: 0.3756 - val_recall: 0.6694\n",
            "Epoch 4/30\n",
            "\u001b[1m114/114\u001b[0m \u001b[32m━━━━━━━━━━━━━━━━━━━━\u001b[0m\u001b[37m\u001b[0m \u001b[1m4s\u001b[0m 32ms/step - accuracy: 0.6281 - loss: 0.6363 - precision: 0.3980 - recall: 0.6909 - val_accuracy: 0.6396 - val_loss: 0.6443 - val_precision: 0.3718 - val_recall: 0.4677\n",
            "Epoch 5/30\n",
            "\u001b[1m114/114\u001b[0m \u001b[32m━━━━━━━━━━━━━━━━━━━━\u001b[0m\u001b[37m\u001b[0m \u001b[1m3s\u001b[0m 30ms/step - accuracy: 0.6594 - loss: 0.6320 - precision: 0.4405 - recall: 0.6315 - val_accuracy: 0.6857 - val_loss: 0.6314 - val_precision: 0.4286 - val_recall: 0.4597\n",
            "Epoch 6/30\n",
            "\u001b[1m114/114\u001b[0m \u001b[32m━━━━━━━━━━━━━━━━━━━━\u001b[0m\u001b[37m\u001b[0m \u001b[1m3s\u001b[0m 30ms/step - accuracy: 0.6502 - loss: 0.6376 - precision: 0.4247 - recall: 0.6722 - val_accuracy: 0.6374 - val_loss: 0.6411 - val_precision: 0.3586 - val_recall: 0.4194\n",
            "Epoch 7/30\n",
            "\u001b[1m114/114\u001b[0m \u001b[32m━━━━━━━━━━━━━━━━━━━━\u001b[0m\u001b[37m\u001b[0m \u001b[1m4s\u001b[0m 31ms/step - accuracy: 0.6846 - loss: 0.5658 - precision: 0.4592 - recall: 0.7202 - val_accuracy: 0.6330 - val_loss: 0.6929 - val_precision: 0.3897 - val_recall: 0.6129\n",
            "Epoch 8/30\n",
            "\u001b[1m114/114\u001b[0m \u001b[32m━━━━━━━━━━━━━━━━━━━━\u001b[0m\u001b[37m\u001b[0m \u001b[1m4s\u001b[0m 31ms/step - accuracy: 0.7140 - loss: 0.5406 - precision: 0.4803 - recall: 0.7189 - val_accuracy: 0.6857 - val_loss: 0.6157 - val_precision: 0.4174 - val_recall: 0.3871\n",
            "Epoch 9/30\n",
            "\u001b[1m114/114\u001b[0m \u001b[32m━━━━━━━━━━━━━━━━━━━━\u001b[0m\u001b[37m\u001b[0m \u001b[1m3s\u001b[0m 30ms/step - accuracy: 0.7353 - loss: 0.5265 - precision: 0.5369 - recall: 0.7113 - val_accuracy: 0.6264 - val_loss: 0.6657 - val_precision: 0.3526 - val_recall: 0.4435\n",
            "Epoch 10/30\n",
            "\u001b[1m114/114\u001b[0m \u001b[32m━━━━━━━━━━━━━━━━━━━━\u001b[0m\u001b[37m\u001b[0m \u001b[1m3s\u001b[0m 30ms/step - accuracy: 0.7882 - loss: 0.4671 - precision: 0.5708 - recall: 0.7615 - val_accuracy: 0.6264 - val_loss: 0.6808 - val_precision: 0.3802 - val_recall: 0.5887\n",
            "Epoch 11/30\n",
            "\u001b[1m114/114\u001b[0m \u001b[32m━━━━━━━━━━━━━━━━━━━━\u001b[0m\u001b[37m\u001b[0m \u001b[1m4s\u001b[0m 32ms/step - accuracy: 0.7575 - loss: 0.4615 - precision: 0.5414 - recall: 0.8209 - val_accuracy: 0.6813 - val_loss: 0.6649 - val_precision: 0.4222 - val_recall: 0.4597\n"
          ]
        },
        {
          "output_type": "execute_result",
          "data": {
            "text/plain": [
              "<keras.src.callbacks.history.History at 0x782ae429b0d0>"
            ]
          },
          "metadata": {},
          "execution_count": 132
        }
      ]
    },
    {
      "cell_type": "code",
      "source": [
        "evaluate_test_set(model_1_1, X_test_mfcc_padded_fed, y_test)"
      ],
      "metadata": {
        "colab": {
          "base_uri": "https://localhost:8080/"
        },
        "id": "8LqLhDLbduz9",
        "outputId": "37d20ba7-68e0-41c7-e8be-efa4b2653d55"
      },
      "execution_count": null,
      "outputs": [
        {
          "output_type": "stream",
          "name": "stdout",
          "text": [
            "\u001b[1m15/15\u001b[0m \u001b[32m━━━━━━━━━━━━━━━━━━━━\u001b[0m\u001b[37m\u001b[0m \u001b[1m0s\u001b[0m 14ms/step - accuracy: 0.7379 - loss: 0.5292 - precision: 0.4237 - recall: 0.5208\n",
            "Test Loss: 0.5432\n",
            "Test Accuracy: 0.7201\n",
            "Test Precision: 0.3934\n",
            "Test Recall: 0.4571\n"
          ]
        }
      ]
    },
    {
      "cell_type": "code",
      "source": [
        "evaluate_model(model_1_1, X_test_mfcc_padded_fed, y_test)"
      ],
      "metadata": {
        "colab": {
          "base_uri": "https://localhost:8080/",
          "height": 695
        },
        "id": "fZzISwKvd1Xu",
        "outputId": "8c02ff09-c41a-40aa-d9b0-cf0617b8d60e"
      },
      "execution_count": null,
      "outputs": [
        {
          "output_type": "stream",
          "name": "stdout",
          "text": [
            "\u001b[1m15/15\u001b[0m \u001b[32m━━━━━━━━━━━━━━━━━━━━\u001b[0m\u001b[37m\u001b[0m \u001b[1m0s\u001b[0m 20ms/step\n"
          ]
        },
        {
          "output_type": "display_data",
          "data": {
            "text/plain": [
              "<Figure size 600x500 with 2 Axes>"
            ],
            "image/png": "[encoded data removed]"
          },
          "metadata": {}
        },
        {
          "output_type": "stream",
          "name": "stdout",
          "text": [
            "\n",
            "Classification Report:\n",
            "               precision    recall  f1-score   support\n",
            "\n",
            "           0       0.84      0.80      0.82       363\n",
            "           1       0.39      0.46      0.42       105\n",
            "\n",
            "    accuracy                           0.72       468\n",
            "   macro avg       0.61      0.63      0.62       468\n",
            "weighted avg       0.74      0.72      0.73       468\n",
            "\n"
          ]
        }
      ]
    },
    {
      "cell_type": "markdown",
      "source": [
        "The model sacrificed a bit of overall accuracy (0.76 → 0.72), but have much better balance between classes. The F1 score of Class1 increase although the F1 score of Class2 decrease. The model converges slowly but still overfit."
      ],
      "metadata": {
        "id": "wk89FqS7TVhP"
      }
    },
    {
      "cell_type": "markdown",
      "source": [
        "### Model 2 - Decrease complexity"
      ],
      "metadata": {
        "id": "hDYo5duHyfiw"
      }
    },
    {
      "cell_type": "markdown",
      "source": [
        "The following changes are implemented:\n",
        "*  All layers are regularised as the previouse modle is converging too quickly\n",
        "\n",
        "*  dropout rate unchanged\n",
        "\n",
        "*  adaptive learning rate scheduler is inplemented instead of a fixed learning rate"
      ],
      "metadata": {
        "id": "aeMne-3ky5Gr"
      }
    },
    {
      "cell_type": "code",
      "source": [
        "# Build the CNN model\n",
        "model_2 = Sequential([\n",
        "    # Convolutional Layers with L2 Regularization\n",
        "    Conv2D(16, (3, 3), activation='relu', padding='same',\n",
        "           input_shape=input_shape, kernel_regularizer=l2(0.01)),\n",
        "    BatchNormalization(),\n",
        "    MaxPooling2D((2, 2)),\n",
        "\n",
        "    Conv2D(32, (3, 3), activation='relu', padding='same',\n",
        "           kernel_regularizer=l2(0.01)),\n",
        "    BatchNormalization(),\n",
        "    MaxPooling2D((2, 2)),\n",
        "\n",
        "    Conv2D(64, (3, 3), activation='relu', padding='same',\n",
        "           kernel_regularizer=l2(0.01)),\n",
        "    BatchNormalization(),\n",
        "    MaxPooling2D((2, 2)),\n",
        "\n",
        "    # Flatten & Fully Connected Layers with L2 Regularization\n",
        "    Flatten(),\n",
        "    Dense(64, activation='relu', kernel_regularizer=l2(0.01)),\n",
        "    Dropout(0.3),\n",
        "\n",
        "    Dense(32, activation='relu', kernel_regularizer=l2(0.01)),\n",
        "    Dropout(0.3),\n",
        "\n",
        "    # Output layer for binary classification\n",
        "    Dense(1, activation='sigmoid', kernel_regularizer=l2(0.01))\n",
        "])"
      ],
      "metadata": {
        "id": "1iFD-yWAykbp",
        "colab": {
          "base_uri": "https://localhost:8080/"
        },
        "outputId": "075b57cf-9501-4210-f77e-e2c52a45b035"
      },
      "execution_count": null,
      "outputs": [
        {
          "output_type": "stream",
          "name": "stderr",
          "text": [
            "/usr/local/lib/python3.11/dist-packages/keras/src/layers/convolutional/base_conv.py:107: UserWarning: Do not pass an `input_shape`/`input_dim` argument to a layer. When using Sequential models, prefer using an `Input(shape)` object as the first layer in the model instead.\n",
            "  super().__init__(activity_regularizer=activity_regularizer, **kwargs)\n"
          ]
        }
      ]
    },
    {
      "cell_type": "code",
      "source": [
        "model_2.summary()"
      ],
      "metadata": {
        "colab": {
          "base_uri": "https://localhost:8080/",
          "height": 666
        },
        "id": "0wsDjS1KytZM",
        "outputId": "98264918-4f33-421f-9bdc-ed262f66c1a6"
      },
      "execution_count": null,
      "outputs": [
        {
          "output_type": "display_data",
          "data": {
            "text/plain": [
              "\u001b[1mModel: \"sequential_24\"\u001b[0m\n"
            ],
            "text/html": [
              "<pre style=\"white-space:pre;overflow-x:auto;line-height:normal;font-family:Menlo,'DejaVu Sans Mono',consolas,'Courier New',monospace\"><span style=\"font-weight: bold\">Model: \"sequential_24\"</span>\n",
              "</pre>\n"
            ]
          },
          "metadata": {}
        },
        {
          "output_type": "display_data",
          "data": {
            "text/plain": [
              "┏━━━━━━━━━━━━━━━━━━━━━━━━━━━━━━━━━━━━━━┳━━━━━━━━━━━━━━━━━━━━━━━━━━━━━┳━━━━━━━━━━━━━━━━━┓\n",
              "┃\u001b[1m \u001b[0m\u001b[1mLayer (type)                        \u001b[0m\u001b[1m \u001b[0m┃\u001b[1m \u001b[0m\u001b[1mOutput Shape               \u001b[0m\u001b[1m \u001b[0m┃\u001b[1m \u001b[0m\u001b[1m        Param #\u001b[0m\u001b[1m \u001b[0m┃\n",
              "┡━━━━━━━━━━━━━━━━━━━━━━━━━━━━━━━━━━━━━━╇━━━━━━━━━━━━━━━━━━━━━━━━━━━━━╇━━━━━━━━━━━━━━━━━┩\n",
              "│ conv2d_72 (\u001b[38;5;33mConv2D\u001b[0m)                   │ (\u001b[38;5;45mNone\u001b[0m, \u001b[38;5;34m184\u001b[0m, \u001b[38;5;34m13\u001b[0m, \u001b[38;5;34m16\u001b[0m)         │             \u001b[38;5;34m160\u001b[0m │\n",
              "├──────────────────────────────────────┼─────────────────────────────┼─────────────────┤\n",
              "│ batch_normalization_72               │ (\u001b[38;5;45mNone\u001b[0m, \u001b[38;5;34m184\u001b[0m, \u001b[38;5;34m13\u001b[0m, \u001b[38;5;34m16\u001b[0m)         │              \u001b[38;5;34m64\u001b[0m │\n",
              "│ (\u001b[38;5;33mBatchNormalization\u001b[0m)                 │                             │                 │\n",
              "├──────────────────────────────────────┼─────────────────────────────┼─────────────────┤\n",
              "│ max_pooling2d_72 (\u001b[38;5;33mMaxPooling2D\u001b[0m)      │ (\u001b[38;5;45mNone\u001b[0m, \u001b[38;5;34m92\u001b[0m, \u001b[38;5;34m6\u001b[0m, \u001b[38;5;34m16\u001b[0m)           │               \u001b[38;5;34m0\u001b[0m │\n",
              "├──────────────────────────────────────┼─────────────────────────────┼─────────────────┤\n",
              "│ conv2d_73 (\u001b[38;5;33mConv2D\u001b[0m)                   │ (\u001b[38;5;45mNone\u001b[0m, \u001b[38;5;34m92\u001b[0m, \u001b[38;5;34m6\u001b[0m, \u001b[38;5;34m32\u001b[0m)           │           \u001b[38;5;34m4,640\u001b[0m │\n",
              "├──────────────────────────────────────┼─────────────────────────────┼─────────────────┤\n",
              "│ batch_normalization_73               │ (\u001b[38;5;45mNone\u001b[0m, \u001b[38;5;34m92\u001b[0m, \u001b[38;5;34m6\u001b[0m, \u001b[38;5;34m32\u001b[0m)           │             \u001b[38;5;34m128\u001b[0m │\n",
              "│ (\u001b[38;5;33mBatchNormalization\u001b[0m)                 │                             │                 │\n",
              "├──────────────────────────────────────┼─────────────────────────────┼─────────────────┤\n",
              "│ max_pooling2d_73 (\u001b[38;5;33mMaxPooling2D\u001b[0m)      │ (\u001b[38;5;45mNone\u001b[0m, \u001b[38;5;34m46\u001b[0m, \u001b[38;5;34m3\u001b[0m, \u001b[38;5;34m32\u001b[0m)           │               \u001b[38;5;34m0\u001b[0m │\n",
              "├──────────────────────────────────────┼─────────────────────────────┼─────────────────┤\n",
              "│ conv2d_74 (\u001b[38;5;33mConv2D\u001b[0m)                   │ (\u001b[38;5;45mNone\u001b[0m, \u001b[38;5;34m46\u001b[0m, \u001b[38;5;34m3\u001b[0m, \u001b[38;5;34m64\u001b[0m)           │          \u001b[38;5;34m18,496\u001b[0m │\n",
              "├──────────────────────────────────────┼─────────────────────────────┼─────────────────┤\n",
              "│ batch_normalization_74               │ (\u001b[38;5;45mNone\u001b[0m, \u001b[38;5;34m46\u001b[0m, \u001b[38;5;34m3\u001b[0m, \u001b[38;5;34m64\u001b[0m)           │             \u001b[38;5;34m256\u001b[0m │\n",
              "│ (\u001b[38;5;33mBatchNormalization\u001b[0m)                 │                             │                 │\n",
              "├──────────────────────────────────────┼─────────────────────────────┼─────────────────┤\n",
              "│ max_pooling2d_74 (\u001b[38;5;33mMaxPooling2D\u001b[0m)      │ (\u001b[38;5;45mNone\u001b[0m, \u001b[38;5;34m23\u001b[0m, \u001b[38;5;34m1\u001b[0m, \u001b[38;5;34m64\u001b[0m)           │               \u001b[38;5;34m0\u001b[0m │\n",
              "├──────────────────────────────────────┼─────────────────────────────┼─────────────────┤\n",
              "│ flatten_24 (\u001b[38;5;33mFlatten\u001b[0m)                 │ (\u001b[38;5;45mNone\u001b[0m, \u001b[38;5;34m1472\u001b[0m)                │               \u001b[38;5;34m0\u001b[0m │\n",
              "├──────────────────────────────────────┼─────────────────────────────┼─────────────────┤\n",
              "│ dense_72 (\u001b[38;5;33mDense\u001b[0m)                     │ (\u001b[38;5;45mNone\u001b[0m, \u001b[38;5;34m64\u001b[0m)                  │          \u001b[38;5;34m94,272\u001b[0m │\n",
              "├──────────────────────────────────────┼─────────────────────────────┼─────────────────┤\n",
              "│ dropout_48 (\u001b[38;5;33mDropout\u001b[0m)                 │ (\u001b[38;5;45mNone\u001b[0m, \u001b[38;5;34m64\u001b[0m)                  │               \u001b[38;5;34m0\u001b[0m │\n",
              "├──────────────────────────────────────┼─────────────────────────────┼─────────────────┤\n",
              "│ dense_73 (\u001b[38;5;33mDense\u001b[0m)                     │ (\u001b[38;5;45mNone\u001b[0m, \u001b[38;5;34m32\u001b[0m)                  │           \u001b[38;5;34m2,080\u001b[0m │\n",
              "├──────────────────────────────────────┼─────────────────────────────┼─────────────────┤\n",
              "│ dropout_49 (\u001b[38;5;33mDropout\u001b[0m)                 │ (\u001b[38;5;45mNone\u001b[0m, \u001b[38;5;34m32\u001b[0m)                  │               \u001b[38;5;34m0\u001b[0m │\n",
              "├──────────────────────────────────────┼─────────────────────────────┼─────────────────┤\n",
              "│ dense_74 (\u001b[38;5;33mDense\u001b[0m)                     │ (\u001b[38;5;45mNone\u001b[0m, \u001b[38;5;34m1\u001b[0m)                   │              \u001b[38;5;34m33\u001b[0m │\n",
              "└──────────────────────────────────────┴─────────────────────────────┴─────────────────┘\n"
            ],
            "text/html": [
              "<pre style=\"white-space:pre;overflow-x:auto;line-height:normal;font-family:Menlo,'DejaVu Sans Mono',consolas,'Courier New',monospace\">┏━━━━━━━━━━━━━━━━━━━━━━━━━━━━━━━━━━━━━━┳━━━━━━━━━━━━━━━━━━━━━━━━━━━━━┳━━━━━━━━━━━━━━━━━┓\n",
              "┃<span style=\"font-weight: bold\"> Layer (type)                         </span>┃<span style=\"font-weight: bold\"> Output Shape                </span>┃<span style=\"font-weight: bold\">         Param # </span>┃\n",
              "┡━━━━━━━━━━━━━━━━━━━━━━━━━━━━━━━━━━━━━━╇━━━━━━━━━━━━━━━━━━━━━━━━━━━━━╇━━━━━━━━━━━━━━━━━┩\n",
              "│ conv2d_72 (<span style=\"color: #0087ff; text-decoration-color: #0087ff\">Conv2D</span>)                   │ (<span style=\"color: #00d7ff; text-decoration-color: #00d7ff\">None</span>, <span style=\"color: #00af00; text-decoration-color: #00af00\">184</span>, <span style=\"color: #00af00; text-decoration-color: #00af00\">13</span>, <span style=\"color: #00af00; text-decoration-color: #00af00\">16</span>)         │             <span style=\"color: #00af00; text-decoration-color: #00af00\">160</span> │\n",
              "├──────────────────────────────────────┼─────────────────────────────┼─────────────────┤\n",
              "│ batch_normalization_72               │ (<span style=\"color: #00d7ff; text-decoration-color: #00d7ff\">None</span>, <span style=\"color: #00af00; text-decoration-color: #00af00\">184</span>, <span style=\"color: #00af00; text-decoration-color: #00af00\">13</span>, <span style=\"color: #00af00; text-decoration-color: #00af00\">16</span>)         │              <span style=\"color: #00af00; text-decoration-color: #00af00\">64</span> │\n",
              "│ (<span style=\"color: #0087ff; text-decoration-color: #0087ff\">BatchNormalization</span>)                 │                             │                 │\n",
              "├──────────────────────────────────────┼─────────────────────────────┼─────────────────┤\n",
              "│ max_pooling2d_72 (<span style=\"color: #0087ff; text-decoration-color: #0087ff\">MaxPooling2D</span>)      │ (<span style=\"color: #00d7ff; text-decoration-color: #00d7ff\">None</span>, <span style=\"color: #00af00; text-decoration-color: #00af00\">92</span>, <span style=\"color: #00af00; text-decoration-color: #00af00\">6</span>, <span style=\"color: #00af00; text-decoration-color: #00af00\">16</span>)           │               <span style=\"color: #00af00; text-decoration-color: #00af00\">0</span> │\n",
              "├──────────────────────────────────────┼─────────────────────────────┼─────────────────┤\n",
              "│ conv2d_73 (<span style=\"color: #0087ff; text-decoration-color: #0087ff\">Conv2D</span>)                   │ (<span style=\"color: #00d7ff; text-decoration-color: #00d7ff\">None</span>, <span style=\"color: #00af00; text-decoration-color: #00af00\">92</span>, <span style=\"color: #00af00; text-decoration-color: #00af00\">6</span>, <span style=\"color: #00af00; text-decoration-color: #00af00\">32</span>)           │           <span style=\"color: #00af00; text-decoration-color: #00af00\">4,640</span> │\n",
              "├──────────────────────────────────────┼─────────────────────────────┼─────────────────┤\n",
              "│ batch_normalization_73               │ (<span style=\"color: #00d7ff; text-decoration-color: #00d7ff\">None</span>, <span style=\"color: #00af00; text-decoration-color: #00af00\">92</span>, <span style=\"color: #00af00; text-decoration-color: #00af00\">6</span>, <span style=\"color: #00af00; text-decoration-color: #00af00\">32</span>)           │             <span style=\"color: #00af00; text-decoration-color: #00af00\">128</span> │\n",
              "│ (<span style=\"color: #0087ff; text-decoration-color: #0087ff\">BatchNormalization</span>)                 │                             │                 │\n",
              "├──────────────────────────────────────┼─────────────────────────────┼─────────────────┤\n",
              "│ max_pooling2d_73 (<span style=\"color: #0087ff; text-decoration-color: #0087ff\">MaxPooling2D</span>)      │ (<span style=\"color: #00d7ff; text-decoration-color: #00d7ff\">None</span>, <span style=\"color: #00af00; text-decoration-color: #00af00\">46</span>, <span style=\"color: #00af00; text-decoration-color: #00af00\">3</span>, <span style=\"color: #00af00; text-decoration-color: #00af00\">32</span>)           │               <span style=\"color: #00af00; text-decoration-color: #00af00\">0</span> │\n",
              "├──────────────────────────────────────┼─────────────────────────────┼─────────────────┤\n",
              "│ conv2d_74 (<span style=\"color: #0087ff; text-decoration-color: #0087ff\">Conv2D</span>)                   │ (<span style=\"color: #00d7ff; text-decoration-color: #00d7ff\">None</span>, <span style=\"color: #00af00; text-decoration-color: #00af00\">46</span>, <span style=\"color: #00af00; text-decoration-color: #00af00\">3</span>, <span style=\"color: #00af00; text-decoration-color: #00af00\">64</span>)           │          <span style=\"color: #00af00; text-decoration-color: #00af00\">18,496</span> │\n",
              "├──────────────────────────────────────┼─────────────────────────────┼─────────────────┤\n",
              "│ batch_normalization_74               │ (<span style=\"color: #00d7ff; text-decoration-color: #00d7ff\">None</span>, <span style=\"color: #00af00; text-decoration-color: #00af00\">46</span>, <span style=\"color: #00af00; text-decoration-color: #00af00\">3</span>, <span style=\"color: #00af00; text-decoration-color: #00af00\">64</span>)           │             <span style=\"color: #00af00; text-decoration-color: #00af00\">256</span> │\n",
              "│ (<span style=\"color: #0087ff; text-decoration-color: #0087ff\">BatchNormalization</span>)                 │                             │                 │\n",
              "├──────────────────────────────────────┼─────────────────────────────┼─────────────────┤\n",
              "│ max_pooling2d_74 (<span style=\"color: #0087ff; text-decoration-color: #0087ff\">MaxPooling2D</span>)      │ (<span style=\"color: #00d7ff; text-decoration-color: #00d7ff\">None</span>, <span style=\"color: #00af00; text-decoration-color: #00af00\">23</span>, <span style=\"color: #00af00; text-decoration-color: #00af00\">1</span>, <span style=\"color: #00af00; text-decoration-color: #00af00\">64</span>)           │               <span style=\"color: #00af00; text-decoration-color: #00af00\">0</span> │\n",
              "├──────────────────────────────────────┼─────────────────────────────┼─────────────────┤\n",
              "│ flatten_24 (<span style=\"color: #0087ff; text-decoration-color: #0087ff\">Flatten</span>)                 │ (<span style=\"color: #00d7ff; text-decoration-color: #00d7ff\">None</span>, <span style=\"color: #00af00; text-decoration-color: #00af00\">1472</span>)                │               <span style=\"color: #00af00; text-decoration-color: #00af00\">0</span> │\n",
              "├──────────────────────────────────────┼─────────────────────────────┼─────────────────┤\n",
              "│ dense_72 (<span style=\"color: #0087ff; text-decoration-color: #0087ff\">Dense</span>)                     │ (<span style=\"color: #00d7ff; text-decoration-color: #00d7ff\">None</span>, <span style=\"color: #00af00; text-decoration-color: #00af00\">64</span>)                  │          <span style=\"color: #00af00; text-decoration-color: #00af00\">94,272</span> │\n",
              "├──────────────────────────────────────┼─────────────────────────────┼─────────────────┤\n",
              "│ dropout_48 (<span style=\"color: #0087ff; text-decoration-color: #0087ff\">Dropout</span>)                 │ (<span style=\"color: #00d7ff; text-decoration-color: #00d7ff\">None</span>, <span style=\"color: #00af00; text-decoration-color: #00af00\">64</span>)                  │               <span style=\"color: #00af00; text-decoration-color: #00af00\">0</span> │\n",
              "├──────────────────────────────────────┼─────────────────────────────┼─────────────────┤\n",
              "│ dense_73 (<span style=\"color: #0087ff; text-decoration-color: #0087ff\">Dense</span>)                     │ (<span style=\"color: #00d7ff; text-decoration-color: #00d7ff\">None</span>, <span style=\"color: #00af00; text-decoration-color: #00af00\">32</span>)                  │           <span style=\"color: #00af00; text-decoration-color: #00af00\">2,080</span> │\n",
              "├──────────────────────────────────────┼─────────────────────────────┼─────────────────┤\n",
              "│ dropout_49 (<span style=\"color: #0087ff; text-decoration-color: #0087ff\">Dropout</span>)                 │ (<span style=\"color: #00d7ff; text-decoration-color: #00d7ff\">None</span>, <span style=\"color: #00af00; text-decoration-color: #00af00\">32</span>)                  │               <span style=\"color: #00af00; text-decoration-color: #00af00\">0</span> │\n",
              "├──────────────────────────────────────┼─────────────────────────────┼─────────────────┤\n",
              "│ dense_74 (<span style=\"color: #0087ff; text-decoration-color: #0087ff\">Dense</span>)                     │ (<span style=\"color: #00d7ff; text-decoration-color: #00d7ff\">None</span>, <span style=\"color: #00af00; text-decoration-color: #00af00\">1</span>)                   │              <span style=\"color: #00af00; text-decoration-color: #00af00\">33</span> │\n",
              "└──────────────────────────────────────┴─────────────────────────────┴─────────────────┘\n",
              "</pre>\n"
            ]
          },
          "metadata": {}
        },
        {
          "output_type": "display_data",
          "data": {
            "text/plain": [
              "\u001b[1m Total params: \u001b[0m\u001b[38;5;34m120,129\u001b[0m (469.25 KB)\n"
            ],
            "text/html": [
              "<pre style=\"white-space:pre;overflow-x:auto;line-height:normal;font-family:Menlo,'DejaVu Sans Mono',consolas,'Courier New',monospace\"><span style=\"font-weight: bold\"> Total params: </span><span style=\"color: #00af00; text-decoration-color: #00af00\">120,129</span> (469.25 KB)\n",
              "</pre>\n"
            ]
          },
          "metadata": {}
        },
        {
          "output_type": "display_data",
          "data": {
            "text/plain": [
              "\u001b[1m Trainable params: \u001b[0m\u001b[38;5;34m119,905\u001b[0m (468.38 KB)\n"
            ],
            "text/html": [
              "<pre style=\"white-space:pre;overflow-x:auto;line-height:normal;font-family:Menlo,'DejaVu Sans Mono',consolas,'Courier New',monospace\"><span style=\"font-weight: bold\"> Trainable params: </span><span style=\"color: #00af00; text-decoration-color: #00af00\">119,905</span> (468.38 KB)\n",
              "</pre>\n"
            ]
          },
          "metadata": {}
        },
        {
          "output_type": "display_data",
          "data": {
            "text/plain": [
              "\u001b[1m Non-trainable params: \u001b[0m\u001b[38;5;34m224\u001b[0m (896.00 B)\n"
            ],
            "text/html": [
              "<pre style=\"white-space:pre;overflow-x:auto;line-height:normal;font-family:Menlo,'DejaVu Sans Mono',consolas,'Courier New',monospace\"><span style=\"font-weight: bold\"> Non-trainable params: </span><span style=\"color: #00af00; text-decoration-color: #00af00\">224</span> (896.00 B)\n",
              "</pre>\n"
            ]
          },
          "metadata": {}
        }
      ]
    },
    {
      "cell_type": "code",
      "source": [
        "# Reduce learning rate when validation loss plateaus\n",
        "lr_scheduler = ReduceLROnPlateau(\n",
        "    monitor='val_loss',   # Metric to monitor\n",
        "    factor=0.5,           # Factor to reduce the learning rate by (new_lr = old_lr * factor)\n",
        "    patience=2,           # Number of epochs with no improvement after which learning rate will be reduced\n",
        "    min_lr=1e-6,          # Minimum learning rate\n",
        "    verbose=1             # Verbosity mode\n",
        ")"
      ],
      "metadata": {
        "id": "F7yI8Pxb0hw3"
      },
      "execution_count": null,
      "outputs": []
    },
    {
      "cell_type": "code",
      "source": [
        "# Early stopping callback with a larger patience\n",
        "early_stopping = EarlyStopping(monitor='val_loss', patience=3, restore_best_weights=True)"
      ],
      "metadata": {
        "id": "PAsf4X_3emWo"
      },
      "execution_count": null,
      "outputs": []
    },
    {
      "cell_type": "code",
      "source": [
        "# Compile the model\n",
        "model_2.compile(\n",
        "    optimizer=Adam(learning_rate=0.0001), #starting lr\n",
        "    loss='binary_crossentropy',\n",
        "    metrics=['accuracy', Precision(name='precision'), Recall(name='recall')]\n",
        ")"
      ],
      "metadata": {
        "id": "JQ9BCsfL1daA"
      },
      "execution_count": null,
      "outputs": []
    },
    {
      "cell_type": "code",
      "source": [
        "# Train the model with adaptive learning rate\n",
        "num_epochs = 50 # allow more potentail epoch, there is early stopping to prevent overfitting\n",
        "history_regularisedCNN = model_2.fit(\n",
        "    X_train_fed, y_train_fed,\n",
        "    batch_size=16,\n",
        "    epochs=num_epochs,\n",
        "    validation_data=(X_val_fed, y_val_fed),\n",
        "    callbacks=[early_stopping, lr_scheduler],  #include both callbacks\n",
        "    class_weight=class_weights_dict\n",
        ")\n",
        "\n",
        "print(\"Model training completed.\")"
      ],
      "metadata": {
        "colab": {
          "base_uri": "https://localhost:8080/"
        },
        "id": "91of_SaA0nMN",
        "outputId": "8f1384c5-dc38-4634-a4e5-cc5ec3986b70"
      },
      "execution_count": null,
      "outputs": [
        {
          "output_type": "stream",
          "name": "stdout",
          "text": [
            "Epoch 1/50\n",
            "\u001b[1m114/114\u001b[0m \u001b[32m━━━━━━━━━━━━━━━━━━━━\u001b[0m\u001b[37m\u001b[0m \u001b[1m6s\u001b[0m 24ms/step - accuracy: 0.5398 - loss: 3.2759 - precision: 0.3010 - recall: 0.4627 - val_accuracy: 0.4000 - val_loss: 3.0232 - val_precision: 0.2865 - val_recall: 0.8065 - learning_rate: 1.0000e-04\n",
            "Epoch 2/50\n",
            "\u001b[1m114/114\u001b[0m \u001b[32m━━━━━━━━━━━━━━━━━━━━\u001b[0m\u001b[37m\u001b[0m \u001b[1m2s\u001b[0m 19ms/step - accuracy: 0.5247 - loss: 3.0207 - precision: 0.3240 - recall: 0.5791 - val_accuracy: 0.4615 - val_loss: 2.9369 - val_precision: 0.3042 - val_recall: 0.7581 - learning_rate: 1.0000e-04\n",
            "Epoch 3/50\n",
            "\u001b[1m114/114\u001b[0m \u001b[32m━━━━━━━━━━━━━━━━━━━━\u001b[0m\u001b[37m\u001b[0m \u001b[1m2s\u001b[0m 18ms/step - accuracy: 0.5793 - loss: 2.8834 - precision: 0.3438 - recall: 0.6295 - val_accuracy: 0.5033 - val_loss: 2.8567 - val_precision: 0.3083 - val_recall: 0.6613 - learning_rate: 1.0000e-04\n",
            "Epoch 4/50\n",
            "\u001b[1m114/114\u001b[0m \u001b[32m━━━━━━━━━━━━━━━━━━━━\u001b[0m\u001b[37m\u001b[0m \u001b[1m2s\u001b[0m 18ms/step - accuracy: 0.5939 - loss: 2.8035 - precision: 0.3262 - recall: 0.5705 - val_accuracy: 0.5275 - val_loss: 2.7878 - val_precision: 0.3216 - val_recall: 0.6613 - learning_rate: 1.0000e-04\n",
            "Epoch 5/50\n",
            "\u001b[1m114/114\u001b[0m \u001b[32m━━━━━━━━━━━━━━━━━━━━\u001b[0m\u001b[37m\u001b[0m \u001b[1m2s\u001b[0m 18ms/step - accuracy: 0.5973 - loss: 2.7499 - precision: 0.3686 - recall: 0.6472 - val_accuracy: 0.5868 - val_loss: 2.7148 - val_precision: 0.3462 - val_recall: 0.5806 - learning_rate: 1.0000e-04\n",
            "Epoch 6/50\n",
            "\u001b[1m114/114\u001b[0m \u001b[32m━━━━━━━━━━━━━━━━━━━━\u001b[0m\u001b[37m\u001b[0m \u001b[1m2s\u001b[0m 18ms/step - accuracy: 0.5931 - loss: 2.7033 - precision: 0.3673 - recall: 0.5833 - val_accuracy: 0.6396 - val_loss: 2.6337 - val_precision: 0.4010 - val_recall: 0.6532 - learning_rate: 1.0000e-04\n",
            "Epoch 7/50\n",
            "\u001b[1m114/114\u001b[0m \u001b[32m━━━━━━━━━━━━━━━━━━━━\u001b[0m\u001b[37m\u001b[0m \u001b[1m2s\u001b[0m 19ms/step - accuracy: 0.6221 - loss: 2.6221 - precision: 0.3616 - recall: 0.5532 - val_accuracy: 0.5692 - val_loss: 2.5986 - val_precision: 0.3512 - val_recall: 0.6855 - learning_rate: 1.0000e-04\n",
            "Epoch 8/50\n",
            "\u001b[1m114/114\u001b[0m \u001b[32m━━━━━━━━━━━━━━━━━━━━\u001b[0m\u001b[37m\u001b[0m \u001b[1m2s\u001b[0m 19ms/step - accuracy: 0.6245 - loss: 2.5437 - precision: 0.4151 - recall: 0.6847 - val_accuracy: 0.6110 - val_loss: 2.5187 - val_precision: 0.3695 - val_recall: 0.6048 - learning_rate: 1.0000e-04\n",
            "Epoch 9/50\n",
            "\u001b[1m114/114\u001b[0m \u001b[32m━━━━━━━━━━━━━━━━━━━━\u001b[0m\u001b[37m\u001b[0m \u001b[1m2s\u001b[0m 18ms/step - accuracy: 0.6266 - loss: 2.4893 - precision: 0.3846 - recall: 0.6167 - val_accuracy: 0.6154 - val_loss: 2.4687 - val_precision: 0.3768 - val_recall: 0.6290 - learning_rate: 1.0000e-04\n",
            "Epoch 10/50\n",
            "\u001b[1m114/114\u001b[0m \u001b[32m━━━━━━━━━━━━━━━━━━━━\u001b[0m\u001b[37m\u001b[0m \u001b[1m2s\u001b[0m 18ms/step - accuracy: 0.6585 - loss: 2.4206 - precision: 0.4458 - recall: 0.6970 - val_accuracy: 0.5934 - val_loss: 2.4254 - val_precision: 0.3512 - val_recall: 0.5806 - learning_rate: 1.0000e-04\n",
            "Epoch 11/50\n",
            "\u001b[1m114/114\u001b[0m \u001b[32m━━━━━━━━━━━━━━━━━━━━\u001b[0m\u001b[37m\u001b[0m \u001b[1m2s\u001b[0m 18ms/step - accuracy: 0.6346 - loss: 2.3385 - precision: 0.3979 - recall: 0.7032 - val_accuracy: 0.6000 - val_loss: 2.3724 - val_precision: 0.3578 - val_recall: 0.5887 - learning_rate: 1.0000e-04\n",
            "Epoch 12/50\n",
            "\u001b[1m114/114\u001b[0m \u001b[32m━━━━━━━━━━━━━━━━━━━━\u001b[0m\u001b[37m\u001b[0m \u001b[1m2s\u001b[0m 19ms/step - accuracy: 0.6630 - loss: 2.2703 - precision: 0.4148 - recall: 0.7003 - val_accuracy: 0.6132 - val_loss: 2.2889 - val_precision: 0.3646 - val_recall: 0.5645 - learning_rate: 1.0000e-04\n",
            "Epoch 13/50\n",
            "\u001b[1m114/114\u001b[0m \u001b[32m━━━━━━━━━━━━━━━━━━━━\u001b[0m\u001b[37m\u001b[0m \u001b[1m2s\u001b[0m 19ms/step - accuracy: 0.6910 - loss: 2.1960 - precision: 0.4398 - recall: 0.7171 - val_accuracy: 0.6132 - val_loss: 2.2600 - val_precision: 0.3796 - val_recall: 0.6613 - learning_rate: 1.0000e-04\n",
            "Epoch 14/50\n",
            "\u001b[1m114/114\u001b[0m \u001b[32m━━━━━━━━━━━━━━━━━━━━\u001b[0m\u001b[37m\u001b[0m \u001b[1m2s\u001b[0m 19ms/step - accuracy: 0.6712 - loss: 2.1427 - precision: 0.4342 - recall: 0.7361 - val_accuracy: 0.6000 - val_loss: 2.2202 - val_precision: 0.3682 - val_recall: 0.6532 - learning_rate: 1.0000e-04\n",
            "Epoch 15/50\n",
            "\u001b[1m114/114\u001b[0m \u001b[32m━━━━━━━━━━━━━━━━━━━━\u001b[0m\u001b[37m\u001b[0m \u001b[1m2s\u001b[0m 18ms/step - accuracy: 0.7235 - loss: 2.0718 - precision: 0.4880 - recall: 0.7492 - val_accuracy: 0.6747 - val_loss: 2.1113 - val_precision: 0.4268 - val_recall: 0.5645 - learning_rate: 1.0000e-04\n",
            "Epoch 16/50\n",
            "\u001b[1m114/114\u001b[0m \u001b[32m━━━━━━━━━━━━━━━━━━━━\u001b[0m\u001b[37m\u001b[0m \u001b[1m2s\u001b[0m 18ms/step - accuracy: 0.7210 - loss: 2.0072 - precision: 0.4823 - recall: 0.7312 - val_accuracy: 0.6857 - val_loss: 2.0721 - val_precision: 0.4326 - val_recall: 0.4919 - learning_rate: 1.0000e-04\n",
            "Epoch 17/50\n",
            "\u001b[1m114/114\u001b[0m \u001b[32m━━━━━━━━━━━━━━━━━━━━\u001b[0m\u001b[37m\u001b[0m \u001b[1m2s\u001b[0m 18ms/step - accuracy: 0.7462 - loss: 1.9410 - precision: 0.5173 - recall: 0.7430 - val_accuracy: 0.6659 - val_loss: 2.0447 - val_precision: 0.4136 - val_recall: 0.5403 - learning_rate: 1.0000e-04\n",
            "Epoch 18/50\n",
            "\u001b[1m114/114\u001b[0m \u001b[32m━━━━━━━━━━━━━━━━━━━━\u001b[0m\u001b[37m\u001b[0m \u001b[1m2s\u001b[0m 18ms/step - accuracy: 0.7468 - loss: 1.8884 - precision: 0.5321 - recall: 0.7965 - val_accuracy: 0.6527 - val_loss: 2.0136 - val_precision: 0.3963 - val_recall: 0.5242 - learning_rate: 1.0000e-04\n",
            "Epoch 19/50\n",
            "\u001b[1m114/114\u001b[0m \u001b[32m━━━━━━━━━━━━━━━━━━━━\u001b[0m\u001b[37m\u001b[0m \u001b[1m2s\u001b[0m 19ms/step - accuracy: 0.7754 - loss: 1.8338 - precision: 0.5698 - recall: 0.8250 - val_accuracy: 0.6308 - val_loss: 1.9883 - val_precision: 0.3791 - val_recall: 0.5565 - learning_rate: 1.0000e-04\n",
            "Epoch 20/50\n",
            "\u001b[1m114/114\u001b[0m \u001b[32m━━━━━━━━━━━━━━━━━━━━\u001b[0m\u001b[37m\u001b[0m \u001b[1m2s\u001b[0m 19ms/step - accuracy: 0.7786 - loss: 1.7693 - precision: 0.5646 - recall: 0.8073 - val_accuracy: 0.6374 - val_loss: 1.9423 - val_precision: 0.3867 - val_recall: 0.5645 - learning_rate: 1.0000e-04\n",
            "Epoch 21/50\n",
            "\u001b[1m114/114\u001b[0m \u001b[32m━━━━━━━━━━━━━━━━━━━━\u001b[0m\u001b[37m\u001b[0m \u001b[1m2s\u001b[0m 18ms/step - accuracy: 0.8071 - loss: 1.7103 - precision: 0.6086 - recall: 0.8542 - val_accuracy: 0.6505 - val_loss: 1.9128 - val_precision: 0.4011 - val_recall: 0.5726 - learning_rate: 1.0000e-04\n",
            "Epoch 22/50\n",
            "\u001b[1m114/114\u001b[0m \u001b[32m━━━━━━━━━━━━━━━━━━━━\u001b[0m\u001b[37m\u001b[0m \u001b[1m2s\u001b[0m 18ms/step - accuracy: 0.8139 - loss: 1.6691 - precision: 0.6207 - recall: 0.8608 - val_accuracy: 0.6945 - val_loss: 1.8657 - val_precision: 0.4483 - val_recall: 0.5242 - learning_rate: 1.0000e-04\n",
            "Epoch 23/50\n",
            "\u001b[1m114/114\u001b[0m \u001b[32m━━━━━━━━━━━━━━━━━━━━\u001b[0m\u001b[37m\u001b[0m \u001b[1m2s\u001b[0m 18ms/step - accuracy: 0.8198 - loss: 1.6225 - precision: 0.6171 - recall: 0.8329 - val_accuracy: 0.6901 - val_loss: 1.8715 - val_precision: 0.4380 - val_recall: 0.4839 - learning_rate: 1.0000e-04\n",
            "Epoch 24/50\n",
            "\u001b[1m114/114\u001b[0m \u001b[32m━━━━━━━━━━━━━━━━━━━━\u001b[0m\u001b[37m\u001b[0m \u001b[1m2s\u001b[0m 18ms/step - accuracy: 0.8526 - loss: 1.5590 - precision: 0.6776 - recall: 0.8600 - val_accuracy: 0.7033 - val_loss: 1.8245 - val_precision: 0.4580 - val_recall: 0.4839 - learning_rate: 1.0000e-04\n",
            "Epoch 25/50\n",
            "\u001b[1m114/114\u001b[0m \u001b[32m━━━━━━━━━━━━━━━━━━━━\u001b[0m\u001b[37m\u001b[0m \u001b[1m2s\u001b[0m 19ms/step - accuracy: 0.8470 - loss: 1.5054 - precision: 0.6498 - recall: 0.8839 - val_accuracy: 0.7033 - val_loss: 1.8237 - val_precision: 0.4654 - val_recall: 0.5968 - learning_rate: 1.0000e-04\n",
            "Epoch 26/50\n",
            "\u001b[1m114/114\u001b[0m \u001b[32m━━━━━━━━━━━━━━━━━━━━\u001b[0m\u001b[37m\u001b[0m \u001b[1m2s\u001b[0m 20ms/step - accuracy: 0.8608 - loss: 1.4538 - precision: 0.6813 - recall: 0.9036 - val_accuracy: 0.6879 - val_loss: 1.7804 - val_precision: 0.4297 - val_recall: 0.4435 - learning_rate: 1.0000e-04\n",
            "Epoch 27/50\n",
            "\u001b[1m114/114\u001b[0m \u001b[32m━━━━━━━━━━━━━━━━━━━━\u001b[0m\u001b[37m\u001b[0m \u001b[1m2s\u001b[0m 18ms/step - accuracy: 0.8712 - loss: 1.4154 - precision: 0.7072 - recall: 0.8798 - val_accuracy: 0.6703 - val_loss: 1.7933 - val_precision: 0.4156 - val_recall: 0.5161 - learning_rate: 1.0000e-04\n",
            "Epoch 28/50\n",
            "\u001b[1m113/114\u001b[0m \u001b[32m━━━━━━━━━━━━━━━━━━━\u001b[0m\u001b[37m━\u001b[0m \u001b[1m0s\u001b[0m 17ms/step - accuracy: 0.8761 - loss: 1.3710 - precision: 0.7135 - recall: 0.9216\n",
            "Epoch 28: ReduceLROnPlateau reducing learning rate to 4.999999873689376e-05.\n",
            "\u001b[1m114/114\u001b[0m \u001b[32m━━━━━━━━━━━━━━━━━━━━\u001b[0m\u001b[37m\u001b[0m \u001b[1m2s\u001b[0m 18ms/step - accuracy: 0.8761 - loss: 1.3709 - precision: 0.7135 - recall: 0.9214 - val_accuracy: 0.6681 - val_loss: 1.7817 - val_precision: 0.4043 - val_recall: 0.4597 - learning_rate: 1.0000e-04\n",
            "Epoch 29/50\n",
            "\u001b[1m114/114\u001b[0m \u001b[32m━━━━━━━━━━━━━━━━━━━━\u001b[0m\u001b[37m\u001b[0m \u001b[1m2s\u001b[0m 18ms/step - accuracy: 0.8811 - loss: 1.3385 - precision: 0.7244 - recall: 0.9121 - val_accuracy: 0.6813 - val_loss: 1.7718 - val_precision: 0.4245 - val_recall: 0.4758 - learning_rate: 5.0000e-05\n",
            "Epoch 30/50\n",
            "\u001b[1m114/114\u001b[0m \u001b[32m━━━━━━━━━━━━━━━━━━━━\u001b[0m\u001b[37m\u001b[0m \u001b[1m2s\u001b[0m 18ms/step - accuracy: 0.8852 - loss: 1.3122 - precision: 0.7410 - recall: 0.9213 - val_accuracy: 0.6769 - val_loss: 1.7616 - val_precision: 0.4207 - val_recall: 0.4919 - learning_rate: 5.0000e-05\n",
            "Epoch 31/50\n",
            "\u001b[1m114/114\u001b[0m \u001b[32m━━━━━━━━━━━━━━━━━━━━\u001b[0m\u001b[37m\u001b[0m \u001b[1m2s\u001b[0m 20ms/step - accuracy: 0.8915 - loss: 1.2845 - precision: 0.7402 - recall: 0.9347 - val_accuracy: 0.6967 - val_loss: 1.7615 - val_precision: 0.4397 - val_recall: 0.4113 - learning_rate: 5.0000e-05\n",
            "Epoch 32/50\n",
            "\u001b[1m114/114\u001b[0m \u001b[32m━━━━━━━━━━━━━━━━━━━━\u001b[0m\u001b[37m\u001b[0m \u001b[1m2s\u001b[0m 19ms/step - accuracy: 0.9126 - loss: 1.2665 - precision: 0.7908 - recall: 0.9174 - val_accuracy: 0.6857 - val_loss: 1.7548 - val_precision: 0.4240 - val_recall: 0.4274 - learning_rate: 5.0000e-05\n",
            "Epoch 33/50\n",
            "\u001b[1m114/114\u001b[0m \u001b[32m━━━━━━━━━━━━━━━━━━━━\u001b[0m\u001b[37m\u001b[0m \u001b[1m2s\u001b[0m 18ms/step - accuracy: 0.9080 - loss: 1.2272 - precision: 0.7506 - recall: 0.9441 - val_accuracy: 0.6923 - val_loss: 1.7597 - val_precision: 0.4245 - val_recall: 0.3629 - learning_rate: 5.0000e-05\n",
            "Epoch 34/50\n",
            "\u001b[1m112/114\u001b[0m \u001b[32m━━━━━━━━━━━━━━━━━━━\u001b[0m\u001b[37m━\u001b[0m \u001b[1m0s\u001b[0m 17ms/step - accuracy: 0.9239 - loss: 1.2083 - precision: 0.8077 - recall: 0.9377\n",
            "Epoch 34: ReduceLROnPlateau reducing learning rate to 2.499999936844688e-05.\n",
            "\u001b[1m114/114\u001b[0m \u001b[32m━━━━━━━━━━━━━━━━━━━━\u001b[0m\u001b[37m\u001b[0m \u001b[1m2s\u001b[0m 18ms/step - accuracy: 0.9239 - loss: 1.2084 - precision: 0.8078 - recall: 0.9381 - val_accuracy: 0.6857 - val_loss: 1.7612 - val_precision: 0.4240 - val_recall: 0.4274 - learning_rate: 5.0000e-05\n",
            "Epoch 35/50\n",
            "\u001b[1m114/114\u001b[0m \u001b[32m━━━━━━━━━━━━━━━━━━━━\u001b[0m\u001b[37m\u001b[0m \u001b[1m2s\u001b[0m 18ms/step - accuracy: 0.9111 - loss: 1.2045 - precision: 0.7768 - recall: 0.9498 - val_accuracy: 0.6945 - val_loss: 1.7766 - val_precision: 0.4400 - val_recall: 0.4435 - learning_rate: 2.5000e-05\n",
            "Model training completed.\n"
          ]
        }
      ]
    },
    {
      "cell_type": "code",
      "source": [
        "evaluate_test_set(model_2, X_test_mfcc_padded_fed, y_test)"
      ],
      "metadata": {
        "colab": {
          "base_uri": "https://localhost:8080/"
        },
        "id": "R_Cnckj50qAM",
        "outputId": "df623e79-5c71-4fd2-c08d-51638bc4c5e3"
      },
      "execution_count": null,
      "outputs": [
        {
          "output_type": "stream",
          "name": "stdout",
          "text": [
            "\u001b[1m15/15\u001b[0m \u001b[32m━━━━━━━━━━━━━━━━━━━━\u001b[0m\u001b[37m\u001b[0m \u001b[1m0s\u001b[0m 9ms/step - accuracy: 0.7328 - loss: 1.5963 - precision: 0.4201 - recall: 0.5694\n",
            "Test Loss: 1.6660\n",
            "Test Accuracy: 0.7115\n",
            "Test Precision: 0.3881\n",
            "Test Recall: 0.4952\n"
          ]
        }
      ]
    },
    {
      "cell_type": "code",
      "source": [
        "evaluate_model(model_2, X_test_mfcc_padded_fed, y_test)"
      ],
      "metadata": {
        "colab": {
          "base_uri": "https://localhost:8080/",
          "height": 695
        },
        "id": "0Yez7TnC0zk8",
        "outputId": "b7ad1196-af52-471b-b3d4-034e6906f8fd"
      },
      "execution_count": null,
      "outputs": [
        {
          "output_type": "stream",
          "name": "stdout",
          "text": [
            "\u001b[1m15/15\u001b[0m \u001b[32m━━━━━━━━━━━━━━━━━━━━\u001b[0m\u001b[37m\u001b[0m \u001b[1m0s\u001b[0m 15ms/step\n"
          ]
        },
        {
          "output_type": "display_data",
          "data": {
            "text/plain": [
              "<Figure size 600x500 with 2 Axes>"
            ],
            "image/png": "[encoded data removed]"
          },
          "metadata": {}
        },
        {
          "output_type": "stream",
          "name": "stdout",
          "text": [
            "\n",
            "Classification Report:\n",
            "               precision    recall  f1-score   support\n",
            "\n",
            "           0       0.84      0.77      0.81       363\n",
            "           1       0.39      0.50      0.44       105\n",
            "\n",
            "    accuracy                           0.71       468\n",
            "   macro avg       0.61      0.63      0.62       468\n",
            "weighted avg       0.74      0.71      0.72       468\n",
            "\n"
          ]
        }
      ]
    },
    {
      "cell_type": "markdown",
      "source": [
        "### Model 2.2 - Monitor on AUC"
      ],
      "metadata": {
        "id": "WWK3jhns45Gi"
      }
    },
    {
      "cell_type": "markdown",
      "source": [
        "As the data is imbalanced, an experiement is conducted on monitoring AUC in training with best model as of now(model 2) without changing its structure."
      ],
      "metadata": {
        "id": "bxWRnFgL4-aS"
      }
    },
    {
      "cell_type": "markdown",
      "source": [
        "It provides insights into the model's ability to separate the two classes across all thresholds, making it more reliable for imbalanced datasets than accuracy alone."
      ],
      "metadata": {
        "id": "vw6P2Yqm52JI"
      }
    },
    {
      "cell_type": "code",
      "source": [
        "# Early stopping callback with a larger patience\n",
        "early_stopping = EarlyStopping(monitor='val_auc', patience=3, restore_best_weights=True, mode='max')"
      ],
      "metadata": {
        "id": "_cjLF0OO2QEp"
      },
      "execution_count": null,
      "outputs": []
    },
    {
      "cell_type": "code",
      "source": [
        "# Build the CNN model\n",
        "model_2_2 = Sequential([\n",
        "    # Convolutional Layers with L2 Regularization\n",
        "    Conv2D(16, (3, 3), activation='relu', padding='same',\n",
        "           input_shape=input_shape, kernel_regularizer=l2(0.01)),\n",
        "    BatchNormalization(),\n",
        "    MaxPooling2D((2, 2)),\n",
        "\n",
        "    Conv2D(32, (3, 3), activation='relu', padding='same',\n",
        "           kernel_regularizer=l2(0.01)),\n",
        "    BatchNormalization(),\n",
        "    MaxPooling2D((2, 2)),\n",
        "\n",
        "    Conv2D(64, (3, 3), activation='relu', padding='same',\n",
        "           kernel_regularizer=l2(0.01)),\n",
        "    BatchNormalization(),\n",
        "    MaxPooling2D((2, 2)),\n",
        "\n",
        "    # Flatten & Fully Connected Layers with L2 Regularization\n",
        "    Flatten(),\n",
        "    Dense(32, activation='relu', kernel_regularizer=l2(0.01)),\n",
        "    Dropout(0.3),  # Increased Dropout Rate\n",
        "\n",
        "    Dense(16, activation='relu', kernel_regularizer=l2(0.01)),\n",
        "    Dropout(0.3),  # Increased Dropout Rate\n",
        "\n",
        "    # Output layer for binary classification\n",
        "    Dense(1, activation='sigmoid', kernel_regularizer=l2(0.01))\n",
        "])"
      ],
      "metadata": {
        "colab": {
          "base_uri": "https://localhost:8080/"
        },
        "id": "b25VzstI6Dll",
        "outputId": "ba67c68a-9919-4168-bb53-858454294c92"
      },
      "execution_count": null,
      "outputs": [
        {
          "output_type": "stream",
          "name": "stderr",
          "text": [
            "/usr/local/lib/python3.11/dist-packages/keras/src/layers/convolutional/base_conv.py:107: UserWarning: Do not pass an `input_shape`/`input_dim` argument to a layer. When using Sequential models, prefer using an `Input(shape)` object as the first layer in the model instead.\n",
            "  super().__init__(activity_regularizer=activity_regularizer, **kwargs)\n"
          ]
        }
      ]
    },
    {
      "cell_type": "code",
      "source": [
        "# Compile the model\n",
        "model_2_2.compile(\n",
        "    optimizer=Adam(learning_rate=0.0001), #starting lr\n",
        "    loss='binary_crossentropy',\n",
        "    metrics=['accuracy', Precision(name='precision'), Recall(name='recall')]\n",
        ")"
      ],
      "metadata": {
        "id": "-rkTUZPP6MSf"
      },
      "execution_count": null,
      "outputs": []
    },
    {
      "cell_type": "code",
      "source": [
        "# Train the model\n",
        "num_epochs = 100\n",
        "history_monitorAUC = model_2_2.fit(\n",
        "    X_train_fed, y_train_fed,\n",
        "    batch_size=16,\n",
        "    epochs=num_epochs,\n",
        "    validation_data=(X_val_fed, y_val_fed),\n",
        "    callbacks=[early_stopping, lr_scheduler],  #include both callbacks\n",
        "    class_weight=class_weights_dict\n",
        ")\n",
        "\n",
        "print(\"Model training completed.\")"
      ],
      "metadata": {
        "colab": {
          "base_uri": "https://localhost:8080/"
        },
        "id": "B5DVGroZ5or-",
        "outputId": "93db630e-f8bb-4d26-dfc8-dc7277e42293"
      },
      "execution_count": null,
      "outputs": [
        {
          "output_type": "stream",
          "name": "stdout",
          "text": [
            "Epoch 1/100\n",
            "\u001b[1m114/114\u001b[0m \u001b[32m━━━━━━━━━━━━━━━━━━━━\u001b[0m\u001b[37m\u001b[0m \u001b[1m6s\u001b[0m 22ms/step - accuracy: 0.4748 - loss: 2.4712 - precision: 0.2929 - recall: 0.6079 - val_accuracy: 0.5868 - val_loss: 2.1721 - val_precision: 0.2681 - val_recall: 0.2984 - learning_rate: 1.0000e-04\n",
            "Epoch 2/100\n",
            "\u001b[1m  9/114\u001b[0m \u001b[32m━\u001b[0m\u001b[37m━━━━━━━━━━━━━━━━━━━\u001b[0m \u001b[1m1s\u001b[0m 16ms/step - accuracy: 0.5949 - loss: 2.1494 - precision: 0.2664 - recall: 0.4268"
          ]
        },
        {
          "output_type": "stream",
          "name": "stderr",
          "text": [
            "/usr/local/lib/python3.11/dist-packages/keras/src/callbacks/early_stopping.py:153: UserWarning: Early stopping conditioned on metric `val_auc` which is not available. Available metrics are: accuracy,loss,precision,recall,val_accuracy,val_loss,val_precision,val_recall\n",
            "  current = self.get_monitor_value(logs)\n"
          ]
        },
        {
          "output_type": "stream",
          "name": "stdout",
          "text": [
            "\u001b[1m114/114\u001b[0m \u001b[32m━━━━━━━━━━━━━━━━━━━━\u001b[0m\u001b[37m\u001b[0m \u001b[1m2s\u001b[0m 18ms/step - accuracy: 0.5608 - loss: 2.1740 - precision: 0.3102 - recall: 0.5425 - val_accuracy: 0.5670 - val_loss: 2.1370 - val_precision: 0.3069 - val_recall: 0.4677 - learning_rate: 1.0000e-04\n",
            "Epoch 3/100\n",
            "\u001b[1m114/114\u001b[0m \u001b[32m━━━━━━━━━━━━━━━━━━━━\u001b[0m\u001b[37m\u001b[0m \u001b[1m2s\u001b[0m 19ms/step - accuracy: 0.5314 - loss: 2.1408 - precision: 0.3081 - recall: 0.5569 - val_accuracy: 0.6132 - val_loss: 2.0782 - val_precision: 0.3556 - val_recall: 0.5161 - learning_rate: 1.0000e-04\n",
            "Epoch 4/100\n",
            "\u001b[1m114/114\u001b[0m \u001b[32m━━━━━━━━━━━━━━━━━━━━\u001b[0m\u001b[37m\u001b[0m \u001b[1m2s\u001b[0m 18ms/step - accuracy: 0.5558 - loss: 2.0765 - precision: 0.3331 - recall: 0.6292 - val_accuracy: 0.6352 - val_loss: 2.0268 - val_precision: 0.3820 - val_recall: 0.5484 - learning_rate: 1.0000e-04\n",
            "Epoch 5/100\n",
            "\u001b[1m114/114\u001b[0m \u001b[32m━━━━━━━━━━━━━━━━━━━━\u001b[0m\u001b[37m\u001b[0m \u001b[1m2s\u001b[0m 18ms/step - accuracy: 0.5664 - loss: 2.0294 - precision: 0.3463 - recall: 0.6578 - val_accuracy: 0.6000 - val_loss: 2.0004 - val_precision: 0.3550 - val_recall: 0.5726 - learning_rate: 1.0000e-04\n",
            "Epoch 6/100\n",
            "\u001b[1m114/114\u001b[0m \u001b[32m━━━━━━━━━━━━━━━━━━━━\u001b[0m\u001b[37m\u001b[0m \u001b[1m2s\u001b[0m 18ms/step - accuracy: 0.5898 - loss: 1.9863 - precision: 0.3855 - recall: 0.6079 - val_accuracy: 0.6593 - val_loss: 1.9455 - val_precision: 0.4049 - val_recall: 0.5323 - learning_rate: 1.0000e-04\n",
            "Epoch 7/100\n",
            "\u001b[1m114/114\u001b[0m \u001b[32m━━━━━━━━━━━━━━━━━━━━\u001b[0m\u001b[37m\u001b[0m \u001b[1m2s\u001b[0m 18ms/step - accuracy: 0.5941 - loss: 1.9562 - precision: 0.3957 - recall: 0.6600 - val_accuracy: 0.6440 - val_loss: 1.9030 - val_precision: 0.3920 - val_recall: 0.5565 - learning_rate: 1.0000e-04\n",
            "Epoch 8/100\n",
            "\u001b[1m114/114\u001b[0m \u001b[32m━━━━━━━━━━━━━━━━━━━━\u001b[0m\u001b[37m\u001b[0m \u001b[1m2s\u001b[0m 19ms/step - accuracy: 0.6250 - loss: 1.8737 - precision: 0.3875 - recall: 0.6487 - val_accuracy: 0.5495 - val_loss: 1.8871 - val_precision: 0.3320 - val_recall: 0.6452 - learning_rate: 1.0000e-04\n",
            "Epoch 9/100\n",
            "\u001b[1m114/114\u001b[0m \u001b[32m━━━━━━━━━━━━━━━━━━━━\u001b[0m\u001b[37m\u001b[0m \u001b[1m2s\u001b[0m 20ms/step - accuracy: 0.6115 - loss: 1.8237 - precision: 0.3963 - recall: 0.7106 - val_accuracy: 0.6198 - val_loss: 1.8333 - val_precision: 0.3704 - val_recall: 0.5645 - learning_rate: 1.0000e-04\n",
            "Epoch 10/100\n",
            "\u001b[1m114/114\u001b[0m \u001b[32m━━━━━━━━━━━━━━━━━━━━\u001b[0m\u001b[37m\u001b[0m \u001b[1m2s\u001b[0m 18ms/step - accuracy: 0.6197 - loss: 1.7802 - precision: 0.3886 - recall: 0.7222 - val_accuracy: 0.6066 - val_loss: 1.8039 - val_precision: 0.3659 - val_recall: 0.6048 - learning_rate: 1.0000e-04\n",
            "Epoch 11/100\n",
            "\u001b[1m114/114\u001b[0m \u001b[32m━━━━━━━━━━━━━━━━━━━━\u001b[0m\u001b[37m\u001b[0m \u001b[1m2s\u001b[0m 18ms/step - accuracy: 0.6487 - loss: 1.7233 - precision: 0.3939 - recall: 0.7336 - val_accuracy: 0.6396 - val_loss: 1.7530 - val_precision: 0.3947 - val_recall: 0.6048 - learning_rate: 1.0000e-04\n",
            "Epoch 12/100\n",
            "\u001b[1m114/114\u001b[0m \u001b[32m━━━━━━━━━━━━━━━━━━━━\u001b[0m\u001b[37m\u001b[0m \u001b[1m2s\u001b[0m 19ms/step - accuracy: 0.6521 - loss: 1.6697 - precision: 0.4086 - recall: 0.7379 - val_accuracy: 0.6747 - val_loss: 1.7041 - val_precision: 0.4286 - val_recall: 0.5806 - learning_rate: 1.0000e-04\n",
            "Epoch 13/100\n",
            "\u001b[1m114/114\u001b[0m \u001b[32m━━━━━━━━━━━━━━━━━━━━\u001b[0m\u001b[37m\u001b[0m \u001b[1m2s\u001b[0m 18ms/step - accuracy: 0.6513 - loss: 1.6705 - precision: 0.4310 - recall: 0.7056 - val_accuracy: 0.6418 - val_loss: 1.7061 - val_precision: 0.3990 - val_recall: 0.6210 - learning_rate: 1.0000e-04\n",
            "Epoch 14/100\n",
            "\u001b[1m114/114\u001b[0m \u001b[32m━━━━━━━━━━━━━━━━━━━━\u001b[0m\u001b[37m\u001b[0m \u001b[1m2s\u001b[0m 19ms/step - accuracy: 0.6559 - loss: 1.6314 - precision: 0.4235 - recall: 0.7060 - val_accuracy: 0.5868 - val_loss: 1.7031 - val_precision: 0.3655 - val_recall: 0.7016 - learning_rate: 1.0000e-04\n",
            "Epoch 15/100\n",
            "\u001b[1m114/114\u001b[0m \u001b[32m━━━━━━━━━━━━━━━━━━━━\u001b[0m\u001b[37m\u001b[0m \u001b[1m2s\u001b[0m 20ms/step - accuracy: 0.6382 - loss: 1.5942 - precision: 0.4168 - recall: 0.6932 - val_accuracy: 0.6835 - val_loss: 1.6131 - val_precision: 0.4315 - val_recall: 0.5081 - learning_rate: 1.0000e-04\n",
            "Epoch 16/100\n",
            "\u001b[1m114/114\u001b[0m \u001b[32m━━━━━━━━━━━━━━━━━━━━\u001b[0m\u001b[37m\u001b[0m \u001b[1m2s\u001b[0m 19ms/step - accuracy: 0.7084 - loss: 1.5518 - precision: 0.4956 - recall: 0.7338 - val_accuracy: 0.6527 - val_loss: 1.6157 - val_precision: 0.4023 - val_recall: 0.5645 - learning_rate: 1.0000e-04\n",
            "Epoch 17/100\n",
            "\u001b[1m114/114\u001b[0m \u001b[32m━━━━━━━━━━━━━━━━━━━━\u001b[0m\u001b[37m\u001b[0m \u001b[1m2s\u001b[0m 18ms/step - accuracy: 0.7015 - loss: 1.5035 - precision: 0.4719 - recall: 0.7457 - val_accuracy: 0.6989 - val_loss: 1.5583 - val_precision: 0.4511 - val_recall: 0.4839 - learning_rate: 1.0000e-04\n",
            "Epoch 18/100\n",
            "\u001b[1m114/114\u001b[0m \u001b[32m━━━━━━━━━━━━━━━━━━━━\u001b[0m\u001b[37m\u001b[0m \u001b[1m2s\u001b[0m 18ms/step - accuracy: 0.7121 - loss: 1.4700 - precision: 0.4767 - recall: 0.7294 - val_accuracy: 0.7165 - val_loss: 1.5307 - val_precision: 0.4790 - val_recall: 0.4597 - learning_rate: 1.0000e-04\n",
            "Epoch 19/100\n",
            "\u001b[1m114/114\u001b[0m \u001b[32m━━━━━━━━━━━━━━━━━━━━\u001b[0m\u001b[37m\u001b[0m \u001b[1m2s\u001b[0m 18ms/step - accuracy: 0.7098 - loss: 1.4397 - precision: 0.4763 - recall: 0.7379 - val_accuracy: 0.7011 - val_loss: 1.5120 - val_precision: 0.4583 - val_recall: 0.5323 - learning_rate: 1.0000e-04\n",
            "Epoch 20/100\n",
            "\u001b[1m114/114\u001b[0m \u001b[32m━━━━━━━━━━━━━━━━━━━━\u001b[0m\u001b[37m\u001b[0m \u001b[1m2s\u001b[0m 19ms/step - accuracy: 0.7373 - loss: 1.3821 - precision: 0.4921 - recall: 0.7726 - val_accuracy: 0.6681 - val_loss: 1.5202 - val_precision: 0.4211 - val_recall: 0.5806 - learning_rate: 1.0000e-04\n",
            "Epoch 21/100\n",
            "\u001b[1m112/114\u001b[0m \u001b[32m━━━━━━━━━━━━━━━━━━━\u001b[0m\u001b[37m━\u001b[0m \u001b[1m0s\u001b[0m 18ms/step - accuracy: 0.7399 - loss: 1.3792 - precision: 0.5242 - recall: 0.7525\n",
            "Epoch 21: ReduceLROnPlateau reducing learning rate to 4.999999873689376e-05.\n",
            "\u001b[1m114/114\u001b[0m \u001b[32m━━━━━━━━━━━━━━━━━━━━\u001b[0m\u001b[37m\u001b[0m \u001b[1m2s\u001b[0m 20ms/step - accuracy: 0.7400 - loss: 1.3789 - precision: 0.5241 - recall: 0.7524 - val_accuracy: 0.6440 - val_loss: 1.5181 - val_precision: 0.3956 - val_recall: 0.5806 - learning_rate: 1.0000e-04\n",
            "Epoch 22/100\n",
            "\u001b[1m114/114\u001b[0m \u001b[32m━━━━━━━━━━━━━━━━━━━━\u001b[0m\u001b[37m\u001b[0m \u001b[1m2s\u001b[0m 18ms/step - accuracy: 0.7608 - loss: 1.3247 - precision: 0.5344 - recall: 0.8213 - val_accuracy: 0.7033 - val_loss: 1.4653 - val_precision: 0.4599 - val_recall: 0.5081 - learning_rate: 5.0000e-05\n",
            "Epoch 23/100\n",
            "\u001b[1m114/114\u001b[0m \u001b[32m━━━━━━━━━━━━━━━━━━━━\u001b[0m\u001b[37m\u001b[0m \u001b[1m2s\u001b[0m 18ms/step - accuracy: 0.7781 - loss: 1.3159 - precision: 0.5701 - recall: 0.8088 - val_accuracy: 0.7363 - val_loss: 1.4287 - val_precision: 0.5179 - val_recall: 0.4677 - learning_rate: 5.0000e-05\n",
            "Epoch 24/100\n",
            "\u001b[1m114/114\u001b[0m \u001b[32m━━━━━━━━━━━━━━━━━━━━\u001b[0m\u001b[37m\u001b[0m \u001b[1m2s\u001b[0m 19ms/step - accuracy: 0.7835 - loss: 1.2846 - precision: 0.5660 - recall: 0.8000 - val_accuracy: 0.7187 - val_loss: 1.4419 - val_precision: 0.4848 - val_recall: 0.5161 - learning_rate: 5.0000e-05\n",
            "Epoch 25/100\n",
            "\u001b[1m112/114\u001b[0m \u001b[32m━━━━━━━━━━━━━━━━━━━\u001b[0m\u001b[37m━\u001b[0m \u001b[1m0s\u001b[0m 17ms/step - accuracy: 0.8016 - loss: 1.2648 - precision: 0.5990 - recall: 0.8315\n",
            "Epoch 25: ReduceLROnPlateau reducing learning rate to 2.499999936844688e-05.\n",
            "\u001b[1m114/114\u001b[0m \u001b[32m━━━━━━━━━━━━━━━━━━━━\u001b[0m\u001b[37m\u001b[0m \u001b[1m2s\u001b[0m 18ms/step - accuracy: 0.8014 - loss: 1.2648 - precision: 0.5987 - recall: 0.8316 - val_accuracy: 0.7231 - val_loss: 1.4312 - val_precision: 0.4919 - val_recall: 0.4919 - learning_rate: 5.0000e-05\n",
            "Epoch 26/100\n",
            "\u001b[1m114/114\u001b[0m \u001b[32m━━━━━━━━━━━━━━━━━━━━\u001b[0m\u001b[37m\u001b[0m \u001b[1m2s\u001b[0m 19ms/step - accuracy: 0.8035 - loss: 1.2268 - precision: 0.5968 - recall: 0.8274 - val_accuracy: 0.7121 - val_loss: 1.4380 - val_precision: 0.4733 - val_recall: 0.5000 - learning_rate: 2.5000e-05\n",
            "Epoch 27/100\n",
            "\u001b[1m112/114\u001b[0m \u001b[32m━━━━━━━━━━━━━━━━━━━\u001b[0m\u001b[37m━\u001b[0m \u001b[1m0s\u001b[0m 18ms/step - accuracy: 0.7954 - loss: 1.2405 - precision: 0.5879 - recall: 0.8073\n",
            "Epoch 27: ReduceLROnPlateau reducing learning rate to 1.249999968422344e-05.\n",
            "\u001b[1m114/114\u001b[0m \u001b[32m━━━━━━━━━━━━━━━━━━━━\u001b[0m\u001b[37m\u001b[0m \u001b[1m2s\u001b[0m 20ms/step - accuracy: 0.7956 - loss: 1.2404 - precision: 0.5882 - recall: 0.8080 - val_accuracy: 0.7165 - val_loss: 1.4369 - val_precision: 0.4806 - val_recall: 0.5000 - learning_rate: 2.5000e-05\n",
            "Epoch 28/100\n",
            "\u001b[1m114/114\u001b[0m \u001b[32m━━━━━━━━━━━━━━━━━━━━\u001b[0m\u001b[37m\u001b[0m \u001b[1m2s\u001b[0m 18ms/step - accuracy: 0.8155 - loss: 1.2091 - precision: 0.6146 - recall: 0.8576 - val_accuracy: 0.7165 - val_loss: 1.4340 - val_precision: 0.4803 - val_recall: 0.4919 - learning_rate: 1.2500e-05\n",
            "Epoch 29/100\n",
            "\u001b[1m114/114\u001b[0m \u001b[32m━━━━━━━━━━━━━━━━━━━━\u001b[0m\u001b[37m\u001b[0m \u001b[1m0s\u001b[0m 16ms/step - accuracy: 0.8242 - loss: 1.2244 - precision: 0.6374 - recall: 0.8517\n",
            "Epoch 29: ReduceLROnPlateau reducing learning rate to 6.24999984211172e-06.\n",
            "\u001b[1m114/114\u001b[0m \u001b[32m━━━━━━━━━━━━━━━━━━━━\u001b[0m\u001b[37m\u001b[0m \u001b[1m2s\u001b[0m 18ms/step - accuracy: 0.8242 - loss: 1.2244 - precision: 0.6373 - recall: 0.8517 - val_accuracy: 0.7165 - val_loss: 1.4352 - val_precision: 0.4800 - val_recall: 0.4839 - learning_rate: 1.2500e-05\n",
            "Epoch 30/100\n",
            "\u001b[1m114/114\u001b[0m \u001b[32m━━━━━━━━━━━━━━━━━━━━\u001b[0m\u001b[37m\u001b[0m \u001b[1m2s\u001b[0m 18ms/step - accuracy: 0.8060 - loss: 1.2232 - precision: 0.6144 - recall: 0.8486 - val_accuracy: 0.7275 - val_loss: 1.4278 - val_precision: 0.5000 - val_recall: 0.4839 - learning_rate: 6.2500e-06\n",
            "Epoch 31/100\n",
            "\u001b[1m114/114\u001b[0m \u001b[32m━━━━━━━━━━━━━━━━━━━━\u001b[0m\u001b[37m\u001b[0m \u001b[1m2s\u001b[0m 18ms/step - accuracy: 0.8275 - loss: 1.1932 - precision: 0.6288 - recall: 0.8450 - val_accuracy: 0.7275 - val_loss: 1.4251 - val_precision: 0.5000 - val_recall: 0.4839 - learning_rate: 6.2500e-06\n",
            "Epoch 32/100\n",
            "\u001b[1m114/114\u001b[0m \u001b[32m━━━━━━━━━━━━━━━━━━━━\u001b[0m\u001b[37m\u001b[0m \u001b[1m2s\u001b[0m 19ms/step - accuracy: 0.8349 - loss: 1.1795 - precision: 0.6375 - recall: 0.8977 - val_accuracy: 0.7297 - val_loss: 1.4236 - val_precision: 0.5041 - val_recall: 0.4919 - learning_rate: 6.2500e-06\n",
            "Epoch 33/100\n",
            "\u001b[1m114/114\u001b[0m \u001b[32m━━━━━━━━━━━━━━━━━━━━\u001b[0m\u001b[37m\u001b[0m \u001b[1m2s\u001b[0m 20ms/step - accuracy: 0.8084 - loss: 1.2063 - precision: 0.5953 - recall: 0.8406 - val_accuracy: 0.7187 - val_loss: 1.4274 - val_precision: 0.4844 - val_recall: 0.5000 - learning_rate: 6.2500e-06\n",
            "Epoch 34/100\n",
            "\u001b[1m111/114\u001b[0m \u001b[32m━━━━━━━━━━━━━━━━━━━\u001b[0m\u001b[37m━\u001b[0m \u001b[1m0s\u001b[0m 16ms/step - accuracy: 0.8133 - loss: 1.2175 - precision: 0.6364 - recall: 0.8445\n",
            "Epoch 34: ReduceLROnPlateau reducing learning rate to 3.12499992105586e-06.\n",
            "\u001b[1m114/114\u001b[0m \u001b[32m━━━━━━━━━━━━━━━━━━━━\u001b[0m\u001b[37m\u001b[0m \u001b[1m2s\u001b[0m 18ms/step - accuracy: 0.8133 - loss: 1.2171 - precision: 0.6356 - recall: 0.8451 - val_accuracy: 0.7209 - val_loss: 1.4247 - val_precision: 0.4882 - val_recall: 0.5000 - learning_rate: 6.2500e-06\n",
            "Epoch 35/100\n",
            "\u001b[1m114/114\u001b[0m \u001b[32m━━━━━━━━━━━━━━━━━━━━\u001b[0m\u001b[37m\u001b[0m \u001b[1m2s\u001b[0m 18ms/step - accuracy: 0.8348 - loss: 1.2109 - precision: 0.6475 - recall: 0.8494 - val_accuracy: 0.7253 - val_loss: 1.4218 - val_precision: 0.4959 - val_recall: 0.4919 - learning_rate: 3.1250e-06\n",
            "Epoch 36/100\n",
            "\u001b[1m114/114\u001b[0m \u001b[32m━━━━━━━━━━━━━━━━━━━━\u001b[0m\u001b[37m\u001b[0m \u001b[1m2s\u001b[0m 18ms/step - accuracy: 0.8183 - loss: 1.2018 - precision: 0.6161 - recall: 0.8825 - val_accuracy: 0.7253 - val_loss: 1.4207 - val_precision: 0.4959 - val_recall: 0.4919 - learning_rate: 3.1250e-06\n",
            "Epoch 37/100\n",
            "\u001b[1m114/114\u001b[0m \u001b[32m━━━━━━━━━━━━━━━━━━━━\u001b[0m\u001b[37m\u001b[0m \u001b[1m2s\u001b[0m 18ms/step - accuracy: 0.8280 - loss: 1.2061 - precision: 0.6426 - recall: 0.8466 - val_accuracy: 0.7187 - val_loss: 1.4233 - val_precision: 0.4841 - val_recall: 0.4919 - learning_rate: 3.1250e-06\n",
            "Epoch 38/100\n",
            "\u001b[1m111/114\u001b[0m \u001b[32m━━━━━━━━━━━━━━━━━━━\u001b[0m\u001b[37m━\u001b[0m \u001b[1m0s\u001b[0m 17ms/step - accuracy: 0.8211 - loss: 1.2041 - precision: 0.6321 - recall: 0.8828\n",
            "Epoch 38: ReduceLROnPlateau reducing learning rate to 1.56249996052793e-06.\n",
            "\u001b[1m114/114\u001b[0m \u001b[32m━━━━━━━━━━━━━━━━━━━━\u001b[0m\u001b[37m\u001b[0m \u001b[1m2s\u001b[0m 18ms/step - accuracy: 0.8211 - loss: 1.2039 - precision: 0.6318 - recall: 0.8821 - val_accuracy: 0.7275 - val_loss: 1.4208 - val_precision: 0.5000 - val_recall: 0.4919 - learning_rate: 3.1250e-06\n",
            "Epoch 39/100\n",
            "\u001b[1m114/114\u001b[0m \u001b[32m━━━━━━━━━━━━━━━━━━━━\u001b[0m\u001b[37m\u001b[0m \u001b[1m2s\u001b[0m 19ms/step - accuracy: 0.8137 - loss: 1.1951 - precision: 0.6097 - recall: 0.8482 - val_accuracy: 0.7275 - val_loss: 1.4197 - val_precision: 0.5000 - val_recall: 0.4919 - learning_rate: 1.5625e-06\n",
            "Epoch 40/100\n",
            "\u001b[1m114/114\u001b[0m \u001b[32m━━━━━━━━━━━━━━━━━━━━\u001b[0m\u001b[37m\u001b[0m \u001b[1m2s\u001b[0m 18ms/step - accuracy: 0.8260 - loss: 1.1961 - precision: 0.6246 - recall: 0.8613 - val_accuracy: 0.7275 - val_loss: 1.4202 - val_precision: 0.5000 - val_recall: 0.5000 - learning_rate: 1.5625e-06\n",
            "Epoch 41/100\n",
            "\u001b[1m113/114\u001b[0m \u001b[32m━━━━━━━━━━━━━━━━━━━\u001b[0m\u001b[37m━\u001b[0m \u001b[1m0s\u001b[0m 16ms/step - accuracy: 0.8468 - loss: 1.1739 - precision: 0.6676 - recall: 0.8788\n",
            "Epoch 41: ReduceLROnPlateau reducing learning rate to 1e-06.\n",
            "\u001b[1m114/114\u001b[0m \u001b[32m━━━━━━━━━━━━━━━━━━━━\u001b[0m\u001b[37m\u001b[0m \u001b[1m2s\u001b[0m 18ms/step - accuracy: 0.8466 - loss: 1.1739 - precision: 0.6673 - recall: 0.8787 - val_accuracy: 0.7275 - val_loss: 1.4199 - val_precision: 0.5000 - val_recall: 0.5000 - learning_rate: 1.5625e-06\n",
            "Epoch 42/100\n",
            "\u001b[1m114/114\u001b[0m \u001b[32m━━━━━━━━━━━━━━━━━━━━\u001b[0m\u001b[37m\u001b[0m \u001b[1m2s\u001b[0m 18ms/step - accuracy: 0.8316 - loss: 1.1864 - precision: 0.6476 - recall: 0.8387 - val_accuracy: 0.7275 - val_loss: 1.4196 - val_precision: 0.5000 - val_recall: 0.5000 - learning_rate: 1.0000e-06\n",
            "Epoch 43/100\n",
            "\u001b[1m114/114\u001b[0m \u001b[32m━━━━━━━━━━━━━━━━━━━━\u001b[0m\u001b[37m\u001b[0m \u001b[1m2s\u001b[0m 18ms/step - accuracy: 0.8288 - loss: 1.1747 - precision: 0.6344 - recall: 0.8771 - val_accuracy: 0.7275 - val_loss: 1.4211 - val_precision: 0.5000 - val_recall: 0.5000 - learning_rate: 1.0000e-06\n",
            "Epoch 44/100\n",
            "\u001b[1m114/114\u001b[0m \u001b[32m━━━━━━━━━━━━━━━━━━━━\u001b[0m\u001b[37m\u001b[0m \u001b[1m2s\u001b[0m 18ms/step - accuracy: 0.8243 - loss: 1.1976 - precision: 0.6417 - recall: 0.8746 - val_accuracy: 0.7253 - val_loss: 1.4208 - val_precision: 0.4960 - val_recall: 0.5000 - learning_rate: 1.0000e-06\n",
            "Epoch 45/100\n",
            "\u001b[1m114/114\u001b[0m \u001b[32m━━━━━━━━━━━━━━━━━━━━\u001b[0m\u001b[37m\u001b[0m \u001b[1m2s\u001b[0m 20ms/step - accuracy: 0.8158 - loss: 1.2007 - precision: 0.6184 - recall: 0.8584 - val_accuracy: 0.7253 - val_loss: 1.4201 - val_precision: 0.4959 - val_recall: 0.4919 - learning_rate: 1.0000e-06\n",
            "Epoch 46/100\n",
            "\u001b[1m114/114\u001b[0m \u001b[32m━━━━━━━━━━━━━━━━━━━━\u001b[0m\u001b[37m\u001b[0m \u001b[1m2s\u001b[0m 18ms/step - accuracy: 0.8267 - loss: 1.1862 - precision: 0.6325 - recall: 0.8759 - val_accuracy: 0.7253 - val_loss: 1.4182 - val_precision: 0.4959 - val_recall: 0.4839 - learning_rate: 1.0000e-06\n",
            "Epoch 47/100\n",
            "\u001b[1m114/114\u001b[0m \u001b[32m━━━━━━━━━━━━━━━━━━━━\u001b[0m\u001b[37m\u001b[0m \u001b[1m2s\u001b[0m 18ms/step - accuracy: 0.8311 - loss: 1.1899 - precision: 0.6469 - recall: 0.8733 - val_accuracy: 0.7253 - val_loss: 1.4174 - val_precision: 0.4959 - val_recall: 0.4839 - learning_rate: 1.0000e-06\n",
            "Epoch 48/100\n",
            "\u001b[1m114/114\u001b[0m \u001b[32m━━━━━━━━━━━━━━━━━━━━\u001b[0m\u001b[37m\u001b[0m \u001b[1m2s\u001b[0m 18ms/step - accuracy: 0.8326 - loss: 1.1653 - precision: 0.6189 - recall: 0.8926 - val_accuracy: 0.7275 - val_loss: 1.4181 - val_precision: 0.5000 - val_recall: 0.4919 - learning_rate: 1.0000e-06\n",
            "Epoch 49/100\n",
            "\u001b[1m114/114\u001b[0m \u001b[32m━━━━━━━━━━━━━━━━━━━━\u001b[0m\u001b[37m\u001b[0m \u001b[1m2s\u001b[0m 18ms/step - accuracy: 0.8433 - loss: 1.1727 - precision: 0.6652 - recall: 0.8796 - val_accuracy: 0.7253 - val_loss: 1.4181 - val_precision: 0.4959 - val_recall: 0.4919 - learning_rate: 1.0000e-06\n",
            "Epoch 50/100\n",
            "\u001b[1m114/114\u001b[0m \u001b[32m━━━━━━━━━━━━━━━━━━━━\u001b[0m\u001b[37m\u001b[0m \u001b[1m2s\u001b[0m 18ms/step - accuracy: 0.8108 - loss: 1.2023 - precision: 0.6147 - recall: 0.8219 - val_accuracy: 0.7253 - val_loss: 1.4170 - val_precision: 0.4959 - val_recall: 0.4839 - learning_rate: 1.0000e-06\n",
            "Epoch 51/100\n",
            "\u001b[1m114/114\u001b[0m \u001b[32m━━━━━━━━━━━━━━━━━━━━\u001b[0m\u001b[37m\u001b[0m \u001b[1m2s\u001b[0m 20ms/step - accuracy: 0.8405 - loss: 1.1848 - precision: 0.6611 - recall: 0.8757 - val_accuracy: 0.7253 - val_loss: 1.4172 - val_precision: 0.4959 - val_recall: 0.4839 - learning_rate: 1.0000e-06\n",
            "Epoch 52/100\n",
            "\u001b[1m114/114\u001b[0m \u001b[32m━━━━━━━━━━━━━━━━━━━━\u001b[0m\u001b[37m\u001b[0m \u001b[1m2s\u001b[0m 18ms/step - accuracy: 0.8228 - loss: 1.1988 - precision: 0.6457 - recall: 0.8542 - val_accuracy: 0.7253 - val_loss: 1.4177 - val_precision: 0.4959 - val_recall: 0.4919 - learning_rate: 1.0000e-06\n",
            "Epoch 53/100\n",
            "\u001b[1m114/114\u001b[0m \u001b[32m━━━━━━━━━━━━━━━━━━━━\u001b[0m\u001b[37m\u001b[0m \u001b[1m2s\u001b[0m 18ms/step - accuracy: 0.8432 - loss: 1.1637 - precision: 0.6482 - recall: 0.8877 - val_accuracy: 0.7275 - val_loss: 1.4172 - val_precision: 0.5000 - val_recall: 0.4919 - learning_rate: 1.0000e-06\n",
            "Epoch 54/100\n",
            "\u001b[1m114/114\u001b[0m \u001b[32m━━━━━━━━━━━━━━━━━━━━\u001b[0m\u001b[37m\u001b[0m \u001b[1m2s\u001b[0m 18ms/step - accuracy: 0.8364 - loss: 1.1833 - precision: 0.6493 - recall: 0.8444 - val_accuracy: 0.7231 - val_loss: 1.4178 - val_precision: 0.4919 - val_recall: 0.4919 - learning_rate: 1.0000e-06\n",
            "Epoch 55/100\n",
            "\u001b[1m114/114\u001b[0m \u001b[32m━━━━━━━━━━━━━━━━━━━━\u001b[0m\u001b[37m\u001b[0m \u001b[1m2s\u001b[0m 18ms/step - accuracy: 0.8156 - loss: 1.1818 - precision: 0.5998 - recall: 0.8639 - val_accuracy: 0.7275 - val_loss: 1.4179 - val_precision: 0.5000 - val_recall: 0.4919 - learning_rate: 1.0000e-06\n",
            "Epoch 56/100\n",
            "\u001b[1m114/114\u001b[0m \u001b[32m━━━━━━━━━━━━━━━━━━━━\u001b[0m\u001b[37m\u001b[0m \u001b[1m2s\u001b[0m 18ms/step - accuracy: 0.8086 - loss: 1.1886 - precision: 0.5889 - recall: 0.8688 - val_accuracy: 0.7253 - val_loss: 1.4169 - val_precision: 0.4959 - val_recall: 0.4919 - learning_rate: 1.0000e-06\n",
            "Epoch 57/100\n",
            "\u001b[1m114/114\u001b[0m \u001b[32m━━━━━━━━━━━━━━━━━━━━\u001b[0m\u001b[37m\u001b[0m \u001b[1m2s\u001b[0m 20ms/step - accuracy: 0.8192 - loss: 1.1823 - precision: 0.6274 - recall: 0.8527 - val_accuracy: 0.7253 - val_loss: 1.4178 - val_precision: 0.4959 - val_recall: 0.4919 - learning_rate: 1.0000e-06\n",
            "Epoch 58/100\n",
            "\u001b[1m114/114\u001b[0m \u001b[32m━━━━━━━━━━━━━━━━━━━━\u001b[0m\u001b[37m\u001b[0m \u001b[1m2s\u001b[0m 19ms/step - accuracy: 0.8399 - loss: 1.1679 - precision: 0.6590 - recall: 0.8782 - val_accuracy: 0.7253 - val_loss: 1.4180 - val_precision: 0.4959 - val_recall: 0.4919 - learning_rate: 1.0000e-06\n",
            "Epoch 59/100\n",
            "\u001b[1m114/114\u001b[0m \u001b[32m━━━━━━━━━━━━━━━━━━━━\u001b[0m\u001b[37m\u001b[0m \u001b[1m2s\u001b[0m 18ms/step - accuracy: 0.8309 - loss: 1.1859 - precision: 0.6428 - recall: 0.8728 - val_accuracy: 0.7253 - val_loss: 1.4174 - val_precision: 0.4959 - val_recall: 0.4919 - learning_rate: 1.0000e-06\n",
            "Epoch 60/100\n",
            "\u001b[1m114/114\u001b[0m \u001b[32m━━━━━━━━━━━━━━━━━━━━\u001b[0m\u001b[37m\u001b[0m \u001b[1m2s\u001b[0m 18ms/step - accuracy: 0.8350 - loss: 1.1909 - precision: 0.6585 - recall: 0.8543 - val_accuracy: 0.7231 - val_loss: 1.4176 - val_precision: 0.4919 - val_recall: 0.4919 - learning_rate: 1.0000e-06\n",
            "Epoch 61/100\n",
            "\u001b[1m114/114\u001b[0m \u001b[32m━━━━━━━━━━━━━━━━━━━━\u001b[0m\u001b[37m\u001b[0m \u001b[1m2s\u001b[0m 18ms/step - accuracy: 0.8281 - loss: 1.1849 - precision: 0.6185 - recall: 0.8297 - val_accuracy: 0.7231 - val_loss: 1.4172 - val_precision: 0.4919 - val_recall: 0.4919 - learning_rate: 1.0000e-06\n",
            "Epoch 62/100\n",
            "\u001b[1m114/114\u001b[0m \u001b[32m━━━━━━━━━━━━━━━━━━━━\u001b[0m\u001b[37m\u001b[0m \u001b[1m2s\u001b[0m 18ms/step - accuracy: 0.8164 - loss: 1.1917 - precision: 0.6279 - recall: 0.8489 - val_accuracy: 0.7231 - val_loss: 1.4173 - val_precision: 0.4919 - val_recall: 0.4919 - learning_rate: 1.0000e-06\n",
            "Epoch 63/100\n",
            "\u001b[1m114/114\u001b[0m \u001b[32m━━━━━━━━━━━━━━━━━━━━\u001b[0m\u001b[37m\u001b[0m \u001b[1m2s\u001b[0m 19ms/step - accuracy: 0.8337 - loss: 1.1786 - precision: 0.6207 - recall: 0.8565 - val_accuracy: 0.7253 - val_loss: 1.4165 - val_precision: 0.4959 - val_recall: 0.4919 - learning_rate: 1.0000e-06\n",
            "Epoch 64/100\n",
            "\u001b[1m114/114\u001b[0m \u001b[32m━━━━━━━━━━━━━━━━━━━━\u001b[0m\u001b[37m\u001b[0m \u001b[1m2s\u001b[0m 19ms/step - accuracy: 0.8492 - loss: 1.1686 - precision: 0.6868 - recall: 0.8889 - val_accuracy: 0.7231 - val_loss: 1.4169 - val_precision: 0.4919 - val_recall: 0.4919 - learning_rate: 1.0000e-06\n",
            "Epoch 65/100\n",
            "\u001b[1m114/114\u001b[0m \u001b[32m━━━━━━━━━━━━━━━━━━━━\u001b[0m\u001b[37m\u001b[0m \u001b[1m2s\u001b[0m 18ms/step - accuracy: 0.8427 - loss: 1.1949 - precision: 0.6558 - recall: 0.8720 - val_accuracy: 0.7231 - val_loss: 1.4165 - val_precision: 0.4919 - val_recall: 0.4919 - learning_rate: 1.0000e-06\n",
            "Epoch 66/100\n",
            "\u001b[1m114/114\u001b[0m \u001b[32m━━━━━━━━━━━━━━━━━━━━\u001b[0m\u001b[37m\u001b[0m \u001b[1m2s\u001b[0m 18ms/step - accuracy: 0.8332 - loss: 1.1728 - precision: 0.6426 - recall: 0.8796 - val_accuracy: 0.7253 - val_loss: 1.4165 - val_precision: 0.4959 - val_recall: 0.4919 - learning_rate: 1.0000e-06\n",
            "Epoch 67/100\n",
            "\u001b[1m114/114\u001b[0m \u001b[32m━━━━━━━━━━━━━━━━━━━━\u001b[0m\u001b[37m\u001b[0m \u001b[1m2s\u001b[0m 18ms/step - accuracy: 0.8306 - loss: 1.1870 - precision: 0.6547 - recall: 0.8386 - val_accuracy: 0.7253 - val_loss: 1.4163 - val_precision: 0.4959 - val_recall: 0.4919 - learning_rate: 1.0000e-06\n",
            "Epoch 68/100\n",
            "\u001b[1m114/114\u001b[0m \u001b[32m━━━━━━━━━━━━━━━━━━━━\u001b[0m\u001b[37m\u001b[0m \u001b[1m2s\u001b[0m 18ms/step - accuracy: 0.8417 - loss: 1.1856 - precision: 0.6585 - recall: 0.8508 - val_accuracy: 0.7231 - val_loss: 1.4163 - val_precision: 0.4919 - val_recall: 0.4919 - learning_rate: 1.0000e-06\n",
            "Epoch 69/100\n",
            "\u001b[1m114/114\u001b[0m \u001b[32m━━━━━━━━━━━━━━━━━━━━\u001b[0m\u001b[37m\u001b[0m \u001b[1m2s\u001b[0m 19ms/step - accuracy: 0.8157 - loss: 1.1950 - precision: 0.6185 - recall: 0.8242 - val_accuracy: 0.7209 - val_loss: 1.4170 - val_precision: 0.4880 - val_recall: 0.4919 - learning_rate: 1.0000e-06\n",
            "Epoch 70/100\n",
            "\u001b[1m114/114\u001b[0m \u001b[32m━━━━━━━━━━━━━━━━━━━━\u001b[0m\u001b[37m\u001b[0m \u001b[1m2s\u001b[0m 19ms/step - accuracy: 0.8175 - loss: 1.1825 - precision: 0.6308 - recall: 0.8620 - val_accuracy: 0.7231 - val_loss: 1.4165 - val_precision: 0.4919 - val_recall: 0.4919 - learning_rate: 1.0000e-06\n",
            "Epoch 71/100\n",
            "\u001b[1m114/114\u001b[0m \u001b[32m━━━━━━━━━━━━━━━━━━━━\u001b[0m\u001b[37m\u001b[0m \u001b[1m2s\u001b[0m 18ms/step - accuracy: 0.8288 - loss: 1.1715 - precision: 0.6419 - recall: 0.8639 - val_accuracy: 0.7231 - val_loss: 1.4152 - val_precision: 0.4919 - val_recall: 0.4919 - learning_rate: 1.0000e-06\n",
            "Epoch 72/100\n",
            "\u001b[1m114/114\u001b[0m \u001b[32m━━━━━━━━━━━━━━━━━━━━\u001b[0m\u001b[37m\u001b[0m \u001b[1m2s\u001b[0m 18ms/step - accuracy: 0.8391 - loss: 1.1626 - precision: 0.6390 - recall: 0.8785 - val_accuracy: 0.7253 - val_loss: 1.4158 - val_precision: 0.4959 - val_recall: 0.4919 - learning_rate: 1.0000e-06\n",
            "Epoch 73/100\n",
            "\u001b[1m114/114\u001b[0m \u001b[32m━━━━━━━━━━━━━━━━━━━━\u001b[0m\u001b[37m\u001b[0m \u001b[1m2s\u001b[0m 18ms/step - accuracy: 0.8437 - loss: 1.1621 - precision: 0.6565 - recall: 0.8970 - val_accuracy: 0.7253 - val_loss: 1.4145 - val_precision: 0.4959 - val_recall: 0.4919 - learning_rate: 1.0000e-06\n",
            "Epoch 74/100\n",
            "\u001b[1m114/114\u001b[0m \u001b[32m━━━━━━━━━━━━━━━━━━━━\u001b[0m\u001b[37m\u001b[0m \u001b[1m2s\u001b[0m 18ms/step - accuracy: 0.8213 - loss: 1.1755 - precision: 0.6341 - recall: 0.8521 - val_accuracy: 0.7253 - val_loss: 1.4148 - val_precision: 0.4959 - val_recall: 0.4919 - learning_rate: 1.0000e-06\n",
            "Epoch 75/100\n",
            "\u001b[1m114/114\u001b[0m \u001b[32m━━━━━━━━━━━━━━━━━━━━\u001b[0m\u001b[37m\u001b[0m \u001b[1m2s\u001b[0m 19ms/step - accuracy: 0.8458 - loss: 1.1720 - precision: 0.6684 - recall: 0.9053 - val_accuracy: 0.7253 - val_loss: 1.4151 - val_precision: 0.4959 - val_recall: 0.4919 - learning_rate: 1.0000e-06\n",
            "Epoch 76/100\n",
            "\u001b[1m114/114\u001b[0m \u001b[32m━━━━━━━━━━━━━━━━━━━━\u001b[0m\u001b[37m\u001b[0m \u001b[1m2s\u001b[0m 19ms/step - accuracy: 0.8397 - loss: 1.1638 - precision: 0.6482 - recall: 0.9001 - val_accuracy: 0.7253 - val_loss: 1.4144 - val_precision: 0.4959 - val_recall: 0.4919 - learning_rate: 1.0000e-06\n",
            "Epoch 77/100\n",
            "\u001b[1m114/114\u001b[0m \u001b[32m━━━━━━━━━━━━━━━━━━━━\u001b[0m\u001b[37m\u001b[0m \u001b[1m2s\u001b[0m 18ms/step - accuracy: 0.8424 - loss: 1.1707 - precision: 0.6649 - recall: 0.8758 - val_accuracy: 0.7253 - val_loss: 1.4141 - val_precision: 0.4959 - val_recall: 0.4919 - learning_rate: 1.0000e-06\n",
            "Epoch 78/100\n",
            "\u001b[1m114/114\u001b[0m \u001b[32m━━━━━━━━━━━━━━━━━━━━\u001b[0m\u001b[37m\u001b[0m \u001b[1m2s\u001b[0m 18ms/step - accuracy: 0.8199 - loss: 1.1844 - precision: 0.6214 - recall: 0.8757 - val_accuracy: 0.7231 - val_loss: 1.4140 - val_precision: 0.4918 - val_recall: 0.4839 - learning_rate: 1.0000e-06\n",
            "Epoch 79/100\n",
            "\u001b[1m114/114\u001b[0m \u001b[32m━━━━━━━━━━━━━━━━━━━━\u001b[0m\u001b[37m\u001b[0m \u001b[1m2s\u001b[0m 18ms/step - accuracy: 0.8284 - loss: 1.1747 - precision: 0.6455 - recall: 0.8329 - val_accuracy: 0.7231 - val_loss: 1.4137 - val_precision: 0.4918 - val_recall: 0.4839 - learning_rate: 1.0000e-06\n",
            "Epoch 80/100\n",
            "\u001b[1m114/114\u001b[0m \u001b[32m━━━━━━━━━━━━━━━━━━━━\u001b[0m\u001b[37m\u001b[0m \u001b[1m2s\u001b[0m 18ms/step - accuracy: 0.8074 - loss: 1.1998 - precision: 0.6063 - recall: 0.8418 - val_accuracy: 0.7253 - val_loss: 1.4140 - val_precision: 0.4959 - val_recall: 0.4839 - learning_rate: 1.0000e-06\n",
            "Epoch 81/100\n",
            "\u001b[1m114/114\u001b[0m \u001b[32m━━━━━━━━━━━━━━━━━━━━\u001b[0m\u001b[37m\u001b[0m \u001b[1m2s\u001b[0m 19ms/step - accuracy: 0.8348 - loss: 1.1834 - precision: 0.6480 - recall: 0.8353 - val_accuracy: 0.7209 - val_loss: 1.4144 - val_precision: 0.4878 - val_recall: 0.4839 - learning_rate: 1.0000e-06\n",
            "Epoch 82/100\n",
            "\u001b[1m114/114\u001b[0m \u001b[32m━━━━━━━━━━━━━━━━━━━━\u001b[0m\u001b[37m\u001b[0m \u001b[1m2s\u001b[0m 19ms/step - accuracy: 0.8143 - loss: 1.1849 - precision: 0.5948 - recall: 0.8405 - val_accuracy: 0.7187 - val_loss: 1.4152 - val_precision: 0.4839 - val_recall: 0.4839 - learning_rate: 1.0000e-06\n",
            "Epoch 83/100\n",
            "\u001b[1m114/114\u001b[0m \u001b[32m━━━━━━━━━━━━━━━━━━━━\u001b[0m\u001b[37m\u001b[0m \u001b[1m2s\u001b[0m 18ms/step - accuracy: 0.8488 - loss: 1.1650 - precision: 0.6886 - recall: 0.8835 - val_accuracy: 0.7187 - val_loss: 1.4149 - val_precision: 0.4839 - val_recall: 0.4839 - learning_rate: 1.0000e-06\n",
            "Epoch 84/100\n",
            "\u001b[1m114/114\u001b[0m \u001b[32m━━━━━━━━━━━━━━━━━━━━\u001b[0m\u001b[37m\u001b[0m \u001b[1m2s\u001b[0m 18ms/step - accuracy: 0.8263 - loss: 1.1753 - precision: 0.6202 - recall: 0.8656 - val_accuracy: 0.7209 - val_loss: 1.4147 - val_precision: 0.4878 - val_recall: 0.4839 - learning_rate: 1.0000e-06\n",
            "Epoch 85/100\n",
            "\u001b[1m114/114\u001b[0m \u001b[32m━━━━━━━━━━━━━━━━━━━━\u001b[0m\u001b[37m\u001b[0m \u001b[1m2s\u001b[0m 18ms/step - accuracy: 0.8379 - loss: 1.1629 - precision: 0.6400 - recall: 0.8867 - val_accuracy: 0.7187 - val_loss: 1.4148 - val_precision: 0.4839 - val_recall: 0.4839 - learning_rate: 1.0000e-06\n",
            "Epoch 86/100\n",
            "\u001b[1m114/114\u001b[0m \u001b[32m━━━━━━━━━━━━━━━━━━━━\u001b[0m\u001b[37m\u001b[0m \u001b[1m2s\u001b[0m 18ms/step - accuracy: 0.8332 - loss: 1.1696 - precision: 0.6540 - recall: 0.8532 - val_accuracy: 0.7231 - val_loss: 1.4138 - val_precision: 0.4918 - val_recall: 0.4839 - learning_rate: 1.0000e-06\n",
            "Epoch 87/100\n",
            "\u001b[1m114/114\u001b[0m \u001b[32m━━━━━━━━━━━━━━━━━━━━\u001b[0m\u001b[37m\u001b[0m \u001b[1m2s\u001b[0m 19ms/step - accuracy: 0.8147 - loss: 1.1746 - precision: 0.6034 - recall: 0.8764 - val_accuracy: 0.7231 - val_loss: 1.4128 - val_precision: 0.4918 - val_recall: 0.4839 - learning_rate: 1.0000e-06\n",
            "Epoch 88/100\n",
            "\u001b[1m114/114\u001b[0m \u001b[32m━━━━━━━━━━━━━━━━━━━━\u001b[0m\u001b[37m\u001b[0m \u001b[1m2s\u001b[0m 19ms/step - accuracy: 0.8298 - loss: 1.1619 - precision: 0.6341 - recall: 0.8481 - val_accuracy: 0.7253 - val_loss: 1.4122 - val_precision: 0.4959 - val_recall: 0.4839 - learning_rate: 1.0000e-06\n",
            "Epoch 89/100\n",
            "\u001b[1m114/114\u001b[0m \u001b[32m━━━━━━━━━━━━━━━━━━━━\u001b[0m\u001b[37m\u001b[0m \u001b[1m2s\u001b[0m 18ms/step - accuracy: 0.8402 - loss: 1.1742 - precision: 0.6611 - recall: 0.8631 - val_accuracy: 0.7231 - val_loss: 1.4118 - val_precision: 0.4918 - val_recall: 0.4839 - learning_rate: 1.0000e-06\n",
            "Epoch 90/100\n",
            "\u001b[1m114/114\u001b[0m \u001b[32m━━━━━━━━━━━━━━━━━━━━\u001b[0m\u001b[37m\u001b[0m \u001b[1m2s\u001b[0m 18ms/step - accuracy: 0.8361 - loss: 1.1774 - precision: 0.6636 - recall: 0.8360 - val_accuracy: 0.7231 - val_loss: 1.4113 - val_precision: 0.4918 - val_recall: 0.4839 - learning_rate: 1.0000e-06\n",
            "Epoch 91/100\n",
            "\u001b[1m114/114\u001b[0m \u001b[32m━━━━━━━━━━━━━━━━━━━━\u001b[0m\u001b[37m\u001b[0m \u001b[1m2s\u001b[0m 18ms/step - accuracy: 0.8314 - loss: 1.1707 - precision: 0.6509 - recall: 0.8652 - val_accuracy: 0.7253 - val_loss: 1.4121 - val_precision: 0.4959 - val_recall: 0.4919 - learning_rate: 1.0000e-06\n",
            "Epoch 92/100\n",
            "\u001b[1m114/114\u001b[0m \u001b[32m━━━━━━━━━━━━━━━━━━━━\u001b[0m\u001b[37m\u001b[0m \u001b[1m2s\u001b[0m 18ms/step - accuracy: 0.8303 - loss: 1.1586 - precision: 0.6362 - recall: 0.8714 - val_accuracy: 0.7253 - val_loss: 1.4122 - val_precision: 0.4959 - val_recall: 0.4919 - learning_rate: 1.0000e-06\n",
            "Epoch 93/100\n",
            "\u001b[1m114/114\u001b[0m \u001b[32m━━━━━━━━━━━━━━━━━━━━\u001b[0m\u001b[37m\u001b[0m \u001b[1m2s\u001b[0m 18ms/step - accuracy: 0.8278 - loss: 1.1934 - precision: 0.6427 - recall: 0.8207 - val_accuracy: 0.7231 - val_loss: 1.4121 - val_precision: 0.4918 - val_recall: 0.4839 - learning_rate: 1.0000e-06\n",
            "Epoch 94/100\n",
            "\u001b[1m114/114\u001b[0m \u001b[32m━━━━━━━━━━━━━━━━━━━━\u001b[0m\u001b[37m\u001b[0m \u001b[1m2s\u001b[0m 20ms/step - accuracy: 0.8471 - loss: 1.1554 - precision: 0.6770 - recall: 0.8992 - val_accuracy: 0.7253 - val_loss: 1.4119 - val_precision: 0.4959 - val_recall: 0.4839 - learning_rate: 1.0000e-06\n",
            "Epoch 95/100\n",
            "\u001b[1m114/114\u001b[0m \u001b[32m━━━━━━━━━━━━━━━━━━━━\u001b[0m\u001b[37m\u001b[0m \u001b[1m2s\u001b[0m 18ms/step - accuracy: 0.8291 - loss: 1.1723 - precision: 0.6391 - recall: 0.8375 - val_accuracy: 0.7231 - val_loss: 1.4131 - val_precision: 0.4918 - val_recall: 0.4839 - learning_rate: 1.0000e-06\n",
            "Epoch 96/100\n",
            "\u001b[1m114/114\u001b[0m \u001b[32m━━━━━━━━━━━━━━━━━━━━\u001b[0m\u001b[37m\u001b[0m \u001b[1m2s\u001b[0m 18ms/step - accuracy: 0.8396 - loss: 1.1561 - precision: 0.6529 - recall: 0.8713 - val_accuracy: 0.7209 - val_loss: 1.4126 - val_precision: 0.4878 - val_recall: 0.4839 - learning_rate: 1.0000e-06\n",
            "Epoch 97/100\n",
            "\u001b[1m114/114\u001b[0m \u001b[32m━━━━━━━━━━━━━━━━━━━━\u001b[0m\u001b[37m\u001b[0m \u001b[1m2s\u001b[0m 18ms/step - accuracy: 0.8281 - loss: 1.1709 - precision: 0.6313 - recall: 0.8541 - val_accuracy: 0.7209 - val_loss: 1.4128 - val_precision: 0.4878 - val_recall: 0.4839 - learning_rate: 1.0000e-06\n",
            "Epoch 98/100\n",
            "\u001b[1m114/114\u001b[0m \u001b[32m━━━━━━━━━━━━━━━━━━━━\u001b[0m\u001b[37m\u001b[0m \u001b[1m2s\u001b[0m 18ms/step - accuracy: 0.8148 - loss: 1.1758 - precision: 0.6175 - recall: 0.8335 - val_accuracy: 0.7209 - val_loss: 1.4119 - val_precision: 0.4878 - val_recall: 0.4839 - learning_rate: 1.0000e-06\n",
            "Epoch 99/100\n",
            "\u001b[1m114/114\u001b[0m \u001b[32m━━━━━━━━━━━━━━━━━━━━\u001b[0m\u001b[37m\u001b[0m \u001b[1m2s\u001b[0m 18ms/step - accuracy: 0.8280 - loss: 1.1752 - precision: 0.6539 - recall: 0.8441 - val_accuracy: 0.7209 - val_loss: 1.4125 - val_precision: 0.4878 - val_recall: 0.4839 - learning_rate: 1.0000e-06\n",
            "Epoch 100/100\n",
            "\u001b[1m114/114\u001b[0m \u001b[32m━━━━━━━━━━━━━━━━━━━━\u001b[0m\u001b[37m\u001b[0m \u001b[1m2s\u001b[0m 20ms/step - accuracy: 0.8292 - loss: 1.1654 - precision: 0.6435 - recall: 0.8888 - val_accuracy: 0.7209 - val_loss: 1.4121 - val_precision: 0.4878 - val_recall: 0.4839 - learning_rate: 1.0000e-06\n",
            "Model training completed.\n"
          ]
        }
      ]
    },
    {
      "cell_type": "code",
      "source": [
        "evaluate_test_set(model_2_2, X_test_mfcc_padded_fed, y_test)"
      ],
      "metadata": {
        "colab": {
          "base_uri": "https://localhost:8080/"
        },
        "id": "Jh7TdKDG5tuC",
        "outputId": "1a271941-1401-47c1-8fd9-b357c395b36f"
      },
      "execution_count": null,
      "outputs": [
        {
          "output_type": "stream",
          "name": "stdout",
          "text": [
            "\u001b[1m15/15\u001b[0m \u001b[32m━━━━━━━━━━━━━━━━━━━━\u001b[0m\u001b[37m\u001b[0m \u001b[1m0s\u001b[0m 8ms/step - accuracy: 0.7081 - loss: 1.3957 - precision: 0.3789 - recall: 0.5019\n",
            "Test Loss: 1.4041\n",
            "Test Accuracy: 0.6944\n",
            "Test Precision: 0.3603\n",
            "Test Recall: 0.4667\n"
          ]
        }
      ]
    },
    {
      "cell_type": "code",
      "source": [
        "evaluate_model(model_2_2, X_test_mfcc_padded_fed, y_test)"
      ],
      "metadata": {
        "colab": {
          "base_uri": "https://localhost:8080/",
          "height": 695
        },
        "id": "YJ0UBV796szx",
        "outputId": "7138291f-1531-4fcb-8639-bdbd936cd4a9"
      },
      "execution_count": null,
      "outputs": [
        {
          "output_type": "stream",
          "name": "stdout",
          "text": [
            "\u001b[1m15/15\u001b[0m \u001b[32m━━━━━━━━━━━━━━━━━━━━\u001b[0m\u001b[37m\u001b[0m \u001b[1m0s\u001b[0m 15ms/step\n"
          ]
        },
        {
          "output_type": "display_data",
          "data": {
            "text/plain": [
              "<Figure size 600x500 with 2 Axes>"
            ],
            "image/png": "[encoded data removed]"
          },
          "metadata": {}
        },
        {
          "output_type": "stream",
          "name": "stdout",
          "text": [
            "\n",
            "Classification Report:\n",
            "               precision    recall  f1-score   support\n",
            "\n",
            "           0       0.83      0.76      0.79       363\n",
            "           1       0.36      0.47      0.41       105\n",
            "\n",
            "    accuracy                           0.69       468\n",
            "   macro avg       0.60      0.61      0.60       468\n",
            "weighted avg       0.73      0.69      0.71       468\n",
            "\n"
          ]
        }
      ]
    },
    {
      "cell_type": "markdown",
      "source": [
        "early stopping is not called by the end of the training. The model still performce badly"
      ],
      "metadata": {
        "id": "YX8C7-AoBPvG"
      }
    },
    {
      "cell_type": "markdown",
      "source": [
        "### Model 3 - CNN-LSTM"
      ],
      "metadata": {
        "id": "WlREpCga-3oH"
      }
    },
    {
      "cell_type": "markdown",
      "source": [
        "Now we add LSTM layer to the CNN model above. Reset the earlying stopping conditions."
      ],
      "metadata": {
        "id": "RzOeTlJ1XGDF"
      }
    },
    {
      "cell_type": "code",
      "source": [
        "# Reset back the early stopping conditions:\n",
        "early_stopping = EarlyStopping(monitor='val_loss', patience=3, restore_best_weights=True)"
      ],
      "metadata": {
        "id": "SgvgdK-J_OlG"
      },
      "execution_count": null,
      "outputs": []
    },
    {
      "cell_type": "code",
      "source": [
        "# Build the CNN-LSTM Model\n",
        "model_3 = Sequential([\n",
        "    # Convolutional Layers with L2 Regularization\n",
        "    Conv2D(16, (3, 3), activation='relu', padding='same',\n",
        "           input_shape=input_shape, kernel_regularizer=l2(0.01)),\n",
        "    BatchNormalization(),\n",
        "    MaxPooling2D((2, 2)),\n",
        "\n",
        "    Conv2D(32, (3, 3), activation='relu', padding='same',\n",
        "           kernel_regularizer=l2(0.01)),\n",
        "    BatchNormalization(),\n",
        "    MaxPooling2D((2, 2)),\n",
        "\n",
        "    Conv2D(64, (3, 3), activation='relu', padding='same',\n",
        "           kernel_regularizer=l2(0.01)),\n",
        "    BatchNormalization(),\n",
        "    MaxPooling2D((2, 2)),\n",
        "\n",
        "    # Reshape output for LSTM compatibility\n",
        "    Reshape((-1, 64)),  # Convert feature map to (time_steps, features)\n",
        "\n",
        "    # LSTM Layer\n",
        "    LSTM(64, return_sequences=False),  # Use return_sequences=True for stacking LSTMs\n",
        "    Dropout(0.5),\n",
        "\n",
        "    # Fully Connected Layers\n",
        "    Dense(64, activation='relu', kernel_regularizer=l2(0.01)),\n",
        "    Dropout(0.3),\n",
        "    Dense(32, activation='relu', kernel_regularizer=l2(0.01)),\n",
        "    Dropout(0.3),\n",
        "\n",
        "    # Output layer for binary classification\n",
        "    Dense(1, activation='sigmoid', kernel_regularizer=l2(0.01))\n",
        "])"
      ],
      "metadata": {
        "id": "iTI05mo762PD",
        "colab": {
          "base_uri": "https://localhost:8080/"
        },
        "outputId": "f2625e26-88c0-4587-939b-8b4fe0764174"
      },
      "execution_count": null,
      "outputs": [
        {
          "output_type": "stream",
          "name": "stderr",
          "text": [
            "/usr/local/lib/python3.11/dist-packages/keras/src/layers/convolutional/base_conv.py:107: UserWarning: Do not pass an `input_shape`/`input_dim` argument to a layer. When using Sequential models, prefer using an `Input(shape)` object as the first layer in the model instead.\n",
            "  super().__init__(activity_regularizer=activity_regularizer, **kwargs)\n"
          ]
        }
      ]
    },
    {
      "cell_type": "code",
      "source": [
        "# Compile the model\n",
        "model_3.compile(\n",
        "    optimizer=Adam(learning_rate=0.0001), #starting lr\n",
        "    loss='binary_crossentropy',\n",
        "    metrics=['accuracy', Precision(name='precision'), Recall(name='recall')]\n",
        ")"
      ],
      "metadata": {
        "id": "J4Ec99Sq_Gsu"
      },
      "execution_count": null,
      "outputs": []
    },
    {
      "cell_type": "code",
      "source": [
        "# Train the model\n",
        "num_epochs = 50\n",
        "history_cnnlstm = model_3.fit(\n",
        "    X_train_fed, y_train_fed,\n",
        "    batch_size=16,\n",
        "    epochs=num_epochs,\n",
        "    validation_data=(X_val_fed, y_val_fed),\n",
        "    callbacks=[early_stopping, lr_scheduler],  #include both callbacks\n",
        "    class_weight=class_weights_dict\n",
        ")\n",
        "\n",
        "print(\"Model training completed.\")"
      ],
      "metadata": {
        "colab": {
          "base_uri": "https://localhost:8080/"
        },
        "id": "Jgwq6QtSCefB",
        "outputId": "415096a2-ba59-49ac-88b4-06409c2d3566"
      },
      "execution_count": null,
      "outputs": [
        {
          "output_type": "stream",
          "name": "stdout",
          "text": [
            "Epoch 1/50\n",
            "\u001b[1m114/114\u001b[0m \u001b[32m━━━━━━━━━━━━━━━━━━━━\u001b[0m\u001b[37m\u001b[0m \u001b[1m10s\u001b[0m 33ms/step - accuracy: 0.6432 - loss: 2.4195 - precision: 0.2256 - recall: 0.1541 - val_accuracy: 0.4879 - val_loss: 2.3040 - val_precision: 0.3225 - val_recall: 0.7984 - learning_rate: 1.0000e-04\n",
            "Epoch 2/50\n",
            "\u001b[1m114/114\u001b[0m \u001b[32m━━━━━━━━━━━━━━━━━━━━\u001b[0m\u001b[37m\u001b[0m \u001b[1m3s\u001b[0m 25ms/step - accuracy: 0.5673 - loss: 2.2876 - precision: 0.2653 - recall: 0.3569 - val_accuracy: 0.4088 - val_loss: 2.2035 - val_precision: 0.2911 - val_recall: 0.8145 - learning_rate: 1.0000e-04\n",
            "Epoch 3/50\n",
            "\u001b[1m114/114\u001b[0m \u001b[32m━━━━━━━━━━━━━━━━━━━━\u001b[0m\u001b[37m\u001b[0m \u001b[1m3s\u001b[0m 25ms/step - accuracy: 0.5604 - loss: 2.1821 - precision: 0.3220 - recall: 0.5213 - val_accuracy: 0.5055 - val_loss: 2.0796 - val_precision: 0.3190 - val_recall: 0.7177 - learning_rate: 1.0000e-04\n",
            "Epoch 4/50\n",
            "\u001b[1m114/114\u001b[0m \u001b[32m━━━━━━━━━━━━━━━━━━━━\u001b[0m\u001b[37m\u001b[0m \u001b[1m3s\u001b[0m 26ms/step - accuracy: 0.5508 - loss: 2.0774 - precision: 0.3201 - recall: 0.5026 - val_accuracy: 0.4549 - val_loss: 1.9938 - val_precision: 0.3063 - val_recall: 0.7903 - learning_rate: 1.0000e-04\n",
            "Epoch 5/50\n",
            "\u001b[1m114/114\u001b[0m \u001b[32m━━━━━━━━━━━━━━━━━━━━\u001b[0m\u001b[37m\u001b[0m \u001b[1m3s\u001b[0m 26ms/step - accuracy: 0.5741 - loss: 1.9605 - precision: 0.3371 - recall: 0.5957 - val_accuracy: 0.4440 - val_loss: 1.9102 - val_precision: 0.3040 - val_recall: 0.8065 - learning_rate: 1.0000e-04\n",
            "Epoch 6/50\n",
            "\u001b[1m114/114\u001b[0m \u001b[32m━━━━━━━━━━━━━━━━━━━━\u001b[0m\u001b[37m\u001b[0m \u001b[1m3s\u001b[0m 25ms/step - accuracy: 0.5272 - loss: 1.9029 - precision: 0.3072 - recall: 0.5120 - val_accuracy: 0.4593 - val_loss: 1.8121 - val_precision: 0.3082 - val_recall: 0.7903 - learning_rate: 1.0000e-04\n",
            "Epoch 7/50\n",
            "\u001b[1m114/114\u001b[0m \u001b[32m━━━━━━━━━━━━━━━━━━━━\u001b[0m\u001b[37m\u001b[0m \u001b[1m3s\u001b[0m 25ms/step - accuracy: 0.5036 - loss: 1.7909 - precision: 0.2811 - recall: 0.5364 - val_accuracy: 0.5077 - val_loss: 1.7241 - val_precision: 0.3227 - val_recall: 0.7339 - learning_rate: 1.0000e-04\n",
            "Epoch 8/50\n",
            "\u001b[1m114/114\u001b[0m \u001b[32m━━━━━━━━━━━━━━━━━━━━\u001b[0m\u001b[37m\u001b[0m \u001b[1m3s\u001b[0m 25ms/step - accuracy: 0.5316 - loss: 1.7150 - precision: 0.2965 - recall: 0.5167 - val_accuracy: 0.4769 - val_loss: 1.6518 - val_precision: 0.3113 - val_recall: 0.7581 - learning_rate: 1.0000e-04\n",
            "Epoch 9/50\n",
            "\u001b[1m114/114\u001b[0m \u001b[32m━━━━━━━━━━━━━━━━━━━━\u001b[0m\u001b[37m\u001b[0m \u001b[1m3s\u001b[0m 27ms/step - accuracy: 0.5580 - loss: 1.6247 - precision: 0.3124 - recall: 0.5666 - val_accuracy: 0.4593 - val_loss: 1.5977 - val_precision: 0.3094 - val_recall: 0.7984 - learning_rate: 1.0000e-04\n",
            "Epoch 10/50\n",
            "\u001b[1m114/114\u001b[0m \u001b[32m━━━━━━━━━━━━━━━━━━━━\u001b[0m\u001b[37m\u001b[0m \u001b[1m3s\u001b[0m 25ms/step - accuracy: 0.5122 - loss: 1.5843 - precision: 0.3361 - recall: 0.6487 - val_accuracy: 0.5363 - val_loss: 1.5059 - val_precision: 0.3320 - val_recall: 0.6935 - learning_rate: 1.0000e-04\n",
            "Epoch 11/50\n",
            "\u001b[1m114/114\u001b[0m \u001b[32m━━━━━━━━━━━━━━━━━━━━\u001b[0m\u001b[37m\u001b[0m \u001b[1m3s\u001b[0m 25ms/step - accuracy: 0.5322 - loss: 1.4964 - precision: 0.3096 - recall: 0.6086 - val_accuracy: 0.4593 - val_loss: 1.4705 - val_precision: 0.3082 - val_recall: 0.7903 - learning_rate: 1.0000e-04\n",
            "Epoch 12/50\n",
            "\u001b[1m114/114\u001b[0m \u001b[32m━━━━━━━━━━━━━━━━━━━━\u001b[0m\u001b[37m\u001b[0m \u001b[1m3s\u001b[0m 25ms/step - accuracy: 0.5064 - loss: 1.4350 - precision: 0.3112 - recall: 0.6908 - val_accuracy: 0.4637 - val_loss: 1.4136 - val_precision: 0.3125 - val_recall: 0.8065 - learning_rate: 1.0000e-04\n",
            "Epoch 13/50\n",
            "\u001b[1m114/114\u001b[0m \u001b[32m━━━━━━━━━━━━━━━━━━━━\u001b[0m\u001b[37m\u001b[0m \u001b[1m3s\u001b[0m 26ms/step - accuracy: 0.5353 - loss: 1.3883 - precision: 0.3349 - recall: 0.6995 - val_accuracy: 0.4308 - val_loss: 1.3620 - val_precision: 0.3043 - val_recall: 0.8468 - learning_rate: 1.0000e-04\n",
            "Epoch 14/50\n",
            "\u001b[1m114/114\u001b[0m \u001b[32m━━━━━━━━━━━━━━━━━━━━\u001b[0m\u001b[37m\u001b[0m \u001b[1m3s\u001b[0m 26ms/step - accuracy: 0.5301 - loss: 1.3417 - precision: 0.3176 - recall: 0.6008 - val_accuracy: 0.4791 - val_loss: 1.3136 - val_precision: 0.3206 - val_recall: 0.8145 - learning_rate: 1.0000e-04\n",
            "Epoch 15/50\n",
            "\u001b[1m114/114\u001b[0m \u001b[32m━━━━━━━━━━━━━━━━━━━━\u001b[0m\u001b[37m\u001b[0m \u001b[1m3s\u001b[0m 25ms/step - accuracy: 0.5627 - loss: 1.2748 - precision: 0.3386 - recall: 0.7008 - val_accuracy: 0.4418 - val_loss: 1.2804 - val_precision: 0.3065 - val_recall: 0.8306 - learning_rate: 1.0000e-04\n",
            "Epoch 16/50\n",
            "\u001b[1m114/114\u001b[0m \u001b[32m━━━━━━━━━━━━━━━━━━━━\u001b[0m\u001b[37m\u001b[0m \u001b[1m3s\u001b[0m 25ms/step - accuracy: 0.5013 - loss: 1.2416 - precision: 0.3181 - recall: 0.6993 - val_accuracy: 0.5868 - val_loss: 1.1915 - val_precision: 0.3609 - val_recall: 0.6694 - learning_rate: 1.0000e-04\n",
            "Epoch 17/50\n",
            "\u001b[1m114/114\u001b[0m \u001b[32m━━━━━━━━━━━━━━━━━━━━\u001b[0m\u001b[37m\u001b[0m \u001b[1m3s\u001b[0m 26ms/step - accuracy: 0.5337 - loss: 1.1940 - precision: 0.3385 - recall: 0.7328 - val_accuracy: 0.4505 - val_loss: 1.2093 - val_precision: 0.3114 - val_recall: 0.8387 - learning_rate: 1.0000e-04\n",
            "Epoch 18/50\n",
            "\u001b[1m114/114\u001b[0m \u001b[32m━━━━━━━━━━━━━━━━━━━━\u001b[0m\u001b[37m\u001b[0m \u001b[1m3s\u001b[0m 27ms/step - accuracy: 0.5594 - loss: 1.1498 - precision: 0.3413 - recall: 0.7117 - val_accuracy: 0.4615 - val_loss: 1.1726 - val_precision: 0.3127 - val_recall: 0.8145 - learning_rate: 1.0000e-04\n",
            "Epoch 19/50\n",
            "\u001b[1m114/114\u001b[0m \u001b[32m━━━━━━━━━━━━━━━━━━━━\u001b[0m\u001b[37m\u001b[0m \u001b[1m3s\u001b[0m 25ms/step - accuracy: 0.5890 - loss: 1.1080 - precision: 0.3551 - recall: 0.7081 - val_accuracy: 0.6242 - val_loss: 1.0921 - val_precision: 0.3854 - val_recall: 0.6371 - learning_rate: 1.0000e-04\n",
            "Epoch 20/50\n",
            "\u001b[1m114/114\u001b[0m \u001b[32m━━━━━━━━━━━━━━━━━━━━\u001b[0m\u001b[37m\u001b[0m \u001b[1m3s\u001b[0m 25ms/step - accuracy: 0.6022 - loss: 1.0807 - precision: 0.3995 - recall: 0.7511 - val_accuracy: 0.6352 - val_loss: 1.0473 - val_precision: 0.3859 - val_recall: 0.5726 - learning_rate: 1.0000e-04\n",
            "Epoch 21/50\n",
            "\u001b[1m114/114\u001b[0m \u001b[32m━━━━━━━━━━━━━━━━━━━━\u001b[0m\u001b[37m\u001b[0m \u001b[1m3s\u001b[0m 25ms/step - accuracy: 0.6454 - loss: 1.0389 - precision: 0.4073 - recall: 0.7013 - val_accuracy: 0.5714 - val_loss: 1.0593 - val_precision: 0.3489 - val_recall: 0.6613 - learning_rate: 1.0000e-04\n",
            "Epoch 22/50\n",
            "\u001b[1m114/114\u001b[0m \u001b[32m━━━━━━━━━━━━━━━━━━━━\u001b[0m\u001b[37m\u001b[0m \u001b[1m3s\u001b[0m 26ms/step - accuracy: 0.6375 - loss: 1.0130 - precision: 0.3996 - recall: 0.6799 - val_accuracy: 0.6330 - val_loss: 1.0084 - val_precision: 0.3757 - val_recall: 0.5242 - learning_rate: 1.0000e-04\n",
            "Epoch 23/50\n",
            "\u001b[1m114/114\u001b[0m \u001b[32m━━━━━━━━━━━━━━━━━━━━\u001b[0m\u001b[37m\u001b[0m \u001b[1m3s\u001b[0m 25ms/step - accuracy: 0.6898 - loss: 0.9938 - precision: 0.4559 - recall: 0.6480 - val_accuracy: 0.6615 - val_loss: 0.9650 - val_precision: 0.3986 - val_recall: 0.4758 - learning_rate: 1.0000e-04\n",
            "Epoch 24/50\n",
            "\u001b[1m114/114\u001b[0m \u001b[32m━━━━━━━━━━━━━━━━━━━━\u001b[0m\u001b[37m\u001b[0m \u001b[1m3s\u001b[0m 26ms/step - accuracy: 0.7017 - loss: 0.9295 - precision: 0.4719 - recall: 0.7191 - val_accuracy: 0.6835 - val_loss: 0.9396 - val_precision: 0.4296 - val_recall: 0.4919 - learning_rate: 1.0000e-04\n",
            "Epoch 25/50\n",
            "\u001b[1m114/114\u001b[0m \u001b[32m━━━━━━━━━━━━━━━━━━━━\u001b[0m\u001b[37m\u001b[0m \u001b[1m3s\u001b[0m 25ms/step - accuracy: 0.7061 - loss: 0.9281 - precision: 0.4976 - recall: 0.7404 - val_accuracy: 0.5055 - val_loss: 1.0564 - val_precision: 0.3253 - val_recall: 0.7581 - learning_rate: 1.0000e-04\n",
            "Epoch 26/50\n",
            "\u001b[1m112/114\u001b[0m \u001b[32m━━━━━━━━━━━━━━━━━━━\u001b[0m\u001b[37m━\u001b[0m \u001b[1m0s\u001b[0m 24ms/step - accuracy: 0.7382 - loss: 0.8894 - precision: 0.5106 - recall: 0.7191\n",
            "Epoch 26: ReduceLROnPlateau reducing learning rate to 4.999999873689376e-05.\n",
            "\u001b[1m114/114\u001b[0m \u001b[32m━━━━━━━━━━━━━━━━━━━━\u001b[0m\u001b[37m\u001b[0m \u001b[1m3s\u001b[0m 26ms/step - accuracy: 0.7382 - loss: 0.8895 - precision: 0.5106 - recall: 0.7194 - val_accuracy: 0.6374 - val_loss: 0.9649 - val_precision: 0.3787 - val_recall: 0.5161 - learning_rate: 1.0000e-04\n",
            "Epoch 27/50\n",
            "\u001b[1m114/114\u001b[0m \u001b[32m━━━━━━━━━━━━━━━━━━━━\u001b[0m\u001b[37m\u001b[0m \u001b[1m3s\u001b[0m 26ms/step - accuracy: 0.7659 - loss: 0.8430 - precision: 0.5393 - recall: 0.7782 - val_accuracy: 0.6154 - val_loss: 0.9996 - val_precision: 0.3679 - val_recall: 0.5726 - learning_rate: 5.0000e-05\n",
            "Model training completed.\n"
          ]
        }
      ]
    },
    {
      "cell_type": "code",
      "source": [
        "evaluate_test_set(model_3, X_test_mfcc_padded_fed, y_test)"
      ],
      "metadata": {
        "colab": {
          "base_uri": "https://localhost:8080/"
        },
        "id": "FbEb_PdtCjZV",
        "outputId": "7ec3adc3-181d-4308-f46c-a558541037f3"
      },
      "execution_count": null,
      "outputs": [
        {
          "output_type": "stream",
          "name": "stdout",
          "text": [
            "\u001b[1m15/15\u001b[0m \u001b[32m━━━━━━━━━━━━━━━━━━━━\u001b[0m\u001b[37m\u001b[0m \u001b[1m0s\u001b[0m 12ms/step - accuracy: 0.7289 - loss: 0.8915 - precision: 0.4255 - recall: 0.6403\n",
            "Test Loss: 0.8958\n",
            "Test Accuracy: 0.7244\n",
            "Test Precision: 0.4241\n",
            "Test Recall: 0.6381\n"
          ]
        }
      ]
    },
    {
      "cell_type": "code",
      "source": [
        "evaluate_model(model_3, X_test_mfcc_padded_fed, y_test)"
      ],
      "metadata": {
        "colab": {
          "base_uri": "https://localhost:8080/",
          "height": 695
        },
        "id": "wHS7osqNCrxx",
        "outputId": "ed3c81d4-2c12-4f3a-b9e9-510993fd22ee"
      },
      "execution_count": null,
      "outputs": [
        {
          "output_type": "stream",
          "name": "stdout",
          "text": [
            "\u001b[1m15/15\u001b[0m \u001b[32m━━━━━━━━━━━━━━━━━━━━\u001b[0m\u001b[37m\u001b[0m \u001b[1m1s\u001b[0m 26ms/step\n"
          ]
        },
        {
          "output_type": "display_data",
          "data": {
            "text/plain": [
              "<Figure size 600x500 with 2 Axes>"
            ],
            "image/png": "[encoded data removed]"
          },
          "metadata": {}
        },
        {
          "output_type": "stream",
          "name": "stdout",
          "text": [
            "\n",
            "Classification Report:\n",
            "               precision    recall  f1-score   support\n",
            "\n",
            "           0       0.88      0.75      0.81       363\n",
            "           1       0.42      0.64      0.51       105\n",
            "\n",
            "    accuracy                           0.72       468\n",
            "   macro avg       0.65      0.69      0.66       468\n",
            "weighted avg       0.78      0.72      0.74       468\n",
            "\n"
          ]
        }
      ]
    },
    {
      "cell_type": "markdown",
      "source": [
        "The LSTM+CNN model gives us the best balance yet. Comparing the best CNN model before, F1 score for Class1 increase to 0.51 while the Class0 F1 score remains 0.81."
      ],
      "metadata": {
        "id": "JVuseq79YbeB"
      }
    },
    {
      "cell_type": "markdown",
      "source": [
        "### model 3.2 removing regularisation\n"
      ],
      "metadata": {
        "id": "ful3nSjcEbB4"
      }
    },
    {
      "cell_type": "code",
      "source": [
        "# Build the CNN-LSTM Model\n",
        "model_3_2 = Sequential([\n",
        "    # Convolutional Layers with L2 Regularization\n",
        "    Conv2D(16, (3, 3), activation='relu', padding='same',\n",
        "           input_shape=input_shape),\n",
        "    BatchNormalization(),\n",
        "    MaxPooling2D((2, 2)),\n",
        "\n",
        "    Conv2D(32, (3, 3), activation='relu', padding='same', ),\n",
        "    BatchNormalization(),\n",
        "    MaxPooling2D((2, 2)),\n",
        "\n",
        "    Conv2D(64, (3, 3), activation='relu', padding='same'),\n",
        "    BatchNormalization(),\n",
        "    MaxPooling2D((2, 2)),\n",
        "\n",
        "    # Reshape output for LSTM compatibility\n",
        "    Reshape((-1, 64)),  # Convert feature map to (time_steps, features)\n",
        "\n",
        "    # LSTM Layer\n",
        "    LSTM(64, return_sequences=False),  # Use return_sequences=True for stacking LSTMs\n",
        "    Dropout(0.5),\n",
        "\n",
        "    # Fully Connected Layers\n",
        "    Dense(64, activation='relu'),\n",
        "    Dropout(0.3),\n",
        "    Dense(32, activation='relu'),\n",
        "    Dropout(0.3),\n",
        "\n",
        "    # Output layer for binary classification\n",
        "    Dense(1, activation='sigmoid')\n",
        "])"
      ],
      "metadata": {
        "colab": {
          "base_uri": "https://localhost:8080/"
        },
        "id": "hzIB1LmFC9sn",
        "outputId": "6bd77beb-a627-4846-c393-d2fede6881a8"
      },
      "execution_count": null,
      "outputs": [
        {
          "output_type": "stream",
          "name": "stderr",
          "text": [
            "/usr/local/lib/python3.11/dist-packages/keras/src/layers/convolutional/base_conv.py:107: UserWarning: Do not pass an `input_shape`/`input_dim` argument to a layer. When using Sequential models, prefer using an `Input(shape)` object as the first layer in the model instead.\n",
            "  super().__init__(activity_regularizer=activity_regularizer, **kwargs)\n"
          ]
        }
      ]
    },
    {
      "cell_type": "code",
      "source": [
        "# Compile the model\n",
        "model_3_2.compile(\n",
        "    optimizer=Adam(learning_rate=0.0001), #starting lr\n",
        "    loss='binary_crossentropy',\n",
        "    metrics=['accuracy', Precision(name='precision'), Recall(name='recall')]\n",
        ")"
      ],
      "metadata": {
        "id": "zZbgLFN7EwL-"
      },
      "execution_count": null,
      "outputs": []
    },
    {
      "cell_type": "code",
      "source": [
        "# Train the model\n",
        "num_epochs = 50\n",
        "history_cnnlstm_complex = model_3_2.fit(\n",
        "    X_train_fed, y_train_fed,\n",
        "    batch_size=16,\n",
        "    epochs=num_epochs,\n",
        "    validation_data=(X_val_fed, y_val_fed),\n",
        "    callbacks=[early_stopping, lr_scheduler],  #include both callbacks\n",
        "    class_weight=class_weights_dict\n",
        ")\n",
        "\n",
        "print(\"Model training completed.\")"
      ],
      "metadata": {
        "colab": {
          "base_uri": "https://localhost:8080/"
        },
        "id": "J-oleqEnExZA",
        "outputId": "162cb901-ca62-466e-e063-2dc4301748ab"
      },
      "execution_count": null,
      "outputs": [
        {
          "output_type": "stream",
          "name": "stdout",
          "text": [
            "Epoch 1/50\n",
            "\u001b[1m114/114\u001b[0m \u001b[32m━━━━━━━━━━━━━━━━━━━━\u001b[0m\u001b[37m\u001b[0m \u001b[1m9s\u001b[0m 36ms/step - accuracy: 0.4272 - loss: 0.7074 - precision: 0.3120 - recall: 0.8278 - val_accuracy: 0.4769 - val_loss: 0.6946 - val_precision: 0.3125 - val_recall: 0.7661 - learning_rate: 1.0000e-04\n",
            "Epoch 2/50\n",
            "\u001b[1m114/114\u001b[0m \u001b[32m━━━━━━━━━━━━━━━━━━━━\u001b[0m\u001b[37m\u001b[0m \u001b[1m3s\u001b[0m 28ms/step - accuracy: 0.5040 - loss: 0.6844 - precision: 0.2749 - recall: 0.5520 - val_accuracy: 0.4747 - val_loss: 0.6969 - val_precision: 0.3163 - val_recall: 0.7984 - learning_rate: 1.0000e-04\n",
            "Epoch 3/50\n",
            "\u001b[1m114/114\u001b[0m \u001b[32m━━━━━━━━━━━━━━━━━━━━\u001b[0m\u001b[37m\u001b[0m \u001b[1m3s\u001b[0m 27ms/step - accuracy: 0.4766 - loss: 0.6853 - precision: 0.3116 - recall: 0.7115 - val_accuracy: 0.4593 - val_loss: 0.6844 - val_precision: 0.3106 - val_recall: 0.8065 - learning_rate: 1.0000e-04\n",
            "Epoch 4/50\n",
            "\u001b[1m114/114\u001b[0m \u001b[32m━━━━━━━━━━━━━━━━━━━━\u001b[0m\u001b[37m\u001b[0m \u001b[1m3s\u001b[0m 27ms/step - accuracy: 0.5104 - loss: 0.6794 - precision: 0.3014 - recall: 0.6625 - val_accuracy: 0.4462 - val_loss: 0.6892 - val_precision: 0.3061 - val_recall: 0.8145 - learning_rate: 1.0000e-04\n",
            "Epoch 5/50\n",
            "\u001b[1m114/114\u001b[0m \u001b[32m━━━━━━━━━━━━━━━━━━━━\u001b[0m\u001b[37m\u001b[0m \u001b[1m3s\u001b[0m 30ms/step - accuracy: 0.4713 - loss: 0.6901 - precision: 0.3005 - recall: 0.7058 - val_accuracy: 0.4901 - val_loss: 0.6645 - val_precision: 0.3125 - val_recall: 0.7258 - learning_rate: 1.0000e-04\n",
            "Epoch 6/50\n",
            "\u001b[1m114/114\u001b[0m \u001b[32m━━━━━━━━━━━━━━━━━━━━\u001b[0m\u001b[37m\u001b[0m \u001b[1m3s\u001b[0m 27ms/step - accuracy: 0.4860 - loss: 0.6913 - precision: 0.2847 - recall: 0.6067 - val_accuracy: 0.5055 - val_loss: 0.6699 - val_precision: 0.3164 - val_recall: 0.7016 - learning_rate: 1.0000e-04\n",
            "Epoch 7/50\n",
            "\u001b[1m112/114\u001b[0m \u001b[32m━━━━━━━━━━━━━━━━━━━\u001b[0m\u001b[37m━\u001b[0m \u001b[1m0s\u001b[0m 24ms/step - accuracy: 0.4646 - loss: 0.6799 - precision: 0.2866 - recall: 0.7049\n",
            "Epoch 7: ReduceLROnPlateau reducing learning rate to 4.999999873689376e-05.\n",
            "\u001b[1m114/114\u001b[0m \u001b[32m━━━━━━━━━━━━━━━━━━━━\u001b[0m\u001b[37m\u001b[0m \u001b[1m3s\u001b[0m 26ms/step - accuracy: 0.4648 - loss: 0.6801 - precision: 0.2869 - recall: 0.7046 - val_accuracy: 0.4659 - val_loss: 0.6745 - val_precision: 0.3111 - val_recall: 0.7903 - learning_rate: 1.0000e-04\n",
            "Epoch 8/50\n",
            "\u001b[1m114/114\u001b[0m \u001b[32m━━━━━━━━━━━━━━━━━━━━\u001b[0m\u001b[37m\u001b[0m \u001b[1m3s\u001b[0m 26ms/step - accuracy: 0.4807 - loss: 0.7019 - precision: 0.3347 - recall: 0.7671 - val_accuracy: 0.4835 - val_loss: 0.6683 - val_precision: 0.3168 - val_recall: 0.7742 - learning_rate: 5.0000e-05\n",
            "Model training completed.\n"
          ]
        }
      ]
    },
    {
      "cell_type": "code",
      "source": [
        "evaluate_test_set(model_3_2, X_test_mfcc_padded_fed, y_test)"
      ],
      "metadata": {
        "colab": {
          "base_uri": "https://localhost:8080/"
        },
        "id": "iPIWEnWkE5dF",
        "outputId": "fb7935e8-63a2-4e11-88fc-5510056f777b"
      },
      "execution_count": null,
      "outputs": [
        {
          "output_type": "stream",
          "name": "stdout",
          "text": [
            "\u001b[1m15/15\u001b[0m \u001b[32m━━━━━━━━━━━━━━━━━━━━\u001b[0m\u001b[37m\u001b[0m \u001b[1m0s\u001b[0m 13ms/step - accuracy: 0.5332 - loss: 0.6419 - precision: 0.3030 - recall: 0.8535\n",
            "Test Loss: 0.6448\n",
            "Test Accuracy: 0.5278\n",
            "Test Precision: 0.3027\n",
            "Test Recall: 0.8476\n"
          ]
        }
      ]
    },
    {
      "cell_type": "code",
      "source": [
        "evaluate_model(model_3_2, X_test_mfcc_padded_fed, y_test)"
      ],
      "metadata": {
        "colab": {
          "base_uri": "https://localhost:8080/",
          "height": 695
        },
        "id": "5BscrmWDE9-v",
        "outputId": "c059bcfd-2540-4b4e-f1b1-895a6b309ed7"
      },
      "execution_count": null,
      "outputs": [
        {
          "output_type": "stream",
          "name": "stdout",
          "text": [
            "\u001b[1m15/15\u001b[0m \u001b[32m━━━━━━━━━━━━━━━━━━━━\u001b[0m\u001b[37m\u001b[0m \u001b[1m1s\u001b[0m 30ms/step\n"
          ]
        },
        {
          "output_type": "display_data",
          "data": {
            "text/plain": [
              "<Figure size 600x500 with 2 Axes>"
            ],
            "image/png": "[encoded data removed]"
          },
          "metadata": {}
        },
        {
          "output_type": "stream",
          "name": "stdout",
          "text": [
            "\n",
            "Classification Report:\n",
            "               precision    recall  f1-score   support\n",
            "\n",
            "           0       0.91      0.44      0.59       363\n",
            "           1       0.30      0.85      0.45       105\n",
            "\n",
            "    accuracy                           0.53       468\n",
            "   macro avg       0.61      0.64      0.52       468\n",
            "weighted avg       0.77      0.53      0.56       468\n",
            "\n"
          ]
        }
      ]
    },
    {
      "cell_type": "markdown",
      "source": [
        "We try to remove regularisation, but the performance is pool.\n"
      ],
      "metadata": {
        "id": "t-DP0EUAZBn8"
      }
    },
    {
      "cell_type": "markdown",
      "source": [
        "### Model 3.3 Trying bidirectional LSTM"
      ],
      "metadata": {
        "id": "vtTruHJcFDMn"
      }
    },
    {
      "cell_type": "code",
      "source": [
        "# Build the CNN-LSTM Model\n",
        "model_3_3 = Sequential([\n",
        "    # Convolutional Layers with L2 Regularization\n",
        "    Conv2D(16, (3, 3), activation='relu', padding='same',\n",
        "           input_shape=input_shape, kernel_regularizer=l2(0.01)),\n",
        "    BatchNormalization(),\n",
        "    MaxPooling2D((2, 2)),\n",
        "\n",
        "    Conv2D(32, (3, 3), activation='relu', padding='same',\n",
        "           kernel_regularizer=l2(0.01)),\n",
        "    BatchNormalization(),\n",
        "    MaxPooling2D((2, 2)),\n",
        "\n",
        "    Conv2D(64, (3, 3), activation='relu', padding='same',\n",
        "           kernel_regularizer=l2(0.01)),\n",
        "    BatchNormalization(),\n",
        "    MaxPooling2D((2, 2)),\n",
        "\n",
        "    # Reshape output for LSTM compatibility\n",
        "    Reshape((-1, 64)),  # Convert feature map to (time_steps, features)\n",
        "\n",
        "    # LSTM Layer\n",
        "    Bidirectional(LSTM(64, return_sequences=True)),\n",
        "    Bidirectional(LSTM(32)),\n",
        "    Dropout(0.5),\n",
        "\n",
        "    # Fully Connected Layers\n",
        "    Dense(64, activation='relu', kernel_regularizer=l2(0.01)),\n",
        "    Dropout(0.3),\n",
        "    Dense(32, activation='relu', kernel_regularizer=l2(0.01)),\n",
        "    Dropout(0.3),\n",
        "\n",
        "    # Output layer for binary classification\n",
        "    Dense(1, activation='sigmoid', kernel_regularizer=l2(0.01))\n",
        "])"
      ],
      "metadata": {
        "colab": {
          "base_uri": "https://localhost:8080/"
        },
        "id": "g1gYRBleFCzX",
        "outputId": "5b5973c7-8eb6-460c-c431-2d6149b641bf"
      },
      "execution_count": null,
      "outputs": [
        {
          "output_type": "stream",
          "name": "stderr",
          "text": [
            "/usr/local/lib/python3.11/dist-packages/keras/src/layers/convolutional/base_conv.py:107: UserWarning: Do not pass an `input_shape`/`input_dim` argument to a layer. When using Sequential models, prefer using an `Input(shape)` object as the first layer in the model instead.\n",
            "  super().__init__(activity_regularizer=activity_regularizer, **kwargs)\n"
          ]
        }
      ]
    },
    {
      "cell_type": "code",
      "source": [
        "# Compile the model\n",
        "model_3_3.compile(\n",
        "    optimizer=Adam(learning_rate=0.0001), #starting lr\n",
        "    loss='binary_crossentropy',\n",
        "    metrics=['accuracy', Precision(name='precision'), Recall(name='recall')]\n",
        ")"
      ],
      "metadata": {
        "id": "UCYrVHp9FBVj"
      },
      "execution_count": null,
      "outputs": []
    },
    {
      "cell_type": "code",
      "source": [
        "# Train the model\n",
        "num_epochs = 50\n",
        "history_cnnlstm_complex = model_3_3.fit(\n",
        "    X_train_fed, y_train_fed,\n",
        "    batch_size=16,\n",
        "    epochs=num_epochs,\n",
        "    validation_data=(X_val_fed, y_val_fed),\n",
        "    callbacks=[early_stopping, lr_scheduler],  #include both callbacks\n",
        "    class_weight=class_weights_dict\n",
        ")\n",
        "\n",
        "print(\"Model training completed.\")"
      ],
      "metadata": {
        "colab": {
          "base_uri": "https://localhost:8080/"
        },
        "id": "IkefzXjvFaoi",
        "outputId": "4847dc23-2cc5-4d3c-8c0a-9cf96555ad20"
      },
      "execution_count": null,
      "outputs": [
        {
          "output_type": "stream",
          "name": "stdout",
          "text": [
            "Epoch 1/50\n",
            "\u001b[1m114/114\u001b[0m \u001b[32m━━━━━━━━━━━━━━━━━━━━\u001b[0m\u001b[37m\u001b[0m \u001b[1m16s\u001b[0m 47ms/step - accuracy: 0.3672 - loss: 2.4109 - precision: 0.2720 - recall: 0.7746 - val_accuracy: 0.5824 - val_loss: 2.2682 - val_precision: 0.3443 - val_recall: 0.5887 - learning_rate: 1.0000e-04\n",
            "Epoch 2/50\n",
            "\u001b[1m114/114\u001b[0m \u001b[32m━━━━━━━━━━━━━━━━━━━━\u001b[0m\u001b[37m\u001b[0m \u001b[1m4s\u001b[0m 38ms/step - accuracy: 0.4734 - loss: 2.2366 - precision: 0.2819 - recall: 0.6317 - val_accuracy: 0.6330 - val_loss: 2.1154 - val_precision: 0.3930 - val_recall: 0.6371 - learning_rate: 1.0000e-04\n",
            "Epoch 3/50\n",
            "\u001b[1m114/114\u001b[0m \u001b[32m━━━━━━━━━━━━━━━━━━━━\u001b[0m\u001b[37m\u001b[0m \u001b[1m4s\u001b[0m 37ms/step - accuracy: 0.5499 - loss: 2.0855 - precision: 0.3270 - recall: 0.6089 - val_accuracy: 0.6835 - val_loss: 1.9569 - val_precision: 0.4254 - val_recall: 0.4597 - learning_rate: 1.0000e-04\n",
            "Epoch 4/50\n",
            "\u001b[1m114/114\u001b[0m \u001b[32m━━━━━━━━━━━━━━━━━━━━\u001b[0m\u001b[37m\u001b[0m \u001b[1m4s\u001b[0m 38ms/step - accuracy: 0.5447 - loss: 1.9531 - precision: 0.2999 - recall: 0.5486 - val_accuracy: 0.5538 - val_loss: 1.8686 - val_precision: 0.3463 - val_recall: 0.7177 - learning_rate: 1.0000e-04\n",
            "Epoch 5/50\n",
            "\u001b[1m114/114\u001b[0m \u001b[32m━━━━━━━━━━━━━━━━━━━━\u001b[0m\u001b[37m\u001b[0m \u001b[1m4s\u001b[0m 38ms/step - accuracy: 0.5382 - loss: 1.8447 - precision: 0.3228 - recall: 0.6140 - val_accuracy: 0.6747 - val_loss: 1.7454 - val_precision: 0.4310 - val_recall: 0.6048 - learning_rate: 1.0000e-04\n",
            "Epoch 6/50\n",
            "\u001b[1m114/114\u001b[0m \u001b[32m━━━━━━━━━━━━━━━━━━━━\u001b[0m\u001b[37m\u001b[0m \u001b[1m4s\u001b[0m 37ms/step - accuracy: 0.5716 - loss: 1.7363 - precision: 0.3412 - recall: 0.6183 - val_accuracy: 0.6176 - val_loss: 1.6595 - val_precision: 0.3832 - val_recall: 0.6613 - learning_rate: 1.0000e-04\n",
            "Epoch 7/50\n",
            "\u001b[1m114/114\u001b[0m \u001b[32m━━━━━━━━━━━━━━━━━━━━\u001b[0m\u001b[37m\u001b[0m \u001b[1m4s\u001b[0m 37ms/step - accuracy: 0.5489 - loss: 1.6436 - precision: 0.3392 - recall: 0.6335 - val_accuracy: 0.6110 - val_loss: 1.5708 - val_precision: 0.3812 - val_recall: 0.6855 - learning_rate: 1.0000e-04\n",
            "Epoch 8/50\n",
            "\u001b[1m114/114\u001b[0m \u001b[32m━━━━━━━━━━━━━━━━━━━━\u001b[0m\u001b[37m\u001b[0m \u001b[1m4s\u001b[0m 38ms/step - accuracy: 0.5936 - loss: 1.5424 - precision: 0.3644 - recall: 0.6656 - val_accuracy: 0.6681 - val_loss: 1.4690 - val_precision: 0.4229 - val_recall: 0.5968 - learning_rate: 1.0000e-04\n",
            "Epoch 9/50\n",
            "\u001b[1m114/114\u001b[0m \u001b[32m━━━━━━━━━━━━━━━━━━━━\u001b[0m\u001b[37m\u001b[0m \u001b[1m4s\u001b[0m 37ms/step - accuracy: 0.6136 - loss: 1.4730 - precision: 0.3760 - recall: 0.5969 - val_accuracy: 0.6286 - val_loss: 1.4182 - val_precision: 0.3902 - val_recall: 0.6452 - learning_rate: 1.0000e-04\n",
            "Epoch 10/50\n",
            "\u001b[1m114/114\u001b[0m \u001b[32m━━━━━━━━━━━━━━━━━━━━\u001b[0m\u001b[37m\u001b[0m \u001b[1m4s\u001b[0m 37ms/step - accuracy: 0.6384 - loss: 1.4122 - precision: 0.4043 - recall: 0.6177 - val_accuracy: 0.6593 - val_loss: 1.3436 - val_precision: 0.4162 - val_recall: 0.6210 - learning_rate: 1.0000e-04\n",
            "Epoch 11/50\n",
            "\u001b[1m114/114\u001b[0m \u001b[32m━━━━━━━━━━━━━━━━━━━━\u001b[0m\u001b[37m\u001b[0m \u001b[1m4s\u001b[0m 39ms/step - accuracy: 0.6529 - loss: 1.3334 - precision: 0.4237 - recall: 0.6802 - val_accuracy: 0.6396 - val_loss: 1.2964 - val_precision: 0.4000 - val_recall: 0.6452 - learning_rate: 1.0000e-04\n",
            "Epoch 12/50\n",
            "\u001b[1m114/114\u001b[0m \u001b[32m━━━━━━━━━━━━━━━━━━━━\u001b[0m\u001b[37m\u001b[0m \u001b[1m4s\u001b[0m 37ms/step - accuracy: 0.6717 - loss: 1.2738 - precision: 0.4347 - recall: 0.6697 - val_accuracy: 0.7121 - val_loss: 1.2025 - val_precision: 0.4632 - val_recall: 0.3548 - learning_rate: 1.0000e-04\n",
            "Epoch 13/50\n",
            "\u001b[1m114/114\u001b[0m \u001b[32m━━━━━━━━━━━━━━━━━━━━\u001b[0m\u001b[37m\u001b[0m \u001b[1m4s\u001b[0m 37ms/step - accuracy: 0.6855 - loss: 1.2089 - precision: 0.4459 - recall: 0.7056 - val_accuracy: 0.7121 - val_loss: 1.1473 - val_precision: 0.4624 - val_recall: 0.3468 - learning_rate: 1.0000e-04\n",
            "Epoch 14/50\n",
            "\u001b[1m114/114\u001b[0m \u001b[32m━━━━━━━━━━━━━━━━━━━━\u001b[0m\u001b[37m\u001b[0m \u001b[1m4s\u001b[0m 39ms/step - accuracy: 0.7033 - loss: 1.1601 - precision: 0.4761 - recall: 0.7025 - val_accuracy: 0.6857 - val_loss: 1.1283 - val_precision: 0.4286 - val_recall: 0.4597 - learning_rate: 1.0000e-04\n",
            "Epoch 15/50\n",
            "\u001b[1m114/114\u001b[0m \u001b[32m━━━━━━━━━━━━━━━━━━━━\u001b[0m\u001b[37m\u001b[0m \u001b[1m4s\u001b[0m 37ms/step - accuracy: 0.7371 - loss: 1.1046 - precision: 0.5057 - recall: 0.7228 - val_accuracy: 0.5912 - val_loss: 1.1723 - val_precision: 0.3686 - val_recall: 0.7016 - learning_rate: 1.0000e-04\n",
            "Epoch 16/50\n",
            "\u001b[1m113/114\u001b[0m \u001b[32m━━━━━━━━━━━━━━━━━━━\u001b[0m\u001b[37m━\u001b[0m \u001b[1m0s\u001b[0m 34ms/step - accuracy: 0.7270 - loss: 1.0639 - precision: 0.4935 - recall: 0.7841\n",
            "Epoch 16: ReduceLROnPlateau reducing learning rate to 4.999999873689376e-05.\n",
            "\u001b[1m114/114\u001b[0m \u001b[32m━━━━━━━━━━━━━━━━━━━━\u001b[0m\u001b[37m\u001b[0m \u001b[1m4s\u001b[0m 37ms/step - accuracy: 0.7270 - loss: 1.0639 - precision: 0.4937 - recall: 0.7835 - val_accuracy: 0.4813 - val_loss: 1.2411 - val_precision: 0.3108 - val_recall: 0.7419 - learning_rate: 1.0000e-04\n",
            "Epoch 17/50\n",
            "\u001b[1m114/114\u001b[0m \u001b[32m━━━━━━━━━━━━━━━━━━━━\u001b[0m\u001b[37m\u001b[0m \u001b[1m4s\u001b[0m 39ms/step - accuracy: 0.7601 - loss: 1.0313 - precision: 0.5443 - recall: 0.7776 - val_accuracy: 0.6286 - val_loss: 1.1088 - val_precision: 0.3729 - val_recall: 0.5323 - learning_rate: 5.0000e-05\n",
            "Epoch 18/50\n",
            "\u001b[1m114/114\u001b[0m \u001b[32m━━━━━━━━━━━━━━━━━━━━\u001b[0m\u001b[37m\u001b[0m \u001b[1m4s\u001b[0m 36ms/step - accuracy: 0.7623 - loss: 0.9907 - precision: 0.5450 - recall: 0.7842 - val_accuracy: 0.5626 - val_loss: 1.1837 - val_precision: 0.3457 - val_recall: 0.6774 - learning_rate: 5.0000e-05\n",
            "Epoch 19/50\n",
            "\u001b[1m114/114\u001b[0m \u001b[32m━━━━━━━━━━━━━━━━━━━━\u001b[0m\u001b[37m\u001b[0m \u001b[1m4s\u001b[0m 36ms/step - accuracy: 0.7921 - loss: 0.9415 - precision: 0.5835 - recall: 0.8347 - val_accuracy: 0.6637 - val_loss: 1.0595 - val_precision: 0.3858 - val_recall: 0.3952 - learning_rate: 5.0000e-05\n",
            "Epoch 20/50\n",
            "\u001b[1m114/114\u001b[0m \u001b[32m━━━━━━━━━━━━━━━━━━━━\u001b[0m\u001b[37m\u001b[0m \u001b[1m4s\u001b[0m 39ms/step - accuracy: 0.8088 - loss: 0.9141 - precision: 0.6215 - recall: 0.8281 - val_accuracy: 0.7011 - val_loss: 1.0277 - val_precision: 0.4189 - val_recall: 0.2500 - learning_rate: 5.0000e-05\n",
            "Epoch 21/50\n",
            "\u001b[1m114/114\u001b[0m \u001b[32m━━━━━━━━━━━━━━━━━━━━\u001b[0m\u001b[37m\u001b[0m \u001b[1m4s\u001b[0m 37ms/step - accuracy: 0.8396 - loss: 0.8761 - precision: 0.6562 - recall: 0.8715 - val_accuracy: 0.6374 - val_loss: 1.1123 - val_precision: 0.3829 - val_recall: 0.5403 - learning_rate: 5.0000e-05\n",
            "Epoch 22/50\n",
            "\u001b[1m113/114\u001b[0m \u001b[32m━━━━━━━━━━━━━━━━━━━\u001b[0m\u001b[37m━\u001b[0m \u001b[1m0s\u001b[0m 34ms/step - accuracy: 0.8243 - loss: 0.8605 - precision: 0.6359 - recall: 0.8787\n",
            "Epoch 22: ReduceLROnPlateau reducing learning rate to 2.499999936844688e-05.\n",
            "\u001b[1m114/114\u001b[0m \u001b[32m━━━━━━━━━━━━━━━━━━━━\u001b[0m\u001b[37m\u001b[0m \u001b[1m4s\u001b[0m 37ms/step - accuracy: 0.8244 - loss: 0.8604 - precision: 0.6360 - recall: 0.8781 - val_accuracy: 0.6242 - val_loss: 1.1308 - val_precision: 0.3716 - val_recall: 0.5484 - learning_rate: 5.0000e-05\n",
            "Epoch 23/50\n",
            "\u001b[1m114/114\u001b[0m \u001b[32m━━━━━━━━━━━━━━━━━━━━\u001b[0m\u001b[37m\u001b[0m \u001b[1m4s\u001b[0m 39ms/step - accuracy: 0.8516 - loss: 0.8175 - precision: 0.6661 - recall: 0.8868 - val_accuracy: 0.6593 - val_loss: 1.0748 - val_precision: 0.3697 - val_recall: 0.3548 - learning_rate: 2.5000e-05\n",
            "Model training completed.\n"
          ]
        }
      ]
    },
    {
      "cell_type": "code",
      "source": [
        "evaluate_test_set(model_3_3, X_test_mfcc_padded_fed, y_test)"
      ],
      "metadata": {
        "colab": {
          "base_uri": "https://localhost:8080/"
        },
        "id": "__uxHM6fFdX9",
        "outputId": "4ff284d5-0a45-4578-d1b8-a3695f295c17"
      },
      "execution_count": null,
      "outputs": [
        {
          "output_type": "stream",
          "name": "stdout",
          "text": [
            "\u001b[1m15/15\u001b[0m \u001b[32m━━━━━━━━━━━━━━━━━━━━\u001b[0m\u001b[37m\u001b[0m \u001b[1m0s\u001b[0m 16ms/step - accuracy: 0.7487 - loss: 0.9287 - precision: 0.4346 - recall: 0.4617\n",
            "Test Loss: 0.9473\n",
            "Test Accuracy: 0.7372\n",
            "Test Precision: 0.4167\n",
            "Test Recall: 0.4286\n"
          ]
        }
      ]
    },
    {
      "cell_type": "code",
      "source": [
        "evaluate_model(model_3_3, X_test_mfcc_padded_fed, y_test)"
      ],
      "metadata": {
        "colab": {
          "base_uri": "https://localhost:8080/",
          "height": 695
        },
        "id": "iFWI239RGB2F",
        "outputId": "130e70a8-0b38-4586-ca0c-7a0fc53c12d3"
      },
      "execution_count": null,
      "outputs": [
        {
          "output_type": "stream",
          "name": "stdout",
          "text": [
            "\u001b[1m15/15\u001b[0m \u001b[32m━━━━━━━━━━━━━━━━━━━━\u001b[0m\u001b[37m\u001b[0m \u001b[1m2s\u001b[0m 67ms/step\n"
          ]
        },
        {
          "output_type": "display_data",
          "data": {
            "text/plain": [
              "<Figure size 600x500 with 2 Axes>"
            ],
            "image/png": "[encoded data removed]"
          },
          "metadata": {}
        },
        {
          "output_type": "stream",
          "name": "stdout",
          "text": [
            "\n",
            "Classification Report:\n",
            "               precision    recall  f1-score   support\n",
            "\n",
            "           0       0.83      0.83      0.83       363\n",
            "           1       0.42      0.43      0.42       105\n",
            "\n",
            "    accuracy                           0.74       468\n",
            "   macro avg       0.62      0.63      0.63       468\n",
            "weighted avg       0.74      0.74      0.74       468\n",
            "\n"
          ]
        }
      ]
    },
    {
      "cell_type": "markdown",
      "source": [
        "We also try bi-directional LSTM layer,F1 score drops a bit for Class1."
      ],
      "metadata": {
        "id": "UwCH7XcIGH04"
      }
    },
    {
      "cell_type": "markdown",
      "source": [
        "## 4. Machine learning 2 (log-mel)"
      ],
      "metadata": {
        "id": "BXXimmT0H17T"
      }
    },
    {
      "cell_type": "markdown",
      "source": [
        "Beside MFCC, log mel spectrogram is also commonly used. After extracting log-mel features, we apply CNN model on it.\n"
      ],
      "metadata": {
        "id": "t9DPblSUImxK"
      }
    },
    {
      "cell_type": "code",
      "source": [
        "def extract_logmel(audio, sr):\n",
        "    \"\"\"Extract logmel features from raw audio.\"\"\"\n",
        "    mel_spec = librosa.feature.melspectrogram(y=audio, sr=sr, n_mels=64, fmax=6000)\n",
        "    log_mel = librosa.power_to_db(mel_spec, ref=np.max).T\n",
        "    return log_mel  # (frames, features)"
      ],
      "metadata": {
        "id": "KVutG1sbIDWL"
      },
      "execution_count": null,
      "outputs": []
    },
    {
      "cell_type": "code",
      "source": [
        "# Process all audio files to extract log-mel features\n",
        "X_train_logmel = [extract_logmel(audio, sr=12000) for audio in X_train]\n",
        "X_test_logmel = [extract_logmel(audio, sr=12000) for audio in X_test]"
      ],
      "metadata": {
        "id": "vd-vbLiBJt-0"
      },
      "execution_count": null,
      "outputs": []
    },
    {
      "cell_type": "code",
      "source": [
        "#Calculate log-mel lengths for all training samples\n",
        "logmel_lengths = [logmel.shape[0] for logmel in X_train_logmel]\n",
        "\n",
        "# Compute statistics for log-mel frames\n",
        "min_frames = np.min(logmel_lengths)\n",
        "max_frames = np.max(logmel_lengths)\n",
        "mean_frames = np.mean(logmel_lengths)\n",
        "median_frames = np.median(logmel_lengths)\n",
        "percentile_90 = np.percentile(logmel_lengths, 90)  # 90th percentile\n",
        "percentile_95 = np.percentile(logmel_lengths, 95)  # 95th percentile\n",
        "\n",
        "\n",
        "# Print results\n",
        "print(f\"Log-mel Statistics:\")\n",
        "print(f\"Min frames: {min_frames}\")\n",
        "print(f\"Max frames: {max_frames}\")\n",
        "print(f\"Mean frames: {mean_frames:.2f}\")\n",
        "print(f\"Median frames: {median_frames}\")\n",
        "print(f\"90th Percentile frames: {percentile_90}\")\n",
        "print(f\"95th Percentile frames: {percentile_95}\")"
      ],
      "metadata": {
        "colab": {
          "base_uri": "https://localhost:8080/"
        },
        "id": "fbmX_WgzKD8C",
        "outputId": "4a14d112-123c-4354-f405-3b5f38d9096c"
      },
      "execution_count": null,
      "outputs": [
        {
          "output_type": "stream",
          "name": "stdout",
          "text": [
            "Log-mel Statistics:\n",
            "Min frames: 7\n",
            "Max frames: 528\n",
            "Mean frames: 91.96\n",
            "Median frames: 87.0\n",
            "90th Percentile frames: 163.0\n",
            "95th Percentile frames: 184.0\n"
          ]
        }
      ]
    },
    {
      "cell_type": "code",
      "source": [
        "# Function to pad or truncate log-mel features to 186 frames\n",
        "def process_logmel_features(features, target_frames=184):\n",
        "    \"\"\"Pad or truncate log-mel spectrograms to the target number of frames.\"\"\"\n",
        "    return np.array([pad_or_truncate(f, target_frames) for f in features]) #reuse pad or truncte"
      ],
      "metadata": {
        "id": "lB8Y0j4dLTXT"
      },
      "execution_count": null,
      "outputs": []
    },
    {
      "cell_type": "code",
      "source": [
        "# Apply padding/truncation to log-mel features\n",
        "X_train_logmel_padded = process_logmel_features(X_train_logmel, 184)[..., np.newaxis]\n",
        "X_test_logmel_padded = process_logmel_features(X_test_logmel, 184)[..., np.newaxis]\n",
        "\n",
        "# Check the final shapes\n",
        "print(f\"X_train_logmel_padded shape: {X_train_logmel_padded.shape}\")\n",
        "print(f\"X_test_logmel_padded shape: {X_test_logmel_padded.shape}\")"
      ],
      "metadata": {
        "colab": {
          "base_uri": "https://localhost:8080/"
        },
        "id": "PPuhkoXEK8wo",
        "outputId": "05e97ca1-f7dc-4a72-d447-47694d02095e"
      },
      "execution_count": null,
      "outputs": [
        {
          "output_type": "stream",
          "name": "stdout",
          "text": [
            "X_train_logmel_padded shape: (2271, 184, 64, 1)\n",
            "X_test_logmel_padded shape: (468, 184, 64, 1)\n"
          ]
        }
      ]
    },
    {
      "cell_type": "code",
      "source": [
        "# Convert log-mel lists to NumPy arrays (if not already)\n",
        "X_train_logmel_padded = np.array(X_train_logmel_padded)\n",
        "X_test_logmel_padded = np.array(X_test_logmel_padded)\n",
        "\n",
        "# Add channel dimension if not already present\n",
        "X_train_logmel_padded = X_train_logmel_padded[..., np.newaxis]\n",
        "X_test_logmel_padded = X_test_logmel_padded[..., np.newaxis]\n",
        "\n",
        "# Split training data into train and validation sets USE SPLIT INSTEAD OF FED\n",
        "X_train_split, X_val_split, y_train_split, y_val_split = train_test_split(\n",
        "    X_train_logmel_padded, y_train, test_size=0.2, stratify=y_train, random_state=37\n",
        ")\n",
        "\n",
        "# Print the shapes to verify the split\n",
        "print(f\"X_train_split shape: {X_train_split.shape}\")\n",
        "print(f\"X_val_split shape: {X_val_split.shape}\")\n",
        "print(f\"y_train_split shape: {y_train_split.shape}\")\n",
        "print(f\"y_val_split shape: {y_val_split.shape}\")\n",
        "print(f\"X_test_logmel_padded shape: {X_test_logmel_padded.shape}\")"
      ],
      "metadata": {
        "colab": {
          "base_uri": "https://localhost:8080/"
        },
        "id": "fZNTAq3WT0AB",
        "outputId": "20beabc5-9d5f-4343-e16d-338c8152bb96"
      },
      "execution_count": null,
      "outputs": [
        {
          "output_type": "stream",
          "name": "stdout",
          "text": [
            "X_train_split shape: (1816, 184, 64, 1, 1)\n",
            "X_val_split shape: (455, 184, 64, 1, 1)\n",
            "y_train_split shape: (1816,)\n",
            "y_val_split shape: (455,)\n",
            "X_test_logmel_padded shape: (468, 184, 64, 1, 1)\n"
          ]
        }
      ]
    },
    {
      "cell_type": "code",
      "source": [
        "# Remove the extra channel dimension\n",
        "X_train_split = np.squeeze(X_train_split, axis=-1)\n",
        "X_val_split = np.squeeze(X_val_split, axis=-1)\n",
        "X_test_logmel_padded = np.squeeze(X_test_logmel_padded, axis=-1)\n",
        "\n",
        "# Check shapes after squeezing\n",
        "print(f\"Fixed X_train_split shape: {X_train_split.shape}\")\n",
        "print(f\"Fixed X_val_split shape: {X_val_split.shape}\")\n",
        "print(f\"Fixed X_test_logmel_padded shape: {X_test_logmel_padded.shape}\")"
      ],
      "metadata": {
        "colab": {
          "base_uri": "https://localhost:8080/"
        },
        "id": "Ajbf-44yUeS_",
        "outputId": "33f232ca-1c4b-48f4-c0a1-3606ff1d2f07"
      },
      "execution_count": null,
      "outputs": [
        {
          "output_type": "stream",
          "name": "stdout",
          "text": [
            "Fixed X_train_split shape: (1816, 184, 64, 1)\n",
            "Fixed X_val_split shape: (455, 184, 64, 1)\n",
            "Fixed X_test_logmel_padded shape: (468, 184, 64, 1)\n"
          ]
        }
      ]
    },
    {
      "cell_type": "code",
      "source": [
        "print(X_train_split.shape, y_train_split.shape)\n",
        "print(X_val_split.shape, y_val_split.shape)\n",
        "print(X_test_logmel_padded.shape, y_test.shape)"
      ],
      "metadata": {
        "colab": {
          "base_uri": "https://localhost:8080/"
        },
        "id": "Yx81SfD6XFCg",
        "outputId": "37c5b607-ac6f-4abe-a06a-a9e7e12407f9"
      },
      "execution_count": null,
      "outputs": [
        {
          "output_type": "stream",
          "name": "stdout",
          "text": [
            "(1816, 184, 64, 1) (1816,)\n",
            "(455, 184, 64, 1) (455,)\n",
            "(468, 184, 64, 1) (468,)\n"
          ]
        }
      ]
    },
    {
      "cell_type": "code",
      "source": [
        "# Build the CNN model\n",
        "model_4 = Sequential([\n",
        "    # Convolutional Layers\n",
        "    Conv2D(16, (3, 3), activation='relu', padding='same', input_shape=(184, 64, 1), kernel_regularizer=l2(0.01)),\n",
        "    BatchNormalization(),\n",
        "    MaxPooling2D((2, 2)),\n",
        "\n",
        "    Conv2D(32, (3, 3), activation='relu', padding='same', kernel_regularizer=l2(0.01)),\n",
        "    BatchNormalization(),\n",
        "    MaxPooling2D((2, 2)),\n",
        "\n",
        "    Conv2D(64, (3, 3), activation='relu', padding='same', kernel_regularizer=l2(0.01)),\n",
        "    BatchNormalization(),\n",
        "    MaxPooling2D((2, 2)),\n",
        "\n",
        "    # Flatten Layer\n",
        "    Flatten(name=\"flatten\"),\n",
        "\n",
        "    Dense(64, activation='relu', kernel_regularizer=l2(0.01)),\n",
        "    Dropout(0.3),\n",
        "\n",
        "    Dense(32, activation='relu', kernel_regularizer=l2(0.01)),\n",
        "    Dropout(0.3),\n",
        "\n",
        "    # Output layer for binary classification\n",
        "    Dense(1, activation='sigmoid', kernel_regularizer=l2(0.01))\n",
        "])"
      ],
      "metadata": {
        "id": "dmNGc0jXSs7f",
        "colab": {
          "base_uri": "https://localhost:8080/"
        },
        "outputId": "7770fe2a-fee7-4441-b62f-ae5104edefb8"
      },
      "execution_count": null,
      "outputs": [
        {
          "output_type": "stream",
          "name": "stderr",
          "text": [
            "/usr/local/lib/python3.11/dist-packages/keras/src/layers/convolutional/base_conv.py:107: UserWarning: Do not pass an `input_shape`/`input_dim` argument to a layer. When using Sequential models, prefer using an `Input(shape)` object as the first layer in the model instead.\n",
            "  super().__init__(activity_regularizer=activity_regularizer, **kwargs)\n"
          ]
        }
      ]
    },
    {
      "cell_type": "code",
      "source": [
        "# Compile the model\n",
        "model_4.compile(optimizer=Adam(learning_rate=0.0001), #starting lr\n",
        "    loss='binary_crossentropy',\n",
        "    metrics=['accuracy', Precision(name='precision'), Recall(name='recall')]\n",
        ")"
      ],
      "metadata": {
        "id": "7zzjxshgWRdT"
      },
      "execution_count": null,
      "outputs": []
    },
    {
      "cell_type": "code",
      "source": [
        "# Print the model summary\n",
        "model_4.summary()"
      ],
      "metadata": {
        "colab": {
          "base_uri": "https://localhost:8080/",
          "height": 666
        },
        "id": "cPt4AbGxNHLa",
        "outputId": "eaf7bc00-bbe0-422c-ee39-444b4b0bd196"
      },
      "execution_count": null,
      "outputs": [
        {
          "output_type": "display_data",
          "data": {
            "text/plain": [
              "\u001b[1mModel: \"sequential_38\"\u001b[0m\n"
            ],
            "text/html": [
              "<pre style=\"white-space:pre;overflow-x:auto;line-height:normal;font-family:Menlo,'DejaVu Sans Mono',consolas,'Courier New',monospace\"><span style=\"font-weight: bold\">Model: \"sequential_38\"</span>\n",
              "</pre>\n"
            ]
          },
          "metadata": {}
        },
        {
          "output_type": "display_data",
          "data": {
            "text/plain": [
              "┏━━━━━━━━━━━━━━━━━━━━━━━━━━━━━━━━━━━━━━┳━━━━━━━━━━━━━━━━━━━━━━━━━━━━━┳━━━━━━━━━━━━━━━━━┓\n",
              "┃\u001b[1m \u001b[0m\u001b[1mLayer (type)                        \u001b[0m\u001b[1m \u001b[0m┃\u001b[1m \u001b[0m\u001b[1mOutput Shape               \u001b[0m\u001b[1m \u001b[0m┃\u001b[1m \u001b[0m\u001b[1m        Param #\u001b[0m\u001b[1m \u001b[0m┃\n",
              "┡━━━━━━━━━━━━━━━━━━━━━━━━━━━━━━━━━━━━━━╇━━━━━━━━━━━━━━━━━━━━━━━━━━━━━╇━━━━━━━━━━━━━━━━━┩\n",
              "│ conv2d_114 (\u001b[38;5;33mConv2D\u001b[0m)                  │ (\u001b[38;5;45mNone\u001b[0m, \u001b[38;5;34m184\u001b[0m, \u001b[38;5;34m64\u001b[0m, \u001b[38;5;34m16\u001b[0m)         │             \u001b[38;5;34m160\u001b[0m │\n",
              "├──────────────────────────────────────┼─────────────────────────────┼─────────────────┤\n",
              "│ batch_normalization_114              │ (\u001b[38;5;45mNone\u001b[0m, \u001b[38;5;34m184\u001b[0m, \u001b[38;5;34m64\u001b[0m, \u001b[38;5;34m16\u001b[0m)         │              \u001b[38;5;34m64\u001b[0m │\n",
              "│ (\u001b[38;5;33mBatchNormalization\u001b[0m)                 │                             │                 │\n",
              "├──────────────────────────────────────┼─────────────────────────────┼─────────────────┤\n",
              "│ max_pooling2d_114 (\u001b[38;5;33mMaxPooling2D\u001b[0m)     │ (\u001b[38;5;45mNone\u001b[0m, \u001b[38;5;34m92\u001b[0m, \u001b[38;5;34m32\u001b[0m, \u001b[38;5;34m16\u001b[0m)          │               \u001b[38;5;34m0\u001b[0m │\n",
              "├──────────────────────────────────────┼─────────────────────────────┼─────────────────┤\n",
              "│ conv2d_115 (\u001b[38;5;33mConv2D\u001b[0m)                  │ (\u001b[38;5;45mNone\u001b[0m, \u001b[38;5;34m92\u001b[0m, \u001b[38;5;34m32\u001b[0m, \u001b[38;5;34m32\u001b[0m)          │           \u001b[38;5;34m4,640\u001b[0m │\n",
              "├──────────────────────────────────────┼─────────────────────────────┼─────────────────┤\n",
              "│ batch_normalization_115              │ (\u001b[38;5;45mNone\u001b[0m, \u001b[38;5;34m92\u001b[0m, \u001b[38;5;34m32\u001b[0m, \u001b[38;5;34m32\u001b[0m)          │             \u001b[38;5;34m128\u001b[0m │\n",
              "│ (\u001b[38;5;33mBatchNormalization\u001b[0m)                 │                             │                 │\n",
              "├──────────────────────────────────────┼─────────────────────────────┼─────────────────┤\n",
              "│ max_pooling2d_115 (\u001b[38;5;33mMaxPooling2D\u001b[0m)     │ (\u001b[38;5;45mNone\u001b[0m, \u001b[38;5;34m46\u001b[0m, \u001b[38;5;34m16\u001b[0m, \u001b[38;5;34m32\u001b[0m)          │               \u001b[38;5;34m0\u001b[0m │\n",
              "├──────────────────────────────────────┼─────────────────────────────┼─────────────────┤\n",
              "│ conv2d_116 (\u001b[38;5;33mConv2D\u001b[0m)                  │ (\u001b[38;5;45mNone\u001b[0m, \u001b[38;5;34m46\u001b[0m, \u001b[38;5;34m16\u001b[0m, \u001b[38;5;34m64\u001b[0m)          │          \u001b[38;5;34m18,496\u001b[0m │\n",
              "├──────────────────────────────────────┼─────────────────────────────┼─────────────────┤\n",
              "│ batch_normalization_116              │ (\u001b[38;5;45mNone\u001b[0m, \u001b[38;5;34m46\u001b[0m, \u001b[38;5;34m16\u001b[0m, \u001b[38;5;34m64\u001b[0m)          │             \u001b[38;5;34m256\u001b[0m │\n",
              "│ (\u001b[38;5;33mBatchNormalization\u001b[0m)                 │                             │                 │\n",
              "├──────────────────────────────────────┼─────────────────────────────┼─────────────────┤\n",
              "│ max_pooling2d_116 (\u001b[38;5;33mMaxPooling2D\u001b[0m)     │ (\u001b[38;5;45mNone\u001b[0m, \u001b[38;5;34m23\u001b[0m, \u001b[38;5;34m8\u001b[0m, \u001b[38;5;34m64\u001b[0m)           │               \u001b[38;5;34m0\u001b[0m │\n",
              "├──────────────────────────────────────┼─────────────────────────────┼─────────────────┤\n",
              "│ flatten (\u001b[38;5;33mFlatten\u001b[0m)                    │ (\u001b[38;5;45mNone\u001b[0m, \u001b[38;5;34m11776\u001b[0m)               │               \u001b[38;5;34m0\u001b[0m │\n",
              "├──────────────────────────────────────┼─────────────────────────────┼─────────────────┤\n",
              "│ dense_111 (\u001b[38;5;33mDense\u001b[0m)                    │ (\u001b[38;5;45mNone\u001b[0m, \u001b[38;5;34m64\u001b[0m)                  │         \u001b[38;5;34m753,728\u001b[0m │\n",
              "├──────────────────────────────────────┼─────────────────────────────┼─────────────────┤\n",
              "│ dropout_79 (\u001b[38;5;33mDropout\u001b[0m)                 │ (\u001b[38;5;45mNone\u001b[0m, \u001b[38;5;34m64\u001b[0m)                  │               \u001b[38;5;34m0\u001b[0m │\n",
              "├──────────────────────────────────────┼─────────────────────────────┼─────────────────┤\n",
              "│ dense_112 (\u001b[38;5;33mDense\u001b[0m)                    │ (\u001b[38;5;45mNone\u001b[0m, \u001b[38;5;34m32\u001b[0m)                  │           \u001b[38;5;34m2,080\u001b[0m │\n",
              "├──────────────────────────────────────┼─────────────────────────────┼─────────────────┤\n",
              "│ dropout_80 (\u001b[38;5;33mDropout\u001b[0m)                 │ (\u001b[38;5;45mNone\u001b[0m, \u001b[38;5;34m32\u001b[0m)                  │               \u001b[38;5;34m0\u001b[0m │\n",
              "├──────────────────────────────────────┼─────────────────────────────┼─────────────────┤\n",
              "│ dense_113 (\u001b[38;5;33mDense\u001b[0m)                    │ (\u001b[38;5;45mNone\u001b[0m, \u001b[38;5;34m1\u001b[0m)                   │              \u001b[38;5;34m33\u001b[0m │\n",
              "└──────────────────────────────────────┴─────────────────────────────┴─────────────────┘\n"
            ],
            "text/html": [
              "<pre style=\"white-space:pre;overflow-x:auto;line-height:normal;font-family:Menlo,'DejaVu Sans Mono',consolas,'Courier New',monospace\">┏━━━━━━━━━━━━━━━━━━━━━━━━━━━━━━━━━━━━━━┳━━━━━━━━━━━━━━━━━━━━━━━━━━━━━┳━━━━━━━━━━━━━━━━━┓\n",
              "┃<span style=\"font-weight: bold\"> Layer (type)                         </span>┃<span style=\"font-weight: bold\"> Output Shape                </span>┃<span style=\"font-weight: bold\">         Param # </span>┃\n",
              "┡━━━━━━━━━━━━━━━━━━━━━━━━━━━━━━━━━━━━━━╇━━━━━━━━━━━━━━━━━━━━━━━━━━━━━╇━━━━━━━━━━━━━━━━━┩\n",
              "│ conv2d_114 (<span style=\"color: #0087ff; text-decoration-color: #0087ff\">Conv2D</span>)                  │ (<span style=\"color: #00d7ff; text-decoration-color: #00d7ff\">None</span>, <span style=\"color: #00af00; text-decoration-color: #00af00\">184</span>, <span style=\"color: #00af00; text-decoration-color: #00af00\">64</span>, <span style=\"color: #00af00; text-decoration-color: #00af00\">16</span>)         │             <span style=\"color: #00af00; text-decoration-color: #00af00\">160</span> │\n",
              "├──────────────────────────────────────┼─────────────────────────────┼─────────────────┤\n",
              "│ batch_normalization_114              │ (<span style=\"color: #00d7ff; text-decoration-color: #00d7ff\">None</span>, <span style=\"color: #00af00; text-decoration-color: #00af00\">184</span>, <span style=\"color: #00af00; text-decoration-color: #00af00\">64</span>, <span style=\"color: #00af00; text-decoration-color: #00af00\">16</span>)         │              <span style=\"color: #00af00; text-decoration-color: #00af00\">64</span> │\n",
              "│ (<span style=\"color: #0087ff; text-decoration-color: #0087ff\">BatchNormalization</span>)                 │                             │                 │\n",
              "├──────────────────────────────────────┼─────────────────────────────┼─────────────────┤\n",
              "│ max_pooling2d_114 (<span style=\"color: #0087ff; text-decoration-color: #0087ff\">MaxPooling2D</span>)     │ (<span style=\"color: #00d7ff; text-decoration-color: #00d7ff\">None</span>, <span style=\"color: #00af00; text-decoration-color: #00af00\">92</span>, <span style=\"color: #00af00; text-decoration-color: #00af00\">32</span>, <span style=\"color: #00af00; text-decoration-color: #00af00\">16</span>)          │               <span style=\"color: #00af00; text-decoration-color: #00af00\">0</span> │\n",
              "├──────────────────────────────────────┼─────────────────────────────┼─────────────────┤\n",
              "│ conv2d_115 (<span style=\"color: #0087ff; text-decoration-color: #0087ff\">Conv2D</span>)                  │ (<span style=\"color: #00d7ff; text-decoration-color: #00d7ff\">None</span>, <span style=\"color: #00af00; text-decoration-color: #00af00\">92</span>, <span style=\"color: #00af00; text-decoration-color: #00af00\">32</span>, <span style=\"color: #00af00; text-decoration-color: #00af00\">32</span>)          │           <span style=\"color: #00af00; text-decoration-color: #00af00\">4,640</span> │\n",
              "├──────────────────────────────────────┼─────────────────────────────┼─────────────────┤\n",
              "│ batch_normalization_115              │ (<span style=\"color: #00d7ff; text-decoration-color: #00d7ff\">None</span>, <span style=\"color: #00af00; text-decoration-color: #00af00\">92</span>, <span style=\"color: #00af00; text-decoration-color: #00af00\">32</span>, <span style=\"color: #00af00; text-decoration-color: #00af00\">32</span>)          │             <span style=\"color: #00af00; text-decoration-color: #00af00\">128</span> │\n",
              "│ (<span style=\"color: #0087ff; text-decoration-color: #0087ff\">BatchNormalization</span>)                 │                             │                 │\n",
              "├──────────────────────────────────────┼─────────────────────────────┼─────────────────┤\n",
              "│ max_pooling2d_115 (<span style=\"color: #0087ff; text-decoration-color: #0087ff\">MaxPooling2D</span>)     │ (<span style=\"color: #00d7ff; text-decoration-color: #00d7ff\">None</span>, <span style=\"color: #00af00; text-decoration-color: #00af00\">46</span>, <span style=\"color: #00af00; text-decoration-color: #00af00\">16</span>, <span style=\"color: #00af00; text-decoration-color: #00af00\">32</span>)          │               <span style=\"color: #00af00; text-decoration-color: #00af00\">0</span> │\n",
              "├──────────────────────────────────────┼─────────────────────────────┼─────────────────┤\n",
              "│ conv2d_116 (<span style=\"color: #0087ff; text-decoration-color: #0087ff\">Conv2D</span>)                  │ (<span style=\"color: #00d7ff; text-decoration-color: #00d7ff\">None</span>, <span style=\"color: #00af00; text-decoration-color: #00af00\">46</span>, <span style=\"color: #00af00; text-decoration-color: #00af00\">16</span>, <span style=\"color: #00af00; text-decoration-color: #00af00\">64</span>)          │          <span style=\"color: #00af00; text-decoration-color: #00af00\">18,496</span> │\n",
              "├──────────────────────────────────────┼─────────────────────────────┼─────────────────┤\n",
              "│ batch_normalization_116              │ (<span style=\"color: #00d7ff; text-decoration-color: #00d7ff\">None</span>, <span style=\"color: #00af00; text-decoration-color: #00af00\">46</span>, <span style=\"color: #00af00; text-decoration-color: #00af00\">16</span>, <span style=\"color: #00af00; text-decoration-color: #00af00\">64</span>)          │             <span style=\"color: #00af00; text-decoration-color: #00af00\">256</span> │\n",
              "│ (<span style=\"color: #0087ff; text-decoration-color: #0087ff\">BatchNormalization</span>)                 │                             │                 │\n",
              "├──────────────────────────────────────┼─────────────────────────────┼─────────────────┤\n",
              "│ max_pooling2d_116 (<span style=\"color: #0087ff; text-decoration-color: #0087ff\">MaxPooling2D</span>)     │ (<span style=\"color: #00d7ff; text-decoration-color: #00d7ff\">None</span>, <span style=\"color: #00af00; text-decoration-color: #00af00\">23</span>, <span style=\"color: #00af00; text-decoration-color: #00af00\">8</span>, <span style=\"color: #00af00; text-decoration-color: #00af00\">64</span>)           │               <span style=\"color: #00af00; text-decoration-color: #00af00\">0</span> │\n",
              "├──────────────────────────────────────┼─────────────────────────────┼─────────────────┤\n",
              "│ flatten (<span style=\"color: #0087ff; text-decoration-color: #0087ff\">Flatten</span>)                    │ (<span style=\"color: #00d7ff; text-decoration-color: #00d7ff\">None</span>, <span style=\"color: #00af00; text-decoration-color: #00af00\">11776</span>)               │               <span style=\"color: #00af00; text-decoration-color: #00af00\">0</span> │\n",
              "├──────────────────────────────────────┼─────────────────────────────┼─────────────────┤\n",
              "│ dense_111 (<span style=\"color: #0087ff; text-decoration-color: #0087ff\">Dense</span>)                    │ (<span style=\"color: #00d7ff; text-decoration-color: #00d7ff\">None</span>, <span style=\"color: #00af00; text-decoration-color: #00af00\">64</span>)                  │         <span style=\"color: #00af00; text-decoration-color: #00af00\">753,728</span> │\n",
              "├──────────────────────────────────────┼─────────────────────────────┼─────────────────┤\n",
              "│ dropout_79 (<span style=\"color: #0087ff; text-decoration-color: #0087ff\">Dropout</span>)                 │ (<span style=\"color: #00d7ff; text-decoration-color: #00d7ff\">None</span>, <span style=\"color: #00af00; text-decoration-color: #00af00\">64</span>)                  │               <span style=\"color: #00af00; text-decoration-color: #00af00\">0</span> │\n",
              "├──────────────────────────────────────┼─────────────────────────────┼─────────────────┤\n",
              "│ dense_112 (<span style=\"color: #0087ff; text-decoration-color: #0087ff\">Dense</span>)                    │ (<span style=\"color: #00d7ff; text-decoration-color: #00d7ff\">None</span>, <span style=\"color: #00af00; text-decoration-color: #00af00\">32</span>)                  │           <span style=\"color: #00af00; text-decoration-color: #00af00\">2,080</span> │\n",
              "├──────────────────────────────────────┼─────────────────────────────┼─────────────────┤\n",
              "│ dropout_80 (<span style=\"color: #0087ff; text-decoration-color: #0087ff\">Dropout</span>)                 │ (<span style=\"color: #00d7ff; text-decoration-color: #00d7ff\">None</span>, <span style=\"color: #00af00; text-decoration-color: #00af00\">32</span>)                  │               <span style=\"color: #00af00; text-decoration-color: #00af00\">0</span> │\n",
              "├──────────────────────────────────────┼─────────────────────────────┼─────────────────┤\n",
              "│ dense_113 (<span style=\"color: #0087ff; text-decoration-color: #0087ff\">Dense</span>)                    │ (<span style=\"color: #00d7ff; text-decoration-color: #00d7ff\">None</span>, <span style=\"color: #00af00; text-decoration-color: #00af00\">1</span>)                   │              <span style=\"color: #00af00; text-decoration-color: #00af00\">33</span> │\n",
              "└──────────────────────────────────────┴─────────────────────────────┴─────────────────┘\n",
              "</pre>\n"
            ]
          },
          "metadata": {}
        },
        {
          "output_type": "display_data",
          "data": {
            "text/plain": [
              "\u001b[1m Total params: \u001b[0m\u001b[38;5;34m779,585\u001b[0m (2.97 MB)\n"
            ],
            "text/html": [
              "<pre style=\"white-space:pre;overflow-x:auto;line-height:normal;font-family:Menlo,'DejaVu Sans Mono',consolas,'Courier New',monospace\"><span style=\"font-weight: bold\"> Total params: </span><span style=\"color: #00af00; text-decoration-color: #00af00\">779,585</span> (2.97 MB)\n",
              "</pre>\n"
            ]
          },
          "metadata": {}
        },
        {
          "output_type": "display_data",
          "data": {
            "text/plain": [
              "\u001b[1m Trainable params: \u001b[0m\u001b[38;5;34m779,361\u001b[0m (2.97 MB)\n"
            ],
            "text/html": [
              "<pre style=\"white-space:pre;overflow-x:auto;line-height:normal;font-family:Menlo,'DejaVu Sans Mono',consolas,'Courier New',monospace\"><span style=\"font-weight: bold\"> Trainable params: </span><span style=\"color: #00af00; text-decoration-color: #00af00\">779,361</span> (2.97 MB)\n",
              "</pre>\n"
            ]
          },
          "metadata": {}
        },
        {
          "output_type": "display_data",
          "data": {
            "text/plain": [
              "\u001b[1m Non-trainable params: \u001b[0m\u001b[38;5;34m224\u001b[0m (896.00 B)\n"
            ],
            "text/html": [
              "<pre style=\"white-space:pre;overflow-x:auto;line-height:normal;font-family:Menlo,'DejaVu Sans Mono',consolas,'Courier New',monospace\"><span style=\"font-weight: bold\"> Non-trainable params: </span><span style=\"color: #00af00; text-decoration-color: #00af00\">224</span> (896.00 B)\n",
              "</pre>\n"
            ]
          },
          "metadata": {}
        }
      ]
    },
    {
      "cell_type": "code",
      "source": [
        "# Train the model\n",
        "num_epochs = 50\n",
        "history_logmel= model_4.fit(\n",
        "    X_train_split, y_train_split,\n",
        "    batch_size=16,\n",
        "    epochs=num_epochs,\n",
        "    validation_data=(X_val_split, y_val_split),\n",
        "    callbacks=[early_stopping, lr_scheduler],  #include both callbacks\n",
        "    class_weight=class_weights_dict\n",
        ")\n",
        "\n",
        "print(\"Model training completed.\")"
      ],
      "metadata": {
        "colab": {
          "base_uri": "https://localhost:8080/"
        },
        "id": "1dVF0rQhS6iZ",
        "outputId": "8ffd8659-f4b9-472c-e9d9-c3e778a2e980"
      },
      "execution_count": null,
      "outputs": [
        {
          "output_type": "stream",
          "name": "stdout",
          "text": [
            "Epoch 1/50\n",
            "\u001b[1m114/114\u001b[0m \u001b[32m━━━━━━━━━━━━━━━━━━━━\u001b[0m\u001b[37m\u001b[0m \u001b[1m13s\u001b[0m 80ms/step - accuracy: 0.5791 - loss: 3.3977 - precision: 0.3000 - recall: 0.4383 - val_accuracy: 0.6659 - val_loss: 2.9680 - val_precision: 0.3906 - val_recall: 0.4032 - learning_rate: 1.0000e-04\n",
            "Epoch 2/50\n",
            "\u001b[1m114/114\u001b[0m \u001b[32m━━━━━━━━━━━━━━━━━━━━\u001b[0m\u001b[37m\u001b[0m \u001b[1m8s\u001b[0m 73ms/step - accuracy: 0.5930 - loss: 2.9876 - precision: 0.3435 - recall: 0.5622 - val_accuracy: 0.5011 - val_loss: 2.9157 - val_precision: 0.3180 - val_recall: 0.7258 - learning_rate: 1.0000e-04\n",
            "Epoch 3/50\n",
            "\u001b[1m114/114\u001b[0m \u001b[32m━━━━━━━━━━━━━━━━━━━━\u001b[0m\u001b[37m\u001b[0m \u001b[1m9s\u001b[0m 77ms/step - accuracy: 0.5440 - loss: 2.8688 - precision: 0.3260 - recall: 0.6367 - val_accuracy: 0.6000 - val_loss: 2.7952 - val_precision: 0.3505 - val_recall: 0.5484 - learning_rate: 1.0000e-04\n",
            "Epoch 4/50\n",
            "\u001b[1m114/114\u001b[0m \u001b[32m━━━━━━━━━━━━━━━━━━━━\u001b[0m\u001b[37m\u001b[0m \u001b[1m9s\u001b[0m 75ms/step - accuracy: 0.5295 - loss: 2.7729 - precision: 0.2952 - recall: 0.6023 - val_accuracy: 0.5758 - val_loss: 2.6987 - val_precision: 0.3493 - val_recall: 0.6452 - learning_rate: 1.0000e-04\n",
            "Epoch 5/50\n",
            "\u001b[1m114/114\u001b[0m \u001b[32m━━━━━━━━━━━━━━━━━━━━\u001b[0m\u001b[37m\u001b[0m \u001b[1m8s\u001b[0m 74ms/step - accuracy: 0.5486 - loss: 2.6659 - precision: 0.2958 - recall: 0.6183 - val_accuracy: 0.4769 - val_loss: 2.6304 - val_precision: 0.3100 - val_recall: 0.7500 - learning_rate: 1.0000e-04\n",
            "Epoch 6/50\n",
            "\u001b[1m114/114\u001b[0m \u001b[32m━━━━━━━━━━━━━━━━━━━━\u001b[0m\u001b[37m\u001b[0m \u001b[1m9s\u001b[0m 76ms/step - accuracy: 0.4845 - loss: 2.5697 - precision: 0.3085 - recall: 0.7224 - val_accuracy: 0.5319 - val_loss: 2.4996 - val_precision: 0.3074 - val_recall: 0.5726 - learning_rate: 1.0000e-04\n",
            "Epoch 7/50\n",
            "\u001b[1m114/114\u001b[0m \u001b[32m━━━━━━━━━━━━━━━━━━━━\u001b[0m\u001b[37m\u001b[0m \u001b[1m8s\u001b[0m 73ms/step - accuracy: 0.5813 - loss: 2.4605 - precision: 0.3453 - recall: 0.6632 - val_accuracy: 0.5978 - val_loss: 2.4040 - val_precision: 0.3487 - val_recall: 0.5484 - learning_rate: 1.0000e-04\n",
            "Epoch 8/50\n",
            "\u001b[1m114/114\u001b[0m \u001b[32m━━━━━━━━━━━━━━━━━━━━\u001b[0m\u001b[37m\u001b[0m \u001b[1m9s\u001b[0m 76ms/step - accuracy: 0.6042 - loss: 2.3539 - precision: 0.3837 - recall: 0.6939 - val_accuracy: 0.5934 - val_loss: 2.3212 - val_precision: 0.3237 - val_recall: 0.4516 - learning_rate: 1.0000e-04\n",
            "Epoch 9/50\n",
            "\u001b[1m114/114\u001b[0m \u001b[32m━━━━━━━━━━━━━━━━━━━━\u001b[0m\u001b[37m\u001b[0m \u001b[1m9s\u001b[0m 77ms/step - accuracy: 0.5765 - loss: 2.2749 - precision: 0.3507 - recall: 0.6666 - val_accuracy: 0.6242 - val_loss: 2.2161 - val_precision: 0.3702 - val_recall: 0.5403 - learning_rate: 1.0000e-04\n",
            "Epoch 10/50\n",
            "\u001b[1m114/114\u001b[0m \u001b[32m━━━━━━━━━━━━━━━━━━━━\u001b[0m\u001b[37m\u001b[0m \u001b[1m8s\u001b[0m 74ms/step - accuracy: 0.6130 - loss: 2.1737 - precision: 0.3794 - recall: 0.6255 - val_accuracy: 0.6637 - val_loss: 2.1201 - val_precision: 0.3972 - val_recall: 0.4516 - learning_rate: 1.0000e-04\n",
            "Epoch 11/50\n",
            "\u001b[1m114/114\u001b[0m \u001b[32m━━━━━━━━━━━━━━━━━━━━\u001b[0m\u001b[37m\u001b[0m \u001b[1m9s\u001b[0m 77ms/step - accuracy: 0.6091 - loss: 2.1354 - precision: 0.3976 - recall: 0.6778 - val_accuracy: 0.6088 - val_loss: 2.0961 - val_precision: 0.3466 - val_recall: 0.4919 - learning_rate: 1.0000e-04\n",
            "Epoch 12/50\n",
            "\u001b[1m114/114\u001b[0m \u001b[32m━━━━━━━━━━━━━━━━━━━━\u001b[0m\u001b[37m\u001b[0m \u001b[1m9s\u001b[0m 76ms/step - accuracy: 0.6433 - loss: 2.0178 - precision: 0.4322 - recall: 0.6629 - val_accuracy: 0.6571 - val_loss: 1.9971 - val_precision: 0.4024 - val_recall: 0.5323 - learning_rate: 1.0000e-04\n",
            "Epoch 13/50\n",
            "\u001b[1m114/114\u001b[0m \u001b[32m━━━━━━━━━━━━━━━━━━━━\u001b[0m\u001b[37m\u001b[0m \u001b[1m9s\u001b[0m 75ms/step - accuracy: 0.6680 - loss: 1.9369 - precision: 0.4482 - recall: 0.6829 - val_accuracy: 0.6088 - val_loss: 1.9414 - val_precision: 0.3548 - val_recall: 0.5323 - learning_rate: 1.0000e-04\n",
            "Epoch 14/50\n",
            "\u001b[1m114/114\u001b[0m \u001b[32m━━━━━━━━━━━━━━━━━━━━\u001b[0m\u001b[37m\u001b[0m \u001b[1m9s\u001b[0m 78ms/step - accuracy: 0.6769 - loss: 1.8271 - precision: 0.4519 - recall: 0.7408 - val_accuracy: 0.6462 - val_loss: 1.8529 - val_precision: 0.3865 - val_recall: 0.5081 - learning_rate: 1.0000e-04\n",
            "Epoch 15/50\n",
            "\u001b[1m114/114\u001b[0m \u001b[32m━━━━━━━━━━━━━━━━━━━━\u001b[0m\u001b[37m\u001b[0m \u001b[1m9s\u001b[0m 75ms/step - accuracy: 0.6570 - loss: 1.7837 - precision: 0.4236 - recall: 0.7236 - val_accuracy: 0.6703 - val_loss: 1.7852 - val_precision: 0.3898 - val_recall: 0.3710 - learning_rate: 1.0000e-04\n",
            "Epoch 16/50\n",
            "\u001b[1m114/114\u001b[0m \u001b[32m━━━━━━━━━━━━━━━━━━━━\u001b[0m\u001b[37m\u001b[0m \u001b[1m9s\u001b[0m 75ms/step - accuracy: 0.7045 - loss: 1.6880 - precision: 0.4798 - recall: 0.6393 - val_accuracy: 0.6286 - val_loss: 1.8136 - val_precision: 0.3770 - val_recall: 0.5565 - learning_rate: 1.0000e-04\n",
            "Epoch 17/50\n",
            "\u001b[1m114/114\u001b[0m \u001b[32m━━━━━━━━━━━━━━━━━━━━\u001b[0m\u001b[37m\u001b[0m \u001b[1m9s\u001b[0m 76ms/step - accuracy: 0.7216 - loss: 1.6149 - precision: 0.5035 - recall: 0.7408 - val_accuracy: 0.6791 - val_loss: 1.6858 - val_precision: 0.4154 - val_recall: 0.4355 - learning_rate: 1.0000e-04\n",
            "Epoch 18/50\n",
            "\u001b[1m114/114\u001b[0m \u001b[32m━━━━━━━━━━━━━━━━━━━━\u001b[0m\u001b[37m\u001b[0m \u001b[1m9s\u001b[0m 75ms/step - accuracy: 0.7570 - loss: 1.5289 - precision: 0.5330 - recall: 0.7713 - val_accuracy: 0.6659 - val_loss: 1.6794 - val_precision: 0.3833 - val_recall: 0.3710 - learning_rate: 1.0000e-04\n",
            "Epoch 19/50\n",
            "\u001b[1m114/114\u001b[0m \u001b[32m━━━━━━━━━━━━━━━━━━━━\u001b[0m\u001b[37m\u001b[0m \u001b[1m9s\u001b[0m 76ms/step - accuracy: 0.7713 - loss: 1.4522 - precision: 0.5657 - recall: 0.7810 - val_accuracy: 0.6593 - val_loss: 1.6347 - val_precision: 0.3946 - val_recall: 0.4677 - learning_rate: 1.0000e-04\n",
            "Epoch 20/50\n",
            "\u001b[1m114/114\u001b[0m \u001b[32m━━━━━━━━━━━━━━━━━━━━\u001b[0m\u001b[37m\u001b[0m \u001b[1m9s\u001b[0m 77ms/step - accuracy: 0.7711 - loss: 1.4062 - precision: 0.5615 - recall: 0.7720 - val_accuracy: 0.6440 - val_loss: 1.6504 - val_precision: 0.3716 - val_recall: 0.4435 - learning_rate: 1.0000e-04\n",
            "Epoch 21/50\n",
            "\u001b[1m113/114\u001b[0m \u001b[32m━━━━━━━━━━━━━━━━━━━\u001b[0m\u001b[37m━\u001b[0m \u001b[1m0s\u001b[0m 69ms/step - accuracy: 0.7850 - loss: 1.3353 - precision: 0.5783 - recall: 0.7947\n",
            "Epoch 21: ReduceLROnPlateau reducing learning rate to 4.999999873689376e-05.\n",
            "\u001b[1m114/114\u001b[0m \u001b[32m━━━━━━━━━━━━━━━━━━━━\u001b[0m\u001b[37m\u001b[0m \u001b[1m8s\u001b[0m 74ms/step - accuracy: 0.7852 - loss: 1.3351 - precision: 0.5786 - recall: 0.7947 - val_accuracy: 0.6571 - val_loss: 1.6354 - val_precision: 0.3689 - val_recall: 0.3629 - learning_rate: 1.0000e-04\n",
            "Epoch 22/50\n",
            "\u001b[1m114/114\u001b[0m \u001b[32m━━━━━━━━━━━━━━━━━━━━\u001b[0m\u001b[37m\u001b[0m \u001b[1m9s\u001b[0m 78ms/step - accuracy: 0.8195 - loss: 1.2666 - precision: 0.6310 - recall: 0.8346 - val_accuracy: 0.6967 - val_loss: 1.6108 - val_precision: 0.4300 - val_recall: 0.3468 - learning_rate: 5.0000e-05\n",
            "Epoch 23/50\n",
            "\u001b[1m114/114\u001b[0m \u001b[32m━━━━━━━━━━━━━━━━━━━━\u001b[0m\u001b[37m\u001b[0m \u001b[1m9s\u001b[0m 76ms/step - accuracy: 0.8288 - loss: 1.2351 - precision: 0.6723 - recall: 0.8221 - val_accuracy: 0.6527 - val_loss: 1.6295 - val_precision: 0.3712 - val_recall: 0.3952 - learning_rate: 5.0000e-05\n",
            "Epoch 24/50\n",
            "\u001b[1m113/114\u001b[0m \u001b[32m━━━━━━━━━━━━━━━━━━━\u001b[0m\u001b[37m━\u001b[0m \u001b[1m0s\u001b[0m 69ms/step - accuracy: 0.8814 - loss: 1.1621 - precision: 0.7301 - recall: 0.8898\n",
            "Epoch 24: ReduceLROnPlateau reducing learning rate to 2.499999936844688e-05.\n",
            "\u001b[1m114/114\u001b[0m \u001b[32m━━━━━━━━━━━━━━━━━━━━\u001b[0m\u001b[37m\u001b[0m \u001b[1m8s\u001b[0m 73ms/step - accuracy: 0.8812 - loss: 1.1622 - precision: 0.7298 - recall: 0.8894 - val_accuracy: 0.6725 - val_loss: 1.6598 - val_precision: 0.4016 - val_recall: 0.4113 - learning_rate: 5.0000e-05\n",
            "Epoch 25/50\n",
            "\u001b[1m114/114\u001b[0m \u001b[32m━━━━━━━━━━━━━━━━━━━━\u001b[0m\u001b[37m\u001b[0m \u001b[1m9s\u001b[0m 76ms/step - accuracy: 0.8820 - loss: 1.1362 - precision: 0.7436 - recall: 0.8874 - val_accuracy: 0.6769 - val_loss: 1.6381 - val_precision: 0.4017 - val_recall: 0.3790 - learning_rate: 2.5000e-05\n",
            "Model training completed.\n"
          ]
        }
      ]
    },
    {
      "cell_type": "code",
      "source": [
        "# Evaluate the model on the test set\n",
        "evaluate_test_set(model_4, X_test_logmel_padded , y_test)"
      ],
      "metadata": {
        "id": "EcLGTlUzTBqA",
        "colab": {
          "base_uri": "https://localhost:8080/"
        },
        "outputId": "7e0ccd6e-6baa-45c8-a99b-baaab2f30ea8"
      },
      "execution_count": null,
      "outputs": [
        {
          "output_type": "stream",
          "name": "stdout",
          "text": [
            "\u001b[1m15/15\u001b[0m \u001b[32m━━━━━━━━━━━━━━━━━━━━\u001b[0m\u001b[37m\u001b[0m \u001b[1m0s\u001b[0m 30ms/step - accuracy: 0.7358 - loss: 1.4178 - precision: 0.4191 - recall: 0.4803\n",
            "Test Loss: 1.4604\n",
            "Test Accuracy: 0.7350\n",
            "Test Precision: 0.4202\n",
            "Test Recall: 0.4762\n"
          ]
        }
      ]
    },
    {
      "cell_type": "code",
      "source": [
        "evaluate_model(model_4, X_test_logmel_padded, y_test)"
      ],
      "metadata": {
        "colab": {
          "base_uri": "https://localhost:8080/",
          "height": 695
        },
        "id": "VImdql1vaJSb",
        "outputId": "355cfdbb-2378-4f2e-c084-1af97210d0d2"
      },
      "execution_count": null,
      "outputs": [
        {
          "output_type": "stream",
          "name": "stdout",
          "text": [
            "\u001b[1m15/15\u001b[0m \u001b[32m━━━━━━━━━━━━━━━━━━━━\u001b[0m\u001b[37m\u001b[0m \u001b[1m1s\u001b[0m 37ms/step\n"
          ]
        },
        {
          "output_type": "display_data",
          "data": {
            "text/plain": [
              "<Figure size 600x500 with 2 Axes>"
            ],
            "image/png": "[encoded data removed]"
          },
          "metadata": {}
        },
        {
          "output_type": "stream",
          "name": "stdout",
          "text": [
            "\n",
            "Classification Report:\n",
            "               precision    recall  f1-score   support\n",
            "\n",
            "           0       0.84      0.81      0.83       363\n",
            "           1       0.42      0.48      0.45       105\n",
            "\n",
            "    accuracy                           0.74       468\n",
            "   macro avg       0.63      0.64      0.64       468\n",
            "weighted avg       0.75      0.74      0.74       468\n",
            "\n"
          ]
        }
      ]
    },
    {
      "cell_type": "markdown",
      "source": [
        "F1 score for class1 is still low."
      ],
      "metadata": {
        "id": "hYk5GPfBZ8f5"
      }
    },
    {
      "cell_type": "markdown",
      "source": [
        "### Model 5"
      ],
      "metadata": {
        "id": "rKndSqetch3O"
      }
    },
    {
      "cell_type": "markdown",
      "source": [
        "Try to remove the regularization and increase model complexity by using much larger Dense layers"
      ],
      "metadata": {
        "id": "Mz-_SGQ3LSZu"
      }
    },
    {
      "cell_type": "code",
      "source": [
        "model_5 = Sequential([\n",
        "    Conv2D(16, (3, 3), activation='relu', padding='same', input_shape=(184,64,1)),\n",
        "    BatchNormalization(),\n",
        "    MaxPooling2D((2, 2)),\n",
        "\n",
        "    Conv2D(32, (3, 3), activation='relu', padding='same'),\n",
        "    BatchNormalization(),\n",
        "    MaxPooling2D((2, 2)),\n",
        "\n",
        "    Conv2D(64, (3, 3), activation='relu', padding='same'),\n",
        "    BatchNormalization(),\n",
        "    MaxPooling2D((2, 2)),\n",
        "\n",
        "    Flatten(),\n",
        "    Dense(256, activation='relu'),\n",
        "    Dropout(0.3),\n",
        "    Dense(128, activation='relu'),\n",
        "    Dropout(0.3),\n",
        "    Dense(1, activation='sigmoid')  # Binary classification\n",
        "])\n"
      ],
      "metadata": {
        "colab": {
          "base_uri": "https://localhost:8080/"
        },
        "id": "dsOYjRJccjz9",
        "outputId": "00e7524e-b9b4-44b6-81a5-43846d1602ab"
      },
      "execution_count": null,
      "outputs": [
        {
          "output_type": "stream",
          "name": "stderr",
          "text": [
            "/usr/local/lib/python3.11/dist-packages/keras/src/layers/convolutional/base_conv.py:107: UserWarning: Do not pass an `input_shape`/`input_dim` argument to a layer. When using Sequential models, prefer using an `Input(shape)` object as the first layer in the model instead.\n",
            "  super().__init__(activity_regularizer=activity_regularizer, **kwargs)\n"
          ]
        }
      ]
    },
    {
      "cell_type": "code",
      "source": [
        "# Compile the model\n",
        "model_5.compile(optimizer=Adam(learning_rate=0.0001), #starting lr\n",
        "    loss='binary_crossentropy',\n",
        "    metrics=['accuracy', Precision(name='precision'), Recall(name='recall')]\n",
        ")"
      ],
      "metadata": {
        "id": "A-C3txEVdcHK"
      },
      "execution_count": null,
      "outputs": []
    },
    {
      "cell_type": "code",
      "source": [
        "# Train the model\n",
        "num_epochs = 50\n",
        "history_logmel= model_5.fit(\n",
        "    X_train_split, y_train_split,\n",
        "    batch_size=16,\n",
        "    epochs=num_epochs,\n",
        "    validation_data=(X_val_split, y_val_split),\n",
        "    callbacks=[early_stopping, lr_scheduler],  #include both callbacks\n",
        "    class_weight=class_weights_dict\n",
        ")\n",
        "\n",
        "print(\"Model training completed.\")"
      ],
      "metadata": {
        "colab": {
          "base_uri": "https://localhost:8080/"
        },
        "id": "7fFm5wc6gITX",
        "outputId": "8788dfcd-8800-4a34-9f18-2b2219ea4291"
      },
      "execution_count": null,
      "outputs": [
        {
          "output_type": "stream",
          "name": "stdout",
          "text": [
            "Epoch 1/50\n",
            "\u001b[1m94/94\u001b[0m \u001b[32m━━━━━━━━━━━━━━━━━━━━\u001b[0m\u001b[37m\u001b[0m \u001b[1m19s\u001b[0m 174ms/step - accuracy: 0.5382 - loss: 1.2713 - precision: 0.2142 - recall: 0.4519 - val_accuracy: 0.3893 - val_loss: 0.7779 - val_precision: 0.2456 - val_recall: 0.8333 - learning_rate: 1.0000e-04\n",
            "Epoch 2/50\n",
            "\u001b[1m94/94\u001b[0m \u001b[32m━━━━━━━━━━━━━━━━━━━━\u001b[0m\u001b[37m\u001b[0m \u001b[1m17s\u001b[0m 176ms/step - accuracy: 0.5607 - loss: 0.8593 - precision: 0.2707 - recall: 0.6315 - val_accuracy: 0.5947 - val_loss: 0.6720 - val_precision: 0.3068 - val_recall: 0.6429 - learning_rate: 1.0000e-04\n",
            "Epoch 3/50\n",
            "\u001b[1m94/94\u001b[0m \u001b[32m━━━━━━━━━━━━━━━━━━━━\u001b[0m\u001b[37m\u001b[0m \u001b[1m16s\u001b[0m 165ms/step - accuracy: 0.6409 - loss: 0.6904 - precision: 0.3481 - recall: 0.6544 - val_accuracy: 0.5440 - val_loss: 0.6898 - val_precision: 0.2769 - val_recall: 0.6429 - learning_rate: 1.0000e-04\n",
            "Epoch 4/50\n",
            "\u001b[1m94/94\u001b[0m \u001b[32m━━━━━━━━━━━━━━━━━━━━\u001b[0m\u001b[37m\u001b[0m \u001b[1m14s\u001b[0m 146ms/step - accuracy: 0.6233 - loss: 0.6468 - precision: 0.3444 - recall: 0.6846 - val_accuracy: 0.6507 - val_loss: 0.6199 - val_precision: 0.3444 - val_recall: 0.6190 - learning_rate: 1.0000e-04\n",
            "Epoch 5/50\n",
            "\u001b[1m94/94\u001b[0m \u001b[32m━━━━━━━━━━━━━━━━━━━━\u001b[0m\u001b[37m\u001b[0m \u001b[1m14s\u001b[0m 150ms/step - accuracy: 0.6868 - loss: 0.5899 - precision: 0.3957 - recall: 0.7397 - val_accuracy: 0.6587 - val_loss: 0.6573 - val_precision: 0.3226 - val_recall: 0.4762 - learning_rate: 1.0000e-04\n",
            "Epoch 6/50\n",
            "\u001b[1m94/94\u001b[0m \u001b[32m━━━━━━━━━━━━━━━━━━━━\u001b[0m\u001b[37m\u001b[0m \u001b[1m14s\u001b[0m 147ms/step - accuracy: 0.7157 - loss: 0.5435 - precision: 0.4004 - recall: 0.7102 - val_accuracy: 0.6960 - val_loss: 0.6181 - val_precision: 0.3707 - val_recall: 0.5119 - learning_rate: 1.0000e-04\n",
            "Epoch 7/50\n",
            "\u001b[1m94/94\u001b[0m \u001b[32m━━━━━━━━━━━━━━━━━━━━\u001b[0m\u001b[37m\u001b[0m \u001b[1m15s\u001b[0m 157ms/step - accuracy: 0.7274 - loss: 0.4533 - precision: 0.4357 - recall: 0.8327 - val_accuracy: 0.7360 - val_loss: 0.5753 - val_precision: 0.4299 - val_recall: 0.5476 - learning_rate: 1.0000e-04\n",
            "Epoch 8/50\n",
            "\u001b[1m94/94\u001b[0m \u001b[32m━━━━━━━━━━━━━━━━━━━━\u001b[0m\u001b[37m\u001b[0m \u001b[1m16s\u001b[0m 169ms/step - accuracy: 0.7838 - loss: 0.4025 - precision: 0.5099 - recall: 0.8643 - val_accuracy: 0.7173 - val_loss: 0.5830 - val_precision: 0.4068 - val_recall: 0.5714 - learning_rate: 1.0000e-04\n",
            "Epoch 9/50\n",
            "\u001b[1m94/94\u001b[0m \u001b[32m━━━━━━━━━━━━━━━━━━━━\u001b[0m\u001b[37m\u001b[0m \u001b[1m0s\u001b[0m 146ms/step - accuracy: 0.8249 - loss: 0.3347 - precision: 0.5678 - recall: 0.8776\n",
            "Epoch 9: ReduceLROnPlateau reducing learning rate to 4.999999873689376e-05.\n",
            "\u001b[1m94/94\u001b[0m \u001b[32m━━━━━━━━━━━━━━━━━━━━\u001b[0m\u001b[37m\u001b[0m \u001b[1m15s\u001b[0m 155ms/step - accuracy: 0.8248 - loss: 0.3350 - precision: 0.5678 - recall: 0.8772 - val_accuracy: 0.7200 - val_loss: 0.6644 - val_precision: 0.4087 - val_recall: 0.5595 - learning_rate: 1.0000e-04\n",
            "Epoch 10/50\n",
            "\u001b[1m94/94\u001b[0m \u001b[32m━━━━━━━━━━━━━━━━━━━━\u001b[0m\u001b[37m\u001b[0m \u001b[1m14s\u001b[0m 150ms/step - accuracy: 0.8452 - loss: 0.2835 - precision: 0.6100 - recall: 0.9375 - val_accuracy: 0.7680 - val_loss: 0.6164 - val_precision: 0.4762 - val_recall: 0.3571 - learning_rate: 5.0000e-05\n",
            "Model training completed.\n"
          ]
        }
      ]
    },
    {
      "cell_type": "code",
      "source": [
        "# Evaluate the model on the test set\n",
        "evaluate_test_set(model_5, X_test_logmel_padded , y_test)"
      ],
      "metadata": {
        "colab": {
          "base_uri": "https://localhost:8080/"
        },
        "id": "9o04W3qygMmT",
        "outputId": "1efd9abe-cd12-4410-8332-ef994618aa75"
      },
      "execution_count": null,
      "outputs": [
        {
          "output_type": "stream",
          "name": "stdout",
          "text": [
            "\u001b[1m15/15\u001b[0m \u001b[32m━━━━━━━━━━━━━━━━━━━━\u001b[0m\u001b[37m\u001b[0m \u001b[1m1s\u001b[0m 58ms/step - accuracy: 0.7179 - loss: 0.5753 - precision: 0.4113 - recall: 0.6409\n",
            "Test Loss: 0.6041\n",
            "Test Accuracy: 0.7009\n",
            "Test Precision: 0.3871\n",
            "Test Recall: 0.5714\n"
          ]
        }
      ]
    },
    {
      "cell_type": "code",
      "source": [
        "evaluate_model(model_5, X_test_logmel_padded, y_test)"
      ],
      "metadata": {
        "colab": {
          "base_uri": "https://localhost:8080/",
          "height": 695
        },
        "id": "97iCEnwegQ_F",
        "outputId": "e16c98a6-f823-4cb4-9a45-fbb2521c60f8"
      },
      "execution_count": null,
      "outputs": [
        {
          "output_type": "stream",
          "name": "stdout",
          "text": [
            "\u001b[1m15/15\u001b[0m \u001b[32m━━━━━━━━━━━━━━━━━━━━\u001b[0m\u001b[37m\u001b[0m \u001b[1m1s\u001b[0m 60ms/step\n"
          ]
        },
        {
          "output_type": "display_data",
          "data": {
            "text/plain": [
              "<Figure size 600x500 with 2 Axes>"
            ],
            "image/png": "[encoded data removed]"
          },
          "metadata": {}
        },
        {
          "output_type": "stream",
          "name": "stdout",
          "text": [
            "\n",
            "Classification Report:\n",
            "               precision    recall  f1-score   support\n",
            "\n",
            "           0       0.86      0.74      0.79       363\n",
            "           1       0.39      0.57      0.46       105\n",
            "\n",
            "    accuracy                           0.70       468\n",
            "   macro avg       0.62      0.65      0.63       468\n",
            "weighted avg       0.75      0.70      0.72       468\n",
            "\n"
          ]
        }
      ]
    },
    {
      "cell_type": "markdown",
      "source": [
        "The performance does not improve."
      ],
      "metadata": {
        "id": "J8Jz1zmHbXtm"
      }
    },
    {
      "cell_type": "markdown",
      "source": [
        "### Model 6 CNN+bi-directional LSTM"
      ],
      "metadata": {
        "id": "aifeWOpSgqvr"
      }
    },
    {
      "cell_type": "markdown",
      "source": [
        "Combine bi-directional LSTM with CNN network."
      ],
      "metadata": {
        "id": "2WpABctYbeLz"
      }
    },
    {
      "cell_type": "code",
      "source": [
        "model_6 = Sequential([\n",
        "    # CNN feature extractor\n",
        "    Conv2D(16, (3, 3), activation='relu', padding='same', input_shape=(184, 64, 1), kernel_regularizer=l2(0.01)),\n",
        "    BatchNormalization(),\n",
        "    MaxPooling2D((2, 2)),\n",
        "\n",
        "    Conv2D(32, (3, 3), activation='relu', padding='same', kernel_regularizer=l2(0.01)),\n",
        "    BatchNormalization(),\n",
        "    MaxPooling2D((2, 2)),\n",
        "\n",
        "    Conv2D(64, (3, 3), activation='relu', padding='same', kernel_regularizer=l2(0.01)),\n",
        "    BatchNormalization(),\n",
        "    MaxPooling2D((2, 2)),\n",
        "\n",
        "    # At this point, the feature map should be roughly of shape (23, 8, 128)\n",
        "    # Reshape to (time_steps, features) for the LSTM layers\n",
        "    Reshape((23, 8 * 64)),\n",
        "\n",
        "    # LSTM layers for temporal modeling\n",
        "    Bidirectional(LSTM(64, return_sequences=True)),  # Bidirectional LSTM (Captures more context)\n",
        "    LSTM(32, return_sequences=False),  # Second LSTM for deeper representation\n",
        "    Dropout(0.5),\n",
        "\n",
        "    # Flatten Layer\n",
        "    Flatten(name=\"flatten\"),\n",
        "\n",
        "    Dense(64, activation='relu', kernel_regularizer=l2(0.01)),\n",
        "    Dropout(0.3),\n",
        "\n",
        "    Dense(32, activation='relu', kernel_regularizer=l2(0.01)),\n",
        "    Dropout(0.3),\n",
        "\n",
        "    # Output layer for binary classification\n",
        "    Dense(1, activation='sigmoid', kernel_regularizer=l2(0.01))\n",
        "])"
      ],
      "metadata": {
        "id": "g_gtj6Cggptm",
        "colab": {
          "base_uri": "https://localhost:8080/"
        },
        "outputId": "4bd512c9-57b7-4038-ff97-962b24bbcff3"
      },
      "execution_count": null,
      "outputs": [
        {
          "output_type": "stream",
          "name": "stderr",
          "text": [
            "/usr/local/lib/python3.11/dist-packages/keras/src/layers/convolutional/base_conv.py:107: UserWarning: Do not pass an `input_shape`/`input_dim` argument to a layer. When using Sequential models, prefer using an `Input(shape)` object as the first layer in the model instead.\n",
            "  super().__init__(activity_regularizer=activity_regularizer, **kwargs)\n"
          ]
        }
      ]
    },
    {
      "cell_type": "code",
      "source": [
        "# Compile the model\n",
        "model_6.compile(optimizer=Adam(learning_rate=0.0001), #starting lr\n",
        "    loss='binary_crossentropy',\n",
        "    metrics=['accuracy', Precision(name='precision'), Recall(name='recall')]\n",
        ")"
      ],
      "metadata": {
        "id": "gfX5Xs4ShAe2"
      },
      "execution_count": null,
      "outputs": []
    },
    {
      "cell_type": "code",
      "source": [
        "# Train the model\n",
        "num_epochs = 50\n",
        "history_logmel_cnnlstm= model_6.fit(\n",
        "    X_train_split, y_train_split,\n",
        "    batch_size=16,\n",
        "    epochs=num_epochs,\n",
        "    validation_data=(X_val_split, y_val_split),\n",
        "    callbacks=[early_stopping, lr_scheduler],  #include both callbacks\n",
        "    class_weight=class_weights_dict\n",
        ")\n",
        "\n",
        "print(\"Model training completed.\")"
      ],
      "metadata": {
        "colab": {
          "base_uri": "https://localhost:8080/"
        },
        "id": "iV1JW9DThD-P",
        "outputId": "0577d539-d4be-44f4-d3e9-c59c651efdb8"
      },
      "execution_count": null,
      "outputs": [
        {
          "output_type": "stream",
          "name": "stdout",
          "text": [
            "Epoch 1/50\n",
            "\u001b[1m114/114\u001b[0m \u001b[32m━━━━━━━━━━━━━━━━━━━━\u001b[0m\u001b[37m\u001b[0m \u001b[1m20s\u001b[0m 104ms/step - accuracy: 0.5036 - loss: 2.1752 - precision: 0.2681 - recall: 0.5101 - val_accuracy: 0.5319 - val_loss: 2.0613 - val_precision: 0.3394 - val_recall: 0.7581 - learning_rate: 1.0000e-04\n",
            "Epoch 2/50\n",
            "\u001b[1m114/114\u001b[0m \u001b[32m━━━━━━━━━━━━━━━━━━━━\u001b[0m\u001b[37m\u001b[0m \u001b[1m11s\u001b[0m 93ms/step - accuracy: 0.5074 - loss: 2.0364 - precision: 0.3059 - recall: 0.5615 - val_accuracy: 0.5429 - val_loss: 1.9073 - val_precision: 0.3320 - val_recall: 0.6694 - learning_rate: 1.0000e-04\n",
            "Epoch 3/50\n",
            "\u001b[1m114/114\u001b[0m \u001b[32m━━━━━━━━━━━━━━━━━━━━\u001b[0m\u001b[37m\u001b[0m \u001b[1m11s\u001b[0m 94ms/step - accuracy: 0.5711 - loss: 1.8861 - precision: 0.3082 - recall: 0.4626 - val_accuracy: 0.4440 - val_loss: 1.7938 - val_precision: 0.3075 - val_recall: 0.8306 - learning_rate: 1.0000e-04\n",
            "Epoch 4/50\n",
            "\u001b[1m114/114\u001b[0m \u001b[32m━━━━━━━━━━━━━━━━━━━━\u001b[0m\u001b[37m\u001b[0m \u001b[1m11s\u001b[0m 95ms/step - accuracy: 0.5084 - loss: 1.7487 - precision: 0.2909 - recall: 0.6000 - val_accuracy: 0.4967 - val_loss: 1.6687 - val_precision: 0.3171 - val_recall: 0.7339 - learning_rate: 1.0000e-04\n",
            "Epoch 5/50\n",
            "\u001b[1m114/114\u001b[0m \u001b[32m━━━━━━━━━━━━━━━━━━━━\u001b[0m\u001b[37m\u001b[0m \u001b[1m11s\u001b[0m 95ms/step - accuracy: 0.5138 - loss: 1.6600 - precision: 0.3111 - recall: 0.5889 - val_accuracy: 0.4593 - val_loss: 1.5709 - val_precision: 0.3082 - val_recall: 0.7903 - learning_rate: 1.0000e-04\n",
            "Epoch 6/50\n",
            "\u001b[1m114/114\u001b[0m \u001b[32m━━━━━━━━━━━━━━━━━━━━\u001b[0m\u001b[37m\u001b[0m \u001b[1m11s\u001b[0m 95ms/step - accuracy: 0.5282 - loss: 1.5502 - precision: 0.3082 - recall: 0.6257 - val_accuracy: 0.4484 - val_loss: 1.4914 - val_precision: 0.3082 - val_recall: 0.8226 - learning_rate: 1.0000e-04\n",
            "Epoch 7/50\n",
            "\u001b[1m114/114\u001b[0m \u001b[32m━━━━━━━━━━━━━━━━━━━━\u001b[0m\u001b[37m\u001b[0m \u001b[1m11s\u001b[0m 93ms/step - accuracy: 0.5087 - loss: 1.4791 - precision: 0.3088 - recall: 0.5953 - val_accuracy: 0.4549 - val_loss: 1.4091 - val_precision: 0.3098 - val_recall: 0.8145 - learning_rate: 1.0000e-04\n",
            "Epoch 8/50\n",
            "\u001b[1m114/114\u001b[0m \u001b[32m━━━━━━━━━━━━━━━━━━━━\u001b[0m\u001b[37m\u001b[0m \u001b[1m11s\u001b[0m 94ms/step - accuracy: 0.5356 - loss: 1.3865 - precision: 0.3028 - recall: 0.5732 - val_accuracy: 0.4418 - val_loss: 1.3461 - val_precision: 0.3054 - val_recall: 0.8226 - learning_rate: 1.0000e-04\n",
            "Epoch 9/50\n",
            "\u001b[1m114/114\u001b[0m \u001b[32m━━━━━━━━━━━━━━━━━━━━\u001b[0m\u001b[37m\u001b[0m \u001b[1m11s\u001b[0m 94ms/step - accuracy: 0.4619 - loss: 1.3147 - precision: 0.2813 - recall: 0.6978 - val_accuracy: 0.4593 - val_loss: 1.2763 - val_precision: 0.3082 - val_recall: 0.7903 - learning_rate: 1.0000e-04\n",
            "Epoch 10/50\n",
            "\u001b[1m114/114\u001b[0m \u001b[32m━━━━━━━━━━━━━━━━━━━━\u001b[0m\u001b[37m\u001b[0m \u001b[1m11s\u001b[0m 95ms/step - accuracy: 0.4857 - loss: 1.2642 - precision: 0.3003 - recall: 0.6531 - val_accuracy: 0.4747 - val_loss: 1.2173 - val_precision: 0.3127 - val_recall: 0.7742 - learning_rate: 1.0000e-04\n",
            "Epoch 11/50\n",
            "\u001b[1m114/114\u001b[0m \u001b[32m━━━━━━━━━━━━━━━━━━━━\u001b[0m\u001b[37m\u001b[0m \u001b[1m12s\u001b[0m 101ms/step - accuracy: 0.5407 - loss: 1.2179 - precision: 0.3237 - recall: 0.6034 - val_accuracy: 0.4879 - val_loss: 1.1655 - val_precision: 0.3177 - val_recall: 0.7661 - learning_rate: 1.0000e-04\n",
            "Epoch 12/50\n",
            "\u001b[1m114/114\u001b[0m \u001b[32m━━━━━━━━━━━━━━━━━━━━\u001b[0m\u001b[37m\u001b[0m \u001b[1m11s\u001b[0m 96ms/step - accuracy: 0.5053 - loss: 1.1595 - precision: 0.3121 - recall: 0.6636 - val_accuracy: 0.4703 - val_loss: 1.1244 - val_precision: 0.3107 - val_recall: 0.7742 - learning_rate: 1.0000e-04\n",
            "Epoch 13/50\n",
            "\u001b[1m114/114\u001b[0m \u001b[32m━━━━━━━━━━━━━━━━━━━━\u001b[0m\u001b[37m\u001b[0m \u001b[1m11s\u001b[0m 92ms/step - accuracy: 0.4927 - loss: 1.1179 - precision: 0.3107 - recall: 0.6709 - val_accuracy: 0.5209 - val_loss: 1.0738 - val_precision: 0.3321 - val_recall: 0.7500 - learning_rate: 1.0000e-04\n",
            "Epoch 14/50\n",
            "\u001b[1m114/114\u001b[0m \u001b[32m━━━━━━━━━━━━━━━━━━━━\u001b[0m\u001b[37m\u001b[0m \u001b[1m11s\u001b[0m 95ms/step - accuracy: 0.5392 - loss: 1.0672 - precision: 0.3111 - recall: 0.5839 - val_accuracy: 0.5341 - val_loss: 1.0390 - val_precision: 0.3382 - val_recall: 0.7419 - learning_rate: 1.0000e-04\n",
            "Epoch 15/50\n",
            "\u001b[1m114/114\u001b[0m \u001b[32m━━━━━━━━━━━━━━━━━━━━\u001b[0m\u001b[37m\u001b[0m \u001b[1m11s\u001b[0m 95ms/step - accuracy: 0.5567 - loss: 1.0353 - precision: 0.3331 - recall: 0.5970 - val_accuracy: 0.6242 - val_loss: 0.9952 - val_precision: 0.3819 - val_recall: 0.6129 - learning_rate: 1.0000e-04\n",
            "Epoch 16/50\n",
            "\u001b[1m114/114\u001b[0m \u001b[32m━━━━━━━━━━━━━━━━━━━━\u001b[0m\u001b[37m\u001b[0m \u001b[1m11s\u001b[0m 95ms/step - accuracy: 0.6017 - loss: 0.9951 - precision: 0.3518 - recall: 0.5767 - val_accuracy: 0.6505 - val_loss: 0.9533 - val_precision: 0.4000 - val_recall: 0.5645 - learning_rate: 1.0000e-04\n",
            "Epoch 17/50\n",
            "\u001b[1m114/114\u001b[0m \u001b[32m━━━━━━━━━━━━━━━━━━━━\u001b[0m\u001b[37m\u001b[0m \u001b[1m11s\u001b[0m 98ms/step - accuracy: 0.6211 - loss: 0.9681 - precision: 0.3697 - recall: 0.5528 - val_accuracy: 0.5407 - val_loss: 0.9575 - val_precision: 0.3396 - val_recall: 0.7258 - learning_rate: 1.0000e-04\n",
            "Epoch 18/50\n",
            "\u001b[1m114/114\u001b[0m \u001b[32m━━━━━━━━━━━━━━━━━━━━\u001b[0m\u001b[37m\u001b[0m \u001b[1m11s\u001b[0m 94ms/step - accuracy: 0.5788 - loss: 0.9414 - precision: 0.3370 - recall: 0.6046 - val_accuracy: 0.6813 - val_loss: 0.8888 - val_precision: 0.4295 - val_recall: 0.5161 - learning_rate: 1.0000e-04\n",
            "Epoch 19/50\n",
            "\u001b[1m114/114\u001b[0m \u001b[32m━━━━━━━━━━━━━━━━━━━━\u001b[0m\u001b[37m\u001b[0m \u001b[1m11s\u001b[0m 97ms/step - accuracy: 0.6015 - loss: 0.9238 - precision: 0.3800 - recall: 0.6442 - val_accuracy: 0.7253 - val_loss: 0.8402 - val_precision: 0.4952 - val_recall: 0.4194 - learning_rate: 1.0000e-04\n",
            "Epoch 20/50\n",
            "\u001b[1m114/114\u001b[0m \u001b[32m━━━━━━━━━━━━━━━━━━━━\u001b[0m\u001b[37m\u001b[0m \u001b[1m11s\u001b[0m 96ms/step - accuracy: 0.6752 - loss: 0.8888 - precision: 0.4221 - recall: 0.4965 - val_accuracy: 0.6615 - val_loss: 0.8646 - val_precision: 0.4096 - val_recall: 0.5484 - learning_rate: 1.0000e-04\n",
            "Epoch 21/50\n",
            "\u001b[1m114/114\u001b[0m \u001b[32m━━━━━━━━━━━━━━━━━━━━\u001b[0m\u001b[37m\u001b[0m \u001b[1m0s\u001b[0m 90ms/step - accuracy: 0.6239 - loss: 0.8560 - precision: 0.3793 - recall: 0.6580\n",
            "Epoch 21: ReduceLROnPlateau reducing learning rate to 4.999999873689376e-05.\n",
            "\u001b[1m114/114\u001b[0m \u001b[32m━━━━━━━━━━━━━━━━━━━━\u001b[0m\u001b[37m\u001b[0m \u001b[1m11s\u001b[0m 95ms/step - accuracy: 0.6237 - loss: 0.8561 - precision: 0.3792 - recall: 0.6579 - val_accuracy: 0.5978 - val_loss: 0.8614 - val_precision: 0.3439 - val_recall: 0.5242 - learning_rate: 1.0000e-04\n",
            "Epoch 22/50\n",
            "\u001b[1m114/114\u001b[0m \u001b[32m━━━━━━━━━━━━━━━━━━━━\u001b[0m\u001b[37m\u001b[0m \u001b[1m11s\u001b[0m 95ms/step - accuracy: 0.6766 - loss: 0.8445 - precision: 0.4196 - recall: 0.5381 - val_accuracy: 0.6132 - val_loss: 0.8530 - val_precision: 0.3632 - val_recall: 0.5565 - learning_rate: 5.0000e-05\n",
            "Model training completed.\n"
          ]
        }
      ]
    },
    {
      "cell_type": "code",
      "source": [
        "# Evaluate the model on the test set\n",
        "evaluate_test_set(model_6, X_test_logmel_padded , y_test)"
      ],
      "metadata": {
        "colab": {
          "base_uri": "https://localhost:8080/"
        },
        "id": "lptx7vTRhJWo",
        "outputId": "e5e725a3-5550-4994-84ce-9129601ea576"
      },
      "execution_count": null,
      "outputs": [
        {
          "output_type": "stream",
          "name": "stdout",
          "text": [
            "\u001b[1m15/15\u001b[0m \u001b[32m━━━━━━━━━━━━━━━━━━━━\u001b[0m\u001b[37m\u001b[0m \u001b[1m1s\u001b[0m 38ms/step - accuracy: 0.7659 - loss: 0.8170 - precision: 0.4773 - recall: 0.6306\n",
            "Test Loss: 0.8213\n",
            "Test Accuracy: 0.7521\n",
            "Test Precision: 0.4574\n",
            "Test Recall: 0.5619\n"
          ]
        }
      ]
    },
    {
      "cell_type": "code",
      "source": [
        "evaluate_model(model_6, X_test_logmel_padded, y_test)"
      ],
      "metadata": {
        "colab": {
          "base_uri": "https://localhost:8080/",
          "height": 695
        },
        "id": "FA3gescLhLa2",
        "outputId": "27b77327-9327-4667-88f6-901e0fe18068"
      },
      "execution_count": null,
      "outputs": [
        {
          "output_type": "stream",
          "name": "stdout",
          "text": [
            "\u001b[1m15/15\u001b[0m \u001b[32m━━━━━━━━━━━━━━━━━━━━\u001b[0m\u001b[37m\u001b[0m \u001b[1m2s\u001b[0m 80ms/step\n"
          ]
        },
        {
          "output_type": "display_data",
          "data": {
            "text/plain": [
              "<Figure size 600x500 with 2 Axes>"
            ],
            "image/png": "[encoded data removed]"
          },
          "metadata": {}
        },
        {
          "output_type": "stream",
          "name": "stdout",
          "text": [
            "\n",
            "Classification Report:\n",
            "               precision    recall  f1-score   support\n",
            "\n",
            "           0       0.86      0.81      0.83       363\n",
            "           1       0.46      0.56      0.50       105\n",
            "\n",
            "    accuracy                           0.75       468\n",
            "   macro avg       0.66      0.68      0.67       468\n",
            "weighted avg       0.77      0.75      0.76       468\n",
            "\n"
          ]
        }
      ]
    },
    {
      "cell_type": "markdown",
      "source": [
        "After adding bi-directional LSTM layer, accuracy and F1 scores improve a lot. The model learn more features and behave well."
      ],
      "metadata": {
        "id": "1PJ5vVo4bx-_"
      }
    }
  ]
}