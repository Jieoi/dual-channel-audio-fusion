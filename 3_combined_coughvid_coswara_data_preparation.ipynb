{
 "cells": [
  {
   "cell_type": "markdown",
   "metadata": {
    "id": "RxvD50nPTi6L"
   },
   "source": [
    "## Data Preparation Pipeline (Coughvid + Samples from Coswara)"
   ]
  },
  {
   "cell_type": "markdown",
   "metadata": {},
   "source": [
    "This notebook increases the size of the training dataset by integrating Coswara audio samples into the existing CoughVid training set. \n",
    "\n",
    "Objective: To combine CoughVid and Coswara datasets into a single, enriched training set with balanced binary labels (healthy vs not healthy), while preserving the original CoughVid test set for evaluation.\n",
    "\n",
    "Note:\n",
    "- The code is designed to run in Google Colab with helper functions and scripts imported from Google Drive. All helper scripts are stored in the data_preparation folder.\n",
    "- The output examples shown in this notebook are for illustration only. They use a small sample of files to help you understand what the full pipeline should look like when properly run."
   ]
  },
  {
   "cell_type": "markdown",
   "metadata": {},
   "source": [
    "Pipeline Summary:\n",
    "\n",
    "0. Mount Google Drive\n",
    "1. Copy Coughvid Training Data & Combine with Samples from Coswara\n",
    "2. Data Integrity Check"
   ]
  },
  {
   "cell_type": "markdown",
   "metadata": {},
   "source": [
    "### 0. Mount Google Drive"
   ]
  },
  {
   "cell_type": "markdown",
   "metadata": {},
   "source": [
    "- This step handles mounting Drive and ensuring access scripts and datasets stored in your Drive.\n",
    "- Accompanying helper file: step1_get_zip.py"
   ]
  },
  {
   "cell_type": "code",
   "execution_count": null,
   "metadata": {
    "colab": {
     "base_uri": "https://localhost:8080/"
    },
    "executionInfo": {
     "elapsed": 19954,
     "status": "ok",
     "timestamp": 1743175646949,
     "user": {
      "displayName": "S L",
      "userId": "12084752779565483850"
     },
     "user_tz": -480
    },
    "id": "nepBbn9HTXIA",
    "outputId": "19cd4b42-908c-4db3-cab4-5d3337cd66c2"
   },
   "outputs": [
    {
     "name": "stdout",
     "output_type": "stream",
     "text": [
      "Mounted at /content/drive/\n"
     ]
    }
   ],
   "source": [
    "# Mount Google Drive to access files\n",
    "# This code is intended to be run in Google Colab\n",
    "from google.colab import drive\n",
    "drive.mount('/content/drive/', force_remount=True)"
   ]
  },
  {
   "cell_type": "code",
   "execution_count": null,
   "metadata": {
    "colab": {
     "base_uri": "https://localhost:8080/"
    },
    "executionInfo": {
     "elapsed": 990,
     "status": "ok",
     "timestamp": 1743175647940,
     "user": {
      "displayName": "S L",
      "userId": "12084752779565483850"
     },
     "user_tz": -480
    },
    "id": "eRZVLmhjUG44",
    "outputId": "2ceb77b8-38da-41eb-a663-c3b6fbb4049b"
   },
   "outputs": [
    {
     "name": "stdout",
     "output_type": "stream",
     "text": [
      "/content/drive/.shortcut-targets-by-id/1UBr7xHwiaUCT4Y9U0LH_0qJJfCYxNbgT/AML/Dataprep/test_coughvid_plus_coswara_dataprep_for_github/py_util\n"
     ]
    }
   ],
   "source": [
    "# To run this notebook, you need to cd to the folder where the helper files are located.\n",
    "# You can do this by running the following command:\n",
    "%cd /content/drive/MyDrive/AML/Dataprep/test_coughvid_plus_coswara_dataprep_for_github/py_util/"
   ]
  },
  {
   "cell_type": "code",
   "execution_count": null,
   "metadata": {
    "executionInfo": {
     "elapsed": 16,
     "status": "ok",
     "timestamp": 1743175647968,
     "user": {
      "displayName": "S L",
      "userId": "12084752779565483850"
     },
     "user_tz": -480
    },
    "id": "mr92Po-qUPKJ"
   },
   "outputs": [],
   "source": [
    "# As backup, to use the helper files, we add its path to the system path\n",
    "# This is not necessary if you are already in the correct directory.\n",
    "# You can comment this line out if you are already in the correct directory.\n",
    "import sys\n",
    "sys.path.append('/content/drive/MyDrive/AML/Dataprep/test_coughvid_plus_coswara_dataprep_for_github/py_util')"
   ]
  },
  {
   "cell_type": "code",
   "execution_count": null,
   "metadata": {
    "colab": {
     "base_uri": "https://localhost:8080/"
    },
    "executionInfo": {
     "elapsed": 789,
     "status": "ok",
     "timestamp": 1743175648757,
     "user": {
      "displayName": "S L",
      "userId": "12084752779565483850"
     },
     "user_tz": -480
    },
    "id": "L-nqO9D6UTfD",
    "outputId": "1ece5d6b-96b6-4880-a42b-c1098d173ec0"
   },
   "outputs": [
    {
     "name": "stdout",
     "output_type": "stream",
     "text": [
      "Google Drive already mounted.\n"
     ]
    }
   ],
   "source": [
    "# Importing the function to check if the drive is mounted, and to mount it if not\n",
    "from step1_get_zip import mount_drive\n",
    "mount_drive()"
   ]
  },
  {
   "cell_type": "markdown",
   "metadata": {},
   "source": [
    "Expected Output:\n",
    "- Google Drive mounted\n",
    "- Able to access helper files"
   ]
  },
  {
   "cell_type": "markdown",
   "metadata": {},
   "source": [
    "### 1. Copy Coughvid Training Data & Combine with Samples from Coswara"
   ]
  },
  {
   "cell_type": "markdown",
   "metadata": {},
   "source": [
    "- This step expands the training data by combining CoughVid and Coswara datasets. The goal is to increase the size and diversity of the training set while preserving the original test set from CoughVid for consistent evaluation.\n",
    "- Steps performed:\n",
    "    - Copy all training and test files from the CoughVid dataset into a new combined folder.\n",
    "    - Sample and copy up to:\n",
    "        - 200 healthy and 200 not healthy .wav files from Coswara.\n",
    "        - If there are fewer than 200 available per class, all available files are used.\n",
    "    - Merge metadata:\n",
    "        - CoughVid and Coswara label files are combined.\n",
    "        - A single training CSV and test CSV are generated for the merged dataset.\n",
    "    - Display label distributions for each component:\n",
    "        - CoughVid (train/test/full)\n",
    "        - Coswara (before sampling)\n",
    "        - Final Combined Dataset (train/test/full)"
   ]
  },
  {
   "cell_type": "code",
   "execution_count": null,
   "metadata": {},
   "outputs": [],
   "source": [
    "from step7_expand_dataset import combine_datasets\n",
    "\n",
    "# ===== Paths for Original Datasets =====\n",
    "\n",
    "# CoughVid (Dataset 1)\n",
    "dataset1_train = \"/content/drive/MyDrive/AML/Dataprep/test_coughvid_dataprep_for_github/fortest_coughvid_train\"\n",
    "dataset1_test = \"/content/drive/MyDrive/AML/Dataprep/test_coughvid_dataprep_for_github/fortest_coughvid_test\"\n",
    "dataset1_train_csv = \"/content/drive/MyDrive/AML/Dataprep/test_coughvid_dataprep_for_github/fortest_train_labels_coughvid.csv\"\n",
    "dataset1_test_csv = \"/content/drive/MyDrive/AML/Dataprep/test_coughvid_dataprep_for_github/fortest_test_labels_coughvid.csv\"\n",
    "\n",
    "# Coswara (Dataset 2)\n",
    "dataset2_train = \"/content/drive/MyDrive/AML/Dataprep/test_coswara_dataprep_for_github/fortest_coswara_train\"\n",
    "dataset2_train_csv = \"/content/drive/MyDrive/AML/Dataprep/test_coswara_dataprep_for_github/fortest_train_labels_coswara.csv\"\n",
    "\n",
    "# ===== Output Paths for Combined Dataset =====\n",
    "\n",
    "combined_train = \"/content/drive/MyDrive/AML/Dataprep/test_coughvid_plus_coswara_dataprep_for_github/fortest_combined_train\"\n",
    "combined_test = \"/content/drive/MyDrive/AML/Dataprep/test_coughvid_plus_coswara_dataprep_for_github/fortest_combined_test\"\n",
    "\n",
    "combined_train_csv = \"/content/drive/MyDrive/AML/Dataprep/test_coughvid_plus_coswara_dataprep_for_github/fortest_combined_train_labels.csv\"\n",
    "combined_test_csv = \"/content/drive/MyDrive/AML/Dataprep/test_coughvid_plus_coswara_dataprep_for_github/fortest_combined_test_labels.csv\"\n",
    "\n",
    "# ===== Run Expansion Pipeline =====\n",
    "combine_datasets(\n",
    "    dataset1_train=dataset1_train,\n",
    "    dataset1_test=dataset1_test,\n",
    "    dataset2_train=dataset2_train,\n",
    "    dataset1_train_csv=dataset1_train_csv,\n",
    "    dataset1_test_csv=dataset1_test_csv,\n",
    "    dataset2_train_csv=dataset2_train_csv,\n",
    "    combined_train=combined_train,\n",
    "    combined_test=combined_test,\n",
    "    combined_train_csv=combined_train_csv,\n",
    "    combined_test_csv=combined_test_csv\n",
    ")\n"
   ]
  },
  {
   "cell_type": "markdown",
   "metadata": {},
   "source": [
    "Expected Output:\n",
    "- fortest_combined_train/ – contains:\n",
    "    - All original CoughVid training .wav files\n",
    "    - All sampled Coswara files (up to 400 total additions)\n",
    "- fortest_combined_test/ – contains:\n",
    "    - All CoughVid test .wav files (unchanged)\n",
    "- fortest_combined_train_labels.csv – merged label CSV for the combined training set\n",
    "- fortest_combined_test_labels.csv – copied label CSV from the original CoughVid test set\n",
    "- While the cell does not generate a confirmation message or plots, all results (label distributions, file counts, and audio loading checks) will be verified in the next step using the run_check_pipeline() function from step6_check_dataset.py."
   ]
  },
  {
   "cell_type": "markdown",
   "metadata": {},
   "source": [
    "### 2. Data Integrity Check"
   ]
  },
  {
   "cell_type": "markdown",
   "metadata": {},
   "source": [
    "- This step runs a full validation of the combined dataset created. It ensures the correctness of file-to-label alignment, checks for any missing or unreadable files, and confirms a balanced label distribution across the train and test sets.\n",
    "- File Count Verification: Confirms the number of .wav files in the combined train and test directories.\n",
    "- Label Matching:\n",
    "    - Reads label CSVs for both train and test.\n",
    "    - Confirms each file in the folders has a corresponding label.\n",
    "    - Validates health_status values.\n",
    "- Label Distribution Plotting\n",
    "    - Displays stratified class balance for both sets.\n",
    "    - Verifies balance visually (e.g., 50/50 split between 0 = Not Healthy and 1 = Healthy).\n",
    "- Audio File Read Check:\n",
    "    - Attempts to load all audio files using librosa.\n",
    "    - Reports any failures due to corrupt or missing data.\n",
    "    - Displays a few sample waveform shapes to confirm expected formats."
   ]
  },
  {
   "cell_type": "code",
   "execution_count": null,
   "metadata": {
    "colab": {
     "base_uri": "https://localhost:8080/",
     "height": 1000
    },
    "executionInfo": {
     "elapsed": 82443,
     "status": "ok",
     "timestamp": 1743175731201,
     "user": {
      "displayName": "S L",
      "userId": "12084752779565483850"
     },
     "user_tz": -480
    },
    "id": "EVyqXrOYTzzM",
    "outputId": "9aec88d3-a4b1-442f-90ed-20b1a012f066"
   },
   "outputs": [
    {
     "name": "stdout",
     "output_type": "stream",
     "text": [
      "\n",
      "=== Step 1: Copy Dataset 1 (CoughVid) files ===\n",
      "\n",
      "=== Step 2: Sample and copy from Dataset 2 (Coswara) ===\n",
      "\n",
      "Reading CSV: /content/drive/MyDrive/AML/Dataprep/test_coswara_dataprep_for_github/fortest_train_labels_coswara.csv\n",
      "Available columns: ['filename', 'health_status']\n",
      "Not enough files for label 1: found 20, needed 200. Using all available.\n",
      "Copied 20 files for label 1\n",
      "\n",
      "Reading CSV: /content/drive/MyDrive/AML/Dataprep/test_coswara_dataprep_for_github/fortest_train_labels_coswara.csv\n",
      "Available columns: ['filename', 'health_status']\n",
      "Not enough files for label 0: found 20, needed 200. Using all available.\n",
      "Copied 20 files for label 0\n",
      "\n",
      "=== Step 3: Merge metadata ===\n",
      "Saved combined train CSV to: /content/drive/MyDrive/AML/Dataprep/test_coughvid_plus_coswara_dataprep_for_github/fortest_combined_train_labels.csv\n",
      "Copied test CSV to: /content/drive/MyDrive/AML/Dataprep/test_coughvid_plus_coswara_dataprep_for_github/fortest_combined_test_labels.csv\n",
      "\n",
      "=== Step 4: Print distributions ===\n",
      "\n",
      "CoughVid - Train Dataset Summary:\n",
      "Total files: 40\n",
      " - Healthy (1): 20 (50.00%)\n",
      " - Not Healthy (0): 20 (50.00%)\n",
      "\n",
      "CoughVid - Test Dataset Summary:\n",
      "Total files: 10\n",
      " - Healthy (1): 5 (50.00%)\n",
      " - Not Healthy (0): 5 (50.00%)\n",
      "\n",
      "CoughVid - Complete Dataset Dataset Summary:\n",
      "Total files: 50\n",
      " - Healthy (1): 25 (50.00%)\n",
      " - Not Healthy (0): 25 (50.00%)\n",
      "\n",
      "Coswara - Train (Before Sampling) Dataset Summary:\n",
      "Total files: 40\n",
      " - Healthy (1): 20 (50.00%)\n",
      " - Not Healthy (0): 20 (50.00%)\n",
      "\n",
      "Combined - Train Dataset Summary:\n",
      "Total files: 80\n",
      " - Healthy (1): 40 (50.00%)\n",
      " - Not Healthy (0): 40 (50.00%)\n",
      "\n",
      "Combined - Test Dataset Summary:\n",
      "Total files: 10\n",
      " - Healthy (1): 5 (50.00%)\n",
      " - Not Healthy (0): 5 (50.00%)\n",
      "\n",
      "Complete Combined Dataset Dataset Summary:\n",
      "Total files: 90\n",
      " - Healthy (1): 45 (50.00%)\n",
      " - Not Healthy (0): 45 (50.00%)\n",
      "Total Train Files: 80\n",
      "Sample Train Files: ['CTnnDvwNIYTb6tn1b3kX2rLYaiJ3.wav', '2csA9O1LIDQd55vbgSb3Nbva2UE3.wav', 'TyKZXsSHoMO2h8aqmLNlpaU2FZ72.wav', 'a86P7j0ZQccywZYCvzsunFdDRaV2.wav', 'VB3X18XtrRdSVJ8zDzdyKohlX2F2.wav', 'm6UxfLHv0nWKNqMZP2uNiGzXgKh2.wav', '4SjSzRW7o2P3lHyxHBfNRfooMun2.wav', 'Z8ulmLPAsmhYfYuqUAmm6aGy5r53.wav', 'RRoXAgdrSQTjklsyo44o2SqzdoG2.wav', 'OllJVQmVKDgnUjNCKFCP0tPlQU03.wav']\n",
      "Total Test Files: 10\n",
      "Sample Test Files: ['28d173a5-6b04-4c7b-8b29-84e670dc6c35.wav', '4a19eff2-8302-4aa6-9164-ae5a9d2d824f.wav', '5b2342d2-01f8-4ad7-bf13-217601cd3c13.wav', '9cefcba6-bea1-4131-a905-3d28e567344b.wav', '47edb277-7f3c-426d-8e14-a0385f3c1b77.wav', 'a31d884f-23d8-4098-ba48-09daca06c116.wav', '00bf9f83-2e8f-47cf-a4f2-97f2beceebc1.wav', 'f871f11b-c593-4d30-b683-f9ba565088e5.wav', 'd70748e6-0e82-4760-a2fc-d63b01d3c65c.wav', '8a3058b7-c1ec-43d8-ae17-f1c72da07a21.wav']\n",
      "Detected ID column: 'filename'\n",
      "Unique health_status labels in training set: [0. 1.]\n",
      "Sample training labels: [('d1fd16e4-258e-4b20-9978-d0f6106b1d22.wav', 0.0), ('bc048378-1d7f-44ed-a8a8-e2ce7d0a56ae.wav', 0.0), ('e8fe6b8b-a7be-404d-95a5-5da7f4efe0e8.wav', 1.0), ('2499bd0e-4221-449a-8184-ee15e1c80b35.wav', 1.0), ('beb9eff3-e2c7-4f53-981b-0abc09158dec.wav', 0.0)]\n",
      "80 training files labeled correctly.\n",
      "Detected ID column: 'filename'\n",
      "Unique health_status labels in testing set: [0 1]\n",
      "Sample testing labels: [('4a19eff2-8302-4aa6-9164-ae5a9d2d824f.wav', 0), ('28d173a5-6b04-4c7b-8b29-84e670dc6c35.wav', 0), ('9cefcba6-bea1-4131-a905-3d28e567344b.wav', 0), ('5b2342d2-01f8-4ad7-bf13-217601cd3c13.wav', 0), ('47edb277-7f3c-426d-8e14-a0385f3c1b77.wav', 1)]\n",
      "10 testing files labeled correctly.\n",
      "Training labels match the number of training files.\n",
      "Testing labels match the number of testing files.\n"
     ]
    },
    {
     "data": {
      "image/png": "[encoded data removed]",
      "text/plain": [
       "<Figure size 600x400 with 1 Axes>"
      ]
     },
     "metadata": {},
     "output_type": "display_data"
    },
    {
     "data": {
      "image/png": "[encoded data removed]",
      "text/plain": [
       "<Figure size 600x400 with 1 Axes>"
      ]
     },
     "metadata": {},
     "output_type": "display_data"
    },
    {
     "name": "stdout",
     "output_type": "stream",
     "text": [
      "Skipped 0 files due to errors.\n",
      "Skipped 0 files due to errors.\n",
      "\n",
      "Training Data: 80 samples\n",
      "Test Data: 10 samples\n",
      "\n",
      "Sample training shapes:\n",
      "d1fd16e4-258e-4b20-9978-d0f6106b1d22.wav: (17920,)\n",
      "bc048378-1d7f-44ed-a8a8-e2ce7d0a56ae.wav: (31232,)\n",
      "e8fe6b8b-a7be-404d-95a5-5da7f4efe0e8.wav: (29696,)\n",
      "2499bd0e-4221-449a-8184-ee15e1c80b35.wav: (9216,)\n",
      "beb9eff3-e2c7-4f53-981b-0abc09158dec.wav: (96256,)\n",
      "\n",
      "Sample test shapes:\n",
      "4a19eff2-8302-4aa6-9164-ae5a9d2d824f.wav: (73216,)\n",
      "28d173a5-6b04-4c7b-8b29-84e670dc6c35.wav: (39424,)\n",
      "9cefcba6-bea1-4131-a905-3d28e567344b.wav: (34816,)\n",
      "5b2342d2-01f8-4ad7-bf13-217601cd3c13.wav: (84480,)\n",
      "47edb277-7f3c-426d-8e14-a0385f3c1b77.wav: (49152,)\n"
     ]
    }
   ],
   "source": [
    "from step6_check_dataset import run_check_pipeline\n",
    "\n",
    "# ===== Run Post-Check Pipeline on Combined Output =====\n",
    "run_check_pipeline(\n",
    "    train_dir=combined_train,\n",
    "    test_dir=combined_test,\n",
    "    train_labels_path=combined_train_csv,\n",
    "    test_labels_path=combined_test_csv\n",
    ")"
   ]
  },
  {
   "cell_type": "markdown",
   "metadata": {},
   "source": [
    "Expected Output:\n",
    "- File counts printed for both train and test directories\n",
    "- Label counts for each class\n",
    "- Bar plots showing class distribution in:\n",
    "    - Training set\n",
    "    - Testing set\n",
    "- Label matching confirmation\n",
    "- Successful audio load confirmation\n",
    "    - Prints shapes of a few audio samples from both train and test sets\n",
    "    - Confirms that no files were skipped or failed to load\n",
    "- No errors or missing files reported\n",
    "- Note:\n",
    "    - This step ensures the final combined dataset is fully prepared for model development.\n",
    "    - Only a small number of file names, labels, and shapes are shown as samples — the check is applied to the entire dataset."
   ]
  },
  {
   "cell_type": "markdown",
   "metadata": {},
   "source": []
  }
 ],
 "metadata": {
  "colab": {
   "authorship_tag": "ABX9TyOIxrHrPgOG9bG3opCDJNKL",
   "provenance": []
  },
  "kernelspec": {
   "display_name": "Python 3",
   "name": "python3"
  },
  "language_info": {
   "name": "python"
  }
 },
 "nbformat": 4,
 "nbformat_minor": 0
}
